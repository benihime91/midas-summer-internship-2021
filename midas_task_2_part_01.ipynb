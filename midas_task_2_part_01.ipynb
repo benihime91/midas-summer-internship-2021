{
  "nbformat": 4,
  "nbformat_minor": 0,
  "metadata": {
    "accelerator": "GPU",
    "colab": {
      "name": "midas-task-2-part-01.ipynb",
      "provenance": [],
      "collapsed_sections": [],
      "mount_file_id": "1lEHy0eoIwCS_z-iehTA5vlq6MLntmxXm",
      "authorship_tag": "ABX9TyO6fbR0X9+ujwigJN34fk51",
      "include_colab_link": true
    },
    "kernelspec": {
      "display_name": "Python 3",
      "name": "python3"
    },
    "language_info": {
      "name": "python"
    }
  },
  "cells": [
    {
      "cell_type": "markdown",
      "metadata": {
        "id": "view-in-github",
        "colab_type": "text"
      },
      "source": [
        "<a href=\"https://colab.research.google.com/github/benihime91/midas-summer-internship-2021/blob/main/midas_task_2_part_01.ipynb\" target=\"_parent\"><img src=\"https://colab.research.google.com/assets/colab-badge.svg\" alt=\"Open In Colab\"/></a>"
      ]
    },
    {
      "cell_type": "code",
      "metadata": {
        "id": "FjEbaEVaWQj9"
      },
      "source": [
        "# # > Uncomment and run this cell if running on Google Colab\n",
        "# # install required dependencies for google colab\n",
        "# !git clone https://github.com/benihime91/midas-summer-internship-2021.git\n",
        "# !pip install --upgrade -r \"/content/midas-summer-internship-2021/requirements.txt\""
      ],
      "execution_count": null,
      "outputs": []
    },
    {
      "cell_type": "code",
      "metadata": {
        "id": "gxmvU0RruGhb"
      },
      "source": [
        "# > for Goggle Colab\n",
        "import sys\n",
        "sys.path.append(\"midas-summer-internship-2021/\")"
      ],
      "execution_count": 1,
      "outputs": []
    },
    {
      "cell_type": "code",
      "metadata": {
        "id": "CIttbuJAV3vv"
      },
      "source": [
        "%load_ext autoreload\n",
        "%autoreload 2\n",
        "%matplotlib inline\n",
        "import warnings\n",
        "\n",
        "warnings.filterwarnings(\"ignore\")"
      ],
      "execution_count": 2,
      "outputs": []
    },
    {
      "cell_type": "markdown",
      "metadata": {
        "id": "02qYzvKbV8fx"
      },
      "source": [
        "# Task 2"
      ]
    },
    {
      "cell_type": "markdown",
      "metadata": {
        "id": "xCkK2vzKWGkW"
      },
      "source": [
        "## Part - 1\n",
        "> Use this dataset (https://www.dropbox.com/s/pan6mutc5xj5kj0/trainPart1.zip) to train a CNN. Use no other data source or pretrained networks, and explain your design choices during preprocessing, model building and training. Also, cite the sources you used to borrow techniques. A test set will be provided later to judge the performance of your classifier. Please save your model checkpoints."
      ]
    },
    {
      "cell_type": "markdown",
      "metadata": {
        "id": "asp5xGW_WMhz"
      },
      "source": [
        "### Getting the Data"
      ]
    },
    {
      "cell_type": "code",
      "metadata": {
        "id": "vtkjtbGpWrQb"
      },
      "source": [
        "# import os\n",
        "# os.makedirs(\"data\", exist_ok=True)"
      ],
      "execution_count": 3,
      "outputs": []
    },
    {
      "cell_type": "code",
      "metadata": {
        "id": "cPHZ2tdmXHNy"
      },
      "source": [
        "# # Download the 1st Dataset using :\n",
        "# !wget -P \"data/\" https://www.dropbox.com/s/pan6mutc5xj5kj0/trainPart1.zip\n",
        "# !unzip --qq \"data/trainPart1.zip\" -d \"data/\""
      ],
      "execution_count": null,
      "outputs": []
    },
    {
      "cell_type": "markdown",
      "metadata": {
        "id": "fMBr1LfVXSEW"
      },
      "source": [
        "### Analyzing the Dataset\n",
        "> In this part we will analyze the get familiar with the given dataset."
      ]
    },
    {
      "cell_type": "code",
      "metadata": {
        "id": "KSkpCrcLXaRp"
      },
      "source": [
        "# imports\n",
        "import os\n",
        "import random\n",
        "from typing import *\n",
        "\n",
        "import matplotlib.pyplot as plt\n",
        "import pandas as pd\n",
        "from fastcore.all import *\n",
        "from torchvision.datasets.folder import IMG_EXTENSIONS\n",
        "\n",
        "pd.set_option(\"display.max_colwidth\", None)"
      ],
      "execution_count": 5,
      "outputs": []
    },
    {
      "cell_type": "code",
      "metadata": {
        "id": "hqblcJPnXd7c",
        "colab": {
          "base_uri": "https://localhost:8080/"
        },
        "outputId": "8478e770-9e9f-464e-aa00-ab9b269db623"
      },
      "source": [
        "DATASET_01_PATH = Path(\"data/train/\")\n",
        "DATASET_01_PATH.ls()"
      ],
      "execution_count": 6,
      "outputs": [
        {
          "output_type": "execute_result",
          "data": {
            "text/plain": [
              "(#62) [Path('data/train/Sample007'),Path('data/train/Sample008'),Path('data/train/Sample050'),Path('data/train/Sample042'),Path('data/train/Sample032'),Path('data/train/Sample044'),Path('data/train/Sample040'),Path('data/train/Sample024'),Path('data/train/Sample013'),Path('data/train/Sample020')...]"
            ]
          },
          "metadata": {
            "tags": []
          },
          "execution_count": 6
        }
      ]
    },
    {
      "cell_type": "markdown",
      "metadata": {
        "id": "7g4-FfRrXf_i"
      },
      "source": [
        "Perform some one-off data manipulations to get all the files and filenames in an easy to use format"
      ]
    },
    {
      "cell_type": "code",
      "metadata": {
        "id": "xcAjvjblXn9Q"
      },
      "source": [
        "def folder2df(directory: Union[str, Path], extensions: list = IMG_EXTENSIONS,\n",
        "              shuffle: bool = False, seed: int = 42):\n",
        "    \"\"\"\n",
        "    Parses all the Images in `directory` and puts them in a `DataFrame` object.\n",
        "    \"\"\"\n",
        "\n",
        "    random.seed(seed)\n",
        "\n",
        "    image_list = L()\n",
        "    target_list = L()\n",
        "\n",
        "    if not isinstance(directory, Path):\n",
        "        directory = Path(directory)\n",
        "\n",
        "    for label in directory.ls():\n",
        "        label = Path(label)\n",
        "        if os.path.isdir(label):\n",
        "            for img in label.ls():\n",
        "                if str(img).lower().endswith(extensions):\n",
        "                    image_list.append(img)\n",
        "                    target_list.append(str(label).split(os.path.sep)[-1])\n",
        "\n",
        "    print(f\"Found {len(image_list)} files belonging to {len(set(target_list))} classes.\")\n",
        "\n",
        "    dataframe: pd.DataFrame = pd.DataFrame()\n",
        "    dataframe[\"image_id\"] = image_list.map(str)\n",
        "    dataframe[\"target\"] = target_list\n",
        "    if shuffle:\n",
        "        dataframe = (dataframe.sample(frac=1, random_state=seed)\n",
        "                     .reset_index(inplace=False, drop=True))\n",
        "    return dataframe"
      ],
      "execution_count": 7,
      "outputs": []
    },
    {
      "cell_type": "markdown",
      "metadata": {
        "id": "rDgGDQ_fivrx"
      },
      "source": [
        "Create the a `pandas Dataframe` which contains all the file info we need to get started"
      ]
    },
    {
      "cell_type": "code",
      "metadata": {
        "id": "fI-aXyU-XpbQ",
        "colab": {
          "base_uri": "https://localhost:8080/",
          "height": 221
        },
        "outputId": "0d8d7a1d-d2b9-4b37-f04e-aa5b13e4bd08"
      },
      "source": [
        "DATASET_01 = folder2df(directory=DATASET_01_PATH, shuffle=True)\n",
        "DATASET_01.head()"
      ],
      "execution_count": 8,
      "outputs": [
        {
          "output_type": "stream",
          "text": [
            "Found 2480 files belonging to 62 classes.\n"
          ],
          "name": "stdout"
        },
        {
          "output_type": "execute_result",
          "data": {
            "text/html": [
              "<div>\n",
              "<style scoped>\n",
              "    .dataframe tbody tr th:only-of-type {\n",
              "        vertical-align: middle;\n",
              "    }\n",
              "\n",
              "    .dataframe tbody tr th {\n",
              "        vertical-align: top;\n",
              "    }\n",
              "\n",
              "    .dataframe thead th {\n",
              "        text-align: right;\n",
              "    }\n",
              "</style>\n",
              "<table border=\"1\" class=\"dataframe\">\n",
              "  <thead>\n",
              "    <tr style=\"text-align: right;\">\n",
              "      <th></th>\n",
              "      <th>image_id</th>\n",
              "      <th>target</th>\n",
              "    </tr>\n",
              "  </thead>\n",
              "  <tbody>\n",
              "    <tr>\n",
              "      <th>0</th>\n",
              "      <td>data/train/Sample041/img041-042.png</td>\n",
              "      <td>Sample041</td>\n",
              "    </tr>\n",
              "    <tr>\n",
              "      <th>1</th>\n",
              "      <td>data/train/Sample040/img040-025.png</td>\n",
              "      <td>Sample040</td>\n",
              "    </tr>\n",
              "    <tr>\n",
              "      <th>2</th>\n",
              "      <td>data/train/Sample054/img054-001.png</td>\n",
              "      <td>Sample054</td>\n",
              "    </tr>\n",
              "    <tr>\n",
              "      <th>3</th>\n",
              "      <td>data/train/Sample053/img053-038.png</td>\n",
              "      <td>Sample053</td>\n",
              "    </tr>\n",
              "    <tr>\n",
              "      <th>4</th>\n",
              "      <td>data/train/Sample008/img008-015.png</td>\n",
              "      <td>Sample008</td>\n",
              "    </tr>\n",
              "  </tbody>\n",
              "</table>\n",
              "</div>"
            ],
            "text/plain": [
              "                              image_id     target\n",
              "0  data/train/Sample041/img041-042.png  Sample041\n",
              "1  data/train/Sample040/img040-025.png  Sample040\n",
              "2  data/train/Sample054/img054-001.png  Sample054\n",
              "3  data/train/Sample053/img053-038.png  Sample053\n",
              "4  data/train/Sample008/img008-015.png  Sample008"
            ]
          },
          "metadata": {
            "tags": []
          },
          "execution_count": 8
        }
      ]
    },
    {
      "cell_type": "markdown",
      "metadata": {
        "id": "tXDt8fOwiyoA"
      },
      "source": [
        "Lets look closer at the data, how many `class_ids` do we have?"
      ]
    },
    {
      "cell_type": "code",
      "metadata": {
        "id": "rmIk-P2AXrbF",
        "colab": {
          "base_uri": "https://localhost:8080/"
        },
        "outputId": "f8c712cb-ecc8-44b9-920b-9afdaae3aca2"
      },
      "source": [
        "unq_cls = DATASET_01.target.unique()\n",
        "tot_itm = len(DATASET_01)\n",
        "print(\"Total number of Images in the Dataset: \", tot_itm)\n",
        "print(\"Number of unique classes in the Dataset: \",len(unq_cls))"
      ],
      "execution_count": 9,
      "outputs": [
        {
          "output_type": "stream",
          "text": [
            "Total number of Images in the Dataset:  2480\n",
            "Number of unique classes in the Dataset:  62\n"
          ],
          "name": "stdout"
        }
      ]
    },
    {
      "cell_type": "code",
      "metadata": {
        "id": "kD9BffaOXtT2",
        "colab": {
          "base_uri": "https://localhost:8080/",
          "height": 543
        },
        "outputId": "be78659b-74b3-4737-b18a-b940da7dd4b4"
      },
      "source": [
        "import seaborn as sns\n",
        "\n",
        "_, ax = plt.subplots(1, 1, figsize=(22, 8))\n",
        "sns.countplot(data=DATASET_01, x=\"target\", ax=ax);\n",
        "plt.xticks(rotation=90);"
      ],
      "execution_count": 10,
      "outputs": [
        {
          "output_type": "display_data",
          "data": {
            "image/png": "[encoded data removed]",
            "text/plain": [
              "<Figure size 1584x576 with 1 Axes>"
            ]
          },
          "metadata": {
            "tags": [],
            "needs_background": "light"
          }
        }
      ]
    },
    {
      "cell_type": "markdown",
      "metadata": {
        "id": "nXu2FJYvXwN6"
      },
      "source": [
        "The distibution across all the classes is exactly same. This is a good thing because in this way our model will be less prone to overfitting for a prticular class."
      ]
    },
    {
      "cell_type": "markdown",
      "metadata": {
        "id": "_6rmhTSKYASE"
      },
      "source": [
        "### Data Loading"
      ]
    },
    {
      "cell_type": "markdown",
      "metadata": {
        "id": "7mT-BtUiYCqe"
      },
      "source": [
        "Since, in this task in am going to be using `PyTorch`, before we can directly start training the `CNN network`, we need to get our data into `Dataset` and `DataLoader`."
      ]
    },
    {
      "cell_type": "code",
      "metadata": {
        "id": "LXuQWbBuYEXs"
      },
      "source": [
        "import albumentations as A\n",
        "import cv2\n",
        "import torchvision.transforms as T\n",
        "from albumentations.pytorch import ToTensorV2\n",
        "from PIL import Image\n",
        "from sklearn.model_selection import train_test_split\n",
        "from sklearn.preprocessing import LabelEncoder\n",
        "from torch.utils.data import DataLoader, Dataset\n",
        "from torchvision.utils import make_grid"
      ],
      "execution_count": 11,
      "outputs": []
    },
    {
      "cell_type": "markdown",
      "metadata": {
        "id": "uf5eLkaHYF9w"
      },
      "source": [
        "We also need to encode our string labels into interger labels. For this we will use the `LabelEncoder()` from scikit-learn."
      ]
    },
    {
      "cell_type": "code",
      "metadata": {
        "id": "eVIXgw04YJ5x",
        "colab": {
          "base_uri": "https://localhost:8080/",
          "height": 204
        },
        "outputId": "daceff25-0972-44de-c03d-bcaa594f8497"
      },
      "source": [
        "encoder = LabelEncoder()\n",
        "encoder.fit(unq_cls)\n",
        "\n",
        "def encode_label(x):\n",
        "    \"Encoder `x`, given x is a scalar value\"\n",
        "    return encoder.transform([x]).item()\n",
        "\n",
        "CLASS_MAP = L(list(encoder.classes_)).map_dict(encode_label)\n",
        "CLASS_MAP = {k:v for v, k in CLASS_MAP.items()}\n",
        "\n",
        "DATASET_01[\"cat_label\"] = DATASET_01[\"target\"].map(encode_label)\n",
        "DATASET_01.head()"
      ],
      "execution_count": 12,
      "outputs": [
        {
          "output_type": "execute_result",
          "data": {
            "text/html": [
              "<div>\n",
              "<style scoped>\n",
              "    .dataframe tbody tr th:only-of-type {\n",
              "        vertical-align: middle;\n",
              "    }\n",
              "\n",
              "    .dataframe tbody tr th {\n",
              "        vertical-align: top;\n",
              "    }\n",
              "\n",
              "    .dataframe thead th {\n",
              "        text-align: right;\n",
              "    }\n",
              "</style>\n",
              "<table border=\"1\" class=\"dataframe\">\n",
              "  <thead>\n",
              "    <tr style=\"text-align: right;\">\n",
              "      <th></th>\n",
              "      <th>image_id</th>\n",
              "      <th>target</th>\n",
              "      <th>cat_label</th>\n",
              "    </tr>\n",
              "  </thead>\n",
              "  <tbody>\n",
              "    <tr>\n",
              "      <th>0</th>\n",
              "      <td>data/train/Sample041/img041-042.png</td>\n",
              "      <td>Sample041</td>\n",
              "      <td>40</td>\n",
              "    </tr>\n",
              "    <tr>\n",
              "      <th>1</th>\n",
              "      <td>data/train/Sample040/img040-025.png</td>\n",
              "      <td>Sample040</td>\n",
              "      <td>39</td>\n",
              "    </tr>\n",
              "    <tr>\n",
              "      <th>2</th>\n",
              "      <td>data/train/Sample054/img054-001.png</td>\n",
              "      <td>Sample054</td>\n",
              "      <td>53</td>\n",
              "    </tr>\n",
              "    <tr>\n",
              "      <th>3</th>\n",
              "      <td>data/train/Sample053/img053-038.png</td>\n",
              "      <td>Sample053</td>\n",
              "      <td>52</td>\n",
              "    </tr>\n",
              "    <tr>\n",
              "      <th>4</th>\n",
              "      <td>data/train/Sample008/img008-015.png</td>\n",
              "      <td>Sample008</td>\n",
              "      <td>7</td>\n",
              "    </tr>\n",
              "  </tbody>\n",
              "</table>\n",
              "</div>"
            ],
            "text/plain": [
              "                              image_id     target  cat_label\n",
              "0  data/train/Sample041/img041-042.png  Sample041         40\n",
              "1  data/train/Sample040/img040-025.png  Sample040         39\n",
              "2  data/train/Sample054/img054-001.png  Sample054         53\n",
              "3  data/train/Sample053/img053-038.png  Sample053         52\n",
              "4  data/train/Sample008/img008-015.png  Sample008          7"
            ]
          },
          "metadata": {
            "tags": []
          },
          "execution_count": 12
        }
      ]
    },
    {
      "cell_type": "markdown",
      "metadata": {
        "id": "75E8ot1jjNyw"
      },
      "source": [
        "Save a copy of the `CLASS_MAP` which stores the mapping of `classes` and `class ids`"
      ]
    },
    {
      "cell_type": "code",
      "metadata": {
        "id": "cyUFNlVxjQ1f"
      },
      "source": [
        "import json\n",
        "\n",
        "with open(\"data/class_map_ds01.json\", 'w') as f:\n",
        "    json.dump(CLASS_MAP, f)"
      ],
      "execution_count": 13,
      "outputs": []
    },
    {
      "cell_type": "markdown",
      "metadata": {
        "id": "InRu75JbYS6D"
      },
      "source": [
        "Let's also create a Training and Validation split on the data.\n",
        "\n",
        "Why we need a different training and validation split for the data ?\n",
        "\n",
        "This is so that we don't inadvertently overfit, train a model to work well only on our training data. For this purpose we will compute metric over on the validation data. During the training phase the model will see only the training data. The Validation data will remain separate and will only be used for calculation of the *metric*. "
      ]
    },
    {
      "cell_type": "code",
      "metadata": {
        "id": "e9YRWmMAYXPu",
        "colab": {
          "base_uri": "https://localhost:8080/"
        },
        "outputId": "30178997-3a53-46b5-8b79-833069d22f74"
      },
      "source": [
        "TRAIN_DATASET_01, VALID_DATASET_01 = train_test_split(DATASET_01, test_size=0.2, random_state=42, \n",
        "                                                      shuffle=True, stratify=DATASET_01['cat_label'])\n",
        "\n",
        "TRAIN_DATASET_01 = TRAIN_DATASET_01.reset_index(drop=True, inplace=False)\n",
        "VALID_DATASET_01 = VALID_DATASET_01.reset_index(drop=True, inplace=False) \n",
        "\n",
        "print(\"Num Training Examples: \", len(TRAIN_DATASET_01))\n",
        "print(\"Num Validation Examples: \", len(VALID_DATASET_01))"
      ],
      "execution_count": 14,
      "outputs": [
        {
          "output_type": "stream",
          "text": [
            "Num Training Examples:  1984\n",
            "Num Validation Examples:  496\n"
          ],
          "name": "stdout"
        }
      ]
    },
    {
      "cell_type": "markdown",
      "metadata": {
        "id": "-m0bwAFHYbKL"
      },
      "source": [
        "Now we will create a custom `Dataset` obj that can parse the data."
      ]
    },
    {
      "cell_type": "code",
      "metadata": {
        "id": "4tCeY67JYilJ"
      },
      "source": [
        "class PandasDataset(Dataset):\n",
        "    def __init__(self, df:pd.DataFrame, transforms):\n",
        "        self._dataframe  = df\n",
        "        self._transforms = transforms\n",
        "        self._gray_scale = T.Grayscale(num_output_channels=3)\n",
        "    \n",
        "    @property\n",
        "    def transforms(self):\n",
        "        return self._transforms\n",
        "        \n",
        "    def __len__(self):\n",
        "        return len(self._dataframe)\n",
        "    \n",
        "    def __getitem__(self, idx):\n",
        "        im = self._dataframe['image_id'][idx]\n",
        "        \n",
        "        # Load and apply transformations to the Image\n",
        "        im = cv2.imread(im)\n",
        "        im = cv2.cvtColor(im, cv2.COLOR_BGR2RGB)\n",
        "        im = self._transforms(image=im)[\"image\"]\n",
        "\n",
        "        # convert the Images to grayscale Images with 3 dimensions\n",
        "        im = self._gray_scale(im)\n",
        "        \n",
        "        lbl = self._dataframe[\"cat_label\"][idx]   \n",
        "        return im, lbl"
      ],
      "execution_count": 15,
      "outputs": []
    },
    {
      "cell_type": "markdown",
      "metadata": {
        "id": "6NHWPxawYj4I"
      },
      "source": [
        "Lets define what we want our transforms to be -\n",
        "\n",
        "We'll use the presize the images 160 px make things faster still, and will center crop to 128 px.\n",
        "Initially I will not be using any other fancy data augmentations. After the resizing I will normalize the Images by dividing by 255.0 and also converting them to pytorch tensors."
      ]
    },
    {
      "cell_type": "code",
      "metadata": {
        "id": "BsS6h-b9Ymb6"
      },
      "source": [
        "PRESIZE  = 80\n",
        "IMG_SIZE = 64\n",
        "\n",
        "base_tfms = A.Compose([\n",
        "    A.Resize(PRESIZE, PRESIZE, p=1.0),\n",
        "    A.CenterCrop(IMG_SIZE, IMG_SIZE, p=1.0),\n",
        "    A.ToFloat(max_value=255, p=1.0),\n",
        "    ToTensorV2(p=1.0),\n",
        "])"
      ],
      "execution_count": 16,
      "outputs": []
    },
    {
      "cell_type": "markdown",
      "metadata": {
        "id": "EZCN6NMcvwhI"
      },
      "source": [
        "Function to get our data -"
      ]
    },
    {
      "cell_type": "code",
      "metadata": {
        "id": "KqV_2ZmOvvJB"
      },
      "source": [
        "def get_data(transforms = base_tfms, valid_transforms=base_tfms, bs: int = 128):\n",
        "    # instantiate the dataset set obj\n",
        "    train_ds = PandasDataset(df=TRAIN_DATASET_01, transforms=transforms)\n",
        "    valid_ds = PandasDataset(df=VALID_DATASET_01, transforms=valid_transforms)\n",
        "\n",
        "    # create the dataloaders obj\n",
        "    train_dl = DataLoader(train_ds, batch_size=bs, num_workers=num_cpus(), shuffle=True) \n",
        "    valid_dl = DataLoader(valid_ds, batch_size=bs, num_workers=num_cpus(), shuffle=False)\n",
        "    return train_dl, valid_dl"
      ],
      "execution_count": 17,
      "outputs": []
    },
    {
      "cell_type": "markdown",
      "metadata": {
        "id": "w8gP2ClSYq2J"
      },
      "source": [
        "Having a look at the images in our `DataLoader` you can see result of the image transforms:"
      ]
    },
    {
      "cell_type": "code",
      "metadata": {
        "id": "7ceVZHQ6YtWi",
        "colab": {
          "base_uri": "https://localhost:8080/",
          "height": 140
        },
        "outputId": "f58a2c3a-6450-4df5-811d-bc07f661a571"
      },
      "source": [
        "train_dl, valid_dl = get_data(transforms=base_tfms, valid_transforms=base_tfms)\n",
        "\n",
        "ims, lbls = next(iter(train_dl))\n",
        "ims, lbls = ims[:8], lbls[:8]\n",
        "\n",
        "grid = make_grid(ims, normalize=True).permute(1, 2, 0)\n",
        "fig = plt.figure(figsize=(13, 13))\n",
        "plt.imshow(grid) \n",
        "plt.title([CLASS_MAP[o] for o in lbls.data.cpu().numpy()])\n",
        "plt.axis(\"off\");\n",
        "\n",
        "del train_dl, valid_dl"
      ],
      "execution_count": 18,
      "outputs": [
        {
          "output_type": "display_data",
          "data": {
            "image/png": "[encoded data removed]",
            "text/plain": [
              "<Figure size 936x936 with 1 Axes>"
            ]
          },
          "metadata": {
            "tags": [],
            "needs_background": "light"
          }
        }
      ]
    },
    {
      "cell_type": "markdown",
      "metadata": {
        "id": "KD2fNoNqbWv1"
      },
      "source": [
        "### PyTorch Lightning Task -\n",
        "For training I will be using PyTorch Lightning ⚡️. PyTorch Lightning expects the whole training pipeline to be defined under a `LightningModule`. Let's convert our model in a `LightningModule`.\n",
        "\n",
        "For evaluating the model initially I will use the `Accuracy` metric and for loss function i will use the standart `nn.CrossEntropyLoss()` from PyTorch.\n",
        "\n",
        "\n",
        "The code block below create a general PyTorch Lightning Classification Task which helps us iterate different models inside a `LightningModule.`"
      ]
    },
    {
      "cell_type": "code",
      "metadata": {
        "id": "4HPiGTulY7ma",
        "colab": {
          "base_uri": "https://localhost:8080/"
        },
        "outputId": "80ec2da5-8084-4ac7-9956-05a34002f703"
      },
      "source": [
        "import gc\n",
        "import math\n",
        "from collections import OrderedDict\n",
        "\n",
        "import pytorch_lightning as pl\n",
        "import torch\n",
        "import torch.nn.functional as F\n",
        "from IPython.display import Markdown, display\n",
        "from pytorch_lightning.callbacks import ModelCheckpoint\n",
        "from pytorch_lightning.metrics import functional as FM\n",
        "from torch import nn, optim\n",
        "from torch.nn.utils import spectral_norm\n",
        "\n",
        "from progress import NotebookProgressCallback\n",
        "\n",
        "pl.seed_everything(42)"
      ],
      "execution_count": 19,
      "outputs": [
        {
          "output_type": "stream",
          "text": [
            "Global seed set to 42\n"
          ],
          "name": "stderr"
        },
        {
          "output_type": "execute_result",
          "data": {
            "text/plain": [
              "42"
            ]
          },
          "metadata": {
            "tags": []
          },
          "execution_count": 19
        }
      ]
    },
    {
      "cell_type": "code",
      "metadata": {
        "id": "veOLW0L2btN8"
      },
      "source": [
        "class ClassificationTask(pl.LightningModule):\n",
        "    def __init__(self, model: nn.Module, lr: float, wd: float = 0, criterion: nn.Module = nn.CrossEntropyLoss):\n",
        "        super().__init__()\n",
        "        self.save_hyperparameters(\"lr\", \"wd\")\n",
        "        self.model = model\n",
        "        self.criterion = criterion()\n",
        "        \n",
        "    def forward(self, xb):\n",
        "        \"Same as nn.Module forward\"\n",
        "        return self.model(xb)\n",
        "    \n",
        "    def training_step(self, batch, batch_idx):\n",
        "         x, y = batch\n",
        "         y_hat = self.model(x)\n",
        "         loss = self.criterion(y_hat, y)\n",
        "         self.log(\"train_loss\", loss)\n",
        "         return loss\n",
        "\n",
        "    def validation_step(self, batch, batch_idx, *args, **kwargs):\n",
        "        x, y = batch\n",
        "        y_hat = self.model(x)\n",
        "        loss = self.criterion(y_hat, y)\n",
        "        acc = FM.accuracy(F.softmax(y_hat), y)\n",
        "        metrics = {'val_acc': acc, 'val_loss': loss}\n",
        "        self.log_dict(metrics)\n",
        "        return metrics\n",
        "\n",
        "    def test_step(self, batch, batch_idx, *args, **kwargs):\n",
        "        metrics = self.validation_step(batch, batch_idx, *args, **kwargs)\n",
        "        metrics = {'test_acc': metrics['val_acc'], 'test_loss': metrics['val_loss']}\n",
        "        self.log_dict(metrics)\n",
        "        \n",
        "    def configure_optimizers(self):\n",
        "        \"\"\"\n",
        "        define optimizers and LR schedulers for use in training.\n",
        "        \"\"\"\n",
        "        # default Adam parameters from fast.ai\n",
        "        opt_func = optim.AdamW(self.parameters(), lr=self.hparams.lr, weight_decay=self.hparams.wd, betas=(0.9, 0.99), eps=1e-05)\n",
        "        \n",
        "        steps_per_epoch = len(self.train_dataloader())\n",
        "        num_epochs = self.trainer.max_epochs\n",
        "        \n",
        "        scheduler = optim.lr_scheduler.OneCycleLR(opt_func, max_lr=self.hparams.lr, epochs=num_epochs, \n",
        "                                                  steps_per_epoch=steps_per_epoch, cycle_momentum=True,\n",
        "                                                  base_momentum=0.85, max_momentum=0.95,)\n",
        "        \n",
        "        return [opt_func], [dict(scheduler=scheduler, interval='step')]"
      ],
      "execution_count": 21,
      "outputs": []
    },
    {
      "cell_type": "markdown",
      "metadata": {
        "id": "oG688lVucgbE"
      },
      "source": [
        "For training I will be using the popular `AdamW + 1cycle` training approach. Here we use the `AdamW` optimizer and `OneCycleLR` scheduler from PyTorch.\n",
        "\n",
        "`AdamW` was inroduced in this [paper](https://arxiv.org/abs/1711.05101). Experiments by the fast.ai group has shown that `AdamW` along with the `1cycle policy` of learning rate scheduling gives very good results. `AdamW` differs from `Adam` is the sense that AdamW uses true weight decay (decay the weights directly) while Adam uses L2 regularization (add the decay to the gradients).\n",
        "\n",
        "The `1cycle policy` was introduced by Leslie N. Smith et al. in [Super-Convergence: Very Fast Training of Neural Networks Using Large Learning Rates](https://arxiv.org/abs/1708.07120).\n",
        "\n",
        "\n",
        "`AdamW + 1cycle` was incremental in fast.ai winning the `DAWNBench` competition."
      ]
    },
    {
      "cell_type": "markdown",
      "metadata": {
        "id": "Ka0ItH0LYuu1"
      },
      "source": [
        "### Benchmark Model\n",
        "First I will let's start by making a good baseline Model and subsequently we will experiment by improving upon this model.\n",
        "\n",
        "Let's first create the building blocks that we will use building our network."
      ]
    },
    {
      "cell_type": "code",
      "metadata": {
        "id": "9pQi76LYY2jp"
      },
      "source": [
        "class ConvBnDropBlock(nn.Sequential):\n",
        "    \"Create sequence of convolutional, Activation, `BatchNorm` & Drouput layers.\"\n",
        "    def __init__(self, in_chans, out_chans, kernel_size, stride=1, dilation=1, \n",
        "                 padding = None, bias=True, act_cls: Callable = nn.ReLU, \n",
        "                 p_drop=0.0, use_bn=True,):\n",
        "\n",
        "        if padding is None: \n",
        "            padding = (kernel_size-1)//2\n",
        "        \n",
        "        layers = []\n",
        "        \n",
        "        conv_layer = nn.Conv2d(in_chans, out_chans, kernel_size, stride, \n",
        "                               dilation=dilation, padding=padding, bias=bias)\n",
        "        \n",
        "        if act_cls is not None:\n",
        "            act_layer = act_cls(inplace=True)\n",
        "        else:\n",
        "            act_layer = nn.Identity()\n",
        "        if use_bn:\n",
        "            norm_layer = nn.BatchNorm2d(out_chans)\n",
        "        else:\n",
        "            norm_layer = nn.Identity()\n",
        "           \n",
        "        layers += [conv_layer, act_layer, norm_layer]\n",
        "        \n",
        "        if p_drop > 0.0:\n",
        "            layers.append(nn.Dropout2d(p=p_drop))\n",
        "            \n",
        "        super(ConvBnDropBlock, self).__init__(*layers)"
      ],
      "execution_count": 22,
      "outputs": []
    },
    {
      "cell_type": "markdown",
      "metadata": {
        "id": "x0wlcZ57kLIX"
      },
      "source": [
        "For this whole experiment my models will be divided into 2 parts a `feature_extractor` and `classifier`. The feature extractor is responsible for generating the feature maps from the Images, while the `classifier` is responsible for final classification.\n",
        "\n",
        "A baseline model will establish a minimum model performance to which all of our other models can be compared, as well as a model architecture that we can use as the basis of study and improvement.\n",
        "\n",
        "A feature extractor of baseline model architecture has been partly inspired from the general architectural principles of the `VGG models` & from this [blog post](https://machinelearningmastery.com/how-to-develop-a-cnn-from-scratch-for-cifar-10-photo-classification/).\n",
        "\n",
        "The architecture involves stacking convolutional layers with small `3×3` filters followed by a activation, batchnorm, dropout.Together, these layers form a block, and these blocks can be repeated where the number of filters in each block is increased with the depth of the network such as 32, 64, 128. The first 2 blocks are followed by a max_pool layer while the 3rd layer is follwed by a `pool_flatten` layer i.e., a combination of  AdaptiveAvgPool2d and flatten layer from pytorch.\n",
        "\n",
        "We use a AdaptiveAvgPool layer so that our network is *fully convolutional* and so can work for any image size that is to say that a model trainined on 64x64 images will also work for 120x120 images.\n",
        "\n",
        "This completes the feature extractor part of the model. For the classifier of the model: first, the feature maps output from the feature extraction part of the model must be flattened. We can then interpret them with one or more fully connected layers, and then output a prediction.\n",
        "\n",
        "Let's create the network architecture -"
      ]
    },
    {
      "cell_type": "code",
      "metadata": {
        "id": "cwB7Gpy5ZAeX"
      },
      "source": [
        "class BenchmarkModel(nn.Sequential):\n",
        "    def __init__(self, num_outputs: int):\n",
        "        conv_block_01 = ConvBnDropBlock(in_chans=3, out_chans=32, bias=False, \n",
        "                                        use_bn=True, act_cls=nn.ReLU, p_drop=0.25, \n",
        "                                        kernel_size=3)\n",
        "        conv_block_02 = ConvBnDropBlock(in_chans=32, out_chans=32, bias=False, \n",
        "                                        use_bn=True, act_cls=None, p_drop=0.25, \n",
        "                                        kernel_size=3)\n",
        "        pool_block_0  = nn.Sequential(nn.MaxPool2d(2), nn.ReLU())\n",
        "\n",
        "        conv_block_11 = ConvBnDropBlock(in_chans=32, out_chans=64, bias=False, \n",
        "                                        use_bn=True, act_cls=nn.ReLU, p_drop=0.25, \n",
        "                                        kernel_size=3)\n",
        "        conv_block_12 = ConvBnDropBlock(in_chans=64, out_chans=64, bias=False, \n",
        "                                        use_bn=True, act_cls=None, p_drop=0.25, \n",
        "                                        kernel_size=3)\n",
        "        pool_block_1  = nn.Sequential(nn.MaxPool2d(2), nn.ReLU())\n",
        "\n",
        "        conv_block_21 = ConvBnDropBlock(in_chans=64, out_chans=128, bias=False, \n",
        "                                        use_bn=True, act_cls=nn.ReLU, p_drop=0.25, \n",
        "                                        kernel_size=3)\n",
        "        conv_block_22 = ConvBnDropBlock(in_chans=128, out_chans=128, bias=False, stride=2,\n",
        "                                        use_bn=True, act_cls=nn.ReLU, p_drop=0.25, \n",
        "                                        kernel_size=3, padding=0)\n",
        "        pool_flatten = nn.Sequential(nn.AdaptiveAvgPool2d(1), nn.Flatten())\n",
        "\n",
        "\n",
        "        block1 = nn.Sequential(conv_block_01, conv_block_02, pool_block_0)\n",
        "        block2 = nn.Sequential(conv_block_11, conv_block_12, pool_block_1)\n",
        "        block3 = nn.Sequential(conv_block_21, conv_block_22)\n",
        "        \n",
        "        predictor = nn.Sequential(nn.BatchNorm1d(128), nn.Dropout(0.3), nn.ReLU(inplace=True), \n",
        "                                  nn.Linear(128, num_outputs, bias=False))\n",
        "\n",
        "        layers = [block1, block2, block3, pool_flatten, predictor]\n",
        "        super(BenchmarkModel, self).__init__(*layers)"
      ],
      "execution_count": 23,
      "outputs": []
    },
    {
      "cell_type": "markdown",
      "metadata": {
        "id": "IdNxn-amZEhK"
      },
      "source": [
        "*Lets Get Training*\n",
        "\n",
        "----\n",
        "\n",
        "Train the model initially for 20 epochs and view preformance. I found that 20 epochs was a good place to stop as the model started to overfit while the accuracy didn't improve further and any lower than 20 epochs the model doesn't convergerce.\n",
        "\n",
        "\n",
        "I will also be using `ModelCheckpoint` callback from pytorch lightning in all of my experiments to that i will be easily able to load my best checkpoints and compare my performaces.\n",
        "\n",
        "\n",
        "`3e-3` is often a good learning rate for CNNs, so let's try that:"
      ]
    },
    {
      "cell_type": "code",
      "metadata": {
        "id": "_2OfLQXxZHcQ",
        "colab": {
          "base_uri": "https://localhost:8080/",
          "height": 1000
        },
        "outputId": "888f257f-05e8-4139-df9e-16c678497891"
      },
      "source": [
        "exp_name = \"stage-01-cnn-bench\"\n",
        "train_dl, valid_dl = get_data(base_tfms, valid_transforms=base_tfms, bs=32)\n",
        "\n",
        "# instantiate the model\n",
        "model = BenchmarkModel(num_outputs=len(CLASS_MAP))\n",
        "\n",
        "# Put the model into Lightning-Task\n",
        "task = ClassificationTask(model, lr=3e-03)\n",
        "\n",
        "cbs = [\n",
        "    ModelCheckpoint(monitor=\"val_acc\", filename=exp_name, dirpath=os.getcwd()), \n",
        "    NotebookProgressCallback(),\n",
        "]\n",
        "\n",
        "trainer = pl.Trainer(max_epochs=20, callbacks=cbs, gpus=1, precision=16)\n",
        "trainer.fit(task, train_dataloader=train_dl, val_dataloaders=valid_dl)\n",
        "\n",
        "# Evalute the final performance of the Model\n",
        "tst_res = trainer.test(ckpt_path=\"best\", test_dataloaders=[train_dl, valid_dl], verbose=False)\n",
        "trn_acc, val_acc = tst_res[0][\"test_acc/dataloader_idx_0\"], tst_res[1][\"test_acc/dataloader_idx_1\"]\n",
        "\n",
        "display(Markdown(f\"### Final Training Accuracy: {round(trn_acc, 3)}\"))\n",
        "display(Markdown(f\"### Final Validation Accuracy: {round(val_acc, 3)}\"))"
      ],
      "execution_count": 26,
      "outputs": [
        {
          "output_type": "stream",
          "text": [
            "GPU available: True, used: True\n",
            "TPU available: False, using: 0 TPU cores\n",
            "Using native 16bit precision.\n",
            "LOCAL_RANK: 0 - CUDA_VISIBLE_DEVICES: [0]\n",
            "\n",
            "  | Name      | Type             | Params\n",
            "-----------------------------------------------\n",
            "0 | model     | BenchmarkModel   | 295 K \n",
            "1 | criterion | CrossEntropyLoss | 0     \n",
            "-----------------------------------------------\n",
            "295 K     Trainable params\n",
            "0         Non-trainable params\n",
            "295 K     Total params\n",
            "1.183     Total estimated model params size (MB)\n"
          ],
          "name": "stderr"
        },
        {
          "output_type": "display_data",
          "data": {
            "text/html": [
              ""
            ],
            "text/plain": [
              "<IPython.core.display.HTML object>"
            ]
          },
          "metadata": {
            "tags": []
          }
        },
        {
          "output_type": "display_data",
          "data": {
            "text/html": [
              "\n",
              "    <div>\n",
              "        <style>\n",
              "            progress {\n",
              "                border: none;\n",
              "                background-size: auto;\n",
              "            }\n",
              "        </style>\n",
              "      Training\n",
              "      <progress value='1240' max='1240' style='width:300px; height:20px; vertical-align: middle;'></progress>\n",
              "      [1240/1240 06:51, Epoch 19 {'loss': '1.46', 'v_num': 2}]\n",
              "    </div>\n",
              "    <table border=\"1\" class=\"dataframe\">\n",
              "  <thead>\n",
              "    <tr style=\"text-align: left;\">\n",
              "      <th>epoch</th>\n",
              "      <th>val_acc</th>\n",
              "      <th>val_loss</th>\n",
              "      <th>train_loss</th>\n",
              "      <th>time</th>\n",
              "      <th>samples/s</th>\n",
              "    </tr>\n",
              "  </thead>\n",
              "  <tbody>\n",
              "    <tr>\n",
              "      <td>0</td>\n",
              "      <td>0.010081</td>\n",
              "      <td>4.134763</td>\n",
              "      <td>4.329495</td>\n",
              "      <td>20.465600</td>\n",
              "      <td>3.811300</td>\n",
              "    </tr>\n",
              "    <tr>\n",
              "      <td>1</td>\n",
              "      <td>0.020161</td>\n",
              "      <td>4.115738</td>\n",
              "      <td>4.112834</td>\n",
              "      <td>20.512000</td>\n",
              "      <td>3.802700</td>\n",
              "    </tr>\n",
              "    <tr>\n",
              "      <td>2</td>\n",
              "      <td>0.036290</td>\n",
              "      <td>3.987400</td>\n",
              "      <td>3.868413</td>\n",
              "      <td>20.471200</td>\n",
              "      <td>3.810200</td>\n",
              "    </tr>\n",
              "    <tr>\n",
              "      <td>3</td>\n",
              "      <td>0.038306</td>\n",
              "      <td>4.079694</td>\n",
              "      <td>4.075297</td>\n",
              "      <td>20.551200</td>\n",
              "      <td>3.795400</td>\n",
              "    </tr>\n",
              "    <tr>\n",
              "      <td>4</td>\n",
              "      <td>0.062500</td>\n",
              "      <td>3.762863</td>\n",
              "      <td>3.813253</td>\n",
              "      <td>20.634700</td>\n",
              "      <td>3.780000</td>\n",
              "    </tr>\n",
              "    <tr>\n",
              "      <td>5</td>\n",
              "      <td>0.114919</td>\n",
              "      <td>3.527275</td>\n",
              "      <td>3.968800</td>\n",
              "      <td>20.618000</td>\n",
              "      <td>3.783100</td>\n",
              "    </tr>\n",
              "    <tr>\n",
              "      <td>6</td>\n",
              "      <td>0.199597</td>\n",
              "      <td>3.237585</td>\n",
              "      <td>3.571558</td>\n",
              "      <td>20.349700</td>\n",
              "      <td>3.833000</td>\n",
              "    </tr>\n",
              "    <tr>\n",
              "      <td>7</td>\n",
              "      <td>0.237903</td>\n",
              "      <td>2.982466</td>\n",
              "      <td>3.350096</td>\n",
              "      <td>20.676900</td>\n",
              "      <td>3.772300</td>\n",
              "    </tr>\n",
              "    <tr>\n",
              "      <td>8</td>\n",
              "      <td>0.348790</td>\n",
              "      <td>2.587315</td>\n",
              "      <td>3.100140</td>\n",
              "      <td>20.610400</td>\n",
              "      <td>3.784500</td>\n",
              "    </tr>\n",
              "    <tr>\n",
              "      <td>9</td>\n",
              "      <td>0.461694</td>\n",
              "      <td>2.289069</td>\n",
              "      <td>2.534139</td>\n",
              "      <td>20.770000</td>\n",
              "      <td>3.755400</td>\n",
              "    </tr>\n",
              "    <tr>\n",
              "      <td>10</td>\n",
              "      <td>0.554435</td>\n",
              "      <td>2.024499</td>\n",
              "      <td>2.658235</td>\n",
              "      <td>20.576500</td>\n",
              "      <td>3.790700</td>\n",
              "    </tr>\n",
              "    <tr>\n",
              "      <td>11</td>\n",
              "      <td>0.592742</td>\n",
              "      <td>1.813586</td>\n",
              "      <td>2.186485</td>\n",
              "      <td>20.382600</td>\n",
              "      <td>3.826800</td>\n",
              "    </tr>\n",
              "    <tr>\n",
              "      <td>12</td>\n",
              "      <td>0.659274</td>\n",
              "      <td>1.616838</td>\n",
              "      <td>1.812824</td>\n",
              "      <td>20.418900</td>\n",
              "      <td>3.820000</td>\n",
              "    </tr>\n",
              "    <tr>\n",
              "      <td>13</td>\n",
              "      <td>0.657258</td>\n",
              "      <td>1.516024</td>\n",
              "      <td>1.812369</td>\n",
              "      <td>20.769300</td>\n",
              "      <td>3.755500</td>\n",
              "    </tr>\n",
              "    <tr>\n",
              "      <td>14</td>\n",
              "      <td>0.691532</td>\n",
              "      <td>1.420831</td>\n",
              "      <td>1.594680</td>\n",
              "      <td>20.409600</td>\n",
              "      <td>3.821700</td>\n",
              "    </tr>\n",
              "    <tr>\n",
              "      <td>15</td>\n",
              "      <td>0.713710</td>\n",
              "      <td>1.308554</td>\n",
              "      <td>2.176785</td>\n",
              "      <td>20.894400</td>\n",
              "      <td>3.733100</td>\n",
              "    </tr>\n",
              "    <tr>\n",
              "      <td>16</td>\n",
              "      <td>0.725806</td>\n",
              "      <td>1.340399</td>\n",
              "      <td>1.350758</td>\n",
              "      <td>20.558100</td>\n",
              "      <td>3.794100</td>\n",
              "    </tr>\n",
              "    <tr>\n",
              "      <td>17</td>\n",
              "      <td>0.731855</td>\n",
              "      <td>1.276299</td>\n",
              "      <td>1.599219</td>\n",
              "      <td>20.759900</td>\n",
              "      <td>3.757200</td>\n",
              "    </tr>\n",
              "    <tr>\n",
              "      <td>18</td>\n",
              "      <td>0.731855</td>\n",
              "      <td>1.243108</td>\n",
              "      <td>1.590576</td>\n",
              "      <td>20.812700</td>\n",
              "      <td>3.747700</td>\n",
              "    </tr>\n",
              "    <tr>\n",
              "      <td>19</td>\n",
              "      <td>0.721774</td>\n",
              "      <td>1.270484</td>\n",
              "      <td>1.410629</td>\n",
              "      <td>20.544500</td>\n",
              "      <td>3.796600</td>\n",
              "    </tr>\n",
              "  </tbody>\n",
              "</table><p>"
            ],
            "text/plain": [
              "<IPython.core.display.HTML object>"
            ]
          },
          "metadata": {
            "tags": []
          }
        },
        {
          "output_type": "stream",
          "text": [
            "LOCAL_RANK: 0 - CUDA_VISIBLE_DEVICES: [0]\n"
          ],
          "name": "stderr"
        },
        {
          "output_type": "display_data",
          "data": {
            "text/html": [
              ""
            ],
            "text/plain": [
              "<IPython.core.display.HTML object>"
            ]
          },
          "metadata": {
            "tags": []
          }
        },
        {
          "output_type": "display_data",
          "data": {
            "text/markdown": "### Final Training Accuracy: 0.769",
            "text/plain": [
              "<IPython.core.display.Markdown object>"
            ]
          },
          "metadata": {
            "tags": []
          }
        },
        {
          "output_type": "display_data",
          "data": {
            "text/markdown": "### Final Validation Accuracy: 0.732",
            "text/plain": [
              "<IPython.core.display.Markdown object>"
            ]
          },
          "metadata": {
            "tags": []
          }
        }
      ]
    },
    {
      "cell_type": "markdown",
      "metadata": {
        "id": "IRAlFbD1ZeYh"
      },
      "source": [
        "That's a pretty good start, considering we have to pick the correct one of 62 categories, and we're training from scratch. So in the subsequent sections we will explore tricks that can probably help us to improve our results."
      ]
    },
    {
      "cell_type": "code",
      "metadata": {
        "id": "wqlNrojraX5-"
      },
      "source": [
        "try:\n",
        "    del model, trainer, task\n",
        "except: \n",
        "    pass\n",
        "try:\n",
        "    del train_dl, valid_dl\n",
        "except: \n",
        "    pass\n",
        "gc.collect()\n",
        "torch.cuda.empty_cache()"
      ],
      "execution_count": 28,
      "outputs": []
    },
    {
      "cell_type": "markdown",
      "metadata": {
        "id": "Bms8tB0La3Z4"
      },
      "source": [
        "### Improving the Benchmark \n",
        "> This section will explore various techniques which will hopefully help us in improving our baseline model\n",
        "\n",
        "---"
      ]
    },
    {
      "cell_type": "markdown",
      "metadata": {
        "id": "vH0VC7qNbD1S"
      },
      "source": [
        "#### Residual Blocks -\n",
        "\n",
        "In our above trained `CNN` model We can do way better than the current results using a deeper mode, but just stacking new layers won't really improve our results.\n",
        "In this experiment we will explore the preformance of our model by introducing `residual connection`s. It was introduced in 2015 by Kaiming He et al. in the article \"[Deep Residual Learning for Image Recognition](https://arxiv.org/pdf/1512.03385.pdf)\". Residual Connections are the main building blocks of the ResNet family of networks, which are one of the most popular CNN Architectures."
      ]
    },
    {
      "cell_type": "markdown",
      "metadata": {
        "id": "Fq6vibo_vvi1"
      },
      "source": [
        "Here's the definition of a simple ResNet block -"
      ]
    },
    {
      "cell_type": "code",
      "metadata": {
        "id": "IGhgvOpXdjjG"
      },
      "source": [
        "class ResBlock(nn.Module):\n",
        "    \"Creates a simple Residual Block\"\n",
        "    def __init__(self, in_chans: int, out_chans: int, \n",
        "                 kernel_size: int, stride: int = 1, act_cls: Callable = nn.ReLU):\n",
        "        \n",
        "        super(ResBlock, self).__init__()\n",
        "        self.idconv = None\n",
        "        \n",
        "        self.block1 = ConvBnDropBlock(in_chans=in_chans, out_chans=out_chans, kernel_size=kernel_size, \n",
        "                                      stride=stride, padding=None, use_bn=True, act_cls=act_cls, \n",
        "                                      p_drop=0.0, bias=False)\n",
        "        \n",
        "        self.block2 = ConvBnDropBlock(in_chans=out_chans, out_chans=out_chans, kernel_size=kernel_size, \n",
        "                                      stride=1, padding=None, use_bn=True, act_cls=None, p_drop=0.0, bias=False)\n",
        "        \n",
        "        self.act_cls = act_cls(inplace=True)\n",
        "        \n",
        "        if in_chans != out_chans or stride != 1:\n",
        "            self.idconv = ConvBnDropBlock(in_chans=in_chans, out_chans=out_chans, kernel_size=1, \n",
        "                                          stride=stride, padding=0, use_bn=True, act_cls=None, \n",
        "                                          p_drop=0.0, bias=False)\n",
        "        \n",
        "        for m in self.modules():\n",
        "            if isinstance(m, nn.Conv2d):\n",
        "                nn.init.kaiming_normal_(m.weight, mode='fan_out', nonlinearity='relu')\n",
        "            elif isinstance(m, nn.BatchNorm2d):\n",
        "                nn.init.constant_(m.weight, 1)\n",
        "                nn.init.constant_(m.bias, 0)\n",
        "         \n",
        "        # Zero-initialize the last BN in each residual branch,\n",
        "        # so that the residual branch starts with zeros, and each residual block behaves like an identity.\n",
        "        # This improves the model by 0.2~0.3% according to https://arxiv.org/abs/1706.02677\n",
        "        for m in self.block2.modules():\n",
        "            if isinstance(m, nn.BatchNorm2d):\n",
        "                nn.init.constant_(m.weight, 0)\n",
        "                    \n",
        "    def forward(self, x):\n",
        "        identity = x\n",
        "        out = self.block1(x)\n",
        "        out = self.block2(out)\n",
        "        \n",
        "        if self.idconv is not None:\n",
        "            identity = self.idconv(x)\n",
        "        \n",
        "        out += identity\n",
        "        return self.act_cls(out)"
      ],
      "execution_count": 29,
      "outputs": []
    },
    {
      "cell_type": "markdown",
      "metadata": {
        "id": "9YmH2dP_jcg9"
      },
      "source": [
        "Why use `idconv` block ?\n",
        ">The issue is that with a stride of, say, 2 on one of the convolutions, the grid size of the output activations will be half the size on each axis of the input. So then we can't add that back to x in forward because x and the output activations have different dimensions. The same basic issue occurs if `in_chans`!=`out_chans`: the shapes of the input and output connections won't allow us to add them together. So `idconv` works as a identity map that matches the dimenstions of x to the ouput of `self.block2(self.block1(x))`. `idconv` increases the `channels` out the x and downsamples it with stride if required."
      ]
    },
    {
      "cell_type": "markdown",
      "metadata": {
        "id": "F6V7-ww3wA8b"
      },
      "source": [
        "We can now proceed towards modifying our BenchMark model. Let's add some skip connections into this network. We remove modify the 1st conv block of the model to resemble the layer in a typical `ResNet` Model, i.e, a conv layer (output_channels=64, kernel_size=7, stride=2) followed by a batch_normalization, activation and a MaxPooling layer. We then add the residual blocks of the model. The classifier of the model remains same.\n",
        "\n"
      ]
    },
    {
      "cell_type": "code",
      "metadata": {
        "id": "-N0geEarjcry"
      },
      "source": [
        "class ResModel(nn.Sequential):\n",
        "    def __init__(self, num_outputs: int):\n",
        "\n",
        "        conv = ConvBnDropBlock(in_chans=3, out_chans=64, kernel_size=7, p_drop=0, stride=2, \n",
        "                               act_cls=nn.ReLU, bias=False, use_bn=True)\n",
        "        pool = nn.MaxPool2d(kernel_size=3, stride=2, padding=1)\n",
        "        conv_stem  = nn.Sequential(conv, pool)\n",
        "        \n",
        "        \n",
        "        resblock1 = ResBlock(in_chans=64, out_chans=64,  stride=1, kernel_size=3, act_cls=nn.ReLU)\n",
        "        resblock2 = ResBlock(in_chans=64, out_chans=128, stride=2, kernel_size=3, act_cls=nn.ReLU)\n",
        "        \n",
        "        pool_flatten = nn.Sequential(OrderedDict(pool_layer=nn.AdaptiveAvgPool2d(1), flatten=nn.Flatten()))\n",
        "\n",
        "        predictor = nn.Sequential(nn.BatchNorm1d(128), nn.Dropout(0.3), nn.ReLU(inplace=True), \n",
        "                                  nn.Linear(128, num_outputs, bias=False))\n",
        "        \n",
        "        layers = OrderedDict(conv_stem=conv_stem, block1=resblock1, block2=resblock2, pool_flatten=pool_flatten, fc=predictor)\n",
        "        \n",
        "        super(ResModel, self).__init__(layers)"
      ],
      "execution_count": 30,
      "outputs": []
    },
    {
      "cell_type": "markdown",
      "metadata": {
        "id": "w9O0g6ihyEpp"
      },
      "source": [
        "Since this is a larger model than the previous one I will reduce the number of training epochs so that our model does not overfit the training data and quick experimentation purposes.\n",
        "\n",
        "Let's train it for a little bit and see how it fares compared to the previous model - "
      ]
    },
    {
      "cell_type": "code",
      "metadata": {
        "id": "LuvF6ax3jc1h",
        "colab": {
          "base_uri": "https://localhost:8080/",
          "height": 364
        },
        "outputId": "c57587b0-004b-469e-989f-91882f24702e"
      },
      "source": [
        "exp_name = \"stage-01-resblock\"\n",
        "train_dl, valid_dl = get_data(base_tfms, valid_transforms=base_tfms, bs=32)\n",
        "\n",
        "# instantiate the model\n",
        "model = ResModel(num_outputs=len(CLASS_MAP))\n",
        "\n",
        "# Put the model into Lightning-Task\n",
        "task = ClassificationTask(model, lr=3e-03)\n",
        "\n",
        "cbs = [\n",
        "    ModelCheckpoint(monitor=\"val_acc\", filename=exp_name, dirpath=os.getcwd()), \n",
        "    NotebookProgressCallback(),\n",
        "]\n",
        "\n",
        "trainer = pl.Trainer(max_epochs=8, callbacks=cbs, gpus=1, precision=16, deterministic=True)\n",
        "trainer.fit(task, train_dataloader=train_dl, val_dataloaders=valid_dl)\n",
        "\n",
        "# Evalute the final performance of the Model\n",
        "tst_res = trainer.test(ckpt_path=\"best\", test_dataloaders=[train_dl, valid_dl], verbose=False)\n",
        "trn_acc, val_acc = tst_res[0][\"test_acc/dataloader_idx_0\"], tst_res[1][\"test_acc/dataloader_idx_1\"]\n",
        "\n",
        "display(Markdown(f\"### Final Training Accuracy: {round(trn_acc, 3)}\"))\n",
        "display(Markdown(f\"### Final Validation Accuracy: {round(val_acc, 3)}\"))"
      ],
      "execution_count": null,
      "outputs": [
        {
          "output_type": "stream",
          "text": [
            "GPU available: True, used: True\n",
            "TPU available: False, using: 0 TPU cores\n",
            "Using native 16bit precision.\n",
            "LOCAL_RANK: 0 - CUDA_VISIBLE_DEVICES: [0]\n",
            "\n",
            "  | Name      | Type             | Params\n",
            "-----------------------------------------------\n",
            "0 | model     | ResModel         | 321 K \n",
            "1 | criterion | CrossEntropyLoss | 0     \n",
            "-----------------------------------------------\n",
            "321 K     Trainable params\n",
            "0         Non-trainable params\n",
            "321 K     Total params\n",
            "1.287     Total estimated model params size (MB)\n"
          ],
          "name": "stderr"
        },
        {
          "output_type": "display_data",
          "data": {
            "text/html": [
              ""
            ],
            "text/plain": [
              "<IPython.core.display.HTML object>"
            ]
          },
          "metadata": {
            "tags": []
          }
        },
        {
          "output_type": "display_data",
          "data": {
            "text/html": [
              "\n",
              "    <div>\n",
              "        <style>\n",
              "            progress {\n",
              "                border: none;\n",
              "                background-size: auto;\n",
              "            }\n",
              "        </style>\n",
              "      Training\n",
              "      <progress value='124' max='496' style='width:300px; height:20px; vertical-align: middle;'></progress>\n",
              "      [124/496 00:35 < 01:48, 3.42 it/s, Epoch 1 {'loss': '3.31', 'v_num': 3}]\n",
              "    </div>\n",
              "    <table border=\"1\" class=\"dataframe\">\n",
              "  <thead>\n",
              "    <tr style=\"text-align: left;\">\n",
              "      <th>epoch</th>\n",
              "      <th>val_acc</th>\n",
              "      <th>val_loss</th>\n",
              "      <th>train_loss</th>\n",
              "      <th>time</th>\n",
              "      <th>samples/s</th>\n",
              "    </tr>\n",
              "  </thead>\n",
              "  <tbody>\n",
              "    <tr>\n",
              "      <td>0</td>\n",
              "      <td>0.042339</td>\n",
              "      <td>4.120226</td>\n",
              "      <td>3.811146</td>\n",
              "      <td>20.349600</td>\n",
              "      <td>3.833000</td>\n",
              "    </tr>\n",
              "  </tbody>\n",
              "</table><p>\n",
              "    <div>\n",
              "        <style>\n",
              "            progress {\n",
              "                border: none;\n",
              "                background-size: auto;\n",
              "            }\n",
              "        </style>\n",
              "      Validating\n",
              "      <progress value='7' max='16' style='width:300px; height:20px; vertical-align: middle;'></progress>\n",
              "      [ 7/16 00:01 < 00:02, 3.72 it/s]\n",
              "    </div>\n",
              "    "
            ],
            "text/plain": [
              "<IPython.core.display.HTML object>"
            ]
          },
          "metadata": {
            "tags": []
          }
        }
      ]
    },
    {
      "cell_type": "markdown",
      "metadata": {
        "id": "l43AbZbd0tIu"
      },
      "source": [
        "**The accuracy of our model has increased by adding the skip connections. We were able to improve our accuracy in a fewer epochs compared to the previous model.**\n",
        "\n",
        "If we had trained more I am not sure sure if the model performance would have increased on the validation data. This is because the model is overfitting on the training data and we do not want that. What we want is, that the model performs well in unseen data (or the validation dataset)."
      ]
    },
    {
      "cell_type": "markdown",
      "metadata": {
        "id": "uQBcyfSoMNpR"
      },
      "source": [
        "**Note: At this point it is crearly evident that currently our model is overfitting on the training data. But we will work on improving overfitting. First I want to try different model architectures and find the most optimal after which I will use *regularization* techniques to further improve the model and make it more robust.**"
      ]
    },
    {
      "cell_type": "code",
      "metadata": {
        "id": "Dcw2YCZullQu"
      },
      "source": [
        "try:\n",
        "    del model, trainer, task\n",
        "except: \n",
        "    pass\n",
        "try:\n",
        "    del train_dl, valid_dl\n",
        "except: \n",
        "    pass\n",
        "gc.collect()\n",
        "torch.cuda.empty_cache()"
      ],
      "execution_count": null,
      "outputs": []
    },
    {
      "cell_type": "markdown",
      "metadata": {
        "id": "eFNrOLQ2nRgF"
      },
      "source": [
        "#### A State-of-the-Art ResNets -\n",
        "> In this part I will mainly try to explore different variant of `ResNet`s called `ResNet-D` proposed by Tong He in 2014 in the article \"[Bag of Tricks for Image Classification with Convolutional Neural Networks](https://arxiv.org/abs/1812.01187)\n",
        "\". By using a tweaked ResNet-50 architecture and Mixup they achieved 94.6% top-5 accuracy on ImageNet, in comparison to 92.2% with a regular ResNet-50 without Mixup. This result is better than that achieved by regular ResNet models that are twice as deep (and twice as slow, and much more likely to overfit). These tweaked `Resnet` variants was ultimately popularized Jeremy Howard of Fast.ai and are called as `xResNet`'s.\n",
        "\n",
        "---"
      ]
    },
    {
      "cell_type": "markdown",
      "metadata": {
        "id": "0BPqJNZRnT9K"
      },
      "source": [
        "This experiment will mainly explore the model preformace we replace the Residual blocks with xResidual Blocks.\n",
        "\n",
        "First, let us explore the architecture of `ResNet-D` proposed in the above named article. To obtain the `xResNet` architecture we have to apply three different tweaks in the `ResNet` architecture namely `ResNet-B`, `ResNet-C` and `ResNet-D`. \n",
        "\n",
        "The notable changes in the model architecture in our case would be :\n",
        "\n",
        "* In `ResidualCnn`, `resblock2` we are downsampling the input by applying a convulation `stride=2` in the 1st layer of the residual block. `ResNet-B` simply moves the stride `2` to the second convolution and keeps a stride of `1` for the first layer .\n",
        "* The `ResNet-C`, proposed in Inception-v2, removes the `7x7` convolution in the input stem of the network and replaces it with three consecutive 3x3 convolutions. \n",
        "* In `ResNet-D`, the authors replaced the convolution in the downsampling block with a `2x2` average-pooling layer of stride `2` followed by a `1x1` convolution layer. In our case we would have to replace the `idconv` present in `ResidualBlock` module.\n",
        "\n",
        "Let's apply the above changes to our model test the preformance -"
      ]
    },
    {
      "cell_type": "code",
      "metadata": {
        "id": "qjX2mDHonZwy"
      },
      "source": [
        "class xResBlock(nn.Module):\n",
        "    \"Creates a simple Residual Block for xResNet architecture\"\n",
        "    def __init__(self, in_chans, out_chans, kernel_size, stride=1, act_cls=nn.ReLU):\n",
        "        super(xResBlock, self).__init__()\n",
        "        self.idconv = None\n",
        "        \n",
        "        self.block1 = ConvBnDropBlock(in_chans=in_chans, out_chans=out_chans, kernel_size=kernel_size,\n",
        "                                      stride=1, use_bn=True, act_cls=act_cls, bias=False)\n",
        "        \n",
        "        # we apply the 1st change here, \n",
        "        # moving the stride 2 to the second convolution and keeps a stride of 1 for the first layer . \n",
        "        self.block2 = ConvBnDropBlock(in_chans=out_chans, out_chans=out_chans, kernel_size=kernel_size, \n",
        "                                      stride=stride, use_bn=True, act_cls=None, bias=False)\n",
        "        \n",
        "        self.act_cls = act_cls(inplace=True)\n",
        "        \n",
        "        if in_chans != out_chans or stride != 1:\n",
        "            # the 3rd change proped above is applied here,\n",
        "            # we replace with a 2x2 average-pooling layer of stride 2 followed by a 1x1 convolution layer\n",
        "            pool_layer = nn.AvgPool2d(stride, ceil_mode=True)\n",
        "            conv_layer = ConvBnDropBlock(in_chans=in_chans, out_chans=out_chans, kernel_size=1, padding=0, \n",
        "                                         use_bn=True, act_cls=None, p_drop=0.0, bias=False, stride=1)\n",
        "            \n",
        "            self.idconv = nn.Sequential(pool_layer, conv_layer)\n",
        "            \n",
        "        \n",
        "        for m in self.modules():\n",
        "            if isinstance(m, nn.Conv2d):\n",
        "                nn.init.kaiming_normal_(m.weight, mode='fan_out', nonlinearity='relu')\n",
        "            elif isinstance(m, nn.BatchNorm2d):\n",
        "                nn.init.constant_(m.weight, 1)\n",
        "                nn.init.constant_(m.bias, 0)\n",
        "         \n",
        "        # Zero-initialize the last BN in each residual branch,\n",
        "        # so that the residual branch starts with zeros, and each residual block behaves like an identity.\n",
        "        # This improves the model by 0.2~0.3% according to https://arxiv.org/abs/1706.02677\n",
        "        for m in self.block2.modules():\n",
        "            if isinstance(m, nn.BatchNorm2d):\n",
        "                nn.init.constant_(m.weight, 0)\n",
        "                    \n",
        "    def forward(self, x):\n",
        "        identity = x\n",
        "        out = self.block1(x)\n",
        "        out = self.block2(out)\n",
        "        \n",
        "        if self.idconv is not None:\n",
        "            identity = self.idconv(x)\n",
        "        \n",
        "        out += identity\n",
        "        return self.act_cls(out)"
      ],
      "execution_count": null,
      "outputs": []
    },
    {
      "cell_type": "markdown",
      "metadata": {
        "id": "xahTgOcNne14"
      },
      "source": [
        "The code is, for the most part, taken & modified from the [fast.ai course](https://www.fast.ai/), [fast.ai]() library and this [blog post](https://towardsdatascience.com/xresnet-from-scratch-in-pytorch-e64e309af722). \n",
        "\n",
        "Let's move incorporate this into the model that we have been working with."
      ]
    },
    {
      "cell_type": "code",
      "metadata": {
        "id": "zQVrmb4Dnj4v"
      },
      "source": [
        "class xResModel(nn.Sequential):\n",
        "    def __init__(self, num_outputs: int, act_cls=nn.ReLU):\n",
        "        conv = nn.Sequential(\n",
        "            ConvBnDropBlock(in_chans=3,  out_chans=32, kernel_size=3, stride=2, act_cls=act_cls, bias=False, use_bn=False),\n",
        "            ConvBnDropBlock(in_chans=32, out_chans=32, kernel_size=3, stride=1, act_cls=act_cls, bias=False, use_bn=False),\n",
        "            ConvBnDropBlock(in_chans=32, out_chans=64, kernel_size=3, stride=1, act_cls=act_cls, bias=False, use_bn=False),\n",
        "        )\n",
        "\n",
        "        pool = nn.MaxPool2d(kernel_size=3, stride=2, padding=1)\n",
        "        conv_stem  = nn.Sequential(conv, pool)\n",
        "        \n",
        "        resblock1 = xResBlock(in_chans=64, out_chans=64,  stride=1, kernel_size=3, act_cls=act_cls)\n",
        "        resblock2 = xResBlock(in_chans=64, out_chans=128, stride=2, kernel_size=3, act_cls=act_cls)\n",
        "        \n",
        "        pool_flatten = nn.Sequential(OrderedDict(pool_layer=nn.AdaptiveAvgPool2d(1), flatten=nn.Flatten()))\n",
        "\n",
        "        predictor = nn.Sequential(nn.BatchNorm1d(128), nn.Dropout(0.3), act_cls(inplace=True), \n",
        "                                  nn.Linear(128, num_outputs, bias=False))\n",
        "        \n",
        "        layers = OrderedDict(conv_stem=conv_stem, block1=resblock1, block2=resblock2, pool_flatten=pool_flatten, fc=predictor)\n",
        "        \n",
        "        super(xResModel, self).__init__(layers)"
      ],
      "execution_count": null,
      "outputs": []
    },
    {
      "cell_type": "markdown",
      "metadata": {
        "id": "7t99NKFfsL6D"
      },
      "source": [
        "Let's train it and see how it fares compared to the previous model -"
      ]
    },
    {
      "cell_type": "code",
      "metadata": {
        "id": "JJYIBu7Bo95m"
      },
      "source": [
        "%%time\n",
        "exp_name = \"stage-01-xresblock\"\n",
        "train_dl, valid_dl = get_data(base_tfms, valid_transforms=base_tfms)\n",
        "\n",
        "# instantiate the model\n",
        "model = xResModel(num_outputs=len(CLASS_MAP))\n",
        "\n",
        "# Put the model into Lightning-Task\n",
        "task = ClassificationTask(model, lr=3e-03)\n",
        "\n",
        "cbs = [\n",
        "    ModelCheckpoint(monitor=\"val_acc\", filename=exp_name, dirpath=os.getcwd()), \n",
        "    NotebookProgressCallback(),\n",
        "]\n",
        "\n",
        "trainer = pl.Trainer(max_epochs=8, callbacks=cbs, gpus=1, precision=16, deterministic=True)\n",
        "trainer.fit(task, train_dataloader=train_dl, val_dataloaders=valid_dl)\n",
        "\n",
        "# Evalute the final performance of the Model\n",
        "tst_res = trainer.test(ckpt_path=\"best\", test_dataloaders=[train_dl, valid_dl], verbose=False)\n",
        "trn_acc, val_acc = tst_res[0][\"test_acc/dataloader_idx_0\"], tst_res[1][\"test_acc/dataloader_idx_1\"]\n",
        "\n",
        "display(Markdown(f\"## Final Training Accuracy: {round(trn_acc, 3)}\"))\n",
        "display(Markdown(f\"## Final Validation Accuracy: {round(val_acc, 3)}\"))"
      ],
      "execution_count": null,
      "outputs": []
    },
    {
      "cell_type": "markdown",
      "metadata": {
        "id": "rFfabjLSUrQy"
      },
      "source": [
        "Even though our validation_accuracy did not increase much from the ResNet based model, the overfitting on the training data decreased which is quite evident from the training loss and the training accuracy. Which is a really good sign."
      ]
    },
    {
      "cell_type": "code",
      "metadata": {
        "id": "XAOfe5FRtVtf"
      },
      "source": [
        "try:\n",
        "    del model, trainer\n",
        "except: \n",
        "    pass\n",
        "try:\n",
        "    del train_dl, valid_dl\n",
        "except: \n",
        "    pass\n",
        "gc.collect()\n",
        "torch.cuda.empty_cache()"
      ],
      "execution_count": null,
      "outputs": []
    },
    {
      "cell_type": "markdown",
      "metadata": {
        "id": "Bosj5r96zCeG"
      },
      "source": [
        "#### Exploring State-of-the-Art from ImageWoof competition - \n",
        "> In this experiment I plan to use some of [State of the Training techniques](https://forums.fast.ai/t/how-we-beat-the-5-epoch-imagewoof-leaderboard-score-some-new-techniques-to-consider/53453) that were used to top the leaderboard score for` 5 epoch Imagewoof`.\n",
        "\n",
        "\n",
        "\n",
        "The techniques I will be employing are as follows - \n",
        "* `Mish activation function instead of ReLU` : Mish is a new activation function that was released in a [paper](https://arxiv.org/abs/1908.08681). It has a much smoother curve vs relu, and in theory, that drives information more deeply through the network.\n",
        "* `Self attention layer` : Bringing in Ideas from GAN's into CNN's.The self attention layer is designed to help leverage long range dependencies within an image vs the more local feature focus of convolutions. Paper Link : [https://arxiv.org/abs/1805.08318]\n",
        "\n",
        "\n",
        "\n",
        "The folks from fast.ai who employed the above techniques noticed that `SimpleSelfAttention` layer, when placed within a Resnet block, the network converges if `SimpleSelfAttention` is placed right after a convolution layer that uses batch norm, and initializes the batchnorm weights to 0.\n",
        "\n",
        "[Source](https://github.com/sdoria/SimpleSelfAttention)"
      ]
    },
    {
      "cell_type": "markdown",
      "metadata": {
        "id": "1ElXz7VPzCg2"
      },
      "source": [
        "The code for creating the `SimpleSelfAttention` module has been borrowed from [here](https://github.com/sdoria/SimpleSelfAttention/blob/master/xresnet.py)."
      ]
    },
    {
      "cell_type": "code",
      "metadata": {
        "id": "eLHtIG9RzCmC"
      },
      "source": [
        "def conv1d(ni:int, no:int, ks:int=1, stride:int=1, padding:int=0, bias:bool=False):\n",
        "    \"Create and initialize a `nn.Conv1d` layer with spectral normalization.\"\n",
        "    conv = nn.Conv1d(ni, no, ks, stride=stride, padding=padding, bias=bias)\n",
        "    nn.init.kaiming_normal_(conv.weight)\n",
        "    if bias: conv.bias.data.zero_()\n",
        "    return spectral_norm(conv)\n",
        "\n",
        "\n",
        "class SimpleSelfAttention(nn.Module):\n",
        "    \n",
        "    def __init__(self, n_in:int, ks=1, sym=False):\n",
        "        super().__init__()\n",
        "           \n",
        "        self.conv = conv1d(n_in, n_in, ks, padding=ks//2, bias=False)      \n",
        "       \n",
        "        self.gamma = nn.Parameter(torch.tensor([0.]))\n",
        "        \n",
        "        self.sym = sym\n",
        "        self.n_in = n_in\n",
        "        \n",
        "    def forward(self,x):\n",
        "          \n",
        "        if self.sym:\n",
        "            # symmetry hack by https://github.com/mgrankin\n",
        "            c = self.conv.weight.view(self.n_in,self.n_in)\n",
        "            c = (c + c.t())/2\n",
        "            self.conv.weight = c.view(self.n_in,self.n_in,1)\n",
        "                \n",
        "        size = x.size()  \n",
        "        x = x.view(*size[:2],-1)\n",
        "        \n",
        "        convx = self.conv(x)\n",
        "        xxT = torch.bmm(x,x.permute(0,2,1).contiguous())\n",
        "        \n",
        "        o = torch.bmm(xxT, convx)\n",
        "          \n",
        "        o = self.gamma * o + x\n",
        "        return o.view(*size).contiguous()"
      ],
      "execution_count": null,
      "outputs": []
    },
    {
      "cell_type": "markdown",
      "metadata": {
        "id": "6rCMGxmSzCoi"
      },
      "source": [
        "The code block implements the `Mish` Activation function, the code for which has been borrowed from the [repository](https://github.com/digantamisra98/Mish/blob/master/Mish/Torch/functional.py) of the original author of `Mish`."
      ]
    },
    {
      "cell_type": "code",
      "metadata": {
        "id": "Rv_KzkeLzYVI"
      },
      "source": [
        "@torch.jit.script\n",
        "def mish(input):\n",
        "    '''\n",
        "    Applies the mish function element-wise:\n",
        "    mish(x) = x * tanh(softplus(x)) = x * tanh(ln(1 + exp(x)))\n",
        "    '''\n",
        "    return input * torch.tanh(F.softplus(input))\n",
        "\n",
        "\n",
        "class Mish(nn.Module):\n",
        "    def __init__(self, *args, **kwargs):\n",
        "        super(Mish, self).__init__()\n",
        "    \n",
        "    def forward(self, xb):\n",
        "        return mish(xb)"
      ],
      "execution_count": null,
      "outputs": []
    },
    {
      "cell_type": "markdown",
      "metadata": {
        "id": "kx6N4e0WzYYS"
      },
      "source": [
        "The code below adds SelfAttention and Mish activation to our *x*ResNet based model architecture -\n",
        "\n",
        "\n",
        "\n"
      ]
    },
    {
      "cell_type": "code",
      "metadata": {
        "id": "z9sspbJozYbG"
      },
      "source": [
        "class sa_m_xResBlock(nn.Module):\n",
        "    \"Creates a xRes Block with SelfAttention and Mish Activation\"\n",
        "    def __init__(self, in_chans: int, out_chans: int, \n",
        "                 kernel_size: int, stride: int = 1, act_cls: Callable = Mish):\n",
        "        \n",
        "        super(sa_m_xResBlock, self).__init__()\n",
        "        self.idconv = None\n",
        "        \n",
        "        self.block1 = ConvBnDropBlock(in_chans=in_chans, out_chans=out_chans, kernel_size=kernel_size,\n",
        "                                      stride=1, use_bn=True, act_cls=act_cls, bias=False)\n",
        "         \n",
        "        self.block2 = ConvBnDropBlock(in_chans=out_chans, out_chans=out_chans, kernel_size=kernel_size, \n",
        "                                      stride=stride, use_bn=True, act_cls=None, bias=False)\n",
        "        \n",
        "        # initialize the SimpleSelfAttention Layer\n",
        "        self.sa = SimpleSelfAttention(out_chans,ks=1,sym=False)    \n",
        "        \n",
        "        self.act_cls = act_cls(inplace=True)\n",
        "        \n",
        "        if in_chans != out_chans or stride != 1:\n",
        "            pool_layer = nn.AvgPool2d(stride, ceil_mode=True)\n",
        "            conv_layer = ConvBnDropBlock(in_chans=in_chans, out_chans=out_chans, kernel_size=1, padding=0, \n",
        "                                         use_bn=True, act_cls=None, p_drop=0.0, bias=False, stride=1)\n",
        "            \n",
        "            self.idconv = nn.Sequential(pool_layer, conv_layer)       \n",
        "            \n",
        "        for m in self.modules():\n",
        "            if isinstance(m, nn.Conv2d):\n",
        "                nn.init.kaiming_normal_(m.weight, mode='fan_out', nonlinearity='relu')\n",
        "            elif isinstance(m, nn.BatchNorm2d):\n",
        "                nn.init.constant_(m.weight, 1)\n",
        "                nn.init.constant_(m.bias, 0)\n",
        "                \n",
        "        for m in self.block2.modules():\n",
        "            if isinstance(m, nn.BatchNorm2d):\n",
        "                nn.init.constant_(m.weight, 0)\n",
        "                    \n",
        "    def forward(self, x):\n",
        "        identity = x\n",
        "        out = self.block1(x)\n",
        "        out = self.block2(out)\n",
        "        out = self.sa(out)\n",
        "        \n",
        "        if self.idconv is not None:\n",
        "            identity = self.idconv(x)\n",
        "        \n",
        "        out += identity\n",
        "        return self.act_cls(out)"
      ],
      "execution_count": null,
      "outputs": []
    },
    {
      "cell_type": "markdown",
      "metadata": {
        "id": "TizKT22OHRbU"
      },
      "source": [
        "Let's build up the model : The code below incorporates SelfAttention and Mish into our xResnet based model ."
      ]
    },
    {
      "cell_type": "code",
      "metadata": {
        "id": "ZGoJKgBZzmVi"
      },
      "source": [
        "class sa_m_xResModel(nn.Sequential):\n",
        "    def __init__(self, num_outputs: int, act_cls=Mish):\n",
        "        conv = nn.Sequential(\n",
        "                ConvBnDropBlock(in_chans=3,  out_chans=32, kernel_size=3, stride=2, act_cls=act_cls, bias=False, use_bn=False),\n",
        "                ConvBnDropBlock(in_chans=32, out_chans=32, kernel_size=3, stride=1, act_cls=act_cls, bias=False, use_bn=False),\n",
        "                ConvBnDropBlock(in_chans=32, out_chans=64, kernel_size=3, stride=1, act_cls=act_cls, bias=False, use_bn=False),\n",
        "            )\n",
        "\n",
        "        pool = nn.MaxPool2d(kernel_size=3, stride=2, padding=1)\n",
        "        conv_stem  = nn.Sequential(conv, pool)\n",
        "            \n",
        "        resblock1 = sa_m_xResBlock(in_chans=64, out_chans=64,  stride=1, kernel_size=3, act_cls=act_cls)\n",
        "        resblock2 = sa_m_xResBlock(in_chans=64, out_chans=128, stride=2, kernel_size=3, act_cls=act_cls)\n",
        "            \n",
        "        pool_flatten = nn.Sequential(OrderedDict(pool_layer=nn.AdaptiveAvgPool2d(1), flatten=nn.Flatten()))\n",
        "\n",
        "        predictor = nn.Sequential(nn.BatchNorm1d(128), nn.Dropout(0.3), act_cls(inplace=True), \n",
        "                                    nn.Linear(128, num_outputs, bias=False))\n",
        "            \n",
        "        layers = OrderedDict(conv_stem=conv_stem, block1=resblock1, block2=resblock2, pool_flatten=pool_flatten, fc=predictor)\n",
        "            \n",
        "        super(sa_m_xResModel, self).__init__(layers)"
      ],
      "execution_count": null,
      "outputs": []
    },
    {
      "cell_type": "markdown",
      "metadata": {
        "id": "teBv5VmoZW2p"
      },
      "source": [
        "Train the model -"
      ]
    },
    {
      "cell_type": "code",
      "metadata": {
        "id": "MR6qi9tuzmY1"
      },
      "source": [
        "%%time\n",
        "exp_name = \"stage-01-xresblock-mish-sa\"\n",
        "train_dl, valid_dl = get_data(base_tfms, valid_transforms=base_tfms)\n",
        "\n",
        "# instantiate the model\n",
        "model = sa_m_xResModel(num_outputs=len(CLASS_MAP))\n",
        "\n",
        "# Put the model into Lightning-Task\n",
        "task = ClassificationTask(model, lr=3e-03)\n",
        "\n",
        "cbs = [\n",
        "    ModelCheckpoint(monitor=\"val_acc\", filename=exp_name, dirpath=os.getcwd()), \n",
        "    NotebookProgressCallback(),\n",
        "]\n",
        "\n",
        "trainer = pl.Trainer(max_epochs=8, callbacks=cbs, gpus=1, precision=16, deterministic=True)\n",
        "trainer.fit(task, train_dataloader=train_dl, val_dataloaders=valid_dl)\n",
        "\n",
        "# Evalute the final performance of the Model\n",
        "tst_res = trainer.test(ckpt_path=\"best\", test_dataloaders=[train_dl, valid_dl], verbose=False)\n",
        "trn_acc, val_acc = tst_res[0][\"test_acc/dataloader_idx_0\"], tst_res[1][\"test_acc/dataloader_idx_1\"]\n",
        "\n",
        "display(Markdown(f\"## Final Training Accuracy: {round(trn_acc, 3)}\"))\n",
        "display(Markdown(f\"## Final Validation Accuracy: {round(val_acc, 3)}\"))"
      ],
      "execution_count": null,
      "outputs": []
    },
    {
      "cell_type": "markdown",
      "metadata": {
        "id": "gP7Nflj-Y5mu"
      },
      "source": [
        "With the above mentioned tweaks our model is performing even better now . The validation loss if significantly lower while the validation accuracy is higher now compared to the previous model."
      ]
    },
    {
      "cell_type": "code",
      "metadata": {
        "id": "FIibTevdzmfR"
      },
      "source": [
        "try:\n",
        "    del model, trainer\n",
        "except:\n",
        "    pass\n",
        "try:\n",
        "    del train_dl, valid_dl\n",
        "except: \n",
        "    pass\n",
        "gc.collect()\n",
        "torch.cuda.empty_cache()"
      ],
      "execution_count": null,
      "outputs": []
    },
    {
      "cell_type": "markdown",
      "metadata": {
        "id": "tDs5CVKi19Om"
      },
      "source": [
        "#### Exploring Regularization Techniques - \n",
        "> Reducing the overfitting\n",
        "\n",
        "In this section I will attempt to reduce the overfitting of our model using a common regularizing technique *data augmentation*."
      ]
    },
    {
      "cell_type": "markdown",
      "metadata": {
        "id": "vD66Vvyw2hiX"
      },
      "source": [
        "What is *data augmentation*? \n",
        "\n",
        "Data augmentation artificially increases the size of the training set by generating many realistic variants of each training instance. Data augmentation is a technique used for introducing variety in training data thereby helping to mitigate overfitting.\n",
        "\n",
        "\n",
        "Let's apply some *data augmentation* data input pipeline. We will only apply data augmentation to the training data. The validation data is not augmented. \n",
        "\n",
        "\n",
        "> Note: For the current task given we have to be very carefull while applying *data augmentation*. Since our Images our images can change depending on the rotation, I won't be applying any `rotation` or `flip` transforms. The only transforms i will be using are intorducing noise and changing the lighting of the images."
      ]
    },
    {
      "cell_type": "code",
      "metadata": {
        "id": "Qvgnvah64F35"
      },
      "source": [
        "base_tfms = A.Compose([\n",
        "    A.Resize(PRESIZE, PRESIZE, p=1.0),\n",
        "    A.CenterCrop(IMG_SIZE, IMG_SIZE, p=1.0),\n",
        "    A.ToFloat(max_value=255, p=1.0),\n",
        "    ToTensorV2(p=1.0),\n",
        "])\n",
        "\n",
        "aug_tfms = A.Compose([\n",
        "    A.Resize(PRESIZE, PRESIZE, p=1.0),\n",
        "    # data augmentation transforms for the training dataset #\n",
        "    A.Blur(blur_limit=10, always_apply=False, p=0.6),\n",
        "    A.GaussNoise(always_apply=False, p=0.5),\n",
        "    A.JpegCompression(quality_lower=0, quality_upper=1, always_apply=False, p=0.5),\n",
        "    A.ColorJitter(always_apply=False, p=0.5),\n",
        "    A.MultiplicativeNoise(multiplier=[0.5, 1.5], per_channel=True, p=0.5),\n",
        "    ##########################################################\n",
        "    A.CenterCrop(IMG_SIZE, IMG_SIZE, p=1.0),\n",
        "    A.ToFloat(max_value=255, p=1.0, ),\n",
        "    A.Cutout(num_holes=5, always_apply=False, p=0.5),\n",
        "    ToTensorV2(p=1.0),\n",
        "])"
      ],
      "execution_count": null,
      "outputs": []
    },
    {
      "cell_type": "markdown",
      "metadata": {
        "id": "9DMqPaqM5IhU"
      },
      "source": [
        "Let's view the augmentations on the Images -"
      ]
    },
    {
      "cell_type": "code",
      "metadata": {
        "id": "tprO_F9F475O"
      },
      "source": [
        "train_dl, valid_dl = get_data(transforms=aug_tfms, valid_transforms=base_tfms, bs=64)\n",
        "\n",
        "ims, lbls = next(iter(train_dl))\n",
        "ims, lbls = ims[:8], lbls[:8]\n",
        "\n",
        "grid = make_grid(ims, normalize=True).permute(1, 2, 0)\n",
        "fig = plt.figure(figsize=(13, 13))\n",
        "plt.imshow(grid) \n",
        "plt.title([CLASS_MAP[o] for o in lbls.data.cpu().numpy()])\n",
        "plt.axis(\"off\");"
      ],
      "execution_count": null,
      "outputs": []
    },
    {
      "cell_type": "markdown",
      "metadata": {
        "id": "oqstDxh55MJ0"
      },
      "source": [
        "Another common technique to reduce overfitting is to increase the *weight_decay*, so let's try it also.\n",
        "\n",
        "Let's train on the dataset and explore the performance -"
      ]
    },
    {
      "cell_type": "code",
      "metadata": {
        "id": "ujmZorMj5MOd"
      },
      "source": [
        "%%time\n",
        "exp_name = \"stage-01-xresblock-mish-sa-regularized\"\n",
        "train_dl, valid_dl = get_data(transforms=aug_tfms, valid_transforms=base_tfms)\n",
        "\n",
        "# instantiate the model\n",
        "model = sa_m_xResModel(num_outputs=len(CLASS_MAP))\n",
        "\n",
        "# Put the model into Lightning-Task\n",
        "task = ClassificationTask(model, lr=3e-03, wd=1e-01)\n",
        "\n",
        "cbs = [\n",
        "    ModelCheckpoint(monitor=\"val_acc\", filename=exp_name, dirpath=os.getcwd()), \n",
        "    NotebookProgressCallback(),\n",
        "]\n",
        "\n",
        "trainer = pl.Trainer(max_epochs=20, callbacks=cbs, gpus=1, precision=16, deterministic=True)\n",
        "trainer.fit(task, train_dataloader=train_dl, val_dataloaders=valid_dl)\n",
        "\n",
        "# Evalute the final performance of the Model\n",
        "tst_res = trainer.test(ckpt_path=\"best\", test_dataloaders=[train_dl, valid_dl], verbose=False)\n",
        "trn_acc, val_acc = tst_res[0][\"test_acc/dataloader_idx_0\"], tst_res[1][\"test_acc/dataloader_idx_1\"]\n",
        "\n",
        "display(Markdown(f\"**Final Training Accuracy: {round(trn_acc, 3)}**\"))\n",
        "display(Markdown(f\"**Final Validation Accuracy: {round(val_acc, 3)}**\"))"
      ],
      "execution_count": null,
      "outputs": []
    },
    {
      "cell_type": "markdown",
      "metadata": {
        "id": "EH_pziTJcO22"
      },
      "source": [
        "We have incresed the validation_accuracy of the model and have also reduced \n",
        "overfitting compared to the previous experiment. So, let's explore more and see if we can make more improvements. \n",
        "\n",
        "In this next part, instead of using I will be using label smoothing. Label smoothing is known to known to increase the generalization of the models. It reduces the ability of the model of the model to adapt to the training data by adding noise the original labels of the model on the training data.\n",
        "\n",
        "\n",
        "The effectiveness of label smoothing was explored in this [paper](https://arxiv.org/abs/1906.02629#:~:text=Smoothing%20the%20labels%20in%20this,language%20translation%20and%20speech%20recognition.)."
      ]
    },
    {
      "cell_type": "markdown",
      "metadata": {
        "id": "L5d3yMIxdQla"
      },
      "source": [
        "Here's how we can intorduce Label smoothing with CrossEntropy loss in pytorch -"
      ]
    },
    {
      "cell_type": "code",
      "metadata": {
        "id": "ZHCIm40TdNJ1"
      },
      "source": [
        "class LabelSmoothingCrossEntropy(nn.Module):\n",
        "    \"Cross Entropy Loss with Label Smoothing\"\n",
        "\n",
        "    def __init__(self, eps=0.1, reduction: str = \"mean\", weight=None):\n",
        "        super(LabelSmoothingCrossEntropy, self).__init__()\n",
        "        store_attr(\"eps, reduction, weight\")\n",
        "\n",
        "    def forward(self, input, target):\n",
        "        \"\"\"\n",
        "        Shape:\n",
        "        - Input  : $(N,C)$ where $N$ is the mini-batch size and $C$ is the total number of classes\n",
        "        - Target : $(N)$ where each value is $0 \\leq {targets}[i] \\leq C-10≤targets[i]≤C−1$\n",
        "        - Output: scalar. If `reduction` is `none`, then $(N, *)$ , same shape as input.\n",
        "        \"\"\"\n",
        "        c = input.size()[1]\n",
        "        log_preds = F.log_softmax(input, dim=1)\n",
        "        if self.reduction == \"sum\":\n",
        "            loss = -log_preds.sum()\n",
        "        else:\n",
        "            loss = -log_preds.sum(dim=1)\n",
        "            if self.reduction == \"mean\":\n",
        "                loss = loss.mean()\n",
        "        loss = loss * self.eps / c + (1 - self.eps) * F.nll_loss(log_preds, target.long(), weight=self.weight, reduction=self.reduction)\n",
        "        return loss"
      ],
      "execution_count": null,
      "outputs": []
    },
    {
      "cell_type": "markdown",
      "metadata": {
        "id": "ZZ_pHHC5gURJ"
      },
      "source": [
        "We will also need to modify our Task to use the LabelSmoothingCrossEntropy loss function - "
      ]
    },
    {
      "cell_type": "code",
      "metadata": {
        "id": "4C_r1X0dgaHZ"
      },
      "source": [
        "class ClassificationTask_v2(ClassificationTask):\n",
        "    def __init__(self, model: nn.Module, lr: float, wd: float = 0, eps: float = 0.1):\n",
        "        kwds = dict(model=model, lr=lr, wd=wd)\n",
        "        super(ClassificationTask_v2, self).__init__(**kwds)\n",
        "        self.save_hyperparameters(\"eps\")\n",
        "        self.criterion = LabelSmoothingCrossEntropy(self.hparams.eps)"
      ],
      "execution_count": null,
      "outputs": []
    },
    {
      "cell_type": "markdown",
      "metadata": {
        "id": "GzeyNzqJnuQ2"
      },
      "source": [
        "I will also add more heavy data augmentation to the Images -"
      ]
    },
    {
      "cell_type": "code",
      "metadata": {
        "id": "js2ttdxYnx4K"
      },
      "source": [
        "base_tfms = A.Compose([\n",
        "    A.Resize(PRESIZE, PRESIZE, p=1.0),\n",
        "    A.CenterCrop(IMG_SIZE, IMG_SIZE, p=1.0),\n",
        "    A.ToFloat(max_value=255, p=1.0),\n",
        "    ToTensorV2(p=1.0),\n",
        "])\n",
        "\n",
        "aug_tfms = A.Compose([\n",
        "    A.Resize(PRESIZE, PRESIZE, p=1.0),\n",
        "    # data augmentation transforms for the training dataset #\n",
        "    A.Blur(blur_limit=10, always_apply=False, p=0.6),\n",
        "    A.GaussNoise(always_apply=False, p=0.5),\n",
        "    A.JpegCompression(quality_lower=0, quality_upper=1, always_apply=False, p=0.5),\n",
        "    A.ColorJitter(always_apply=False, p=0.5),\n",
        "    A.MultiplicativeNoise(multiplier=[0.5, 1.5], per_channel=True, p=0.5),\n",
        "    A.CLAHE(p=0.5),\n",
        "    ##########################################################\n",
        "    A.RandomResizedCrop(IMG_SIZE, IMG_SIZE, p=1.0),\n",
        "    A.ToFloat(max_value=255, p=1.0, ),\n",
        "    A.Cutout(always_apply=False, p=0.5),\n",
        "    ToTensorV2(p=1.0),\n",
        "])"
      ],
      "execution_count": null,
      "outputs": []
    },
    {
      "cell_type": "markdown",
      "metadata": {
        "id": "aYbwR9a7iM-Y"
      },
      "source": [
        "*Training the model*"
      ]
    },
    {
      "cell_type": "code",
      "metadata": {
        "colab": {
          "background_save": true
        },
        "id": "Lo6XVn1KgaNg"
      },
      "source": [
        "exp_name = \"stage-02-xresblock-mish-sa-regularized\"\n",
        "train_dl, valid_dl = get_data(aug_tfms, valid_transforms=base_tfms)\n",
        "\n",
        "# instantiate the model\n",
        "model = sa_m_xResModel(num_outputs=len(CLASS_MAP))\n",
        "\n",
        "# Put the model into Lightning-Task\n",
        "task = ClassificationTask_v2(model, lr=8e-03, wd=0.3, eps=0.1)\n",
        "\n",
        "cbs = [\n",
        "    ModelCheckpoint(monitor=\"val_acc\", filename=exp_name, dirpath=os.getcwd()), \n",
        "    NotebookProgressCallback(),\n",
        "]\n",
        "\n",
        "trainer = pl.Trainer(max_epochs=30, callbacks=cbs, gpus=1, precision=16, deterministic=True)\n",
        "\n",
        "trainer.fit(task, train_dataloader=train_dl, val_dataloaders=valid_dl)\n",
        "\n",
        "# Evalute the final performance of the Model\n",
        "tst_res = trainer.test(ckpt_path=\"best\", test_dataloaders=[train_dl, valid_dl], verbose=False)\n",
        "trn_acc, val_acc = tst_res[0][\"test_acc/dataloader_idx_0\"], tst_res[1][\"test_acc/dataloader_idx_1\"]\n",
        "\n",
        "display(Markdown(f\"**Final Training Accuracy: {round(trn_acc, 3)}**\"))\n",
        "display(Markdown(f\"**Final Validation Accuracy: {round(val_acc, 3)}**\"))"
      ],
      "execution_count": null,
      "outputs": []
    },
    {
      "cell_type": "code",
      "metadata": {
        "id": "_Bm0HrZBck5H"
      },
      "source": [
        "try:\n",
        "    del model, trainer, task\n",
        "except: \n",
        "    pass\n",
        "try:\n",
        "    del train_dl, valid_dl\n",
        "except: \n",
        "    pass\n",
        "gc.collect()\n",
        "torch.cuda.empty_cache()"
      ],
      "execution_count": null,
      "outputs": []
    },
    {
      "cell_type": "code",
      "metadata": {
        "id": "73zbEmpv5vd6"
      },
      "source": [
        ""
      ],
      "execution_count": null,
      "outputs": []
    }
  ]
}