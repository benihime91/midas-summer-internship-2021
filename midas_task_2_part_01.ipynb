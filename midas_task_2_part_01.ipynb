{
  "nbformat": 4,
  "nbformat_minor": 0,
  "metadata": {
    "accelerator": "GPU",
    "colab": {
      "name": "midas-task-2-part-01.ipynb",
      "provenance": [],
      "collapsed_sections": [],
      "mount_file_id": "1lEHy0eoIwCS_z-iehTA5vlq6MLntmxXm",
      "authorship_tag": "ABX9TyNP1FlsM8ZciIcoJVekZxDH",
      "include_colab_link": true
    },
    "kernelspec": {
      "display_name": "Python 3",
      "name": "python3"
    },
    "language_info": {
      "name": "python"
    }
  },
  "cells": [
    {
      "cell_type": "markdown",
      "metadata": {
        "id": "view-in-github",
        "colab_type": "text"
      },
      "source": [
        "<a href=\"https://colab.research.google.com/github/benihime91/midas-summer-internship-2021/blob/main/midas_task_2_part_01.ipynb\" target=\"_parent\"><img src=\"https://colab.research.google.com/assets/colab-badge.svg\" alt=\"Open In Colab\"/></a>"
      ]
    },
    {
      "cell_type": "code",
      "metadata": {
        "id": "FjEbaEVaWQj9"
      },
      "source": [
        "# > Uncomment and run this cell if running on Google Colab\n",
        "# install required dependencies for google colab\n",
        "!git clone https://github.com/benihime91/midas-summer-internship-2021.git\n",
        "!pip install --upgrade -r \"/content/midas-summer-internship-2021/requirements.txt\""
      ],
      "execution_count": null,
      "outputs": []
    },
    {
      "cell_type": "code",
      "metadata": {
        "id": "gxmvU0RruGhb"
      },
      "source": [
        "# > for Goggle Colab\n",
        "import sys\n",
        "sys.path.append(\"midas-summer-internship-2021/\")"
      ],
      "execution_count": 1,
      "outputs": []
    },
    {
      "cell_type": "code",
      "metadata": {
        "id": "CIttbuJAV3vv"
      },
      "source": [
        "%load_ext autoreload\n",
        "%autoreload 2\n",
        "%matplotlib inline\n",
        "import warnings\n",
        "\n",
        "warnings.filterwarnings(\"ignore\")"
      ],
      "execution_count": 2,
      "outputs": []
    },
    {
      "cell_type": "markdown",
      "metadata": {
        "id": "02qYzvKbV8fx"
      },
      "source": [
        "# Task 2"
      ]
    },
    {
      "cell_type": "markdown",
      "metadata": {
        "id": "xCkK2vzKWGkW"
      },
      "source": [
        "## Part - 1\n",
        "> Use this dataset (https://www.dropbox.com/s/pan6mutc5xj5kj0/trainPart1.zip) to train a CNN. Use no other data source or pretrained networks, and explain your design choices during preprocessing, model building and training. Also, cite the sources you used to borrow techniques. A test set will be provided later to judge the performance of your classifier. Please save your model checkpoints."
      ]
    },
    {
      "cell_type": "markdown",
      "metadata": {
        "id": "asp5xGW_WMhz"
      },
      "source": [
        "### Getting the Data"
      ]
    },
    {
      "cell_type": "code",
      "metadata": {
        "id": "vtkjtbGpWrQb"
      },
      "source": [
        "import os\n",
        "os.makedirs(\"data\", exist_ok=True)\n",
        "\n",
        "# Download the 1st Dataset using :\n",
        "!wget -P \"data/\" https://www.dropbox.com/s/pan6mutc5xj5kj0/trainPart1.zip\n",
        "!unzip --qq \"data/trainPart1.zip\" -d \"data/\""
      ],
      "execution_count": null,
      "outputs": []
    },
    {
      "cell_type": "markdown",
      "metadata": {
        "id": "fMBr1LfVXSEW"
      },
      "source": [
        "### Analyzing the Dataset\n",
        "> In this part we will analyze the get familiar with the given dataset."
      ]
    },
    {
      "cell_type": "code",
      "metadata": {
        "id": "KSkpCrcLXaRp"
      },
      "source": [
        "# imports\n",
        "import os\n",
        "import random\n",
        "from typing import *\n",
        "\n",
        "import matplotlib.pyplot as plt\n",
        "import pandas as pd\n",
        "from fastcore.all import *\n",
        "from torchvision.datasets.folder import IMG_EXTENSIONS\n",
        "\n",
        "pd.set_option(\"display.max_colwidth\", None)"
      ],
      "execution_count": 4,
      "outputs": []
    },
    {
      "cell_type": "code",
      "metadata": {
        "id": "hqblcJPnXd7c",
        "colab": {
          "base_uri": "https://localhost:8080/"
        },
        "outputId": "f0744a19-97c9-463b-8251-624d481dffc0"
      },
      "source": [
        "DATASET_01_PATH = Path(\"data/train/\")\n",
        "DATASET_01_PATH.ls()"
      ],
      "execution_count": 5,
      "outputs": [
        {
          "output_type": "execute_result",
          "data": {
            "text/plain": [
              "(#62) [Path('data/train/Sample033'),Path('data/train/Sample025'),Path('data/train/Sample053'),Path('data/train/Sample026'),Path('data/train/Sample050'),Path('data/train/Sample044'),Path('data/train/Sample035'),Path('data/train/Sample060'),Path('data/train/Sample024'),Path('data/train/Sample020')...]"
            ]
          },
          "metadata": {
            "tags": []
          },
          "execution_count": 5
        }
      ]
    },
    {
      "cell_type": "markdown",
      "metadata": {
        "id": "7g4-FfRrXf_i"
      },
      "source": [
        "Perform some one-off data manipulations to get all the files and filenames in an easy to use format"
      ]
    },
    {
      "cell_type": "code",
      "metadata": {
        "id": "xcAjvjblXn9Q"
      },
      "source": [
        "def folder2df(directory: Union[str, Path], extensions: list = IMG_EXTENSIONS,\n",
        "              shuffle: bool = False, seed: int = 42):\n",
        "    \"\"\"\n",
        "    Parses all the Images in `directory` and puts them in a `DataFrame` object.\n",
        "    \"\"\"\n",
        "\n",
        "    random.seed(seed)\n",
        "\n",
        "    image_list = L()\n",
        "    target_list = L()\n",
        "\n",
        "    if not isinstance(directory, Path):\n",
        "        directory = Path(directory)\n",
        "\n",
        "    for label in directory.ls():\n",
        "        label = Path(label)\n",
        "        if os.path.isdir(label):\n",
        "            for img in label.ls():\n",
        "                if str(img).lower().endswith(extensions):\n",
        "                    image_list.append(img)\n",
        "                    target_list.append(str(label).split(os.path.sep)[-1])\n",
        "\n",
        "    print(f\"Found {len(image_list)} files belonging to {len(set(target_list))} classes.\")\n",
        "\n",
        "    dataframe: pd.DataFrame = pd.DataFrame()\n",
        "    dataframe[\"image_id\"] = image_list.map(str)\n",
        "    dataframe[\"target\"] = target_list\n",
        "    if shuffle:\n",
        "        dataframe = (dataframe.sample(frac=1, random_state=seed)\n",
        "                     .reset_index(inplace=False, drop=True))\n",
        "    return dataframe"
      ],
      "execution_count": 6,
      "outputs": []
    },
    {
      "cell_type": "markdown",
      "metadata": {
        "id": "rDgGDQ_fivrx"
      },
      "source": [
        "Create the a `pandas Dataframe` which contains all the file info we need to get started"
      ]
    },
    {
      "cell_type": "code",
      "metadata": {
        "id": "fI-aXyU-XpbQ",
        "colab": {
          "base_uri": "https://localhost:8080/",
          "height": 221
        },
        "outputId": "eb448fd8-c559-4482-b6d8-35075a0d4e11"
      },
      "source": [
        "DATASET_01 = folder2df(directory=DATASET_01_PATH, shuffle=True)\n",
        "DATASET_01.head()"
      ],
      "execution_count": 7,
      "outputs": [
        {
          "output_type": "stream",
          "text": [
            "Found 2480 files belonging to 62 classes.\n"
          ],
          "name": "stdout"
        },
        {
          "output_type": "execute_result",
          "data": {
            "text/html": [
              "<div>\n",
              "<style scoped>\n",
              "    .dataframe tbody tr th:only-of-type {\n",
              "        vertical-align: middle;\n",
              "    }\n",
              "\n",
              "    .dataframe tbody tr th {\n",
              "        vertical-align: top;\n",
              "    }\n",
              "\n",
              "    .dataframe thead th {\n",
              "        text-align: right;\n",
              "    }\n",
              "</style>\n",
              "<table border=\"1\" class=\"dataframe\">\n",
              "  <thead>\n",
              "    <tr style=\"text-align: right;\">\n",
              "      <th></th>\n",
              "      <th>image_id</th>\n",
              "      <th>target</th>\n",
              "    </tr>\n",
              "  </thead>\n",
              "  <tbody>\n",
              "    <tr>\n",
              "      <th>0</th>\n",
              "      <td>data/train/Sample004/img004-001.png</td>\n",
              "      <td>Sample004</td>\n",
              "    </tr>\n",
              "    <tr>\n",
              "      <th>1</th>\n",
              "      <td>data/train/Sample035/img035-004.png</td>\n",
              "      <td>Sample035</td>\n",
              "    </tr>\n",
              "    <tr>\n",
              "      <th>2</th>\n",
              "      <td>data/train/Sample043/img043-008.png</td>\n",
              "      <td>Sample043</td>\n",
              "    </tr>\n",
              "    <tr>\n",
              "      <th>3</th>\n",
              "      <td>data/train/Sample046/img046-005.png</td>\n",
              "      <td>Sample046</td>\n",
              "    </tr>\n",
              "    <tr>\n",
              "      <th>4</th>\n",
              "      <td>data/train/Sample025/img025-050.png</td>\n",
              "      <td>Sample025</td>\n",
              "    </tr>\n",
              "  </tbody>\n",
              "</table>\n",
              "</div>"
            ],
            "text/plain": [
              "                              image_id     target\n",
              "0  data/train/Sample004/img004-001.png  Sample004\n",
              "1  data/train/Sample035/img035-004.png  Sample035\n",
              "2  data/train/Sample043/img043-008.png  Sample043\n",
              "3  data/train/Sample046/img046-005.png  Sample046\n",
              "4  data/train/Sample025/img025-050.png  Sample025"
            ]
          },
          "metadata": {
            "tags": []
          },
          "execution_count": 7
        }
      ]
    },
    {
      "cell_type": "markdown",
      "metadata": {
        "id": "tXDt8fOwiyoA"
      },
      "source": [
        "Lets look closer at the data, how many `class_ids` do we have?"
      ]
    },
    {
      "cell_type": "code",
      "metadata": {
        "id": "rmIk-P2AXrbF",
        "colab": {
          "base_uri": "https://localhost:8080/"
        },
        "outputId": "3f1cdd6a-78e4-4732-dff5-cc00959e76b1"
      },
      "source": [
        "unq_cls = DATASET_01.target.unique()\n",
        "tot_itm = len(DATASET_01)\n",
        "print(\"Total number of Images in the Dataset: \", tot_itm)\n",
        "print(\"Number of unique classes in the Dataset: \",len(unq_cls))"
      ],
      "execution_count": 8,
      "outputs": [
        {
          "output_type": "stream",
          "text": [
            "Total number of Images in the Dataset:  2480\n",
            "Number of unique classes in the Dataset:  62\n"
          ],
          "name": "stdout"
        }
      ]
    },
    {
      "cell_type": "code",
      "metadata": {
        "id": "kD9BffaOXtT2",
        "colab": {
          "base_uri": "https://localhost:8080/",
          "height": 543
        },
        "outputId": "2e295b1d-d025-4ab4-c47d-2cb2722a21a3"
      },
      "source": [
        "import seaborn as sns\n",
        "\n",
        "_, ax = plt.subplots(1, 1, figsize=(22, 8))\n",
        "sns.countplot(data=DATASET_01, x=\"target\", ax=ax);\n",
        "plt.xticks(rotation=90);"
      ],
      "execution_count": 9,
      "outputs": [
        {
          "output_type": "display_data",
          "data": {
            "image/png": "[encoded data removed]",
            "text/plain": [
              "<Figure size 1584x576 with 1 Axes>"
            ]
          },
          "metadata": {
            "tags": [],
            "needs_background": "light"
          }
        }
      ]
    },
    {
      "cell_type": "markdown",
      "metadata": {
        "id": "nXu2FJYvXwN6"
      },
      "source": [
        "The distibution across all the classes is exactly same. This is a good thing because in this way our model will be less prone to overfitting for a prticular class. We have around 40 Images for each class, which is way less data than I would have preferred. We might overfit the training data due to lack of data."
      ]
    },
    {
      "cell_type": "markdown",
      "metadata": {
        "id": "_6rmhTSKYASE"
      },
      "source": [
        "### Data Loading"
      ]
    },
    {
      "cell_type": "markdown",
      "metadata": {
        "id": "7mT-BtUiYCqe"
      },
      "source": [
        "Since, in this task in am going to be using `PyTorch`, before we can directly start training the `CNN network`, we need to get our data into `Dataset` and `DataLoader`."
      ]
    },
    {
      "cell_type": "code",
      "metadata": {
        "id": "LXuQWbBuYEXs"
      },
      "source": [
        "import albumentations as A\n",
        "import cv2\n",
        "import torchvision.transforms as T\n",
        "from albumentations.pytorch import ToTensorV2\n",
        "from PIL import Image\n",
        "from sklearn.model_selection import train_test_split\n",
        "from sklearn.preprocessing import LabelEncoder\n",
        "from torch.utils.data import DataLoader, Dataset\n",
        "from torchvision.utils import make_grid"
      ],
      "execution_count": 10,
      "outputs": []
    },
    {
      "cell_type": "markdown",
      "metadata": {
        "id": "uf5eLkaHYF9w"
      },
      "source": [
        "We also need to encode our string labels into interger labels. For this we will use the `LabelEncoder()` from scikit-learn."
      ]
    },
    {
      "cell_type": "code",
      "metadata": {
        "id": "eVIXgw04YJ5x",
        "colab": {
          "base_uri": "https://localhost:8080/",
          "height": 204
        },
        "outputId": "f77e58fb-4ac5-4f53-8c4f-1ae610bd4b7a"
      },
      "source": [
        "encoder = LabelEncoder()\n",
        "encoder.fit(unq_cls)\n",
        "\n",
        "def encode_label(x):\n",
        "    \"Encoder `x`, given x is a scalar value\"\n",
        "    return encoder.transform([x]).item()\n",
        "\n",
        "CLASS_MAP = L(list(encoder.classes_)).map_dict(encode_label)\n",
        "CLASS_MAP = {k:v for v, k in CLASS_MAP.items()}\n",
        "\n",
        "DATASET_01[\"cat_label\"] = DATASET_01[\"target\"].map(encode_label)\n",
        "DATASET_01.head()"
      ],
      "execution_count": 11,
      "outputs": [
        {
          "output_type": "execute_result",
          "data": {
            "text/html": [
              "<div>\n",
              "<style scoped>\n",
              "    .dataframe tbody tr th:only-of-type {\n",
              "        vertical-align: middle;\n",
              "    }\n",
              "\n",
              "    .dataframe tbody tr th {\n",
              "        vertical-align: top;\n",
              "    }\n",
              "\n",
              "    .dataframe thead th {\n",
              "        text-align: right;\n",
              "    }\n",
              "</style>\n",
              "<table border=\"1\" class=\"dataframe\">\n",
              "  <thead>\n",
              "    <tr style=\"text-align: right;\">\n",
              "      <th></th>\n",
              "      <th>image_id</th>\n",
              "      <th>target</th>\n",
              "      <th>cat_label</th>\n",
              "    </tr>\n",
              "  </thead>\n",
              "  <tbody>\n",
              "    <tr>\n",
              "      <th>0</th>\n",
              "      <td>data/train/Sample004/img004-001.png</td>\n",
              "      <td>Sample004</td>\n",
              "      <td>3</td>\n",
              "    </tr>\n",
              "    <tr>\n",
              "      <th>1</th>\n",
              "      <td>data/train/Sample035/img035-004.png</td>\n",
              "      <td>Sample035</td>\n",
              "      <td>34</td>\n",
              "    </tr>\n",
              "    <tr>\n",
              "      <th>2</th>\n",
              "      <td>data/train/Sample043/img043-008.png</td>\n",
              "      <td>Sample043</td>\n",
              "      <td>42</td>\n",
              "    </tr>\n",
              "    <tr>\n",
              "      <th>3</th>\n",
              "      <td>data/train/Sample046/img046-005.png</td>\n",
              "      <td>Sample046</td>\n",
              "      <td>45</td>\n",
              "    </tr>\n",
              "    <tr>\n",
              "      <th>4</th>\n",
              "      <td>data/train/Sample025/img025-050.png</td>\n",
              "      <td>Sample025</td>\n",
              "      <td>24</td>\n",
              "    </tr>\n",
              "  </tbody>\n",
              "</table>\n",
              "</div>"
            ],
            "text/plain": [
              "                              image_id     target  cat_label\n",
              "0  data/train/Sample004/img004-001.png  Sample004          3\n",
              "1  data/train/Sample035/img035-004.png  Sample035         34\n",
              "2  data/train/Sample043/img043-008.png  Sample043         42\n",
              "3  data/train/Sample046/img046-005.png  Sample046         45\n",
              "4  data/train/Sample025/img025-050.png  Sample025         24"
            ]
          },
          "metadata": {
            "tags": []
          },
          "execution_count": 11
        }
      ]
    },
    {
      "cell_type": "markdown",
      "metadata": {
        "id": "75E8ot1jjNyw"
      },
      "source": [
        "Save a copy of the `CLASS_MAP` which stores the mapping of `classes` and `class ids`"
      ]
    },
    {
      "cell_type": "code",
      "metadata": {
        "id": "cyUFNlVxjQ1f"
      },
      "source": [
        "import json\n",
        "\n",
        "with open(\"data/class_map_ds01.json\", 'w') as f:\n",
        "    json.dump(CLASS_MAP, f)"
      ],
      "execution_count": 12,
      "outputs": []
    },
    {
      "cell_type": "markdown",
      "metadata": {
        "id": "InRu75JbYS6D"
      },
      "source": [
        "Let's also create a Training and Validation split on the data.\n",
        "\n",
        "Why we need a different training and validation split for the data ?\n",
        "\n",
        "This is so that we don't inadvertently overfit, train a model to work well only on our training data. For this purpose we will compute metric over on the validation data. During the training phase the model will see only the training data. The Validation data will remain separate and will only be used for calculation of the *metric*. "
      ]
    },
    {
      "cell_type": "code",
      "metadata": {
        "id": "e9YRWmMAYXPu",
        "colab": {
          "base_uri": "https://localhost:8080/"
        },
        "outputId": "3bb0801f-18e6-4db7-cbeb-6e2e58d4d031"
      },
      "source": [
        "TRAIN_DATASET_01, VALID_DATASET_01 = train_test_split(DATASET_01, test_size=0.2, random_state=42, \n",
        "                                                      shuffle=True, stratify=DATASET_01['cat_label'])\n",
        "\n",
        "TRAIN_DATASET_01 = TRAIN_DATASET_01.reset_index(drop=True, inplace=False)\n",
        "VALID_DATASET_01 = VALID_DATASET_01.reset_index(drop=True, inplace=False) \n",
        "\n",
        "print(\"Num Training Examples: \", len(TRAIN_DATASET_01))\n",
        "print(\"Num Validation Examples: \", len(VALID_DATASET_01))"
      ],
      "execution_count": 13,
      "outputs": [
        {
          "output_type": "stream",
          "text": [
            "Num Training Examples:  1984\n",
            "Num Validation Examples:  496\n"
          ],
          "name": "stdout"
        }
      ]
    },
    {
      "cell_type": "markdown",
      "metadata": {
        "id": "-m0bwAFHYbKL"
      },
      "source": [
        "Now we will create a custom `Dataset` obj that can parse the data."
      ]
    },
    {
      "cell_type": "code",
      "metadata": {
        "id": "4tCeY67JYilJ"
      },
      "source": [
        "class PandasDataset(Dataset):\n",
        "    def __init__(self, df:pd.DataFrame, transforms):\n",
        "        self._dataframe  = df\n",
        "        self._transforms = transforms\n",
        "        self._gray_scale = T.Grayscale(num_output_channels=3)\n",
        "    \n",
        "    @property\n",
        "    def transforms(self):\n",
        "        return self._transforms\n",
        "        \n",
        "    def __len__(self):\n",
        "        return len(self._dataframe)\n",
        "    \n",
        "    def __getitem__(self, idx):\n",
        "        im = self._dataframe['image_id'][idx]\n",
        "        \n",
        "        # Load and apply transformations to the Image\n",
        "        im = cv2.imread(im)\n",
        "        im = cv2.cvtColor(im, cv2.COLOR_BGR2RGB)\n",
        "        im = self._transforms(image=im)[\"image\"]\n",
        "\n",
        "        # convert the Images to grayscale Images with 3 dimensions\n",
        "        im = self._gray_scale(im)\n",
        "        \n",
        "        lbl = self._dataframe[\"cat_label\"][idx]   \n",
        "        return im, lbl"
      ],
      "execution_count": 14,
      "outputs": []
    },
    {
      "cell_type": "markdown",
      "metadata": {
        "id": "6NHWPxawYj4I"
      },
      "source": [
        "Lets define what we want our transforms to be -\n",
        "\n",
        "We'll use the presize the images 160 px make things faster still, and will center crop to 128 px.\n",
        "Initially I will not be using any other fancy data augmentations. After the resizing I will normalize the Images by dividing by 255.0 and also converting them to pytorch tensors."
      ]
    },
    {
      "cell_type": "code",
      "metadata": {
        "id": "BsS6h-b9Ymb6"
      },
      "source": [
        "PRESIZE  = 80\n",
        "IMG_SIZE = 64\n",
        "\n",
        "base_tfms = A.Compose([\n",
        "    A.Resize(PRESIZE, PRESIZE, p=1.0),\n",
        "    A.CenterCrop(IMG_SIZE, IMG_SIZE, p=1.0),\n",
        "    A.ToFloat(max_value=255, p=1.0),\n",
        "    ToTensorV2(p=1.0),\n",
        "])"
      ],
      "execution_count": 15,
      "outputs": []
    },
    {
      "cell_type": "markdown",
      "metadata": {
        "id": "EZCN6NMcvwhI"
      },
      "source": [
        "Function to get our data -"
      ]
    },
    {
      "cell_type": "code",
      "metadata": {
        "id": "KqV_2ZmOvvJB"
      },
      "source": [
        "def get_data(transforms = base_tfms, valid_transforms=base_tfms, bs: int = 32):\n",
        "    # instantiate the dataset set obj\n",
        "    train_ds = PandasDataset(df=TRAIN_DATASET_01, transforms=transforms)\n",
        "    valid_ds = PandasDataset(df=VALID_DATASET_01, transforms=valid_transforms)\n",
        "\n",
        "    # create the dataloaders obj\n",
        "    train_dl = DataLoader(train_ds, batch_size=bs, num_workers=num_cpus(), shuffle=True) \n",
        "    valid_dl = DataLoader(valid_ds, batch_size=bs, num_workers=num_cpus(), shuffle=False)\n",
        "    return train_dl, valid_dl"
      ],
      "execution_count": 16,
      "outputs": []
    },
    {
      "cell_type": "markdown",
      "metadata": {
        "id": "w8gP2ClSYq2J"
      },
      "source": [
        "Having a look at the images in our `DataLoader` you can see result of the image transforms:"
      ]
    },
    {
      "cell_type": "code",
      "metadata": {
        "id": "7ceVZHQ6YtWi",
        "colab": {
          "base_uri": "https://localhost:8080/",
          "height": 140
        },
        "outputId": "874124c3-125a-44cd-cc92-8cca77bbd40e"
      },
      "source": [
        "train_dl, valid_dl = get_data(transforms=base_tfms, valid_transforms=base_tfms)\n",
        "\n",
        "ims, lbls = next(iter(train_dl))\n",
        "ims, lbls = ims[:8], lbls[:8]\n",
        "\n",
        "grid = make_grid(ims, normalize=True).permute(1, 2, 0)\n",
        "fig = plt.figure(figsize=(13, 13))\n",
        "plt.imshow(grid) \n",
        "plt.title([CLASS_MAP[o] for o in lbls.data.cpu().numpy()])\n",
        "plt.axis(\"off\");\n",
        "\n",
        "del train_dl, valid_dl"
      ],
      "execution_count": 17,
      "outputs": [
        {
          "output_type": "display_data",
          "data": {
            "image/png": "[encoded data removed]",
            "text/plain": [
              "<Figure size 936x936 with 1 Axes>"
            ]
          },
          "metadata": {
            "tags": [],
            "needs_background": "light"
          }
        }
      ]
    },
    {
      "cell_type": "markdown",
      "metadata": {
        "id": "KD2fNoNqbWv1"
      },
      "source": [
        "### PyTorch Lightning Task -\n",
        "For training I will be using PyTorch Lightning ⚡️. PyTorch Lightning expects the whole training pipeline to be defined under a `LightningModule`. Let's convert our model in a `LightningModule`.\n",
        "\n",
        "For evaluating the model initially I will use the `Accuracy` metric and for loss function i will use the standart `nn.CrossEntropyLoss()` from PyTorch.\n",
        "\n",
        "\n",
        "The code block below create a general PyTorch Lightning Classification Task which helps us iterate different models inside a `LightningModule.`"
      ]
    },
    {
      "cell_type": "code",
      "metadata": {
        "id": "4HPiGTulY7ma",
        "colab": {
          "base_uri": "https://localhost:8080/"
        },
        "outputId": "de3ffd6c-9ea0-401f-e540-e9d156a58ab1"
      },
      "source": [
        "import gc\n",
        "import math\n",
        "from collections import OrderedDict\n",
        "\n",
        "import pytorch_lightning as pl\n",
        "import torch\n",
        "import torch.nn.functional as F\n",
        "from IPython.display import Markdown, display\n",
        "from pytorch_lightning.callbacks import ModelCheckpoint\n",
        "from pytorch_lightning.metrics import functional as FM\n",
        "from torch import nn, optim\n",
        "from torch.nn.utils import spectral_norm\n",
        "\n",
        "from progress import NotebookProgressCallback\n",
        "\n",
        "pl.seed_everything(42)"
      ],
      "execution_count": 18,
      "outputs": [
        {
          "output_type": "stream",
          "text": [
            "Global seed set to 42\n"
          ],
          "name": "stderr"
        },
        {
          "output_type": "execute_result",
          "data": {
            "text/plain": [
              "42"
            ]
          },
          "metadata": {
            "tags": []
          },
          "execution_count": 18
        }
      ]
    },
    {
      "cell_type": "code",
      "metadata": {
        "id": "veOLW0L2btN8"
      },
      "source": [
        "class ClassificationTask(pl.LightningModule):\n",
        "    def __init__(self, model: nn.Module, lr: float, wd: float = 0, criterion: nn.Module = nn.CrossEntropyLoss()):\n",
        "        super().__init__()\n",
        "        self.save_hyperparameters(\"lr\", \"wd\")\n",
        "        self.model = model\n",
        "        self.criterion = criterion\n",
        "        \n",
        "    def forward(self, xb):\n",
        "        \"Same as nn.Module forward\"\n",
        "        return self.model(xb)\n",
        "    \n",
        "    def training_step(self, batch, batch_idx):\n",
        "         x, y = batch\n",
        "         y_hat = self.model(x)\n",
        "         loss = self.criterion(y_hat, y)\n",
        "         self.log(\"train_loss\", loss)\n",
        "         return loss\n",
        "\n",
        "    def validation_step(self, batch, batch_idx, *args, **kwargs):\n",
        "        x, y = batch\n",
        "        y_hat = self.model(x)\n",
        "        loss = self.criterion(y_hat, y)\n",
        "        acc = FM.accuracy(F.softmax(y_hat), y)\n",
        "        metrics = {'val_acc': acc, 'val_loss': loss}\n",
        "        self.log_dict(metrics)\n",
        "        return metrics\n",
        "\n",
        "    def test_step(self, batch, batch_idx, *args, **kwargs):\n",
        "        metrics = self.validation_step(batch, batch_idx, *args, **kwargs)\n",
        "        metrics = {'test_acc': metrics['val_acc'], 'test_loss': metrics['val_loss']}\n",
        "        self.log_dict(metrics)\n",
        "        \n",
        "    def configure_optimizers(self):\n",
        "        \"\"\"\n",
        "        define optimizers and LR schedulers for use in training.\n",
        "        \"\"\"\n",
        "        # default Adam parameters from fast.ai\n",
        "        opt   = optim.AdamW(self.parameters(), lr=self.hparams.lr, weight_decay=self.hparams.wd, betas=(0.9, 0.99), eps=1e-05)\n",
        "        steps = len(self.train_dataloader())\n",
        "        epochs= self.trainer.max_epochs\n",
        "        \n",
        "        scheduler = optim.lr_scheduler.OneCycleLR(opt, max_lr=self.hparams.lr, epochs=epochs, steps_per_epoch=steps)\n",
        "        return [opt], [dict(scheduler=scheduler, interval='step')]"
      ],
      "execution_count": 19,
      "outputs": []
    },
    {
      "cell_type": "markdown",
      "metadata": {
        "id": "oG688lVucgbE"
      },
      "source": [
        "For training I will be using the popular `AdamW + 1cycle` training approach. Here we use the `AdamW` optimizer and `OneCycleLR` scheduler from PyTorch.\n",
        "\n",
        "`AdamW` was inroduced in this [paper](https://arxiv.org/abs/1711.05101). Experiments by the fast.ai group has shown that `AdamW` along with the `1cycle policy` of learning rate scheduling gives very good results. `AdamW` differs from `Adam` is the sense that AdamW uses true weight decay (decay the weights directly) while Adam uses L2 regularization (add the decay to the gradients).\n",
        "\n",
        "The `1cycle policy` was introduced by Leslie N. Smith et al. in [Super-Convergence: Very Fast Training of Neural Networks Using Large Learning Rates](https://arxiv.org/abs/1708.07120).\n",
        "\n",
        "\n",
        "`AdamW + 1cycle` was incremental in fast.ai winning the `DAWNBench` competition."
      ]
    },
    {
      "cell_type": "markdown",
      "metadata": {
        "id": "Ka0ItH0LYuu1"
      },
      "source": [
        "### Benchmark Model\n",
        "First I will let's start by making a good baseline Model and subsequently we will experiment by improving upon this model.\n",
        "\n",
        "Let's first create the building blocks that we will use building our network."
      ]
    },
    {
      "cell_type": "code",
      "metadata": {
        "id": "9pQi76LYY2jp"
      },
      "source": [
        "class ConvBnDropBlock(nn.Sequential):\n",
        "    \"Create sequence of convolutional, Activation, `BatchNorm` & Drouput layers.\"\n",
        "    def __init__(self, in_chans, out_chans, kernel_size, stride=1, dilation=1, \n",
        "                 padding = None, bias=True, act_cls: Callable = nn.ReLU, \n",
        "                 p_drop=0.0, use_bn=True,):\n",
        "\n",
        "        if padding is None: \n",
        "            padding = (kernel_size-1)//2\n",
        "        \n",
        "        layers = []\n",
        "        \n",
        "        conv_layer = nn.Conv2d(in_chans, out_chans, kernel_size, stride, \n",
        "                               dilation=dilation, padding=padding, bias=bias)\n",
        "        \n",
        "        if act_cls is not None:\n",
        "            act_layer = act_cls(inplace=True)\n",
        "        else:\n",
        "            act_layer = nn.Identity()\n",
        "        if use_bn:\n",
        "            norm_layer = nn.BatchNorm2d(out_chans)\n",
        "        else:\n",
        "            norm_layer = nn.Identity()\n",
        "           \n",
        "        layers += [conv_layer, act_layer, norm_layer]\n",
        "        \n",
        "        if p_drop > 0.0:\n",
        "            layers.append(nn.Dropout2d(p=p_drop))\n",
        "            \n",
        "        super(ConvBnDropBlock, self).__init__(*layers)"
      ],
      "execution_count": 20,
      "outputs": []
    },
    {
      "cell_type": "markdown",
      "metadata": {
        "id": "x0wlcZ57kLIX"
      },
      "source": [
        "For this whole experiment my models will be divided into 2 parts a `feature_extractor` and `classifier`. The feature extractor is responsible for generating the feature maps from the Images, while the `classifier` is responsible for final classification.\n",
        "\n",
        "A baseline model will establish a minimum model performance to which all of our other models can be compared, as well as a model architecture that we can use as the basis of study and improvement.\n",
        "\n",
        "A feature extractor of baseline model architecture has been partly inspired from the general architectural principles of the `VGG models` & from this [blog post](https://machinelearningmastery.com/how-to-develop-a-cnn-from-scratch-for-cifar-10-photo-classification/).\n",
        "\n",
        "The architecture involves stacking convolutional layers with small `3×3` filters followed by a activation, batchnorm, dropout.Together, these layers form a block, and these blocks can be repeated where the number of filters in each block is increased with the depth of the network such as 32, 64, 128. The first 2 blocks are followed by a max_pool layer while the 3rd layer is follwed by a `pool_flatten` layer i.e., a combination of  AdaptiveAvgPool2d and flatten layer from pytorch.\n",
        "\n",
        "We use a AdaptiveAvgPool layer so that our network is *fully convolutional* and so can work for any image size that is to say that a model trainined on 64x64 images will also work for 120x120 images.\n",
        "\n",
        "This completes the feature extractor part of the model. For the classifier of the model: first, the feature maps output from the feature extraction part of the model must be flattened.\n",
        "We than use a Dropuout layer followed by a Linear layer to generate the predictions.\n",
        "\n",
        "Let's create the network architecture -"
      ]
    },
    {
      "cell_type": "code",
      "metadata": {
        "id": "cwB7Gpy5ZAeX"
      },
      "source": [
        "class BenchmarkModel(nn.Sequential):\n",
        "    def __init__(self, num_outputs: int):\n",
        "        conv_block_01 = ConvBnDropBlock(in_chans=3, out_chans=32, bias=False, \n",
        "                                        use_bn=True, act_cls=nn.ReLU, p_drop=0.25, \n",
        "                                        kernel_size=3)\n",
        "        conv_block_02 = ConvBnDropBlock(in_chans=32, out_chans=32, bias=False, \n",
        "                                        use_bn=True, act_cls=None, p_drop=0.25, \n",
        "                                        kernel_size=3)\n",
        "        pool_block_0  = nn.Sequential(nn.MaxPool2d(2), nn.ReLU())\n",
        "\n",
        "        conv_block_11 = ConvBnDropBlock(in_chans=32, out_chans=64, bias=False, \n",
        "                                        use_bn=True, act_cls=nn.ReLU, p_drop=0.25, \n",
        "                                        kernel_size=3)\n",
        "        conv_block_12 = ConvBnDropBlock(in_chans=64, out_chans=64, bias=False, \n",
        "                                        use_bn=True, act_cls=None, p_drop=0.25, \n",
        "                                        kernel_size=3)\n",
        "        pool_block_1  = nn.Sequential(nn.MaxPool2d(2), nn.ReLU())\n",
        "\n",
        "        conv_block_21 = ConvBnDropBlock(in_chans=64, out_chans=128, bias=False, \n",
        "                                        use_bn=True, act_cls=nn.ReLU, p_drop=0.25, \n",
        "                                        kernel_size=3)\n",
        "        conv_block_22 = ConvBnDropBlock(in_chans=128, out_chans=128, bias=False, stride=2,\n",
        "                                        use_bn=True, act_cls=nn.ReLU, p_drop=0.25, \n",
        "                                        kernel_size=3, padding=0)\n",
        "        \n",
        "        # ensemble the model building blocks\n",
        "        block1 = nn.Sequential(conv_block_01, conv_block_02, pool_block_0)\n",
        "        block2 = nn.Sequential(conv_block_11, conv_block_12, pool_block_1)\n",
        "        block3 = nn.Sequential(conv_block_21, conv_block_22)\n",
        "        pool_flatten = nn.Sequential(nn.AdaptiveAvgPool2d(1), nn.Flatten())\n",
        "        fc = nn.Sequential(nn.Dropout(0.3), nn.Linear(128, num_outputs, bias=False))\n",
        "\n",
        "        layers = [block1, block2, block3, pool_flatten, fc]\n",
        "        super(BenchmarkModel, self).__init__(*layers)"
      ],
      "execution_count": 21,
      "outputs": []
    },
    {
      "cell_type": "markdown",
      "metadata": {
        "id": "IdNxn-amZEhK"
      },
      "source": [
        "*Lets Get Training*\n",
        "\n",
        "----\n",
        "\n",
        "Train the model initially for 20 epochs and view preformance. I found that 20 epochs was a good place to stop as the model started to overfit while the accuracy didn't improve further and any lower than 20 epochs the model doesn't convergerce.\n",
        "\n",
        "\n",
        "I will also be using `ModelCheckpoint` callback from pytorch lightning in all of my experiments to that i will be easily able to load my best checkpoints and compare my performaces.\n",
        "\n",
        "\n",
        "`3e-3` is often a good learning rate for CNNs, so let's try that:"
      ]
    },
    {
      "cell_type": "code",
      "metadata": {
        "id": "CbttRUWmScwB"
      },
      "source": [
        "# BenchmarkModel(len(CLASS_MAP))"
      ],
      "execution_count": 22,
      "outputs": []
    },
    {
      "cell_type": "code",
      "metadata": {
        "id": "_2OfLQXxZHcQ",
        "colab": {
          "base_uri": "https://localhost:8080/",
          "height": 1000
        },
        "outputId": "ca54a745-1556-460f-9203-4217852ee0a9"
      },
      "source": [
        "exp_name = \"stage-01-cnn-bench\"\n",
        "train_dl, valid_dl = get_data(base_tfms, valid_transforms=base_tfms, bs=32)\n",
        "\n",
        "# instantiate the model\n",
        "model = BenchmarkModel(num_outputs=len(CLASS_MAP))\n",
        "\n",
        "# Put the model into Lightning-Task\n",
        "task = ClassificationTask(model, lr=3e-03)\n",
        "\n",
        "cbs = [\n",
        "    ModelCheckpoint(monitor=\"val_acc\", filename=exp_name, dirpath=os.getcwd()), \n",
        "    NotebookProgressCallback(),\n",
        "]\n",
        "\n",
        "trainer = pl.Trainer(max_epochs=20, callbacks=cbs, gpus=1, precision=16)\n",
        "trainer.fit(task, train_dataloader=train_dl, val_dataloaders=valid_dl)\n",
        "\n",
        "# Evalute the final performance of the Model\n",
        "tst_res = trainer.test(ckpt_path=\"best\", test_dataloaders=[train_dl, valid_dl], verbose=False)\n",
        "trn_acc, val_acc = tst_res[0][\"test_acc/dataloader_idx_0\"], tst_res[1][\"test_acc/dataloader_idx_1\"]\n",
        "\n",
        "display(Markdown(f\"**Final Training Accuracy: {round(trn_acc, 3)}**\"))\n",
        "display(Markdown(f\"**Final Validation Accuracy: {round(val_acc, 3)}**\"))"
      ],
      "execution_count": 23,
      "outputs": [
        {
          "output_type": "stream",
          "text": [
            "GPU available: True, used: True\n",
            "TPU available: False, using: 0 TPU cores\n",
            "Using native 16bit precision.\n",
            "LOCAL_RANK: 0 - CUDA_VISIBLE_DEVICES: [0]\n",
            "\n",
            "  | Name      | Type             | Params\n",
            "-----------------------------------------------\n",
            "0 | model     | BenchmarkModel   | 295 K \n",
            "1 | criterion | CrossEntropyLoss | 0     \n",
            "-----------------------------------------------\n",
            "295 K     Trainable params\n",
            "0         Non-trainable params\n",
            "295 K     Total params\n",
            "1.182     Total estimated model params size (MB)\n"
          ],
          "name": "stderr"
        },
        {
          "output_type": "display_data",
          "data": {
            "text/html": [
              ""
            ],
            "text/plain": [
              "<IPython.core.display.HTML object>"
            ]
          },
          "metadata": {
            "tags": []
          }
        },
        {
          "output_type": "display_data",
          "data": {
            "text/html": [
              "\n",
              "    <div>\n",
              "        <style>\n",
              "            progress {\n",
              "                border: none;\n",
              "                background-size: auto;\n",
              "            }\n",
              "        </style>\n",
              "      Training\n",
              "      <progress value='1240' max='1240' style='width:300px; height:20px; vertical-align: middle;'></progress>\n",
              "      [1240/1240 06:48, Epoch 19 {'loss': '1.09', 'v_num': 0}]\n",
              "    </div>\n",
              "    <table border=\"1\" class=\"dataframe\">\n",
              "  <thead>\n",
              "    <tr style=\"text-align: left;\">\n",
              "      <th>epoch</th>\n",
              "      <th>val_acc</th>\n",
              "      <th>val_loss</th>\n",
              "      <th>train_loss</th>\n",
              "      <th>time</th>\n",
              "      <th>samples/s</th>\n",
              "    </tr>\n",
              "  </thead>\n",
              "  <tbody>\n",
              "    <tr>\n",
              "      <td>0</td>\n",
              "      <td>0.016129</td>\n",
              "      <td>4.165741</td>\n",
              "      <td>4.005031</td>\n",
              "      <td>20.166400</td>\n",
              "      <td>3.867800</td>\n",
              "    </tr>\n",
              "    <tr>\n",
              "      <td>1</td>\n",
              "      <td>0.024194</td>\n",
              "      <td>4.084889</td>\n",
              "      <td>4.055239</td>\n",
              "      <td>20.158800</td>\n",
              "      <td>3.869300</td>\n",
              "    </tr>\n",
              "    <tr>\n",
              "      <td>2</td>\n",
              "      <td>0.034274</td>\n",
              "      <td>3.957995</td>\n",
              "      <td>3.986959</td>\n",
              "      <td>20.163300</td>\n",
              "      <td>3.868400</td>\n",
              "    </tr>\n",
              "    <tr>\n",
              "      <td>3</td>\n",
              "      <td>0.104839</td>\n",
              "      <td>3.679163</td>\n",
              "      <td>3.799083</td>\n",
              "      <td>20.683200</td>\n",
              "      <td>3.771200</td>\n",
              "    </tr>\n",
              "    <tr>\n",
              "      <td>4</td>\n",
              "      <td>0.127016</td>\n",
              "      <td>3.430405</td>\n",
              "      <td>3.481371</td>\n",
              "      <td>20.189000</td>\n",
              "      <td>3.863500</td>\n",
              "    </tr>\n",
              "    <tr>\n",
              "      <td>5</td>\n",
              "      <td>0.239919</td>\n",
              "      <td>3.078896</td>\n",
              "      <td>3.149173</td>\n",
              "      <td>20.507400</td>\n",
              "      <td>3.803500</td>\n",
              "    </tr>\n",
              "    <tr>\n",
              "      <td>6</td>\n",
              "      <td>0.375000</td>\n",
              "      <td>2.740639</td>\n",
              "      <td>2.871879</td>\n",
              "      <td>20.422200</td>\n",
              "      <td>3.819400</td>\n",
              "    </tr>\n",
              "    <tr>\n",
              "      <td>7</td>\n",
              "      <td>0.500000</td>\n",
              "      <td>2.207591</td>\n",
              "      <td>2.323129</td>\n",
              "      <td>20.641200</td>\n",
              "      <td>3.778900</td>\n",
              "    </tr>\n",
              "    <tr>\n",
              "      <td>8</td>\n",
              "      <td>0.512097</td>\n",
              "      <td>2.067173</td>\n",
              "      <td>2.420171</td>\n",
              "      <td>20.327700</td>\n",
              "      <td>3.837100</td>\n",
              "    </tr>\n",
              "    <tr>\n",
              "      <td>9</td>\n",
              "      <td>0.625000</td>\n",
              "      <td>1.713780</td>\n",
              "      <td>1.786276</td>\n",
              "      <td>20.364700</td>\n",
              "      <td>3.830200</td>\n",
              "    </tr>\n",
              "    <tr>\n",
              "      <td>10</td>\n",
              "      <td>0.685484</td>\n",
              "      <td>1.413857</td>\n",
              "      <td>1.837183</td>\n",
              "      <td>20.441000</td>\n",
              "      <td>3.815900</td>\n",
              "    </tr>\n",
              "    <tr>\n",
              "      <td>11</td>\n",
              "      <td>0.709677</td>\n",
              "      <td>1.295217</td>\n",
              "      <td>1.423525</td>\n",
              "      <td>20.366500</td>\n",
              "      <td>3.829800</td>\n",
              "    </tr>\n",
              "    <tr>\n",
              "      <td>12</td>\n",
              "      <td>0.735887</td>\n",
              "      <td>1.221455</td>\n",
              "      <td>1.394401</td>\n",
              "      <td>20.466400</td>\n",
              "      <td>3.811100</td>\n",
              "    </tr>\n",
              "    <tr>\n",
              "      <td>13</td>\n",
              "      <td>0.766129</td>\n",
              "      <td>1.092865</td>\n",
              "      <td>1.401184</td>\n",
              "      <td>20.335300</td>\n",
              "      <td>3.835700</td>\n",
              "    </tr>\n",
              "    <tr>\n",
              "      <td>14</td>\n",
              "      <td>0.758065</td>\n",
              "      <td>1.067364</td>\n",
              "      <td>1.319750</td>\n",
              "      <td>20.447200</td>\n",
              "      <td>3.814700</td>\n",
              "    </tr>\n",
              "    <tr>\n",
              "      <td>15</td>\n",
              "      <td>0.760081</td>\n",
              "      <td>1.001787</td>\n",
              "      <td>1.121193</td>\n",
              "      <td>20.543400</td>\n",
              "      <td>3.796800</td>\n",
              "    </tr>\n",
              "    <tr>\n",
              "      <td>16</td>\n",
              "      <td>0.747984</td>\n",
              "      <td>0.989648</td>\n",
              "      <td>1.066340</td>\n",
              "      <td>20.278600</td>\n",
              "      <td>3.846400</td>\n",
              "    </tr>\n",
              "    <tr>\n",
              "      <td>17</td>\n",
              "      <td>0.778226</td>\n",
              "      <td>0.960525</td>\n",
              "      <td>0.939700</td>\n",
              "      <td>20.539300</td>\n",
              "      <td>3.797600</td>\n",
              "    </tr>\n",
              "    <tr>\n",
              "      <td>18</td>\n",
              "      <td>0.774194</td>\n",
              "      <td>0.952818</td>\n",
              "      <td>1.127597</td>\n",
              "      <td>20.681800</td>\n",
              "      <td>3.771400</td>\n",
              "    </tr>\n",
              "    <tr>\n",
              "      <td>19</td>\n",
              "      <td>0.794355</td>\n",
              "      <td>0.955149</td>\n",
              "      <td>1.114097</td>\n",
              "      <td>20.497900</td>\n",
              "      <td>3.805300</td>\n",
              "    </tr>\n",
              "  </tbody>\n",
              "</table><p>"
            ],
            "text/plain": [
              "<IPython.core.display.HTML object>"
            ]
          },
          "metadata": {
            "tags": []
          }
        },
        {
          "output_type": "stream",
          "text": [
            "LOCAL_RANK: 0 - CUDA_VISIBLE_DEVICES: [0]\n"
          ],
          "name": "stderr"
        },
        {
          "output_type": "display_data",
          "data": {
            "text/html": [
              ""
            ],
            "text/plain": [
              "<IPython.core.display.HTML object>"
            ]
          },
          "metadata": {
            "tags": []
          }
        },
        {
          "output_type": "display_data",
          "data": {
            "text/markdown": "**Final Training Accuracy: 0.828**",
            "text/plain": [
              "<IPython.core.display.Markdown object>"
            ]
          },
          "metadata": {
            "tags": []
          }
        },
        {
          "output_type": "display_data",
          "data": {
            "text/markdown": "**Final Validation Accuracy: 0.794**",
            "text/plain": [
              "<IPython.core.display.Markdown object>"
            ]
          },
          "metadata": {
            "tags": []
          }
        }
      ]
    },
    {
      "cell_type": "markdown",
      "metadata": {
        "id": "IRAlFbD1ZeYh"
      },
      "source": [
        "That's a pretty good start, considering we have to pick the correct one of 62 categories, and we're training from scratch. So in the subsequent sections we will explore tricks that can probably help us to improve our results."
      ]
    },
    {
      "cell_type": "code",
      "metadata": {
        "id": "wqlNrojraX5-"
      },
      "source": [
        "try:\n",
        "    del model, trainer, task\n",
        "except: \n",
        "    pass\n",
        "try:\n",
        "    del train_dl, valid_dl\n",
        "except: \n",
        "    pass\n",
        "gc.collect()\n",
        "torch.cuda.empty_cache()"
      ],
      "execution_count": 24,
      "outputs": []
    },
    {
      "cell_type": "markdown",
      "metadata": {
        "id": "Bms8tB0La3Z4"
      },
      "source": [
        "## Improving the Benchmark \n",
        "> This section will explore various techniques which will hopefully help us in improving our baseline model\n",
        "\n",
        "---"
      ]
    },
    {
      "cell_type": "markdown",
      "metadata": {
        "id": "vH0VC7qNbD1S"
      },
      "source": [
        "### Residual Blocks -\n",
        "\n",
        "In our above trained `CNN` model We can do way better than the current results using a deeper mode, but just stacking new layers won't really improve our results.\n",
        "In this experiment we will explore the preformance of our model by introducing `residual connection`s. It was introduced in 2015 by Kaiming He et al. in the article \"[Deep Residual Learning for Image Recognition](https://arxiv.org/pdf/1512.03385.pdf)\". Residual Connections are the main building blocks of the ResNet family of networks, which are one of the most popular CNN Architectures."
      ]
    },
    {
      "cell_type": "markdown",
      "metadata": {
        "id": "Fq6vibo_vvi1"
      },
      "source": [
        "Here's the definition of a simple ResNet block -"
      ]
    },
    {
      "cell_type": "code",
      "metadata": {
        "id": "IGhgvOpXdjjG"
      },
      "source": [
        "class ResBlock(nn.Module):\n",
        "    \"Creates a simple Residual Block\"\n",
        "    def __init__(self, in_chans: int, out_chans: int, \n",
        "                 kernel_size: int, stride: int = 1, act_cls: Callable = nn.ReLU):\n",
        "        \n",
        "        super(ResBlock, self).__init__()\n",
        "        self.idconv = None\n",
        "        \n",
        "        self.block1 = ConvBnDropBlock(in_chans=in_chans, out_chans=out_chans, kernel_size=kernel_size, \n",
        "                                      stride=stride, padding=None, use_bn=True, act_cls=act_cls, \n",
        "                                      p_drop=0.0, bias=False)\n",
        "        \n",
        "        self.block2 = ConvBnDropBlock(in_chans=out_chans, out_chans=out_chans, kernel_size=kernel_size, \n",
        "                                      stride=1, padding=None, use_bn=True, act_cls=None, p_drop=0.0, bias=False)\n",
        "        \n",
        "        self.act_cls = act_cls(inplace=True)\n",
        "        \n",
        "        if in_chans != out_chans or stride != 1:\n",
        "            self.idconv = ConvBnDropBlock(in_chans=in_chans, out_chans=out_chans, kernel_size=1, \n",
        "                                          stride=stride, padding=0, use_bn=True, act_cls=None, \n",
        "                                          p_drop=0.0, bias=False)\n",
        "        \n",
        "        for m in self.modules():\n",
        "            if isinstance(m, nn.Conv2d):\n",
        "                nn.init.kaiming_normal_(m.weight, mode='fan_out', nonlinearity='relu')\n",
        "            elif isinstance(m, nn.BatchNorm2d):\n",
        "                nn.init.constant_(m.weight, 1)\n",
        "                nn.init.constant_(m.bias, 0)\n",
        "         \n",
        "        # Zero-initialize the last BN in each residual branch,\n",
        "        # so that the residual branch starts with zeros, and each residual block behaves like an identity.\n",
        "        # This improves the model by 0.2~0.3% according to https://arxiv.org/abs/1706.02677\n",
        "        for m in self.block2.modules():\n",
        "            if isinstance(m, nn.BatchNorm2d):\n",
        "                nn.init.constant_(m.weight, 0)\n",
        "                    \n",
        "    def forward(self, x):\n",
        "        identity = x\n",
        "        out = self.block1(x)\n",
        "        out = self.block2(out)\n",
        "        \n",
        "        if self.idconv is not None:\n",
        "            identity = self.idconv(x)\n",
        "        \n",
        "        out += identity\n",
        "        return self.act_cls(out)"
      ],
      "execution_count": 25,
      "outputs": []
    },
    {
      "cell_type": "markdown",
      "metadata": {
        "id": "9YmH2dP_jcg9"
      },
      "source": [
        "Why use `idconv` block ?\n",
        ">The issue is that with a stride of, say, 2 on one of the convolutions, the grid size of the output activations will be half the size on each axis of the input. So then we can't add that back to x in forward because x and the output activations have different dimensions. The same basic issue occurs if `in_chans`!=`out_chans`: the shapes of the input and output connections won't allow us to add them together. So `idconv` works as a identity map that matches the dimenstions of x to the ouput of `self.block2(self.block1(x))`. `idconv` increases the `channels` out the x and downsamples it with stride if required."
      ]
    },
    {
      "cell_type": "markdown",
      "metadata": {
        "id": "F6V7-ww3wA8b"
      },
      "source": [
        "We can now proceed towards modifying our BenchMark model. Let's add some skip connections into this network. We remove modify the 1st conv block of the model to resemble the layer in a typical `ResNet` Model, i.e, a conv layer (output_channels=64, kernel_size=7, stride=2) followed by a batch_normalization, activation and a MaxPooling layer. We then add the residual blocks of the model. The classifier of the model remains same.\n",
        "\n"
      ]
    },
    {
      "cell_type": "code",
      "metadata": {
        "id": "-N0geEarjcry"
      },
      "source": [
        "class ResModel(nn.Sequential):\n",
        "    def __init__(self, num_outputs: int):\n",
        "        conv = ConvBnDropBlock(in_chans=3, out_chans=64, kernel_size=7, p_drop=0, stride=2, \n",
        "                               act_cls=nn.ReLU, bias=False, use_bn=True)\n",
        "        pool = nn.MaxPool2d(kernel_size=3, stride=2, padding=1)\n",
        "        conv_stem  = nn.Sequential(conv, pool)\n",
        "        block1 = ResBlock(in_chans=64, out_chans=64,  stride=1, kernel_size=3, act_cls=nn.ReLU)\n",
        "        block2 = ResBlock(in_chans=64, out_chans=128, stride=2, kernel_size=3, act_cls=nn.ReLU)\n",
        "        block3 = ResBlock(in_chans=128,out_chans=256, stride=2, kernel_size=3, act_cls=nn.ReLU)\n",
        "        pool_flatten = nn.Sequential(OrderedDict(pool_layer=nn.AdaptiveAvgPool2d(1), flatten=nn.Flatten()))\n",
        "        fc = nn.Sequential(nn.Dropout(0.25), nn.Linear(256, num_outputs))\n",
        "        layers = OrderedDict(stem=conv_stem, block1=block1, block2=block2, block3=block3, pool_flatten=pool_flatten, fc=fc)\n",
        "        super(ResModel, self).__init__(layers)"
      ],
      "execution_count": 26,
      "outputs": []
    },
    {
      "cell_type": "markdown",
      "metadata": {
        "id": "w9O0g6ihyEpp"
      },
      "source": [
        "Since this is a larger model than the previous one I will reduce the number of training epochs so that our model does not overfit the training data and quick experimentation purposes.\n",
        "\n",
        "Let's train it for a little bit and see how it fares compared to the previous model - "
      ]
    },
    {
      "cell_type": "code",
      "metadata": {
        "id": "LuvF6ax3jc1h",
        "colab": {
          "base_uri": "https://localhost:8080/",
          "height": 630
        },
        "outputId": "170848ac-c128-455c-e843-3633944cad65"
      },
      "source": [
        "exp_name = \"stage-01-resblock\"\n",
        "train_dl, valid_dl = get_data(base_tfms, valid_transforms=base_tfms, bs=32)\n",
        "\n",
        "# instantiate the model\n",
        "model = ResModel(num_outputs=len(CLASS_MAP))\n",
        "\n",
        "# Put the model into Lightning-Task\n",
        "task = ClassificationTask(model, lr=3e-03)\n",
        "\n",
        "cbs = [\n",
        "    ModelCheckpoint(monitor=\"val_acc\", filename=exp_name, dirpath=os.getcwd()), \n",
        "    NotebookProgressCallback(),\n",
        "]\n",
        "\n",
        "trainer = pl.Trainer(max_epochs=8, callbacks=cbs, gpus=1, precision=16, deterministic=True)\n",
        "trainer.fit(task, train_dataloader=train_dl, val_dataloaders=valid_dl)\n",
        "\n",
        "# Evalute the final performance of the Model\n",
        "tst_res = trainer.test(ckpt_path=\"best\", test_dataloaders=[train_dl, valid_dl], verbose=False)\n",
        "trn_acc, val_acc = tst_res[0][\"test_acc/dataloader_idx_0\"], tst_res[1][\"test_acc/dataloader_idx_1\"]\n",
        "\n",
        "display(Markdown(f\"**Final Training Accuracy: {round(trn_acc, 3)}**\"))\n",
        "display(Markdown(f\"**Final Validation Accuracy: {round(val_acc, 3)}**\"))"
      ],
      "execution_count": 27,
      "outputs": [
        {
          "output_type": "stream",
          "text": [
            "GPU available: True, used: True\n",
            "TPU available: False, using: 0 TPU cores\n",
            "Using native 16bit precision.\n",
            "LOCAL_RANK: 0 - CUDA_VISIBLE_DEVICES: [0]\n",
            "\n",
            "  | Name      | Type             | Params\n",
            "-----------------------------------------------\n",
            "0 | model     | ResModel         | 1.2 M \n",
            "1 | criterion | CrossEntropyLoss | 0     \n",
            "-----------------------------------------------\n",
            "1.2 M     Trainable params\n",
            "0         Non-trainable params\n",
            "1.2 M     Total params\n",
            "4.995     Total estimated model params size (MB)\n"
          ],
          "name": "stderr"
        },
        {
          "output_type": "display_data",
          "data": {
            "text/html": [
              ""
            ],
            "text/plain": [
              "<IPython.core.display.HTML object>"
            ]
          },
          "metadata": {
            "tags": []
          }
        },
        {
          "output_type": "display_data",
          "data": {
            "text/html": [
              "\n",
              "    <div>\n",
              "        <style>\n",
              "            progress {\n",
              "                border: none;\n",
              "                background-size: auto;\n",
              "            }\n",
              "        </style>\n",
              "      Training\n",
              "      <progress value='496' max='496' style='width:300px; height:20px; vertical-align: middle;'></progress>\n",
              "      [496/496 02:46, Epoch 7 {'loss': '0.325', 'v_num': 1}]\n",
              "    </div>\n",
              "    <table border=\"1\" class=\"dataframe\">\n",
              "  <thead>\n",
              "    <tr style=\"text-align: left;\">\n",
              "      <th>epoch</th>\n",
              "      <th>val_acc</th>\n",
              "      <th>val_loss</th>\n",
              "      <th>train_loss</th>\n",
              "      <th>time</th>\n",
              "      <th>samples/s</th>\n",
              "    </tr>\n",
              "  </thead>\n",
              "  <tbody>\n",
              "    <tr>\n",
              "      <td>0</td>\n",
              "      <td>0.028226</td>\n",
              "      <td>4.102634</td>\n",
              "      <td>4.063929</td>\n",
              "      <td>20.258000</td>\n",
              "      <td>3.850300</td>\n",
              "    </tr>\n",
              "    <tr>\n",
              "      <td>1</td>\n",
              "      <td>0.024194</td>\n",
              "      <td>4.625007</td>\n",
              "      <td>3.525003</td>\n",
              "      <td>20.918500</td>\n",
              "      <td>3.728700</td>\n",
              "    </tr>\n",
              "    <tr>\n",
              "      <td>2</td>\n",
              "      <td>0.330645</td>\n",
              "      <td>2.600448</td>\n",
              "      <td>2.461618</td>\n",
              "      <td>20.941700</td>\n",
              "      <td>3.724600</td>\n",
              "    </tr>\n",
              "    <tr>\n",
              "      <td>3</td>\n",
              "      <td>0.469758</td>\n",
              "      <td>1.895628</td>\n",
              "      <td>1.286858</td>\n",
              "      <td>20.880200</td>\n",
              "      <td>3.735600</td>\n",
              "    </tr>\n",
              "    <tr>\n",
              "      <td>4</td>\n",
              "      <td>0.612903</td>\n",
              "      <td>1.393237</td>\n",
              "      <td>0.908120</td>\n",
              "      <td>20.838800</td>\n",
              "      <td>3.743000</td>\n",
              "    </tr>\n",
              "    <tr>\n",
              "      <td>5</td>\n",
              "      <td>0.758065</td>\n",
              "      <td>0.820465</td>\n",
              "      <td>0.558083</td>\n",
              "      <td>20.985900</td>\n",
              "      <td>3.716800</td>\n",
              "    </tr>\n",
              "    <tr>\n",
              "      <td>6</td>\n",
              "      <td>0.796371</td>\n",
              "      <td>0.699350</td>\n",
              "      <td>0.285755</td>\n",
              "      <td>20.905300</td>\n",
              "      <td>3.731100</td>\n",
              "    </tr>\n",
              "    <tr>\n",
              "      <td>7</td>\n",
              "      <td>0.804435</td>\n",
              "      <td>0.674905</td>\n",
              "      <td>0.214032</td>\n",
              "      <td>20.657800</td>\n",
              "      <td>3.775800</td>\n",
              "    </tr>\n",
              "  </tbody>\n",
              "</table><p>"
            ],
            "text/plain": [
              "<IPython.core.display.HTML object>"
            ]
          },
          "metadata": {
            "tags": []
          }
        },
        {
          "output_type": "stream",
          "text": [
            "LOCAL_RANK: 0 - CUDA_VISIBLE_DEVICES: [0]\n"
          ],
          "name": "stderr"
        },
        {
          "output_type": "display_data",
          "data": {
            "text/html": [
              ""
            ],
            "text/plain": [
              "<IPython.core.display.HTML object>"
            ]
          },
          "metadata": {
            "tags": []
          }
        },
        {
          "output_type": "display_data",
          "data": {
            "text/markdown": "**Final Training Accuracy: 0.966**",
            "text/plain": [
              "<IPython.core.display.Markdown object>"
            ]
          },
          "metadata": {
            "tags": []
          }
        },
        {
          "output_type": "display_data",
          "data": {
            "text/markdown": "**Final Validation Accuracy: 0.804**",
            "text/plain": [
              "<IPython.core.display.Markdown object>"
            ]
          },
          "metadata": {
            "tags": []
          }
        }
      ]
    },
    {
      "cell_type": "markdown",
      "metadata": {
        "id": "l43AbZbd0tIu"
      },
      "source": [
        "The accuracy of our model has increased by adding the skip connections. We were able to improve our accuracy in a fewer epochs compared to the previous model.\n",
        "\n",
        "If we had trained more I am not sure sure if the model performance would have increased on the validation data. This is because the model is overfitting on the training data and we do not want that. What we want is, that the model performs well in unseen data (or the validation dataset)."
      ]
    },
    {
      "cell_type": "markdown",
      "metadata": {
        "id": "uQBcyfSoMNpR"
      },
      "source": [
        "> Note: At this point it is crearly evident that currently our model is overfitting on the training data. But we will work on improving overfitting. First I want to try different model architectures and find the most optimal after which I will use *regularization* techniques to further improve the model and make it more robust."
      ]
    },
    {
      "cell_type": "code",
      "metadata": {
        "id": "Dcw2YCZullQu"
      },
      "source": [
        "try:\n",
        "    del model, trainer, task\n",
        "except: \n",
        "    pass\n",
        "try:\n",
        "    del train_dl, valid_dl\n",
        "except: \n",
        "    pass\n",
        "gc.collect()\n",
        "torch.cuda.empty_cache()"
      ],
      "execution_count": 28,
      "outputs": []
    },
    {
      "cell_type": "markdown",
      "metadata": {
        "id": "eFNrOLQ2nRgF"
      },
      "source": [
        "### A State-of-the-Art ResNets -\n",
        "> In this part I will mainly try to explore different variant of `ResNet`s called `ResNet-D` proposed by Tong He in 2014 in the article \"[Bag of Tricks for Image Classification with Convolutional Neural Networks](https://arxiv.org/abs/1812.01187)\n",
        "\". By using a tweaked ResNet-50 architecture and Mixup they achieved 94.6% top-5 accuracy on ImageNet, in comparison to 92.2% with a regular ResNet-50 without Mixup. This result is better than that achieved by regular ResNet models that are twice as deep (and twice as slow, and much more likely to overfit). These tweaked `Resnet` variants was ultimately popularized Jeremy Howard of Fast.ai and are called as `xResNet`'s.\n",
        "\n",
        "---"
      ]
    },
    {
      "cell_type": "markdown",
      "metadata": {
        "id": "0BPqJNZRnT9K"
      },
      "source": [
        "This experiment will mainly explore the model preformace we replace the Residual blocks with xResidual Blocks.\n",
        "\n",
        "First, let us explore the architecture of `ResNet-D` proposed in the above named article. To obtain the `xResNet` architecture we have to apply three different tweaks in the `ResNet` architecture namely `ResNet-B`, `ResNet-C` and `ResNet-D`. \n",
        "\n",
        "The notable changes in the model architecture in our case would be :\n",
        "\n",
        "* In `ResidualCnn`, `resblock2` we are downsampling the input by applying a convulation `stride=2` in the 1st layer of the residual block. `ResNet-B` simply moves the stride `2` to the second convolution and keeps a stride of `1` for the first layer .\n",
        "* The `ResNet-C`, proposed in Inception-v2, removes the `7x7` convolution in the input stem of the network and replaces it with three consecutive 3x3 convolutions. \n",
        "* In `ResNet-D`, the authors replaced the convolution in the downsampling block with a `2x2` average-pooling layer of stride `2` followed by a `1x1` convolution layer. In our case we would have to replace the `idconv` present in `ResidualBlock` module.\n",
        "\n",
        "Let's apply the above changes to our model test the preformance -"
      ]
    },
    {
      "cell_type": "code",
      "metadata": {
        "id": "qjX2mDHonZwy"
      },
      "source": [
        "class xResBlock(nn.Module):\n",
        "    \"Creates a simple Residual Block for xResNet architecture\"\n",
        "    def __init__(self, in_chans, out_chans, kernel_size, stride=1, act_cls=nn.ReLU):\n",
        "        super(xResBlock, self).__init__()\n",
        "        self.idconv = None\n",
        "        \n",
        "        self.block1 = ConvBnDropBlock(in_chans=in_chans, out_chans=out_chans, kernel_size=kernel_size,\n",
        "                                      stride=1, use_bn=True, act_cls=act_cls, bias=False)\n",
        "        \n",
        "        # we apply the 1st change here, \n",
        "        # moving the stride 2 to the second convolution and keeps a stride of 1 for the first layer . \n",
        "        self.block2 = ConvBnDropBlock(in_chans=out_chans, out_chans=out_chans, kernel_size=kernel_size, \n",
        "                                      stride=stride, use_bn=True, act_cls=None, bias=False)\n",
        "        \n",
        "        self.act_cls = act_cls(inplace=True)\n",
        "        \n",
        "        if in_chans != out_chans or stride != 1:\n",
        "            # the 3rd change proped above is applied here,\n",
        "            # we replace with a 2x2 average-pooling layer of stride 2 followed by a 1x1 convolution layer\n",
        "            pool_layer = nn.AvgPool2d(stride, ceil_mode=True)\n",
        "            conv_layer = ConvBnDropBlock(in_chans=in_chans, out_chans=out_chans, kernel_size=1, padding=0, \n",
        "                                         use_bn=True, act_cls=None, p_drop=0.0, bias=False, stride=1)\n",
        "            \n",
        "            self.idconv = nn.Sequential(pool_layer, conv_layer)\n",
        "            \n",
        "        \n",
        "        for m in self.modules():\n",
        "            if isinstance(m, nn.Conv2d):\n",
        "                nn.init.kaiming_normal_(m.weight, mode='fan_out', nonlinearity='relu')\n",
        "            elif isinstance(m, nn.BatchNorm2d):\n",
        "                nn.init.constant_(m.weight, 1)\n",
        "                nn.init.constant_(m.bias, 0)\n",
        "         \n",
        "        # Zero-initialize the last BN in each residual branch,\n",
        "        # so that the residual branch starts with zeros, and each residual block behaves like an identity.\n",
        "        # This improves the model by 0.2~0.3% according to https://arxiv.org/abs/1706.02677\n",
        "        for m in self.block2.modules():\n",
        "            if isinstance(m, nn.BatchNorm2d):\n",
        "                nn.init.constant_(m.weight, 0)\n",
        "                    \n",
        "    def forward(self, x):\n",
        "        identity = x\n",
        "        out = self.block1(x)\n",
        "        out = self.block2(out)\n",
        "        \n",
        "        if self.idconv is not None:\n",
        "            identity = self.idconv(x)\n",
        "        \n",
        "        out += identity\n",
        "        return self.act_cls(out)"
      ],
      "execution_count": 29,
      "outputs": []
    },
    {
      "cell_type": "markdown",
      "metadata": {
        "id": "xahTgOcNne14"
      },
      "source": [
        "The code is, for the most part, taken & modified from the [fast.ai course](https://www.fast.ai/), [fast.ai]() library and this [blog post](https://towardsdatascience.com/xresnet-from-scratch-in-pytorch-e64e309af722). \n",
        "\n",
        "Let's move incorporate this into the model that we have been working with."
      ]
    },
    {
      "cell_type": "code",
      "metadata": {
        "id": "zQVrmb4Dnj4v"
      },
      "source": [
        "class xResModel(nn.Sequential):\n",
        "    def __init__(self, num_outputs: int, act_cls=nn.ReLU):\n",
        "        conv = nn.Sequential(\n",
        "            ConvBnDropBlock(in_chans=3,  out_chans=32, kernel_size=3, stride=2, act_cls=act_cls, \n",
        "                            bias=False, use_bn=False),\n",
        "            ConvBnDropBlock(in_chans=32, out_chans=32, kernel_size=3, stride=1, act_cls=act_cls, \n",
        "                            bias=False, use_bn=False),\n",
        "            ConvBnDropBlock(in_chans=32, out_chans=64, kernel_size=3, stride=1, act_cls=act_cls,\n",
        "                            bias=False, use_bn=False),\n",
        "        )\n",
        "        pool = nn.MaxPool2d(kernel_size=3, stride=2, padding=1)\n",
        "        conv_stem  = nn.Sequential(conv, pool)\n",
        "        block1 = xResBlock(in_chans=64, out_chans=64,  stride=1, kernel_size=3, act_cls=act_cls)\n",
        "        block2 = xResBlock(in_chans=64, out_chans=128, stride=2, kernel_size=3, act_cls=act_cls)\n",
        "        block3 = xResBlock(in_chans=128,out_chans=256, stride=2, kernel_size=3, act_cls=act_cls)\n",
        "        pool_flatten = nn.Sequential(OrderedDict(pool=nn.AdaptiveAvgPool2d(1), flatten=nn.Flatten()))\n",
        "        fc = nn.Sequential(nn.Dropout(0.25), nn.Linear(256,num_outputs))\n",
        "        layers = OrderedDict(stem=conv_stem, block1=block1, block2=block2, block3=block3, pool_flatten=pool_flatten, fc=fc)\n",
        "        super(xResModel, self).__init__(layers)"
      ],
      "execution_count": 30,
      "outputs": []
    },
    {
      "cell_type": "markdown",
      "metadata": {
        "id": "7t99NKFfsL6D"
      },
      "source": [
        "Let's train it and see how it fares compared to the previous model -"
      ]
    },
    {
      "cell_type": "code",
      "metadata": {
        "id": "JJYIBu7Bo95m",
        "colab": {
          "base_uri": "https://localhost:8080/",
          "height": 630
        },
        "outputId": "4df2c12b-cd38-4681-e1c3-5f61af36b753"
      },
      "source": [
        "exp_name = \"stage-01-xresblock\"\n",
        "train_dl, valid_dl = get_data(base_tfms, valid_transforms=base_tfms, bs=32)\n",
        "\n",
        "# instantiate the model\n",
        "model = xResModel(num_outputs=len(CLASS_MAP))\n",
        "\n",
        "# Put the model into Lightning-Task\n",
        "task = ClassificationTask(model, lr=3e-03)\n",
        "\n",
        "cbs = [\n",
        "    ModelCheckpoint(monitor=\"val_acc\", filename=exp_name, dirpath=os.getcwd()), \n",
        "    NotebookProgressCallback(),\n",
        "]\n",
        "\n",
        "trainer = pl.Trainer(max_epochs=8, callbacks=cbs, gpus=1, precision=16, deterministic=True)\n",
        "trainer.fit(task, train_dataloader=train_dl, val_dataloaders=valid_dl)\n",
        "\n",
        "# Evalute the final performance of the Model\n",
        "tst_res = trainer.test(ckpt_path=\"best\", test_dataloaders=[train_dl, valid_dl], verbose=False)\n",
        "trn_acc, val_acc = tst_res[0][\"test_acc/dataloader_idx_0\"], tst_res[1][\"test_acc/dataloader_idx_1\"]\n",
        "\n",
        "display(Markdown(f\"**Final Training Accuracy: {round(trn_acc, 3)}**\"))\n",
        "display(Markdown(f\"**Final Validation Accuracy: {round(val_acc, 3)}**\"))"
      ],
      "execution_count": 32,
      "outputs": [
        {
          "output_type": "stream",
          "text": [
            "GPU available: True, used: True\n",
            "TPU available: False, using: 0 TPU cores\n",
            "Using native 16bit precision.\n",
            "LOCAL_RANK: 0 - CUDA_VISIBLE_DEVICES: [0]\n",
            "\n",
            "  | Name      | Type             | Params\n",
            "-----------------------------------------------\n",
            "0 | model     | xResModel        | 1.3 M \n",
            "1 | criterion | CrossEntropyLoss | 0     \n",
            "-----------------------------------------------\n",
            "1.3 M     Trainable params\n",
            "0         Non-trainable params\n",
            "1.3 M     Total params\n",
            "5.070     Total estimated model params size (MB)\n"
          ],
          "name": "stderr"
        },
        {
          "output_type": "display_data",
          "data": {
            "text/html": [
              ""
            ],
            "text/plain": [
              "<IPython.core.display.HTML object>"
            ]
          },
          "metadata": {
            "tags": []
          }
        },
        {
          "output_type": "display_data",
          "data": {
            "text/html": [
              "\n",
              "    <div>\n",
              "        <style>\n",
              "            progress {\n",
              "                border: none;\n",
              "                background-size: auto;\n",
              "            }\n",
              "        </style>\n",
              "      Training\n",
              "      <progress value='496' max='496' style='width:300px; height:20px; vertical-align: middle;'></progress>\n",
              "      [496/496 02:43, Epoch 7 {'loss': '0.306', 'v_num': 3}]\n",
              "    </div>\n",
              "    <table border=\"1\" class=\"dataframe\">\n",
              "  <thead>\n",
              "    <tr style=\"text-align: left;\">\n",
              "      <th>epoch</th>\n",
              "      <th>val_acc</th>\n",
              "      <th>val_loss</th>\n",
              "      <th>train_loss</th>\n",
              "      <th>time</th>\n",
              "      <th>samples/s</th>\n",
              "    </tr>\n",
              "  </thead>\n",
              "  <tbody>\n",
              "    <tr>\n",
              "      <td>0</td>\n",
              "      <td>0.058468</td>\n",
              "      <td>4.058199</td>\n",
              "      <td>4.023277</td>\n",
              "      <td>20.412100</td>\n",
              "      <td>3.821300</td>\n",
              "    </tr>\n",
              "    <tr>\n",
              "      <td>1</td>\n",
              "      <td>0.038306</td>\n",
              "      <td>6.825205</td>\n",
              "      <td>3.064571</td>\n",
              "      <td>20.569600</td>\n",
              "      <td>3.792000</td>\n",
              "    </tr>\n",
              "    <tr>\n",
              "      <td>2</td>\n",
              "      <td>0.088710</td>\n",
              "      <td>5.207982</td>\n",
              "      <td>2.101307</td>\n",
              "      <td>20.418200</td>\n",
              "      <td>3.820100</td>\n",
              "    </tr>\n",
              "    <tr>\n",
              "      <td>3</td>\n",
              "      <td>0.651210</td>\n",
              "      <td>1.246989</td>\n",
              "      <td>0.842765</td>\n",
              "      <td>20.318000</td>\n",
              "      <td>3.839000</td>\n",
              "    </tr>\n",
              "    <tr>\n",
              "      <td>4</td>\n",
              "      <td>0.762097</td>\n",
              "      <td>0.838247</td>\n",
              "      <td>0.779555</td>\n",
              "      <td>20.463000</td>\n",
              "      <td>3.811800</td>\n",
              "    </tr>\n",
              "    <tr>\n",
              "      <td>5</td>\n",
              "      <td>0.810484</td>\n",
              "      <td>0.615017</td>\n",
              "      <td>0.411811</td>\n",
              "      <td>20.377400</td>\n",
              "      <td>3.827800</td>\n",
              "    </tr>\n",
              "    <tr>\n",
              "      <td>6</td>\n",
              "      <td>0.860887</td>\n",
              "      <td>0.465593</td>\n",
              "      <td>0.346306</td>\n",
              "      <td>20.546000</td>\n",
              "      <td>3.796400</td>\n",
              "    </tr>\n",
              "    <tr>\n",
              "      <td>7</td>\n",
              "      <td>0.870968</td>\n",
              "      <td>0.428967</td>\n",
              "      <td>0.227218</td>\n",
              "      <td>20.365300</td>\n",
              "      <td>3.830000</td>\n",
              "    </tr>\n",
              "  </tbody>\n",
              "</table><p>"
            ],
            "text/plain": [
              "<IPython.core.display.HTML object>"
            ]
          },
          "metadata": {
            "tags": []
          }
        },
        {
          "output_type": "stream",
          "text": [
            "LOCAL_RANK: 0 - CUDA_VISIBLE_DEVICES: [0]\n"
          ],
          "name": "stderr"
        },
        {
          "output_type": "display_data",
          "data": {
            "text/html": [
              ""
            ],
            "text/plain": [
              "<IPython.core.display.HTML object>"
            ]
          },
          "metadata": {
            "tags": []
          }
        },
        {
          "output_type": "display_data",
          "data": {
            "text/markdown": "**Final Training Accuracy: 0.951**",
            "text/plain": [
              "<IPython.core.display.Markdown object>"
            ]
          },
          "metadata": {
            "tags": []
          }
        },
        {
          "output_type": "display_data",
          "data": {
            "text/markdown": "**Final Validation Accuracy: 0.871**",
            "text/plain": [
              "<IPython.core.display.Markdown object>"
            ]
          },
          "metadata": {
            "tags": []
          }
        }
      ]
    },
    {
      "cell_type": "markdown",
      "metadata": {
        "id": "rFfabjLSUrQy"
      },
      "source": [
        "Validation accuracy has increased a lot but we are still overfitting on the training data , let's explore more ..."
      ]
    },
    {
      "cell_type": "code",
      "metadata": {
        "id": "XAOfe5FRtVtf"
      },
      "source": [
        "try:\n",
        "    del model, trainer, task\n",
        "except: \n",
        "    pass\n",
        "try:\n",
        "    del train_dl, valid_dl\n",
        "except: \n",
        "    pass\n",
        "gc.collect()\n",
        "torch.cuda.empty_cache()"
      ],
      "execution_count": 33,
      "outputs": []
    },
    {
      "cell_type": "markdown",
      "metadata": {
        "id": "Bosj5r96zCeG"
      },
      "source": [
        "### Mish and SelfAttention - \n",
        "> In this experiment I plan to use some of [State of the Art Training techniques](https://forums.fast.ai/t/how-we-beat-the-5-epoch-imagewoof-leaderboard-score-some-new-techniques-to-consider/53453) that were used to top the leaderboard score for 5 epoch Imagewoof`.\n",
        "\n",
        "\n",
        "\n",
        "The techniques I will be employing are as follows - \n",
        "* `Mish activation function instead of ReLU` : Mish is a new activation function that was released in a [paper](https://arxiv.org/abs/1908.08681). It has a much smoother curve vs relu, and in theory, that drives information more deeply through the network.\n",
        "* `Self attention layer` : Bringing in Ideas from GAN's into CNN's.The self attention layer is designed to help leverage long range dependencies within an image vs the more local feature focus of convolutions. Paper Link : [https://arxiv.org/abs/1805.08318]\n",
        "\n",
        "\n",
        "\n",
        "The folks from fast.ai who employed the above techniques noticed that `SimpleSelfAttention` layer, when placed within a Resnet block, the network converges if `SimpleSelfAttention` is placed right after a convolution layer that uses batch norm, and initializes the batchnorm weights to 0.\n",
        "\n",
        "[Source](https://github.com/sdoria/SimpleSelfAttention)"
      ]
    },
    {
      "cell_type": "markdown",
      "metadata": {
        "id": "1ElXz7VPzCg2"
      },
      "source": [
        "The code for creating the `SimpleSelfAttention` module has been borrowed from [here](https://github.com/sdoria/SimpleSelfAttention/blob/master/xresnet.py)."
      ]
    },
    {
      "cell_type": "code",
      "metadata": {
        "id": "eLHtIG9RzCmC"
      },
      "source": [
        "def conv1d(ni:int, no:int, ks:int=1, stride:int=1, padding:int=0, bias:bool=False):\n",
        "    \"Create and initialize a `nn.Conv1d` layer with spectral normalization.\"\n",
        "    conv = nn.Conv1d(ni, no, ks, stride=stride, padding=padding, bias=bias)\n",
        "    nn.init.kaiming_normal_(conv.weight)\n",
        "    if bias: conv.bias.data.zero_()\n",
        "    return spectral_norm(conv)\n",
        "\n",
        "\n",
        "class SimpleSelfAttention(nn.Module):\n",
        "    \n",
        "    def __init__(self, n_in:int, ks=1, sym=False):\n",
        "        super().__init__()\n",
        "           \n",
        "        self.conv = conv1d(n_in, n_in, ks, padding=ks//2, bias=False)      \n",
        "       \n",
        "        self.gamma = nn.Parameter(torch.tensor([0.]))\n",
        "        \n",
        "        self.sym = sym\n",
        "        self.n_in = n_in\n",
        "        \n",
        "    def forward(self,x):\n",
        "          \n",
        "        if self.sym:\n",
        "            # symmetry hack by https://github.com/mgrankin\n",
        "            c = self.conv.weight.view(self.n_in,self.n_in)\n",
        "            c = (c + c.t())/2\n",
        "            self.conv.weight = c.view(self.n_in,self.n_in,1)\n",
        "                \n",
        "        size = x.size()  \n",
        "        x = x.view(*size[:2],-1)\n",
        "        \n",
        "        convx = self.conv(x)\n",
        "        xxT = torch.bmm(x,x.permute(0,2,1).contiguous())\n",
        "        \n",
        "        o = torch.bmm(xxT, convx)\n",
        "          \n",
        "        o = self.gamma * o + x\n",
        "        return o.view(*size).contiguous()"
      ],
      "execution_count": 34,
      "outputs": []
    },
    {
      "cell_type": "markdown",
      "metadata": {
        "id": "6rCMGxmSzCoi"
      },
      "source": [
        "The code block implements the `Mish` Activation function, the code for which has been borrowed from the [repository](https://github.com/digantamisra98/Mish/blob/master/Mish/Torch/functional.py) of the original author of `Mish`."
      ]
    },
    {
      "cell_type": "code",
      "metadata": {
        "id": "Rv_KzkeLzYVI"
      },
      "source": [
        "@torch.jit.script\n",
        "def mish(input):\n",
        "    '''\n",
        "    Applies the mish function element-wise:\n",
        "    mish(x) = x * tanh(softplus(x)) = x * tanh(ln(1 + exp(x)))\n",
        "    '''\n",
        "    return input * torch.tanh(F.softplus(input))\n",
        "\n",
        "\n",
        "class Mish(nn.Module):\n",
        "    def __init__(self, *args, **kwargs):\n",
        "        super(Mish, self).__init__()\n",
        "    \n",
        "    def forward(self, xb):\n",
        "        return mish(xb)"
      ],
      "execution_count": 35,
      "outputs": []
    },
    {
      "cell_type": "markdown",
      "metadata": {
        "id": "kx6N4e0WzYYS"
      },
      "source": [
        "The code below adds SelfAttention and Mish activation to our *x*ResNet based model architecture -\n",
        "\n",
        "\n",
        "\n"
      ]
    },
    {
      "cell_type": "code",
      "metadata": {
        "id": "z9sspbJozYbG"
      },
      "source": [
        "class xResBlock(nn.Module):\n",
        "    \"Creates a xRes Block with SelfAttention and Mish Activation\"\n",
        "    def __init__(self, in_chans: int, out_chans: int, kernel_size: int, stride: int = 1, \n",
        "                 act_cls: Callable = Mish, sa: bool = False):\n",
        "        \n",
        "        super(xResBlock, self).__init__()\n",
        "        self.idconv = None\n",
        "        self.sa = None\n",
        "        \n",
        "        self.block1 = ConvBnDropBlock(in_chans=in_chans, out_chans=out_chans, kernel_size=kernel_size,\n",
        "                                      stride=1, use_bn=True, act_cls=act_cls, bias=False)\n",
        "         \n",
        "        self.block2 = ConvBnDropBlock(in_chans=out_chans, out_chans=out_chans, kernel_size=kernel_size, \n",
        "                                      stride=stride, use_bn=True, act_cls=None, bias=False)\n",
        "        \n",
        "        # initialize the SimpleSelfAttention Layer\n",
        "        if sa :\n",
        "            self.sa = SimpleSelfAttention(out_chans,ks=1,sym=False)    \n",
        "        \n",
        "        self.act_cls = act_cls(inplace=True)\n",
        "        \n",
        "        if in_chans != out_chans or stride != 1:\n",
        "            pool_layer = nn.AvgPool2d(stride, ceil_mode=True)\n",
        "            conv_layer = ConvBnDropBlock(in_chans=in_chans, out_chans=out_chans, kernel_size=1, padding=0, \n",
        "                                         use_bn=True, act_cls=None, p_drop=0.0, bias=False, stride=1)\n",
        "            \n",
        "            self.idconv = nn.Sequential(pool_layer, conv_layer)       \n",
        "            \n",
        "        for m in self.modules():\n",
        "            if isinstance(m, nn.Conv2d):\n",
        "                nn.init.kaiming_normal_(m.weight, mode='fan_out', nonlinearity='relu')\n",
        "            elif isinstance(m, nn.BatchNorm2d):\n",
        "                nn.init.constant_(m.weight, 1)\n",
        "                nn.init.constant_(m.bias, 0)\n",
        "                \n",
        "        for m in self.block2.modules():\n",
        "            if isinstance(m, nn.BatchNorm2d):\n",
        "                nn.init.constant_(m.weight, 0)\n",
        "                    \n",
        "    def forward(self, x):\n",
        "        identity = x\n",
        "        out = self.block1(x)\n",
        "        out = self.block2(out)\n",
        "        if self.sa is not None:\n",
        "            out = self.sa(out) # <- self attention is inserted here\n",
        "        \n",
        "        if self.idconv is not None:\n",
        "            identity = self.idconv(x)\n",
        "        \n",
        "        out += identity\n",
        "        return self.act_cls(out)"
      ],
      "execution_count": 36,
      "outputs": []
    },
    {
      "cell_type": "markdown",
      "metadata": {
        "id": "TizKT22OHRbU"
      },
      "source": [
        "Let's build up the model : The code below incorporates SelfAttention and Mish into our xResnet based model ."
      ]
    },
    {
      "cell_type": "code",
      "metadata": {
        "id": "ZGoJKgBZzmVi"
      },
      "source": [
        "class sa_m_xResModel(nn.Sequential):\n",
        "    def __init__(self, num_outputs: int, act_cls=Mish):\n",
        "        conv = nn.Sequential(\n",
        "            ConvBnDropBlock(in_chans=3,  out_chans=32, kernel_size=3, stride=2, \n",
        "                            act_cls=act_cls, bias=False, use_bn=False),\n",
        "            ConvBnDropBlock(in_chans=32, out_chans=32, kernel_size=3, stride=1, \n",
        "                            act_cls=act_cls, bias=False, use_bn=False),\n",
        "            ConvBnDropBlock(in_chans=32, out_chans=64, kernel_size=3, stride=1, \n",
        "                            act_cls=act_cls, bias=False, use_bn=False),\n",
        "            )\n",
        "        pool = nn.MaxPool2d(kernel_size=3, stride=2, padding=1)\n",
        "        conv_stem  = nn.Sequential(conv, pool)    \n",
        "        block1 = xResBlock(in_chans=64, out_chans=64,  stride=1, kernel_size=3, act_cls=act_cls, sa=True)\n",
        "        block2 = xResBlock(in_chans=64, out_chans=128, stride=2, kernel_size=3, act_cls=act_cls, sa=True)\n",
        "        block3 = xResBlock(in_chans=128,out_chans=256, stride=2, kernel_size=3, act_cls=act_cls, sa=True)\n",
        "        pool_flatten = nn.Sequential(nn.AdaptiveAvgPool2d(1), nn.Flatten())\n",
        "        fc = nn.Sequential(nn.Dropout(0.25), nn.Linear(256, num_outputs))\n",
        "        layers = OrderedDict(stem=conv_stem, block1=block1, block2=block2, block3=block3, pool_flatten=pool_flatten, fc=fc)\n",
        "        super(sa_m_xResModel, self).__init__(layers)"
      ],
      "execution_count": 39,
      "outputs": []
    },
    {
      "cell_type": "markdown",
      "metadata": {
        "id": "teBv5VmoZW2p"
      },
      "source": [
        "Train the model -"
      ]
    },
    {
      "cell_type": "code",
      "metadata": {
        "id": "MR6qi9tuzmY1",
        "colab": {
          "base_uri": "https://localhost:8080/",
          "height": 905
        },
        "outputId": "e2b199be-f1ab-46d9-de13-f9a12494da1f"
      },
      "source": [
        "exp_name = \"stage-01-xresblock-mish-sa\"\n",
        "train_dl, valid_dl = get_data(base_tfms, valid_transforms=base_tfms)\n",
        "\n",
        "# instantiate the model\n",
        "model = sa_m_xResModel(num_outputs=len(CLASS_MAP))\n",
        "\n",
        "# Put the model into Lightning-Task\n",
        "task = ClassificationTask(model, lr=3e-03)\n",
        "\n",
        "cbs = [\n",
        "    ModelCheckpoint(monitor=\"val_acc\", filename=exp_name, dirpath=os.getcwd()), \n",
        "    NotebookProgressCallback(),\n",
        "]\n",
        "\n",
        "trainer = pl.Trainer(max_epochs=8, callbacks=cbs, gpus=1, precision=16, deterministic=True)\n",
        "trainer.fit(task, train_dataloader=train_dl, val_dataloaders=valid_dl)\n",
        "\n",
        "# Evalute the final performance of the Model\n",
        "tst_res = trainer.test(ckpt_path=\"best\", test_dataloaders=[train_dl, valid_dl], verbose=False)\n",
        "trn_acc, val_acc = tst_res[0][\"test_acc/dataloader_idx_0\"], tst_res[1][\"test_acc/dataloader_idx_1\"]\n",
        "\n",
        "display(Markdown(f\"**Final Training Accuracy: {round(trn_acc, 3)}**\"))\n",
        "display(Markdown(f\"**Final Validation Accuracy: {round(val_acc, 3)}**\"))"
      ],
      "execution_count": 40,
      "outputs": [
        {
          "output_type": "stream",
          "text": [
            "GPU available: True, used: True\n",
            "TPU available: False, using: 0 TPU cores\n",
            "Using native 16bit precision.\n",
            "LOCAL_RANK: 0 - CUDA_VISIBLE_DEVICES: [0]\n",
            "\n",
            "  | Name      | Type             | Params\n",
            "-----------------------------------------------\n",
            "0 | model     | sa_m_xResModel   | 1.4 M \n",
            "1 | criterion | CrossEntropyLoss | 0     \n",
            "-----------------------------------------------\n",
            "1.4 M     Trainable params\n",
            "0         Non-trainable params\n",
            "1.4 M     Total params\n",
            "5.415     Total estimated model params size (MB)\n"
          ],
          "name": "stderr"
        },
        {
          "output_type": "display_data",
          "data": {
            "text/html": [
              ""
            ],
            "text/plain": [
              "<IPython.core.display.HTML object>"
            ]
          },
          "metadata": {
            "tags": []
          }
        },
        {
          "output_type": "display_data",
          "data": {
            "text/html": [
              "\n",
              "    <div>\n",
              "        <style>\n",
              "            progress {\n",
              "                border: none;\n",
              "                background-size: auto;\n",
              "            }\n",
              "        </style>\n",
              "      Training\n",
              "      <progress value='481' max='496' style='width:300px; height:20px; vertical-align: middle;'></progress>\n",
              "      [481/496 02:45 < 00:05, 2.90 it/s, Epoch 7 {'loss': '0.597', 'v_num': 4}]\n",
              "    </div>\n",
              "    <table border=\"1\" class=\"dataframe\">\n",
              "  <thead>\n",
              "    <tr style=\"text-align: left;\">\n",
              "      <th>epoch</th>\n",
              "      <th>val_acc</th>\n",
              "      <th>val_loss</th>\n",
              "      <th>train_loss</th>\n",
              "      <th>time</th>\n",
              "      <th>samples/s</th>\n",
              "    </tr>\n",
              "  </thead>\n",
              "  <tbody>\n",
              "    <tr>\n",
              "      <td>0</td>\n",
              "      <td>0.022177</td>\n",
              "      <td>4.061556</td>\n",
              "      <td>3.827118</td>\n",
              "      <td>25.001000</td>\n",
              "      <td>3.119900</td>\n",
              "    </tr>\n",
              "    <tr>\n",
              "      <td>1</td>\n",
              "      <td>0.016129</td>\n",
              "      <td>20.492125</td>\n",
              "      <td>2.932078</td>\n",
              "      <td>21.945600</td>\n",
              "      <td>3.554200</td>\n",
              "    </tr>\n",
              "    <tr>\n",
              "      <td>2</td>\n",
              "      <td>0.040323</td>\n",
              "      <td>15.276151</td>\n",
              "      <td>2.335787</td>\n",
              "      <td>21.686400</td>\n",
              "      <td>3.596700</td>\n",
              "    </tr>\n",
              "    <tr>\n",
              "      <td>3</td>\n",
              "      <td>0.048387</td>\n",
              "      <td>13.974190</td>\n",
              "      <td>1.613616</td>\n",
              "      <td>21.836300</td>\n",
              "      <td>3.572000</td>\n",
              "    </tr>\n",
              "    <tr>\n",
              "      <td>4</td>\n",
              "      <td>0.159274</td>\n",
              "      <td>3.904216</td>\n",
              "      <td>1.179556</td>\n",
              "      <td>21.728900</td>\n",
              "      <td>3.589700</td>\n",
              "    </tr>\n",
              "    <tr>\n",
              "      <td>5</td>\n",
              "      <td>0.703629</td>\n",
              "      <td>0.985508</td>\n",
              "      <td>0.821851</td>\n",
              "      <td>21.676700</td>\n",
              "      <td>3.598300</td>\n",
              "    </tr>\n",
              "    <tr>\n",
              "      <td>6</td>\n",
              "      <td>0.788306</td>\n",
              "      <td>0.726567</td>\n",
              "      <td>0.685594</td>\n",
              "      <td>21.504900</td>\n",
              "      <td>3.627100</td>\n",
              "    </tr>\n",
              "  </tbody>\n",
              "</table><p>"
            ],
            "text/plain": [
              "<IPython.core.display.HTML object>"
            ]
          },
          "metadata": {
            "tags": []
          }
        },
        {
          "output_type": "display_data",
          "data": {
            "text/html": [
              "\n",
              "    <div>\n",
              "        <style>\n",
              "            progress {\n",
              "                border: none;\n",
              "                background-size: auto;\n",
              "            }\n",
              "        </style>\n",
              "      Training\n",
              "      <progress value='496' max='496' style='width:300px; height:20px; vertical-align: middle;'></progress>\n",
              "      [496/496 02:53, Epoch 7 {'loss': '0.566', 'v_num': 4}]\n",
              "    </div>\n",
              "    <table border=\"1\" class=\"dataframe\">\n",
              "  <thead>\n",
              "    <tr style=\"text-align: left;\">\n",
              "      <th>epoch</th>\n",
              "      <th>val_acc</th>\n",
              "      <th>val_loss</th>\n",
              "      <th>train_loss</th>\n",
              "      <th>time</th>\n",
              "      <th>samples/s</th>\n",
              "    </tr>\n",
              "  </thead>\n",
              "  <tbody>\n",
              "    <tr>\n",
              "      <td>0</td>\n",
              "      <td>0.022177</td>\n",
              "      <td>4.061556</td>\n",
              "      <td>3.827118</td>\n",
              "      <td>25.001000</td>\n",
              "      <td>3.119900</td>\n",
              "    </tr>\n",
              "    <tr>\n",
              "      <td>1</td>\n",
              "      <td>0.016129</td>\n",
              "      <td>20.492125</td>\n",
              "      <td>2.932078</td>\n",
              "      <td>21.945600</td>\n",
              "      <td>3.554200</td>\n",
              "    </tr>\n",
              "    <tr>\n",
              "      <td>2</td>\n",
              "      <td>0.040323</td>\n",
              "      <td>15.276151</td>\n",
              "      <td>2.335787</td>\n",
              "      <td>21.686400</td>\n",
              "      <td>3.596700</td>\n",
              "    </tr>\n",
              "    <tr>\n",
              "      <td>3</td>\n",
              "      <td>0.048387</td>\n",
              "      <td>13.974190</td>\n",
              "      <td>1.613616</td>\n",
              "      <td>21.836300</td>\n",
              "      <td>3.572000</td>\n",
              "    </tr>\n",
              "    <tr>\n",
              "      <td>4</td>\n",
              "      <td>0.159274</td>\n",
              "      <td>3.904216</td>\n",
              "      <td>1.179556</td>\n",
              "      <td>21.728900</td>\n",
              "      <td>3.589700</td>\n",
              "    </tr>\n",
              "    <tr>\n",
              "      <td>5</td>\n",
              "      <td>0.703629</td>\n",
              "      <td>0.985508</td>\n",
              "      <td>0.821851</td>\n",
              "      <td>21.676700</td>\n",
              "      <td>3.598300</td>\n",
              "    </tr>\n",
              "    <tr>\n",
              "      <td>6</td>\n",
              "      <td>0.788306</td>\n",
              "      <td>0.726567</td>\n",
              "      <td>0.685594</td>\n",
              "      <td>21.504900</td>\n",
              "      <td>3.627100</td>\n",
              "    </tr>\n",
              "    <tr>\n",
              "      <td>7</td>\n",
              "      <td>0.798387</td>\n",
              "      <td>0.678912</td>\n",
              "      <td>0.705633</td>\n",
              "      <td>21.668100</td>\n",
              "      <td>3.599800</td>\n",
              "    </tr>\n",
              "  </tbody>\n",
              "</table><p>"
            ],
            "text/plain": [
              "<IPython.core.display.HTML object>"
            ]
          },
          "metadata": {
            "tags": []
          }
        },
        {
          "output_type": "stream",
          "text": [
            "LOCAL_RANK: 0 - CUDA_VISIBLE_DEVICES: [0]\n"
          ],
          "name": "stderr"
        },
        {
          "output_type": "display_data",
          "data": {
            "text/html": [
              ""
            ],
            "text/plain": [
              "<IPython.core.display.HTML object>"
            ]
          },
          "metadata": {
            "tags": []
          }
        },
        {
          "output_type": "display_data",
          "data": {
            "text/markdown": "**Final Training Accuracy: 0.881**",
            "text/plain": [
              "<IPython.core.display.Markdown object>"
            ]
          },
          "metadata": {
            "tags": []
          }
        },
        {
          "output_type": "display_data",
          "data": {
            "text/markdown": "**Final Validation Accuracy: 0.798**",
            "text/plain": [
              "<IPython.core.display.Markdown object>"
            ]
          },
          "metadata": {
            "tags": []
          }
        }
      ]
    },
    {
      "cell_type": "markdown",
      "metadata": {
        "id": "rs_KKiewstlB"
      },
      "source": [
        "As loss still decreasing , let's train for more epochs ... "
      ]
    },
    {
      "cell_type": "code",
      "metadata": {
        "colab": {
          "base_uri": "https://localhost:8080/",
          "height": 537
        },
        "id": "U5s_XsTHs1Xl",
        "outputId": "d91a03a5-d922-4b9d-b433-31f2746cd5ba"
      },
      "source": [
        "exp_name = \"stage-02-xresblock-mish-sa\"\n",
        "train_dl, valid_dl = get_data(base_tfms, valid_transforms=base_tfms)\n",
        "\n",
        "# instantiate the model\n",
        "model = sa_m_xResModel(num_outputs=len(CLASS_MAP))\n",
        "\n",
        "# Load the model from checkpoint\n",
        "PATH = \"stage-01-xresblock-mish-sa.ckpt\"\n",
        "task = ClassificationTask.load_from_checkpoint(PATH, model=model, lr=3e-05)\n",
        "task.unfreeze()\n",
        "\n",
        "cbs = [\n",
        "    ModelCheckpoint(monitor=\"val_acc\", filename=exp_name, dirpath=os.getcwd()), \n",
        "    NotebookProgressCallback(),\n",
        "]\n",
        "\n",
        "trainer = pl.Trainer(max_epochs=5, callbacks=cbs, gpus=1, precision=16, deterministic=True)\n",
        "trainer.fit(task, train_dataloader=train_dl, val_dataloaders=valid_dl)\n",
        "\n",
        "# Evalute the final performance of the Model\n",
        "tst_res = trainer.test(ckpt_path=\"best\", test_dataloaders=[train_dl, valid_dl], verbose=False)\n",
        "trn_acc, val_acc = tst_res[0][\"test_acc/dataloader_idx_0\"], tst_res[1][\"test_acc/dataloader_idx_1\"]\n",
        "\n",
        "display(Markdown(f\"**Final Training Accuracy: {round(trn_acc, 3)}**\"))\n",
        "display(Markdown(f\"**Final Validation Accuracy: {round(val_acc, 3)}**\"))"
      ],
      "execution_count": 42,
      "outputs": [
        {
          "output_type": "stream",
          "text": [
            "GPU available: True, used: True\n",
            "TPU available: False, using: 0 TPU cores\n",
            "Using native 16bit precision.\n",
            "LOCAL_RANK: 0 - CUDA_VISIBLE_DEVICES: [0]\n",
            "\n",
            "  | Name      | Type             | Params\n",
            "-----------------------------------------------\n",
            "0 | model     | sa_m_xResModel   | 1.4 M \n",
            "1 | criterion | CrossEntropyLoss | 0     \n",
            "-----------------------------------------------\n",
            "1.4 M     Trainable params\n",
            "0         Non-trainable params\n",
            "1.4 M     Total params\n",
            "5.415     Total estimated model params size (MB)\n"
          ],
          "name": "stderr"
        },
        {
          "output_type": "display_data",
          "data": {
            "text/html": [
              ""
            ],
            "text/plain": [
              "<IPython.core.display.HTML object>"
            ]
          },
          "metadata": {
            "tags": []
          }
        },
        {
          "output_type": "display_data",
          "data": {
            "text/html": [
              "\n",
              "    <div>\n",
              "        <style>\n",
              "            progress {\n",
              "                border: none;\n",
              "                background-size: auto;\n",
              "            }\n",
              "        </style>\n",
              "      Training\n",
              "      <progress value='310' max='310' style='width:300px; height:20px; vertical-align: middle;'></progress>\n",
              "      [310/310 01:43, Epoch 4 {'loss': '0.549', 'v_num': 6}]\n",
              "    </div>\n",
              "    <table border=\"1\" class=\"dataframe\">\n",
              "  <thead>\n",
              "    <tr style=\"text-align: left;\">\n",
              "      <th>epoch</th>\n",
              "      <th>val_acc</th>\n",
              "      <th>val_loss</th>\n",
              "      <th>train_loss</th>\n",
              "      <th>time</th>\n",
              "      <th>samples/s</th>\n",
              "    </tr>\n",
              "  </thead>\n",
              "  <tbody>\n",
              "    <tr>\n",
              "      <td>0</td>\n",
              "      <td>0.802419</td>\n",
              "      <td>0.671502</td>\n",
              "      <td>0.389975</td>\n",
              "      <td>20.914700</td>\n",
              "      <td>3.729400</td>\n",
              "    </tr>\n",
              "    <tr>\n",
              "      <td>1</td>\n",
              "      <td>0.804435</td>\n",
              "      <td>0.668781</td>\n",
              "      <td>0.567810</td>\n",
              "      <td>20.834500</td>\n",
              "      <td>3.743800</td>\n",
              "    </tr>\n",
              "    <tr>\n",
              "      <td>2</td>\n",
              "      <td>0.804435</td>\n",
              "      <td>0.660199</td>\n",
              "      <td>0.611202</td>\n",
              "      <td>20.819300</td>\n",
              "      <td>3.746500</td>\n",
              "    </tr>\n",
              "    <tr>\n",
              "      <td>3</td>\n",
              "      <td>0.810484</td>\n",
              "      <td>0.656655</td>\n",
              "      <td>0.697178</td>\n",
              "      <td>20.805100</td>\n",
              "      <td>3.749100</td>\n",
              "    </tr>\n",
              "    <tr>\n",
              "      <td>4</td>\n",
              "      <td>0.804435</td>\n",
              "      <td>0.660329</td>\n",
              "      <td>0.688981</td>\n",
              "      <td>20.710400</td>\n",
              "      <td>3.766200</td>\n",
              "    </tr>\n",
              "  </tbody>\n",
              "</table><p>"
            ],
            "text/plain": [
              "<IPython.core.display.HTML object>"
            ]
          },
          "metadata": {
            "tags": []
          }
        },
        {
          "output_type": "stream",
          "text": [
            "LOCAL_RANK: 0 - CUDA_VISIBLE_DEVICES: [0]\n"
          ],
          "name": "stderr"
        },
        {
          "output_type": "display_data",
          "data": {
            "text/html": [
              ""
            ],
            "text/plain": [
              "<IPython.core.display.HTML object>"
            ]
          },
          "metadata": {
            "tags": []
          }
        },
        {
          "output_type": "display_data",
          "data": {
            "text/markdown": "**Final Training Accuracy: 0.889**",
            "text/plain": [
              "<IPython.core.display.Markdown object>"
            ]
          },
          "metadata": {
            "tags": []
          }
        },
        {
          "output_type": "display_data",
          "data": {
            "text/markdown": "**Final Validation Accuracy: 0.81**",
            "text/plain": [
              "<IPython.core.display.Markdown object>"
            ]
          },
          "metadata": {
            "tags": []
          }
        }
      ]
    },
    {
      "cell_type": "code",
      "metadata": {
        "id": "FIibTevdzmfR"
      },
      "source": [
        "try:\n",
        "    del model, trainer, task\n",
        "except:\n",
        "    pass\n",
        "try:\n",
        "    del train_dl, valid_dl\n",
        "except: \n",
        "    pass\n",
        "gc.collect()\n",
        "torch.cuda.empty_cache()"
      ],
      "execution_count": 43,
      "outputs": []
    },
    {
      "cell_type": "markdown",
      "metadata": {
        "id": "gXXwGwHHwCHQ"
      },
      "source": [
        "Let's check with only Mish activation and no SelfAttention - "
      ]
    },
    {
      "cell_type": "code",
      "metadata": {
        "colab": {
          "base_uri": "https://localhost:8080/",
          "height": 630
        },
        "id": "R3-hr5QWwLXS",
        "outputId": "71d580be-d610-4ab7-fab0-ddb047bdce15"
      },
      "source": [
        "exp_name = \"stage-01-Mxresblock\"\n",
        "train_dl, valid_dl = get_data(base_tfms, valid_transforms=base_tfms, bs=32)\n",
        "\n",
        "# instantiate the model\n",
        "model = xResModel(num_outputs=len(CLASS_MAP), act_cls=Mish)\n",
        "\n",
        "# Put the model into Lightning-Task\n",
        "task = ClassificationTask(model, lr=3e-03)\n",
        "\n",
        "cbs = [\n",
        "    ModelCheckpoint(monitor=\"val_acc\", filename=exp_name, dirpath=os.getcwd()), \n",
        "    NotebookProgressCallback(),\n",
        "]\n",
        "\n",
        "trainer = pl.Trainer(max_epochs=8, callbacks=cbs, gpus=1, precision=16, deterministic=True)\n",
        "trainer.fit(task, train_dataloader=train_dl, val_dataloaders=valid_dl)\n",
        "\n",
        "# Evalute the final performance of the Model\n",
        "tst_res = trainer.test(ckpt_path=\"best\", test_dataloaders=[train_dl, valid_dl], verbose=False)\n",
        "trn_acc, val_acc = tst_res[0][\"test_acc/dataloader_idx_0\"], tst_res[1][\"test_acc/dataloader_idx_1\"]\n",
        "\n",
        "display(Markdown(f\"**Final Training Accuracy: {round(trn_acc, 3)}**\"))\n",
        "display(Markdown(f\"**Final Validation Accuracy: {round(val_acc, 3)}**\"))"
      ],
      "execution_count": 44,
      "outputs": [
        {
          "output_type": "stream",
          "text": [
            "GPU available: True, used: True\n",
            "TPU available: False, using: 0 TPU cores\n",
            "Using native 16bit precision.\n",
            "LOCAL_RANK: 0 - CUDA_VISIBLE_DEVICES: [0]\n",
            "\n",
            "  | Name      | Type             | Params\n",
            "-----------------------------------------------\n",
            "0 | model     | xResModel        | 1.3 M \n",
            "1 | criterion | CrossEntropyLoss | 0     \n",
            "-----------------------------------------------\n",
            "1.3 M     Trainable params\n",
            "0         Non-trainable params\n",
            "1.3 M     Total params\n",
            "5.070     Total estimated model params size (MB)\n"
          ],
          "name": "stderr"
        },
        {
          "output_type": "display_data",
          "data": {
            "text/html": [
              ""
            ],
            "text/plain": [
              "<IPython.core.display.HTML object>"
            ]
          },
          "metadata": {
            "tags": []
          }
        },
        {
          "output_type": "display_data",
          "data": {
            "text/html": [
              "\n",
              "    <div>\n",
              "        <style>\n",
              "            progress {\n",
              "                border: none;\n",
              "                background-size: auto;\n",
              "            }\n",
              "        </style>\n",
              "      Training\n",
              "      <progress value='496' max='496' style='width:300px; height:20px; vertical-align: middle;'></progress>\n",
              "      [496/496 02:45, Epoch 7 {'loss': '0.264', 'v_num': 7}]\n",
              "    </div>\n",
              "    <table border=\"1\" class=\"dataframe\">\n",
              "  <thead>\n",
              "    <tr style=\"text-align: left;\">\n",
              "      <th>epoch</th>\n",
              "      <th>val_acc</th>\n",
              "      <th>val_loss</th>\n",
              "      <th>train_loss</th>\n",
              "      <th>time</th>\n",
              "      <th>samples/s</th>\n",
              "    </tr>\n",
              "  </thead>\n",
              "  <tbody>\n",
              "    <tr>\n",
              "      <td>0</td>\n",
              "      <td>0.018145</td>\n",
              "      <td>4.095335</td>\n",
              "      <td>3.954535</td>\n",
              "      <td>21.150800</td>\n",
              "      <td>3.687800</td>\n",
              "    </tr>\n",
              "    <tr>\n",
              "      <td>1</td>\n",
              "      <td>0.020161</td>\n",
              "      <td>18.538307</td>\n",
              "      <td>2.794209</td>\n",
              "      <td>21.041200</td>\n",
              "      <td>3.707000</td>\n",
              "    </tr>\n",
              "    <tr>\n",
              "      <td>2</td>\n",
              "      <td>0.062500</td>\n",
              "      <td>6.657030</td>\n",
              "      <td>1.548329</td>\n",
              "      <td>20.763000</td>\n",
              "      <td>3.756700</td>\n",
              "    </tr>\n",
              "    <tr>\n",
              "      <td>3</td>\n",
              "      <td>0.387097</td>\n",
              "      <td>2.125322</td>\n",
              "      <td>1.062794</td>\n",
              "      <td>20.803000</td>\n",
              "      <td>3.749500</td>\n",
              "    </tr>\n",
              "    <tr>\n",
              "      <td>4</td>\n",
              "      <td>0.096774</td>\n",
              "      <td>6.921845</td>\n",
              "      <td>0.591794</td>\n",
              "      <td>20.831400</td>\n",
              "      <td>3.744300</td>\n",
              "    </tr>\n",
              "    <tr>\n",
              "      <td>5</td>\n",
              "      <td>0.538306</td>\n",
              "      <td>1.564277</td>\n",
              "      <td>0.421629</td>\n",
              "      <td>20.679400</td>\n",
              "      <td>3.771900</td>\n",
              "    </tr>\n",
              "    <tr>\n",
              "      <td>6</td>\n",
              "      <td>0.870968</td>\n",
              "      <td>0.487614</td>\n",
              "      <td>0.335759</td>\n",
              "      <td>20.812000</td>\n",
              "      <td>3.747800</td>\n",
              "    </tr>\n",
              "    <tr>\n",
              "      <td>7</td>\n",
              "      <td>0.870968</td>\n",
              "      <td>0.457603</td>\n",
              "      <td>0.217565</td>\n",
              "      <td>20.816200</td>\n",
              "      <td>3.747100</td>\n",
              "    </tr>\n",
              "  </tbody>\n",
              "</table><p>"
            ],
            "text/plain": [
              "<IPython.core.display.HTML object>"
            ]
          },
          "metadata": {
            "tags": []
          }
        },
        {
          "output_type": "stream",
          "text": [
            "LOCAL_RANK: 0 - CUDA_VISIBLE_DEVICES: [0]\n"
          ],
          "name": "stderr"
        },
        {
          "output_type": "display_data",
          "data": {
            "text/html": [
              ""
            ],
            "text/plain": [
              "<IPython.core.display.HTML object>"
            ]
          },
          "metadata": {
            "tags": []
          }
        },
        {
          "output_type": "display_data",
          "data": {
            "text/markdown": "**Final Training Accuracy: 0.953**",
            "text/plain": [
              "<IPython.core.display.Markdown object>"
            ]
          },
          "metadata": {
            "tags": []
          }
        },
        {
          "output_type": "display_data",
          "data": {
            "text/markdown": "**Final Validation Accuracy: 0.871**",
            "text/plain": [
              "<IPython.core.display.Markdown object>"
            ]
          },
          "metadata": {
            "tags": []
          }
        }
      ]
    },
    {
      "cell_type": "code",
      "metadata": {
        "id": "sj5UCHYawLbk"
      },
      "source": [
        "try:\n",
        "    del model, trainer, task\n",
        "except:\n",
        "    pass\n",
        "try:\n",
        "    del train_dl, valid_dl\n",
        "except: \n",
        "    pass\n",
        "gc.collect()\n",
        "torch.cuda.empty_cache()"
      ],
      "execution_count": 45,
      "outputs": []
    },
    {
      "cell_type": "markdown",
      "metadata": {
        "id": "gP7Nflj-Y5mu"
      },
      "source": [
        "We do see much improved using the above tricks so we will discard them and work on improving our original *x*Resnet based model ..."
      ]
    },
    {
      "cell_type": "markdown",
      "metadata": {
        "id": "jIaNPUnsPwNZ"
      },
      "source": [
        "### Exploring Different Classifiers - \n",
        "\n",
        "In this section, I will take the above model and update the classifiers of the model and check their performance."
      ]
    },
    {
      "cell_type": "markdown",
      "metadata": {
        "id": "IhHFKDSKQOED"
      },
      "source": [
        "Let's add another block of layers (Dropout -> Linear -> Activation -> BatchNorm) after the `pooling layer` and the `final fc layer`  to the classifier of the model - "
      ]
    },
    {
      "cell_type": "code",
      "metadata": {
        "id": "pxj7575oQOMU"
      },
      "source": [
        "class xResModelv2(nn.Sequential):\n",
        "    def __init__(self, num_outputs: int, act_cls=nn.ReLU, sa=False):\n",
        "        conv = nn.Sequential(\n",
        "            ConvBnDropBlock(in_chans=3,  out_chans=32, kernel_size=3, stride=2, act_cls=act_cls, bias=False, use_bn=False),\n",
        "            ConvBnDropBlock(in_chans=32, out_chans=32, kernel_size=3, stride=1, act_cls=act_cls, bias=False, use_bn=False),\n",
        "            ConvBnDropBlock(in_chans=32, out_chans=64, kernel_size=3, stride=1, act_cls=act_cls, bias=False, use_bn=True),\n",
        "            )\n",
        "        pool = nn.MaxPool2d(kernel_size=3, stride=2, padding=1)\n",
        "        conv_stem  = nn.Sequential(conv, pool)     \n",
        "        block1 = xResBlock(in_chans=64, out_chans=64,  stride=1, kernel_size=3, act_cls=act_cls, sa=sa)\n",
        "        block2 = xResBlock(in_chans=64, out_chans=128, stride=2, kernel_size=3, act_cls=act_cls, sa=sa)\n",
        "        block3 = xResBlock(in_chans=128,out_chans=256, stride=2, kernel_size=3, act_cls=act_cls, sa=sa)\n",
        "        pool_flatten = nn.Sequential(nn.AdaptiveAvgPool2d(1), nn.Flatten())\n",
        "        fc1 = nn.Sequential(nn.Dropout(0.25), nn.Linear(256, 512, bias=False), act_cls(inplace=True), nn.BatchNorm1d(512))\n",
        "        fc2 = nn.Sequential(nn.Dropout(0.5), nn.Linear(512, num_outputs, bias=False)) \n",
        "        layers = OrderedDict(stem=conv_stem, block1=block1, block2=block2, block3=block3, pool_flatten=pool_flatten, fc1=fc1, fc2=fc2)\n",
        "        super(xResModelv2, self).__init__(layers)"
      ],
      "execution_count": 48,
      "outputs": []
    },
    {
      "cell_type": "markdown",
      "metadata": {
        "id": "eNDZOkCsQOVN"
      },
      "source": [
        "Training the model to evaluate performance."
      ]
    },
    {
      "cell_type": "code",
      "metadata": {
        "id": "5d9q87zmQOcz",
        "colab": {
          "base_uri": "https://localhost:8080/",
          "height": 692
        },
        "outputId": "69c62779-f39a-4399-fb09-022c6c5bbabd"
      },
      "source": [
        "exp_name = \"stage-01-xresblockv2\"\n",
        "train_dl, valid_dl = get_data(base_tfms, valid_transforms=base_tfms)\n",
        "\n",
        "# instantiate the model\n",
        "model = xResModelv2(num_outputs=len(CLASS_MAP), act_cls=nn.ReLU, sa=False)\n",
        "\n",
        "# Put the model into Lightning-Task\n",
        "task = ClassificationTask(model, lr=3e-03)\n",
        "\n",
        "cbs = [\n",
        "    ModelCheckpoint(monitor=\"val_acc\", filename=exp_name, dirpath=os.getcwd()), \n",
        "    NotebookProgressCallback(),\n",
        "]\n",
        "\n",
        "trainer = pl.Trainer(max_epochs=10, callbacks=cbs, gpus=1, precision=16, deterministic=True)\n",
        "trainer.fit(task, train_dataloader=train_dl, val_dataloaders=valid_dl)\n",
        "\n",
        "# Evalute the final performance of the Model\n",
        "tst_res = trainer.test(ckpt_path=\"best\", test_dataloaders=[train_dl, valid_dl], verbose=False)\n",
        "trn_acc, val_acc = tst_res[0][\"test_acc/dataloader_idx_0\"], tst_res[1][\"test_acc/dataloader_idx_1\"]\n",
        "\n",
        "display(Markdown(f\"**Final Training Accuracy: {round(trn_acc, 3)}**\"))\n",
        "display(Markdown(f\"**Final Validation Accuracy: {round(val_acc, 3)}**\"))"
      ],
      "execution_count": 49,
      "outputs": [
        {
          "output_type": "stream",
          "text": [
            "GPU available: True, used: True\n",
            "TPU available: False, using: 0 TPU cores\n",
            "Using native 16bit precision.\n",
            "LOCAL_RANK: 0 - CUDA_VISIBLE_DEVICES: [0]\n",
            "\n",
            "  | Name      | Type             | Params\n",
            "-----------------------------------------------\n",
            "0 | model     | xResModelv2      | 1.4 M \n",
            "1 | criterion | CrossEntropyLoss | 0     \n",
            "-----------------------------------------------\n",
            "1.4 M     Trainable params\n",
            "0         Non-trainable params\n",
            "1.4 M     Total params\n",
            "5.663     Total estimated model params size (MB)\n"
          ],
          "name": "stderr"
        },
        {
          "output_type": "display_data",
          "data": {
            "text/html": [
              ""
            ],
            "text/plain": [
              "<IPython.core.display.HTML object>"
            ]
          },
          "metadata": {
            "tags": []
          }
        },
        {
          "output_type": "display_data",
          "data": {
            "text/html": [
              "\n",
              "    <div>\n",
              "        <style>\n",
              "            progress {\n",
              "                border: none;\n",
              "                background-size: auto;\n",
              "            }\n",
              "        </style>\n",
              "      Training\n",
              "      <progress value='620' max='620' style='width:300px; height:20px; vertical-align: middle;'></progress>\n",
              "      [620/620 03:27, Epoch 9 {'loss': '0.265', 'v_num': 8}]\n",
              "    </div>\n",
              "    <table border=\"1\" class=\"dataframe\">\n",
              "  <thead>\n",
              "    <tr style=\"text-align: left;\">\n",
              "      <th>epoch</th>\n",
              "      <th>val_acc</th>\n",
              "      <th>val_loss</th>\n",
              "      <th>train_loss</th>\n",
              "      <th>time</th>\n",
              "      <th>samples/s</th>\n",
              "    </tr>\n",
              "  </thead>\n",
              "  <tbody>\n",
              "    <tr>\n",
              "      <td>0</td>\n",
              "      <td>0.016129</td>\n",
              "      <td>5.038570</td>\n",
              "      <td>4.086416</td>\n",
              "      <td>20.705600</td>\n",
              "      <td>3.767100</td>\n",
              "    </tr>\n",
              "    <tr>\n",
              "      <td>1</td>\n",
              "      <td>0.125000</td>\n",
              "      <td>3.903433</td>\n",
              "      <td>3.173642</td>\n",
              "      <td>20.594900</td>\n",
              "      <td>3.787300</td>\n",
              "    </tr>\n",
              "    <tr>\n",
              "      <td>2</td>\n",
              "      <td>0.072581</td>\n",
              "      <td>7.380940</td>\n",
              "      <td>2.370653</td>\n",
              "      <td>20.853100</td>\n",
              "      <td>3.740400</td>\n",
              "    </tr>\n",
              "    <tr>\n",
              "      <td>3</td>\n",
              "      <td>0.417339</td>\n",
              "      <td>2.091654</td>\n",
              "      <td>1.421726</td>\n",
              "      <td>20.571000</td>\n",
              "      <td>3.791700</td>\n",
              "    </tr>\n",
              "    <tr>\n",
              "      <td>4</td>\n",
              "      <td>0.655242</td>\n",
              "      <td>1.220579</td>\n",
              "      <td>1.190635</td>\n",
              "      <td>20.618400</td>\n",
              "      <td>3.783000</td>\n",
              "    </tr>\n",
              "    <tr>\n",
              "      <td>5</td>\n",
              "      <td>0.661290</td>\n",
              "      <td>1.148891</td>\n",
              "      <td>0.483984</td>\n",
              "      <td>20.917800</td>\n",
              "      <td>3.728900</td>\n",
              "    </tr>\n",
              "    <tr>\n",
              "      <td>6</td>\n",
              "      <td>0.842742</td>\n",
              "      <td>0.507935</td>\n",
              "      <td>0.334965</td>\n",
              "      <td>20.883100</td>\n",
              "      <td>3.735100</td>\n",
              "    </tr>\n",
              "    <tr>\n",
              "      <td>7</td>\n",
              "      <td>0.854839</td>\n",
              "      <td>0.485718</td>\n",
              "      <td>0.177109</td>\n",
              "      <td>20.675500</td>\n",
              "      <td>3.772600</td>\n",
              "    </tr>\n",
              "    <tr>\n",
              "      <td>8</td>\n",
              "      <td>0.864919</td>\n",
              "      <td>0.434257</td>\n",
              "      <td>0.453302</td>\n",
              "      <td>20.634100</td>\n",
              "      <td>3.780200</td>\n",
              "    </tr>\n",
              "    <tr>\n",
              "      <td>9</td>\n",
              "      <td>0.872984</td>\n",
              "      <td>0.428266</td>\n",
              "      <td>0.171896</td>\n",
              "      <td>20.725600</td>\n",
              "      <td>3.763500</td>\n",
              "    </tr>\n",
              "  </tbody>\n",
              "</table><p>"
            ],
            "text/plain": [
              "<IPython.core.display.HTML object>"
            ]
          },
          "metadata": {
            "tags": []
          }
        },
        {
          "output_type": "stream",
          "text": [
            "LOCAL_RANK: 0 - CUDA_VISIBLE_DEVICES: [0]\n"
          ],
          "name": "stderr"
        },
        {
          "output_type": "display_data",
          "data": {
            "text/html": [
              ""
            ],
            "text/plain": [
              "<IPython.core.display.HTML object>"
            ]
          },
          "metadata": {
            "tags": []
          }
        },
        {
          "output_type": "display_data",
          "data": {
            "text/markdown": "**Final Training Accuracy: 0.971**",
            "text/plain": [
              "<IPython.core.display.Markdown object>"
            ]
          },
          "metadata": {
            "tags": []
          }
        },
        {
          "output_type": "display_data",
          "data": {
            "text/markdown": "**Final Validation Accuracy: 0.873**",
            "text/plain": [
              "<IPython.core.display.Markdown object>"
            ]
          },
          "metadata": {
            "tags": []
          }
        }
      ]
    },
    {
      "cell_type": "markdown",
      "metadata": {
        "id": "qlvijK6rQOpQ"
      },
      "source": [
        "This time I will replace the classifier and pool layer of the Model with the model head that is created from by `fast.ai` s cnn_learner. The head begins with fastai's AdaptiveConcatPool2d. Then it uses a Flatten layer before going on blocks of BatchNorm, Dropout and Linear layers.\n",
        "\n",
        "[Source](https://docs.fast.ai/vision.learner.html#create_body)\n",
        "\n",
        "Let's build & train the model after adding these tweaks -"
      ]
    },
    {
      "cell_type": "code",
      "metadata": {
        "id": "lHPhIMGQauEY"
      },
      "source": [
        "class AdaptiveConcatPool2d(nn.Module):\n",
        "    \"Layer that concats `AdaptiveAvgPool2d` and `AdaptiveMaxPool2d`\"\n",
        "    def __init__(self, size=None):\n",
        "        super(AdaptiveConcatPool2d, self).__init__()\n",
        "        self.size = size or 1\n",
        "        self.ap = nn.AdaptiveAvgPool2d(self.size)\n",
        "        self.mp = nn.AdaptiveMaxPool2d(self.size)\n",
        "    def forward(self, x): \n",
        "        return torch.cat([self.mp(x), self.ap(x)], 1)\n",
        "\n",
        "\n",
        "class FastaiHead(nn.Sequential):\n",
        "    def __init__(self, nf: int, num_outputs: int, hiddens: int = 512, act_cls=nn.ReLU):\n",
        "        l1 = nn.BatchNorm1d(nf)\n",
        "        l2 = nn.Dropout(p=0.25)\n",
        "        l3 = nn.Linear(in_features=nf, out_features=hiddens, bias=False)\n",
        "        l4 = act_cls(inplace=True)\n",
        "        l5 = nn.BatchNorm1d(hiddens)\n",
        "        l6 = nn.Dropout(p=0.5)\n",
        "        fc = nn.Linear(in_features=hiddens, out_features=num_outputs, bias=False)\n",
        "\n",
        "        layers = OrderedDict(fc1=nn.Sequential(l1, l2, l3, l4, l5, l6), fc2=fc)\n",
        "        super(FastaiHead, self).__init__(layers)\n",
        "\n",
        "\n",
        "# Incorporate these into our xResNet based model :\n",
        "class xResModelv3(nn.Sequential):\n",
        "    def __init__(self, num_outputs: int, act_cls=nn.ReLU, sa=False):\n",
        "        conv = nn.Sequential(\n",
        "            ConvBnDropBlock(in_chans=3,  out_chans=32, kernel_size=3, stride=2, \n",
        "                            act_cls=act_cls, bias=False, use_bn=False),\n",
        "            ConvBnDropBlock(in_chans=32, out_chans=32, kernel_size=3, stride=1, \n",
        "                            act_cls=act_cls, bias=False, use_bn=False),\n",
        "            ConvBnDropBlock(in_chans=32, out_chans=64, kernel_size=3, stride=1, \n",
        "                            act_cls=act_cls, bias=False, use_bn=False),\n",
        "            )\n",
        "        pool = nn.MaxPool2d(kernel_size=3, stride=2, padding=1)\n",
        "        conv_stem  = nn.Sequential(conv, pool)     \n",
        "        block1 = xResBlock(in_chans=64, out_chans=64,  stride=1, kernel_size=3, act_cls=act_cls, sa=sa)\n",
        "        block2 = xResBlock(in_chans=64, out_chans=128, stride=2, kernel_size=3, act_cls=act_cls, sa=sa)\n",
        "        block3 = xResBlock(in_chans=128,out_chans=256, stride=2, kernel_size=3, act_cls=act_cls, sa=sa)\n",
        "        pool = nn.Sequential(AdaptiveConcatPool2d(1), nn.Flatten())\n",
        "        fc = FastaiHead(nf=2*256, num_outputs=num_outputs, act_cls=act_cls, hiddens=256)\n",
        "        layers = OrderedDict(stem=conv_stem, block1=block1, block2=block2, block3=block3, pool_flatten=pool, fc=fc)\n",
        "        super(xResModelv3, self).__init__(layers)"
      ],
      "execution_count": 52,
      "outputs": []
    },
    {
      "cell_type": "code",
      "metadata": {
        "colab": {
          "base_uri": "https://localhost:8080/",
          "height": 692
        },
        "id": "elv7lwyL0UfJ",
        "outputId": "d85b88c8-5494-45f9-c40c-31c93ed7212f"
      },
      "source": [
        "exp_name = \"stage-01-xresblockv3\"\n",
        "train_dl, valid_dl = get_data(base_tfms, valid_transforms=base_tfms)\n",
        "\n",
        "# instantiate the model\n",
        "model = xResModelv3(num_outputs=len(CLASS_MAP), act_cls=nn.ReLU, sa=False)\n",
        "\n",
        "# Put the model into Lightning-Task\n",
        "task = ClassificationTask(model, lr=3e-03)\n",
        "\n",
        "cbs = [\n",
        "    ModelCheckpoint(monitor=\"val_acc\", filename=exp_name, dirpath=os.getcwd()), \n",
        "    NotebookProgressCallback(),\n",
        "]\n",
        "\n",
        "trainer = pl.Trainer(max_epochs=10, callbacks=cbs, gpus=1, precision=16, deterministic=True)\n",
        "trainer.fit(task, train_dataloader=train_dl, val_dataloaders=valid_dl)\n",
        "\n",
        "# Evalute the final performance of the Model\n",
        "tst_res = trainer.test(ckpt_path=\"best\", test_dataloaders=[train_dl, valid_dl], verbose=False)\n",
        "trn_acc, val_acc = tst_res[0][\"test_acc/dataloader_idx_0\"], tst_res[1][\"test_acc/dataloader_idx_1\"]\n",
        "\n",
        "display(Markdown(f\"**Final Training Accuracy: {round(trn_acc, 3)}**\"))\n",
        "display(Markdown(f\"**Final Validation Accuracy: {round(val_acc, 3)}**\"))"
      ],
      "execution_count": 54,
      "outputs": [
        {
          "output_type": "stream",
          "text": [
            "GPU available: True, used: True\n",
            "TPU available: False, using: 0 TPU cores\n",
            "Using native 16bit precision.\n",
            "LOCAL_RANK: 0 - CUDA_VISIBLE_DEVICES: [0]\n",
            "\n",
            "  | Name      | Type             | Params\n",
            "-----------------------------------------------\n",
            "0 | model     | xResModelv3      | 1.4 M \n",
            "1 | criterion | CrossEntropyLoss | 0     \n",
            "-----------------------------------------------\n",
            "1.4 M     Trainable params\n",
            "0         Non-trainable params\n",
            "1.4 M     Total params\n",
            "5.601     Total estimated model params size (MB)\n"
          ],
          "name": "stderr"
        },
        {
          "output_type": "display_data",
          "data": {
            "text/html": [
              ""
            ],
            "text/plain": [
              "<IPython.core.display.HTML object>"
            ]
          },
          "metadata": {
            "tags": []
          }
        },
        {
          "output_type": "display_data",
          "data": {
            "text/html": [
              "\n",
              "    <div>\n",
              "        <style>\n",
              "            progress {\n",
              "                border: none;\n",
              "                background-size: auto;\n",
              "            }\n",
              "        </style>\n",
              "      Training\n",
              "      <progress value='620' max='620' style='width:300px; height:20px; vertical-align: middle;'></progress>\n",
              "      [620/620 03:26, Epoch 9 {'loss': '0.261', 'v_num': 10}]\n",
              "    </div>\n",
              "    <table border=\"1\" class=\"dataframe\">\n",
              "  <thead>\n",
              "    <tr style=\"text-align: left;\">\n",
              "      <th>epoch</th>\n",
              "      <th>val_acc</th>\n",
              "      <th>val_loss</th>\n",
              "      <th>train_loss</th>\n",
              "      <th>time</th>\n",
              "      <th>samples/s</th>\n",
              "    </tr>\n",
              "  </thead>\n",
              "  <tbody>\n",
              "    <tr>\n",
              "      <td>0</td>\n",
              "      <td>0.016129</td>\n",
              "      <td>6.530828</td>\n",
              "      <td>3.954202</td>\n",
              "      <td>20.482000</td>\n",
              "      <td>3.808200</td>\n",
              "    </tr>\n",
              "    <tr>\n",
              "      <td>1</td>\n",
              "      <td>0.030242</td>\n",
              "      <td>15.868407</td>\n",
              "      <td>2.806798</td>\n",
              "      <td>20.512200</td>\n",
              "      <td>3.802600</td>\n",
              "    </tr>\n",
              "    <tr>\n",
              "      <td>2</td>\n",
              "      <td>0.064516</td>\n",
              "      <td>9.161619</td>\n",
              "      <td>1.817714</td>\n",
              "      <td>20.442900</td>\n",
              "      <td>3.815500</td>\n",
              "    </tr>\n",
              "    <tr>\n",
              "      <td>3</td>\n",
              "      <td>0.056452</td>\n",
              "      <td>20.170443</td>\n",
              "      <td>1.167696</td>\n",
              "      <td>20.895000</td>\n",
              "      <td>3.732900</td>\n",
              "    </tr>\n",
              "    <tr>\n",
              "      <td>4</td>\n",
              "      <td>0.052419</td>\n",
              "      <td>6.413023</td>\n",
              "      <td>0.946135</td>\n",
              "      <td>20.629900</td>\n",
              "      <td>3.780900</td>\n",
              "    </tr>\n",
              "    <tr>\n",
              "      <td>5</td>\n",
              "      <td>0.427419</td>\n",
              "      <td>2.351232</td>\n",
              "      <td>0.877230</td>\n",
              "      <td>20.677300</td>\n",
              "      <td>3.772300</td>\n",
              "    </tr>\n",
              "    <tr>\n",
              "      <td>6</td>\n",
              "      <td>0.455645</td>\n",
              "      <td>1.880538</td>\n",
              "      <td>0.710208</td>\n",
              "      <td>20.754500</td>\n",
              "      <td>3.758200</td>\n",
              "    </tr>\n",
              "    <tr>\n",
              "      <td>7</td>\n",
              "      <td>0.743952</td>\n",
              "      <td>0.800156</td>\n",
              "      <td>0.282973</td>\n",
              "      <td>20.648500</td>\n",
              "      <td>3.777500</td>\n",
              "    </tr>\n",
              "    <tr>\n",
              "      <td>8</td>\n",
              "      <td>0.850806</td>\n",
              "      <td>0.472166</td>\n",
              "      <td>0.306539</td>\n",
              "      <td>20.593800</td>\n",
              "      <td>3.787600</td>\n",
              "    </tr>\n",
              "    <tr>\n",
              "      <td>9</td>\n",
              "      <td>0.866935</td>\n",
              "      <td>0.455058</td>\n",
              "      <td>0.238443</td>\n",
              "      <td>20.821800</td>\n",
              "      <td>3.746100</td>\n",
              "    </tr>\n",
              "  </tbody>\n",
              "</table><p>"
            ],
            "text/plain": [
              "<IPython.core.display.HTML object>"
            ]
          },
          "metadata": {
            "tags": []
          }
        },
        {
          "output_type": "stream",
          "text": [
            "LOCAL_RANK: 0 - CUDA_VISIBLE_DEVICES: [0]\n"
          ],
          "name": "stderr"
        },
        {
          "output_type": "display_data",
          "data": {
            "text/html": [
              ""
            ],
            "text/plain": [
              "<IPython.core.display.HTML object>"
            ]
          },
          "metadata": {
            "tags": []
          }
        },
        {
          "output_type": "display_data",
          "data": {
            "text/markdown": "**Final Training Accuracy: 0.974**",
            "text/plain": [
              "<IPython.core.display.Markdown object>"
            ]
          },
          "metadata": {
            "tags": []
          }
        },
        {
          "output_type": "display_data",
          "data": {
            "text/markdown": "**Final Validation Accuracy: 0.867**",
            "text/plain": [
              "<IPython.core.display.Markdown object>"
            ]
          },
          "metadata": {
            "tags": []
          }
        }
      ]
    },
    {
      "cell_type": "code",
      "metadata": {
        "id": "NxZ16TND0PdC"
      },
      "source": [
        "try:\n",
        "    del model, trainer, task\n",
        "except:\n",
        "    pass\n",
        "try:\n",
        "    del train_dl, valid_dl\n",
        "except: \n",
        "    pass\n",
        "gc.collect()\n",
        "torch.cuda.empty_cache()"
      ],
      "execution_count": 55,
      "outputs": []
    },
    {
      "cell_type": "markdown",
      "metadata": {
        "id": "tZ3rsDtRz9h0"
      },
      "source": [
        "The previous classifier performs better so let's take that and incorporate Mish + SelfAttention in that model and check for performace ..."
      ]
    },
    {
      "cell_type": "code",
      "metadata": {
        "colab": {
          "base_uri": "https://localhost:8080/",
          "height": 754
        },
        "id": "zCriQSVBz_T1",
        "outputId": "aadd5377-3e0d-494f-ba9b-fb120677f3b2"
      },
      "source": [
        "exp_name = \"stage-02-xresblockv2\"\n",
        "train_dl, valid_dl = get_data(base_tfms, valid_transforms=base_tfms)\n",
        "\n",
        "# instantiate the model\n",
        "model = xResModelv2(num_outputs=len(CLASS_MAP), act_cls=Mish, sa=True)\n",
        "\n",
        "# Put the model into Lightning-Task\n",
        "task = ClassificationTask(model, lr=3e-03)\n",
        "\n",
        "cbs = [\n",
        "    ModelCheckpoint(monitor=\"val_acc\", filename=exp_name, dirpath=os.getcwd()), \n",
        "    NotebookProgressCallback(),\n",
        "]\n",
        "\n",
        "trainer = pl.Trainer(max_epochs=12, callbacks=cbs, gpus=1, precision=16, deterministic=True)\n",
        "trainer.fit(task, train_dataloader=train_dl, val_dataloaders=valid_dl)\n",
        "\n",
        "# Evalute the final performance of the Model\n",
        "tst_res = trainer.test(ckpt_path=\"best\", test_dataloaders=[train_dl, valid_dl], verbose=False)\n",
        "trn_acc, val_acc = tst_res[0][\"test_acc/dataloader_idx_0\"], tst_res[1][\"test_acc/dataloader_idx_1\"]\n",
        "\n",
        "display(Markdown(f\"**Final Training Accuracy: {round(trn_acc, 3)}**\"))\n",
        "display(Markdown(f\"**Final Validation Accuracy: {round(val_acc, 3)}**\"))"
      ],
      "execution_count": 56,
      "outputs": [
        {
          "output_type": "stream",
          "text": [
            "GPU available: True, used: True\n",
            "TPU available: False, using: 0 TPU cores\n",
            "Using native 16bit precision.\n",
            "LOCAL_RANK: 0 - CUDA_VISIBLE_DEVICES: [0]\n",
            "\n",
            "  | Name      | Type             | Params\n",
            "-----------------------------------------------\n",
            "0 | model     | xResModelv2      | 1.5 M \n",
            "1 | criterion | CrossEntropyLoss | 0     \n",
            "-----------------------------------------------\n",
            "1.5 M     Trainable params\n",
            "0         Non-trainable params\n",
            "1.5 M     Total params\n",
            "6.007     Total estimated model params size (MB)\n"
          ],
          "name": "stderr"
        },
        {
          "output_type": "display_data",
          "data": {
            "text/html": [
              ""
            ],
            "text/plain": [
              "<IPython.core.display.HTML object>"
            ]
          },
          "metadata": {
            "tags": []
          }
        },
        {
          "output_type": "display_data",
          "data": {
            "text/html": [
              "\n",
              "    <div>\n",
              "        <style>\n",
              "            progress {\n",
              "                border: none;\n",
              "                background-size: auto;\n",
              "            }\n",
              "        </style>\n",
              "      Training\n",
              "      <progress value='744' max='744' style='width:300px; height:20px; vertical-align: middle;'></progress>\n",
              "      [744/744 04:13, Epoch 11 {'loss': '0.104', 'v_num': 11}]\n",
              "    </div>\n",
              "    <table border=\"1\" class=\"dataframe\">\n",
              "  <thead>\n",
              "    <tr style=\"text-align: left;\">\n",
              "      <th>epoch</th>\n",
              "      <th>val_acc</th>\n",
              "      <th>val_loss</th>\n",
              "      <th>train_loss</th>\n",
              "      <th>time</th>\n",
              "      <th>samples/s</th>\n",
              "    </tr>\n",
              "  </thead>\n",
              "  <tbody>\n",
              "    <tr>\n",
              "      <td>0</td>\n",
              "      <td>0.020161</td>\n",
              "      <td>6.012567</td>\n",
              "      <td>3.646578</td>\n",
              "      <td>21.022800</td>\n",
              "      <td>3.710300</td>\n",
              "    </tr>\n",
              "    <tr>\n",
              "      <td>1</td>\n",
              "      <td>0.070565</td>\n",
              "      <td>8.797585</td>\n",
              "      <td>2.639690</td>\n",
              "      <td>20.994700</td>\n",
              "      <td>3.715200</td>\n",
              "    </tr>\n",
              "    <tr>\n",
              "      <td>2</td>\n",
              "      <td>0.024194</td>\n",
              "      <td>16.169146</td>\n",
              "      <td>1.999533</td>\n",
              "      <td>20.847000</td>\n",
              "      <td>3.741500</td>\n",
              "    </tr>\n",
              "    <tr>\n",
              "      <td>3</td>\n",
              "      <td>0.028226</td>\n",
              "      <td>69.084694</td>\n",
              "      <td>0.998649</td>\n",
              "      <td>20.896700</td>\n",
              "      <td>3.732700</td>\n",
              "    </tr>\n",
              "    <tr>\n",
              "      <td>4</td>\n",
              "      <td>0.056452</td>\n",
              "      <td>29.266550</td>\n",
              "      <td>0.894572</td>\n",
              "      <td>20.868700</td>\n",
              "      <td>3.737600</td>\n",
              "    </tr>\n",
              "    <tr>\n",
              "      <td>5</td>\n",
              "      <td>0.151210</td>\n",
              "      <td>36.136978</td>\n",
              "      <td>1.109990</td>\n",
              "      <td>21.384400</td>\n",
              "      <td>3.647500</td>\n",
              "    </tr>\n",
              "    <tr>\n",
              "      <td>6</td>\n",
              "      <td>0.066532</td>\n",
              "      <td>19.022072</td>\n",
              "      <td>0.563144</td>\n",
              "      <td>21.754800</td>\n",
              "      <td>3.585400</td>\n",
              "    </tr>\n",
              "    <tr>\n",
              "      <td>7</td>\n",
              "      <td>0.717742</td>\n",
              "      <td>0.954129</td>\n",
              "      <td>0.224662</td>\n",
              "      <td>21.331800</td>\n",
              "      <td>3.656500</td>\n",
              "    </tr>\n",
              "    <tr>\n",
              "      <td>8</td>\n",
              "      <td>0.768145</td>\n",
              "      <td>0.821934</td>\n",
              "      <td>0.354794</td>\n",
              "      <td>20.918500</td>\n",
              "      <td>3.728800</td>\n",
              "    </tr>\n",
              "    <tr>\n",
              "      <td>9</td>\n",
              "      <td>0.836694</td>\n",
              "      <td>0.521264</td>\n",
              "      <td>0.124756</td>\n",
              "      <td>20.973700</td>\n",
              "      <td>3.718900</td>\n",
              "    </tr>\n",
              "    <tr>\n",
              "      <td>10</td>\n",
              "      <td>0.852823</td>\n",
              "      <td>0.456191</td>\n",
              "      <td>0.160299</td>\n",
              "      <td>21.037200</td>\n",
              "      <td>3.707700</td>\n",
              "    </tr>\n",
              "    <tr>\n",
              "      <td>11</td>\n",
              "      <td>0.856855</td>\n",
              "      <td>0.438399</td>\n",
              "      <td>0.164595</td>\n",
              "      <td>20.920500</td>\n",
              "      <td>3.728400</td>\n",
              "    </tr>\n",
              "  </tbody>\n",
              "</table><p>"
            ],
            "text/plain": [
              "<IPython.core.display.HTML object>"
            ]
          },
          "metadata": {
            "tags": []
          }
        },
        {
          "output_type": "stream",
          "text": [
            "LOCAL_RANK: 0 - CUDA_VISIBLE_DEVICES: [0]\n"
          ],
          "name": "stderr"
        },
        {
          "output_type": "display_data",
          "data": {
            "text/html": [
              ""
            ],
            "text/plain": [
              "<IPython.core.display.HTML object>"
            ]
          },
          "metadata": {
            "tags": []
          }
        },
        {
          "output_type": "display_data",
          "data": {
            "text/markdown": "**Final Training Accuracy: 0.991**",
            "text/plain": [
              "<IPython.core.display.Markdown object>"
            ]
          },
          "metadata": {
            "tags": []
          }
        },
        {
          "output_type": "display_data",
          "data": {
            "text/markdown": "**Final Validation Accuracy: 0.857**",
            "text/plain": [
              "<IPython.core.display.Markdown object>"
            ]
          },
          "metadata": {
            "tags": []
          }
        }
      ]
    },
    {
      "cell_type": "markdown",
      "metadata": {
        "id": "kxn2WDQpz_bq"
      },
      "source": [
        "Let's try with only Mish activation -"
      ]
    },
    {
      "cell_type": "code",
      "metadata": {
        "colab": {
          "base_uri": "https://localhost:8080/",
          "height": 754
        },
        "id": "-r4SVgn01Vg7",
        "outputId": "b07c2648-1cb1-451e-9ff1-73841ba1affb"
      },
      "source": [
        "exp_name = \"stage-03-xresblockv2\"\n",
        "train_dl, valid_dl = get_data(base_tfms, valid_transforms=base_tfms)\n",
        "\n",
        "# instantiate the model\n",
        "model = xResModelv2(num_outputs=len(CLASS_MAP), act_cls=Mish, sa=False)\n",
        "\n",
        "# Put the model into Lightning-Task\n",
        "task = ClassificationTask(model, lr=3e-03)\n",
        "\n",
        "cbs = [\n",
        "    ModelCheckpoint(monitor=\"val_acc\", filename=exp_name, dirpath=os.getcwd()), \n",
        "    NotebookProgressCallback(),\n",
        "]\n",
        "\n",
        "trainer = pl.Trainer(max_epochs=12, callbacks=cbs, gpus=1, precision=16, deterministic=True)\n",
        "trainer.fit(task, train_dataloader=train_dl, val_dataloaders=valid_dl)\n",
        "\n",
        "# Evalute the final performance of the Model\n",
        "tst_res = trainer.test(ckpt_path=\"best\", test_dataloaders=[train_dl, valid_dl], verbose=False)\n",
        "trn_acc, val_acc = tst_res[0][\"test_acc/dataloader_idx_0\"], tst_res[1][\"test_acc/dataloader_idx_1\"]\n",
        "\n",
        "display(Markdown(f\"**Final Training Accuracy: {round(trn_acc, 3)}**\"))\n",
        "display(Markdown(f\"**Final Validation Accuracy: {round(val_acc, 3)}**\"))"
      ],
      "execution_count": 57,
      "outputs": [
        {
          "output_type": "stream",
          "text": [
            "GPU available: True, used: True\n",
            "TPU available: False, using: 0 TPU cores\n",
            "Using native 16bit precision.\n",
            "LOCAL_RANK: 0 - CUDA_VISIBLE_DEVICES: [0]\n",
            "\n",
            "  | Name      | Type             | Params\n",
            "-----------------------------------------------\n",
            "0 | model     | xResModelv2      | 1.4 M \n",
            "1 | criterion | CrossEntropyLoss | 0     \n",
            "-----------------------------------------------\n",
            "1.4 M     Trainable params\n",
            "0         Non-trainable params\n",
            "1.4 M     Total params\n",
            "5.663     Total estimated model params size (MB)\n"
          ],
          "name": "stderr"
        },
        {
          "output_type": "display_data",
          "data": {
            "text/html": [
              ""
            ],
            "text/plain": [
              "<IPython.core.display.HTML object>"
            ]
          },
          "metadata": {
            "tags": []
          }
        },
        {
          "output_type": "display_data",
          "data": {
            "text/html": [
              "\n",
              "    <div>\n",
              "        <style>\n",
              "            progress {\n",
              "                border: none;\n",
              "                background-size: auto;\n",
              "            }\n",
              "        </style>\n",
              "      Training\n",
              "      <progress value='744' max='744' style='width:300px; height:20px; vertical-align: middle;'></progress>\n",
              "      [744/744 04:12, Epoch 11 {'loss': '0.126', 'v_num': 12}]\n",
              "    </div>\n",
              "    <table border=\"1\" class=\"dataframe\">\n",
              "  <thead>\n",
              "    <tr style=\"text-align: left;\">\n",
              "      <th>epoch</th>\n",
              "      <th>val_acc</th>\n",
              "      <th>val_loss</th>\n",
              "      <th>train_loss</th>\n",
              "      <th>time</th>\n",
              "      <th>samples/s</th>\n",
              "    </tr>\n",
              "  </thead>\n",
              "  <tbody>\n",
              "    <tr>\n",
              "      <td>0</td>\n",
              "      <td>0.016129</td>\n",
              "      <td>6.430037</td>\n",
              "      <td>3.540694</td>\n",
              "      <td>20.765000</td>\n",
              "      <td>3.756300</td>\n",
              "    </tr>\n",
              "    <tr>\n",
              "      <td>1</td>\n",
              "      <td>0.058468</td>\n",
              "      <td>8.318975</td>\n",
              "      <td>2.739634</td>\n",
              "      <td>21.019800</td>\n",
              "      <td>3.710800</td>\n",
              "    </tr>\n",
              "    <tr>\n",
              "      <td>2</td>\n",
              "      <td>0.046371</td>\n",
              "      <td>11.670553</td>\n",
              "      <td>1.184826</td>\n",
              "      <td>21.226800</td>\n",
              "      <td>3.674600</td>\n",
              "    </tr>\n",
              "    <tr>\n",
              "      <td>3</td>\n",
              "      <td>0.018145</td>\n",
              "      <td>25.858728</td>\n",
              "      <td>1.067604</td>\n",
              "      <td>20.820800</td>\n",
              "      <td>3.746300</td>\n",
              "    </tr>\n",
              "    <tr>\n",
              "      <td>4</td>\n",
              "      <td>0.352823</td>\n",
              "      <td>3.574652</td>\n",
              "      <td>1.179317</td>\n",
              "      <td>20.780500</td>\n",
              "      <td>3.753500</td>\n",
              "    </tr>\n",
              "    <tr>\n",
              "      <td>5</td>\n",
              "      <td>0.040323</td>\n",
              "      <td>14.726781</td>\n",
              "      <td>0.734755</td>\n",
              "      <td>20.982000</td>\n",
              "      <td>3.717500</td>\n",
              "    </tr>\n",
              "    <tr>\n",
              "      <td>6</td>\n",
              "      <td>0.419355</td>\n",
              "      <td>2.501947</td>\n",
              "      <td>0.588100</td>\n",
              "      <td>20.904400</td>\n",
              "      <td>3.731300</td>\n",
              "    </tr>\n",
              "    <tr>\n",
              "      <td>7</td>\n",
              "      <td>0.467742</td>\n",
              "      <td>2.379369</td>\n",
              "      <td>0.558247</td>\n",
              "      <td>21.151200</td>\n",
              "      <td>3.687700</td>\n",
              "    </tr>\n",
              "    <tr>\n",
              "      <td>8</td>\n",
              "      <td>0.794355</td>\n",
              "      <td>0.640727</td>\n",
              "      <td>0.221576</td>\n",
              "      <td>20.968700</td>\n",
              "      <td>3.719800</td>\n",
              "    </tr>\n",
              "    <tr>\n",
              "      <td>9</td>\n",
              "      <td>0.862903</td>\n",
              "      <td>0.462746</td>\n",
              "      <td>0.143309</td>\n",
              "      <td>21.018600</td>\n",
              "      <td>3.711000</td>\n",
              "    </tr>\n",
              "    <tr>\n",
              "      <td>10</td>\n",
              "      <td>0.866935</td>\n",
              "      <td>0.418976</td>\n",
              "      <td>0.166169</td>\n",
              "      <td>21.214100</td>\n",
              "      <td>3.676800</td>\n",
              "    </tr>\n",
              "    <tr>\n",
              "      <td>11</td>\n",
              "      <td>0.877016</td>\n",
              "      <td>0.409923</td>\n",
              "      <td>0.157784</td>\n",
              "      <td>21.177200</td>\n",
              "      <td>3.683200</td>\n",
              "    </tr>\n",
              "  </tbody>\n",
              "</table><p>"
            ],
            "text/plain": [
              "<IPython.core.display.HTML object>"
            ]
          },
          "metadata": {
            "tags": []
          }
        },
        {
          "output_type": "stream",
          "text": [
            "LOCAL_RANK: 0 - CUDA_VISIBLE_DEVICES: [0]\n"
          ],
          "name": "stderr"
        },
        {
          "output_type": "display_data",
          "data": {
            "text/html": [
              ""
            ],
            "text/plain": [
              "<IPython.core.display.HTML object>"
            ]
          },
          "metadata": {
            "tags": []
          }
        },
        {
          "output_type": "display_data",
          "data": {
            "text/markdown": "**Final Training Accuracy: 0.991**",
            "text/plain": [
              "<IPython.core.display.Markdown object>"
            ]
          },
          "metadata": {
            "tags": []
          }
        },
        {
          "output_type": "display_data",
          "data": {
            "text/markdown": "**Final Validation Accuracy: 0.877**",
            "text/plain": [
              "<IPython.core.display.Markdown object>"
            ]
          },
          "metadata": {
            "tags": []
          }
        }
      ]
    },
    {
      "cell_type": "code",
      "metadata": {
        "id": "cmhPCWVx110q"
      },
      "source": [
        "try:\n",
        "    del model, trainer, task\n",
        "except:\n",
        "    pass\n",
        "try:\n",
        "    del train_dl, valid_dl\n",
        "except: \n",
        "    pass\n",
        "gc.collect()\n",
        "torch.cuda.empty_cache()"
      ],
      "execution_count": 58,
      "outputs": []
    },
    {
      "cell_type": "markdown",
      "metadata": {
        "id": "-iQjOe802mUf"
      },
      "source": [
        "Let's the take the above model. To summarize the architecture of our current best model is as follows -\n",
        "- *x*ResNet based feature extractor with Mish activation. 3 *x*ResNet blocks.\n",
        "- classifier consits of : \n",
        "```\n",
        "(pool_flatten): Sequential(\n",
        "    (0): AdaptiveAvgPool2d(output_size=1)\n",
        "    (1): Flatten(start_dim=1, end_dim=-1)\n",
        "  )\n",
        "  (fc1): Sequential(\n",
        "    (0): Dropout(p=0.25, inplace=False)\n",
        "    (1): Linear(in_features=256, out_features=512, bias=False)\n",
        "    (2): Mish()\n",
        "    (3): BatchNorm1d(512, eps=1e-05, momentum=0.1, affine=True, track_running_stats=True)\n",
        "  )\n",
        "  (fc2): Sequential(\n",
        "    (0): Dropout(p=0.5, inplace=False)\n",
        "    (1): Linear(in_features=512, out_features=62, bias=False)\n",
        "  )\n",
        ")\n",
        "```"
      ]
    },
    {
      "cell_type": "markdown",
      "metadata": {
        "id": "tDs5CVKi19Om"
      },
      "source": [
        "### Regularization Techniques - \n",
        "> Reducing overfitting on training data via regularization\n",
        "\n",
        "In this section I will attempt to reduce the overfitting of our model using a common regularizing technique *data augmentation*."
      ]
    },
    {
      "cell_type": "markdown",
      "metadata": {
        "id": "vD66Vvyw2hiX"
      },
      "source": [
        "What is *data augmentation*? \n",
        "\n",
        "Data augmentation artificially increases the size of the training set by generating many realistic variants of each training instance. Data augmentation is a technique used for introducing variety in training data thereby helping to mitigate overfitting.\n",
        "\n",
        "\n",
        "Let's apply some *data augmentation* data input pipeline. We will only apply data augmentation to the training data. The validation data is not augmented. \n",
        "\n",
        "\n",
        "> Note: For the current task given we have to be very carefull while applying *data augmentation*. Since our Images our images can change depending on the rotation, I won't be applying any `rotation` or `flip` transforms. The only transforms i will be using are intorducing noise and changing the lighting of the images."
      ]
    },
    {
      "cell_type": "code",
      "metadata": {
        "id": "Qvgnvah64F35"
      },
      "source": [
        "base_tfms = A.Compose([\n",
        "    A.Resize(PRESIZE, PRESIZE, p=1.0),\n",
        "    A.CenterCrop(IMG_SIZE, IMG_SIZE, p=1.0),\n",
        "    A.ToFloat(max_value=255, p=1.0),\n",
        "    ToTensorV2(p=1.0),])\n",
        "\n",
        "aug_tfms = A.Compose([\n",
        "    A.Resize(PRESIZE, PRESIZE, p=1.0),\n",
        "    A.MultiplicativeNoise(multiplier=[0.5, 1.5], per_channel=True, p=0.5),\n",
        "    A.CLAHE(p=0.5),\n",
        "    A.Blur(blur_limit=10, always_apply=False, p=0.5),\n",
        "    A.JpegCompression(quality_lower=0, quality_upper=1, always_apply=False, p=0.5),\n",
        "    A.CenterCrop(IMG_SIZE, IMG_SIZE, p=1.0),\n",
        "    A.Cutout(num_holes=3, always_apply=False, p=0.5),\n",
        "    A.ToFloat(max_value=255, p=1.0),\n",
        "    ToTensorV2(p=1.0),])"
      ],
      "execution_count": 69,
      "outputs": []
    },
    {
      "cell_type": "markdown",
      "metadata": {
        "id": "9DMqPaqM5IhU"
      },
      "source": [
        "Let's view the augmentations on the Images -"
      ]
    },
    {
      "cell_type": "code",
      "metadata": {
        "id": "tprO_F9F475O",
        "colab": {
          "base_uri": "https://localhost:8080/",
          "height": 140
        },
        "outputId": "599fc6ab-4313-4aee-e8c0-02789a185d11"
      },
      "source": [
        "train_dl, valid_dl = get_data(transforms=aug_tfms, valid_transforms=base_tfms, bs=32)\n",
        "\n",
        "ims, lbls = next(iter(train_dl))\n",
        "ims, lbls = ims[:8], lbls[:8]\n",
        "\n",
        "grid = make_grid(ims, normalize=True).permute(1, 2, 0)\n",
        "fig = plt.figure(figsize=(13, 13))\n",
        "plt.imshow(grid) \n",
        "plt.title([CLASS_MAP[o] for o in lbls.data.cpu().numpy()])\n",
        "plt.axis(\"off\");"
      ],
      "execution_count": 70,
      "outputs": [
        {
          "output_type": "display_data",
          "data": {
            "image/png": "[encoded data removed]",
            "text/plain": [
              "<Figure size 936x936 with 1 Axes>"
            ]
          },
          "metadata": {
            "tags": [],
            "needs_background": "light"
          }
        }
      ]
    },
    {
      "cell_type": "markdown",
      "metadata": {
        "id": "oqstDxh55MJ0"
      },
      "source": [
        "Another common technique to reduce overfitting is to increase the *weight_decay*, so let's try it also.\n",
        "\n",
        "Let's train on the dataset and explore the performance. Since this time we are using heavy data augmentations we probably would need to train more to get good results - "
      ]
    },
    {
      "cell_type": "code",
      "metadata": {
        "id": "ujmZorMj5MOd",
        "colab": {
          "base_uri": "https://localhost:8080/",
          "height": 1000
        },
        "outputId": "6ab16b54-894d-45c5-c648-3b999cde8d3e"
      },
      "source": [
        "exp_name = \"stage-01-xResModelv2-aug-wd\"\n",
        "train_dl, valid_dl = get_data(transforms=aug_tfms, valid_transforms=base_tfms)\n",
        "\n",
        "# instantiate the model\n",
        "model = xResModelv2(num_outputs=len(CLASS_MAP), act_cls=Mish, sa=False)\n",
        "\n",
        "# Put the model into Lightning-Task\n",
        "task = ClassificationTask(model, lr=3e-03, wd=1e-01)\n",
        "\n",
        "cbs = [\n",
        "    ModelCheckpoint(monitor=\"val_acc\", filename=exp_name, dirpath=os.getcwd()), \n",
        "    NotebookProgressCallback(),\n",
        "]\n",
        "\n",
        "trainer = pl.Trainer(max_epochs=20, callbacks=cbs, gpus=1, precision=16, deterministic=True)\n",
        "trainer.fit(task, train_dataloader=train_dl, val_dataloaders=valid_dl)\n",
        "\n",
        "# Evalute the final performance of the Model\n",
        "tst_res = trainer.test(ckpt_path=\"best\", test_dataloaders=[train_dl, valid_dl], verbose=False)\n",
        "trn_acc, val_acc = tst_res[0][\"test_acc/dataloader_idx_0\"], tst_res[1][\"test_acc/dataloader_idx_1\"]\n",
        "\n",
        "display(Markdown(f\"**Final Training Accuracy: {round(trn_acc, 3)}**\"))\n",
        "display(Markdown(f\"**Final Validation Accuracy: {round(val_acc, 3)}**\"))"
      ],
      "execution_count": 72,
      "outputs": [
        {
          "output_type": "stream",
          "text": [
            "GPU available: True, used: True\n",
            "TPU available: False, using: 0 TPU cores\n",
            "Using native 16bit precision.\n",
            "LOCAL_RANK: 0 - CUDA_VISIBLE_DEVICES: [0]\n",
            "\n",
            "  | Name      | Type             | Params\n",
            "-----------------------------------------------\n",
            "0 | model     | xResModelv2      | 1.4 M \n",
            "1 | criterion | CrossEntropyLoss | 0     \n",
            "-----------------------------------------------\n",
            "1.4 M     Trainable params\n",
            "0         Non-trainable params\n",
            "1.4 M     Total params\n",
            "5.663     Total estimated model params size (MB)\n"
          ],
          "name": "stderr"
        },
        {
          "output_type": "display_data",
          "data": {
            "text/html": [
              ""
            ],
            "text/plain": [
              "<IPython.core.display.HTML object>"
            ]
          },
          "metadata": {
            "tags": []
          }
        },
        {
          "output_type": "display_data",
          "data": {
            "text/html": [
              "\n",
              "    <div>\n",
              "        <style>\n",
              "            progress {\n",
              "                border: none;\n",
              "                background-size: auto;\n",
              "            }\n",
              "        </style>\n",
              "      Training\n",
              "      <progress value='1240' max='1240' style='width:300px; height:20px; vertical-align: middle;'></progress>\n",
              "      [1240/1240 07:25, Epoch 19 {'loss': '0.234', 'v_num': 14}]\n",
              "    </div>\n",
              "    <table border=\"1\" class=\"dataframe\">\n",
              "  <thead>\n",
              "    <tr style=\"text-align: left;\">\n",
              "      <th>epoch</th>\n",
              "      <th>val_acc</th>\n",
              "      <th>val_loss</th>\n",
              "      <th>train_loss</th>\n",
              "      <th>time</th>\n",
              "      <th>samples/s</th>\n",
              "    </tr>\n",
              "  </thead>\n",
              "  <tbody>\n",
              "    <tr>\n",
              "      <td>0</td>\n",
              "      <td>0.016129</td>\n",
              "      <td>4.523890</td>\n",
              "      <td>4.230780</td>\n",
              "      <td>22.431600</td>\n",
              "      <td>3.477200</td>\n",
              "    </tr>\n",
              "    <tr>\n",
              "      <td>1</td>\n",
              "      <td>0.046371</td>\n",
              "      <td>4.788090</td>\n",
              "      <td>4.019662</td>\n",
              "      <td>22.171200</td>\n",
              "      <td>3.518100</td>\n",
              "    </tr>\n",
              "    <tr>\n",
              "      <td>2</td>\n",
              "      <td>0.048387</td>\n",
              "      <td>9.301105</td>\n",
              "      <td>3.082513</td>\n",
              "      <td>22.146900</td>\n",
              "      <td>3.521900</td>\n",
              "    </tr>\n",
              "    <tr>\n",
              "      <td>3</td>\n",
              "      <td>0.125000</td>\n",
              "      <td>5.002597</td>\n",
              "      <td>2.828414</td>\n",
              "      <td>22.245800</td>\n",
              "      <td>3.506300</td>\n",
              "    </tr>\n",
              "    <tr>\n",
              "      <td>4</td>\n",
              "      <td>0.268145</td>\n",
              "      <td>2.936829</td>\n",
              "      <td>2.340194</td>\n",
              "      <td>22.292200</td>\n",
              "      <td>3.499000</td>\n",
              "    </tr>\n",
              "    <tr>\n",
              "      <td>5</td>\n",
              "      <td>0.233871</td>\n",
              "      <td>4.198449</td>\n",
              "      <td>1.365895</td>\n",
              "      <td>22.238700</td>\n",
              "      <td>3.507400</td>\n",
              "    </tr>\n",
              "    <tr>\n",
              "      <td>6</td>\n",
              "      <td>0.195565</td>\n",
              "      <td>4.353131</td>\n",
              "      <td>1.281465</td>\n",
              "      <td>22.194800</td>\n",
              "      <td>3.514300</td>\n",
              "    </tr>\n",
              "    <tr>\n",
              "      <td>7</td>\n",
              "      <td>0.627016</td>\n",
              "      <td>1.190452</td>\n",
              "      <td>0.929793</td>\n",
              "      <td>22.199000</td>\n",
              "      <td>3.513700</td>\n",
              "    </tr>\n",
              "    <tr>\n",
              "      <td>8</td>\n",
              "      <td>0.618952</td>\n",
              "      <td>1.227076</td>\n",
              "      <td>1.123493</td>\n",
              "      <td>22.164300</td>\n",
              "      <td>3.519200</td>\n",
              "    </tr>\n",
              "    <tr>\n",
              "      <td>9</td>\n",
              "      <td>0.764113</td>\n",
              "      <td>0.774195</td>\n",
              "      <td>0.890450</td>\n",
              "      <td>22.460700</td>\n",
              "      <td>3.472700</td>\n",
              "    </tr>\n",
              "    <tr>\n",
              "      <td>10</td>\n",
              "      <td>0.804435</td>\n",
              "      <td>0.651170</td>\n",
              "      <td>1.023472</td>\n",
              "      <td>22.601100</td>\n",
              "      <td>3.451200</td>\n",
              "    </tr>\n",
              "    <tr>\n",
              "      <td>11</td>\n",
              "      <td>0.802419</td>\n",
              "      <td>0.592425</td>\n",
              "      <td>0.530447</td>\n",
              "      <td>22.316500</td>\n",
              "      <td>3.495200</td>\n",
              "    </tr>\n",
              "    <tr>\n",
              "      <td>12</td>\n",
              "      <td>0.719758</td>\n",
              "      <td>0.947803</td>\n",
              "      <td>0.734046</td>\n",
              "      <td>22.287800</td>\n",
              "      <td>3.499700</td>\n",
              "    </tr>\n",
              "    <tr>\n",
              "      <td>13</td>\n",
              "      <td>0.822581</td>\n",
              "      <td>0.581834</td>\n",
              "      <td>0.691289</td>\n",
              "      <td>22.412500</td>\n",
              "      <td>3.480200</td>\n",
              "    </tr>\n",
              "    <tr>\n",
              "      <td>14</td>\n",
              "      <td>0.808468</td>\n",
              "      <td>0.575211</td>\n",
              "      <td>0.216023</td>\n",
              "      <td>22.437100</td>\n",
              "      <td>3.476400</td>\n",
              "    </tr>\n",
              "    <tr>\n",
              "      <td>15</td>\n",
              "      <td>0.846774</td>\n",
              "      <td>0.494391</td>\n",
              "      <td>0.803129</td>\n",
              "      <td>22.198000</td>\n",
              "      <td>3.513800</td>\n",
              "    </tr>\n",
              "    <tr>\n",
              "      <td>16</td>\n",
              "      <td>0.844758</td>\n",
              "      <td>0.506107</td>\n",
              "      <td>0.303950</td>\n",
              "      <td>22.486100</td>\n",
              "      <td>3.468800</td>\n",
              "    </tr>\n",
              "    <tr>\n",
              "      <td>17</td>\n",
              "      <td>0.844758</td>\n",
              "      <td>0.485745</td>\n",
              "      <td>0.291726</td>\n",
              "      <td>22.298200</td>\n",
              "      <td>3.498000</td>\n",
              "    </tr>\n",
              "    <tr>\n",
              "      <td>18</td>\n",
              "      <td>0.834677</td>\n",
              "      <td>0.509185</td>\n",
              "      <td>0.311555</td>\n",
              "      <td>22.044200</td>\n",
              "      <td>3.538300</td>\n",
              "    </tr>\n",
              "    <tr>\n",
              "      <td>19</td>\n",
              "      <td>0.838710</td>\n",
              "      <td>0.494257</td>\n",
              "      <td>0.451326</td>\n",
              "      <td>22.215500</td>\n",
              "      <td>3.511100</td>\n",
              "    </tr>\n",
              "  </tbody>\n",
              "</table><p>"
            ],
            "text/plain": [
              "<IPython.core.display.HTML object>"
            ]
          },
          "metadata": {
            "tags": []
          }
        },
        {
          "output_type": "stream",
          "text": [
            "LOCAL_RANK: 0 - CUDA_VISIBLE_DEVICES: [0]\n"
          ],
          "name": "stderr"
        },
        {
          "output_type": "display_data",
          "data": {
            "text/html": [
              ""
            ],
            "text/plain": [
              "<IPython.core.display.HTML object>"
            ]
          },
          "metadata": {
            "tags": []
          }
        },
        {
          "output_type": "display_data",
          "data": {
            "text/markdown": "**Final Training Accuracy: 0.948**",
            "text/plain": [
              "<IPython.core.display.Markdown object>"
            ]
          },
          "metadata": {
            "tags": []
          }
        },
        {
          "output_type": "display_data",
          "data": {
            "text/markdown": "**Final Validation Accuracy: 0.847**",
            "text/plain": [
              "<IPython.core.display.Markdown object>"
            ]
          },
          "metadata": {
            "tags": []
          }
        }
      ]
    },
    {
      "cell_type": "code",
      "metadata": {
        "id": "N7iY6lNR4LJ_"
      },
      "source": [
        "try:\n",
        "    del model, trainer, task\n",
        "except: \n",
        "    pass\n",
        "try:\n",
        "    del train_dl, valid_dl\n",
        "except: \n",
        "    pass\n",
        "gc.collect()\n",
        "torch.cuda.empty_cache()"
      ],
      "execution_count": null,
      "outputs": []
    },
    {
      "cell_type": "markdown",
      "metadata": {
        "id": "MldJzAA27iSm"
      },
      "source": [
        "Our model is more robust now it is not overfitting on the training data let's see if we can improve furthur..."
      ]
    },
    {
      "cell_type": "markdown",
      "metadata": {
        "id": "EH_pziTJcO22"
      },
      "source": [
        "In this next part, I will be using label smoothing. Label smoothing is known to known to increase the generalization of the models. It reduces the ability of the model of the model to adapt to the training data by adding noise the original labels of the model on the training data.\n",
        "\n",
        "\n",
        "The effectiveness of label smoothing was explored in this [paper](https://arxiv.org/abs/1906.02629#:~:text=Smoothing%20the%20labels%20in%20this,language%20translation%20and%20speech%20recognition.)."
      ]
    },
    {
      "cell_type": "markdown",
      "metadata": {
        "id": "L5d3yMIxdQla"
      },
      "source": [
        "Here's how we can intorduce Label smoothing with CrossEntropy loss in pytorch -"
      ]
    },
    {
      "cell_type": "code",
      "metadata": {
        "id": "ZHCIm40TdNJ1"
      },
      "source": [
        "class LabelSmoothingCrossEntropy(nn.Module):\n",
        "    \"Cross Entropy Loss with Label Smoothing\"\n",
        "    def __init__(self, eps=0.1, reduction: str = \"mean\", weight=None):\n",
        "        super(LabelSmoothingCrossEntropy, self).__init__()\n",
        "        store_attr(\"eps, reduction, weight\")\n",
        "\n",
        "    def forward(self, input, target):\n",
        "        c = input.size()[1]\n",
        "        log_preds = F.log_softmax(input, dim=1)\n",
        "        if self.reduction == \"sum\":\n",
        "            loss = -log_preds.sum()\n",
        "        else:\n",
        "            loss = -log_preds.sum(dim=1)\n",
        "            if self.reduction == \"mean\":\n",
        "                loss = loss.mean()\n",
        "        loss = loss * self.eps / c + (1 - self.eps) * F.nll_loss(log_preds, target.long(), weight=self.weight, reduction=self.reduction)\n",
        "        return loss"
      ],
      "execution_count": 73,
      "outputs": []
    },
    {
      "cell_type": "markdown",
      "metadata": {
        "id": "aYbwR9a7iM-Y"
      },
      "source": [
        "With label smoothing we generally need to train more epochs to get decent results, so I will train increasing the number of epochs -"
      ]
    },
    {
      "cell_type": "code",
      "metadata": {
        "colab": {
          "base_uri": "https://localhost:8080/",
          "height": 1000
        },
        "id": "Lo6XVn1KgaNg",
        "outputId": "9759413b-0c90-4217-b4e7-42c2a6c6b72a"
      },
      "source": [
        "exp_name = \"stage-01-xResModelv2-aug-wd-labelsmooth\"\n",
        "train_dl, valid_dl = get_data(transforms=aug_tfms, valid_transforms=base_tfms)\n",
        "\n",
        "# instantiate the model\n",
        "model = MxResModelv2(num_outputs=len(CLASS_MAP), act_cls=Mish)\n",
        "\n",
        "# Put the model into Lightning-Task\n",
        "task = ClassificationTask(model, lr=3e-03, wd=1e-01, criterion=LabelSmoothingCrossEntropy())\n",
        "\n",
        "cbs = [\n",
        "    ModelCheckpoint(monitor=\"val_acc\", filename=exp_name, dirpath=os.getcwd()), \n",
        "    NotebookProgressCallback(),\n",
        "]\n",
        "\n",
        "trainer = pl.Trainer(max_epochs=30, callbacks=cbs, gpus=1, precision=16, deterministic=True)\n",
        "trainer.fit(task, train_dataloader=train_dl, val_dataloaders=valid_dl)\n",
        "\n",
        "# Evalute the final performance of the Model\n",
        "tst_res = trainer.test(ckpt_path=\"best\", test_dataloaders=[train_dl, valid_dl], verbose=False)\n",
        "trn_acc, val_acc = tst_res[0][\"test_acc/dataloader_idx_0\"], tst_res[1][\"test_acc/dataloader_idx_1\"]\n",
        "\n",
        "display(Markdown(f\"**Final Training Accuracy: {round(trn_acc, 3)}**\"))\n",
        "display(Markdown(f\"**Final Validation Accuracy: {round(val_acc, 3)}**\"))"
      ],
      "execution_count": 74,
      "outputs": [
        {
          "output_type": "stream",
          "text": [
            "GPU available: True, used: True\n",
            "TPU available: False, using: 0 TPU cores\n",
            "Using native 16bit precision.\n",
            "LOCAL_RANK: 0 - CUDA_VISIBLE_DEVICES: [0]\n",
            "\n",
            "  | Name      | Type                       | Params\n",
            "---------------------------------------------------------\n",
            "0 | model     | MxResModelv2               | 1.4 M \n",
            "1 | criterion | LabelSmoothingCrossEntropy | 0     \n",
            "---------------------------------------------------------\n",
            "1.4 M     Trainable params\n",
            "0         Non-trainable params\n",
            "1.4 M     Total params\n",
            "5.663     Total estimated model params size (MB)\n"
          ],
          "name": "stderr"
        },
        {
          "output_type": "display_data",
          "data": {
            "text/html": [
              ""
            ],
            "text/plain": [
              "<IPython.core.display.HTML object>"
            ]
          },
          "metadata": {
            "tags": []
          }
        },
        {
          "output_type": "display_data",
          "data": {
            "text/html": [
              "\n",
              "    <div>\n",
              "        <style>\n",
              "            progress {\n",
              "                border: none;\n",
              "                background-size: auto;\n",
              "            }\n",
              "        </style>\n",
              "      Training\n",
              "      <progress value='1860' max='1860' style='width:300px; height:20px; vertical-align: middle;'></progress>\n",
              "      [1860/1860 11:10, Epoch 29 {'loss': '0.961', 'v_num': 15}]\n",
              "    </div>\n",
              "    <table border=\"1\" class=\"dataframe\">\n",
              "  <thead>\n",
              "    <tr style=\"text-align: left;\">\n",
              "      <th>epoch</th>\n",
              "      <th>val_acc</th>\n",
              "      <th>val_loss</th>\n",
              "      <th>train_loss</th>\n",
              "      <th>time</th>\n",
              "      <th>samples/s</th>\n",
              "    </tr>\n",
              "  </thead>\n",
              "  <tbody>\n",
              "    <tr>\n",
              "      <td>0</td>\n",
              "      <td>0.016129</td>\n",
              "      <td>4.348478</td>\n",
              "      <td>4.349501</td>\n",
              "      <td>22.369300</td>\n",
              "      <td>3.486900</td>\n",
              "    </tr>\n",
              "    <tr>\n",
              "      <td>1</td>\n",
              "      <td>0.050403</td>\n",
              "      <td>4.108320</td>\n",
              "      <td>4.202126</td>\n",
              "      <td>22.818500</td>\n",
              "      <td>3.418300</td>\n",
              "    </tr>\n",
              "    <tr>\n",
              "      <td>2</td>\n",
              "      <td>0.018145</td>\n",
              "      <td>7.528708</td>\n",
              "      <td>3.873045</td>\n",
              "      <td>22.458500</td>\n",
              "      <td>3.473100</td>\n",
              "    </tr>\n",
              "    <tr>\n",
              "      <td>3</td>\n",
              "      <td>0.080645</td>\n",
              "      <td>4.971634</td>\n",
              "      <td>3.532441</td>\n",
              "      <td>22.341800</td>\n",
              "      <td>3.491200</td>\n",
              "    </tr>\n",
              "    <tr>\n",
              "      <td>4</td>\n",
              "      <td>0.114919</td>\n",
              "      <td>4.402682</td>\n",
              "      <td>2.760030</td>\n",
              "      <td>22.191100</td>\n",
              "      <td>3.514900</td>\n",
              "    </tr>\n",
              "    <tr>\n",
              "      <td>5</td>\n",
              "      <td>0.086694</td>\n",
              "      <td>7.028906</td>\n",
              "      <td>2.763040</td>\n",
              "      <td>22.295200</td>\n",
              "      <td>3.498500</td>\n",
              "    </tr>\n",
              "    <tr>\n",
              "      <td>6</td>\n",
              "      <td>0.225806</td>\n",
              "      <td>4.075784</td>\n",
              "      <td>2.738441</td>\n",
              "      <td>22.115500</td>\n",
              "      <td>3.526900</td>\n",
              "    </tr>\n",
              "    <tr>\n",
              "      <td>7</td>\n",
              "      <td>0.282258</td>\n",
              "      <td>3.424745</td>\n",
              "      <td>1.986200</td>\n",
              "      <td>22.026100</td>\n",
              "      <td>3.541200</td>\n",
              "    </tr>\n",
              "    <tr>\n",
              "      <td>8</td>\n",
              "      <td>0.600806</td>\n",
              "      <td>2.140024</td>\n",
              "      <td>2.239122</td>\n",
              "      <td>22.276900</td>\n",
              "      <td>3.501400</td>\n",
              "    </tr>\n",
              "    <tr>\n",
              "      <td>9</td>\n",
              "      <td>0.338710</td>\n",
              "      <td>3.013408</td>\n",
              "      <td>1.498490</td>\n",
              "      <td>22.195300</td>\n",
              "      <td>3.514300</td>\n",
              "    </tr>\n",
              "    <tr>\n",
              "      <td>10</td>\n",
              "      <td>0.512097</td>\n",
              "      <td>2.415886</td>\n",
              "      <td>1.710688</td>\n",
              "      <td>22.399600</td>\n",
              "      <td>3.482200</td>\n",
              "    </tr>\n",
              "    <tr>\n",
              "      <td>11</td>\n",
              "      <td>0.540323</td>\n",
              "      <td>2.263605</td>\n",
              "      <td>1.416689</td>\n",
              "      <td>23.052100</td>\n",
              "      <td>3.383600</td>\n",
              "    </tr>\n",
              "    <tr>\n",
              "      <td>12</td>\n",
              "      <td>0.709677</td>\n",
              "      <td>1.644592</td>\n",
              "      <td>1.767893</td>\n",
              "      <td>22.660500</td>\n",
              "      <td>3.442100</td>\n",
              "    </tr>\n",
              "    <tr>\n",
              "      <td>13</td>\n",
              "      <td>0.760081</td>\n",
              "      <td>1.551725</td>\n",
              "      <td>1.353355</td>\n",
              "      <td>22.060400</td>\n",
              "      <td>3.535700</td>\n",
              "    </tr>\n",
              "    <tr>\n",
              "      <td>14</td>\n",
              "      <td>0.782258</td>\n",
              "      <td>1.528853</td>\n",
              "      <td>1.256292</td>\n",
              "      <td>22.261100</td>\n",
              "      <td>3.503900</td>\n",
              "    </tr>\n",
              "    <tr>\n",
              "      <td>15</td>\n",
              "      <td>0.772177</td>\n",
              "      <td>1.549260</td>\n",
              "      <td>1.312977</td>\n",
              "      <td>22.385200</td>\n",
              "      <td>3.484400</td>\n",
              "    </tr>\n",
              "    <tr>\n",
              "      <td>16</td>\n",
              "      <td>0.822581</td>\n",
              "      <td>1.425406</td>\n",
              "      <td>1.318811</td>\n",
              "      <td>22.019000</td>\n",
              "      <td>3.542400</td>\n",
              "    </tr>\n",
              "    <tr>\n",
              "      <td>17</td>\n",
              "      <td>0.830645</td>\n",
              "      <td>1.396279</td>\n",
              "      <td>1.377984</td>\n",
              "      <td>22.048900</td>\n",
              "      <td>3.537600</td>\n",
              "    </tr>\n",
              "    <tr>\n",
              "      <td>18</td>\n",
              "      <td>0.802419</td>\n",
              "      <td>1.403610</td>\n",
              "      <td>1.181906</td>\n",
              "      <td>21.916300</td>\n",
              "      <td>3.559000</td>\n",
              "    </tr>\n",
              "    <tr>\n",
              "      <td>19</td>\n",
              "      <td>0.838710</td>\n",
              "      <td>1.331786</td>\n",
              "      <td>1.210897</td>\n",
              "      <td>22.389200</td>\n",
              "      <td>3.483800</td>\n",
              "    </tr>\n",
              "    <tr>\n",
              "      <td>20</td>\n",
              "      <td>0.834677</td>\n",
              "      <td>1.333761</td>\n",
              "      <td>0.979657</td>\n",
              "      <td>23.084300</td>\n",
              "      <td>3.378900</td>\n",
              "    </tr>\n",
              "    <tr>\n",
              "      <td>21</td>\n",
              "      <td>0.822581</td>\n",
              "      <td>1.344080</td>\n",
              "      <td>1.119964</td>\n",
              "      <td>22.477300</td>\n",
              "      <td>3.470200</td>\n",
              "    </tr>\n",
              "    <tr>\n",
              "      <td>22</td>\n",
              "      <td>0.832661</td>\n",
              "      <td>1.326540</td>\n",
              "      <td>1.002003</td>\n",
              "      <td>22.288300</td>\n",
              "      <td>3.499600</td>\n",
              "    </tr>\n",
              "    <tr>\n",
              "      <td>23</td>\n",
              "      <td>0.840726</td>\n",
              "      <td>1.332387</td>\n",
              "      <td>0.988811</td>\n",
              "      <td>22.252500</td>\n",
              "      <td>3.505200</td>\n",
              "    </tr>\n",
              "    <tr>\n",
              "      <td>24</td>\n",
              "      <td>0.842742</td>\n",
              "      <td>1.323753</td>\n",
              "      <td>1.075783</td>\n",
              "      <td>22.151100</td>\n",
              "      <td>3.521300</td>\n",
              "    </tr>\n",
              "    <tr>\n",
              "      <td>25</td>\n",
              "      <td>0.846774</td>\n",
              "      <td>1.325418</td>\n",
              "      <td>0.942842</td>\n",
              "      <td>22.135100</td>\n",
              "      <td>3.523800</td>\n",
              "    </tr>\n",
              "    <tr>\n",
              "      <td>26</td>\n",
              "      <td>0.834677</td>\n",
              "      <td>1.330165</td>\n",
              "      <td>1.011587</td>\n",
              "      <td>21.868200</td>\n",
              "      <td>3.566800</td>\n",
              "    </tr>\n",
              "    <tr>\n",
              "      <td>27</td>\n",
              "      <td>0.844758</td>\n",
              "      <td>1.323250</td>\n",
              "      <td>0.967449</td>\n",
              "      <td>22.411300</td>\n",
              "      <td>3.480400</td>\n",
              "    </tr>\n",
              "    <tr>\n",
              "      <td>28</td>\n",
              "      <td>0.842742</td>\n",
              "      <td>1.324941</td>\n",
              "      <td>0.945278</td>\n",
              "      <td>22.307800</td>\n",
              "      <td>3.496500</td>\n",
              "    </tr>\n",
              "    <tr>\n",
              "      <td>29</td>\n",
              "      <td>0.840726</td>\n",
              "      <td>1.317780</td>\n",
              "      <td>0.960689</td>\n",
              "      <td>22.386500</td>\n",
              "      <td>3.484200</td>\n",
              "    </tr>\n",
              "  </tbody>\n",
              "</table><p>"
            ],
            "text/plain": [
              "<IPython.core.display.HTML object>"
            ]
          },
          "metadata": {
            "tags": []
          }
        },
        {
          "output_type": "stream",
          "text": [
            "LOCAL_RANK: 0 - CUDA_VISIBLE_DEVICES: [0]\n"
          ],
          "name": "stderr"
        },
        {
          "output_type": "display_data",
          "data": {
            "text/html": [
              ""
            ],
            "text/plain": [
              "<IPython.core.display.HTML object>"
            ]
          },
          "metadata": {
            "tags": []
          }
        },
        {
          "output_type": "display_data",
          "data": {
            "text/markdown": "**Final Training Accuracy: 0.988**",
            "text/plain": [
              "<IPython.core.display.Markdown object>"
            ]
          },
          "metadata": {
            "tags": []
          }
        },
        {
          "output_type": "display_data",
          "data": {
            "text/markdown": "**Final Validation Accuracy: 0.847**",
            "text/plain": [
              "<IPython.core.display.Markdown object>"
            ]
          },
          "metadata": {
            "tags": []
          }
        }
      ]
    },
    {
      "cell_type": "code",
      "metadata": {
        "id": "KxxAQlWx-Uva"
      },
      "source": [
        "def init_cnn(m):\n",
        "    \"apply kaiming_normal initialization to the weights of a cnn\"\n",
        "    if getattr(m, 'bias', None) is not None: \n",
        "        nn.init.constant_(m.bias, 0)\n",
        "    if isinstance(m, (nn.Conv1d,nn.Conv2d,nn.Conv3d,nn.Linear)): \n",
        "        nn.init.kaiming_normal_(m.weight)\n",
        "    for l in m.children(): \n",
        "        init_cnn(l)"
      ],
      "execution_count": 78,
      "outputs": []
    },
    {
      "cell_type": "code",
      "metadata": {
        "colab": {
          "base_uri": "https://localhost:8080/",
          "height": 1000
        },
        "id": "mvChMKzl9zEl",
        "outputId": "9b354f7d-3f8d-4d74-c22f-6e2b8357bf58"
      },
      "source": [
        "exp_name = \"stage-02-xResModelv2-aug-wd-labelsmooth\"\n",
        "train_dl, valid_dl = get_data(transforms=aug_tfms, valid_transforms=base_tfms)\n",
        "\n",
        "# instantiate the model\n",
        "model = MxResModelv2(num_outputs=len(CLASS_MAP), act_cls=nn.ReLU)\n",
        "init_cnn(model)\n",
        "\n",
        "# Put the model into Lightning-Task\n",
        "task = ClassificationTask(model, lr=3e-03, wd=1e-01, criterion=LabelSmoothingCrossEntropy())\n",
        "\n",
        "cbs = [\n",
        "    ModelCheckpoint(monitor=\"val_acc\", filename=exp_name, dirpath=os.getcwd()), \n",
        "    NotebookProgressCallback(),\n",
        "]\n",
        "\n",
        "trainer = pl.Trainer(max_epochs=30, callbacks=cbs, gpus=1, precision=16, deterministic=True)\n",
        "trainer.fit(task, train_dataloader=train_dl, val_dataloaders=valid_dl)\n",
        "\n",
        "# Evalute the final performance of the Model\n",
        "tst_res = trainer.test(ckpt_path=\"best\", test_dataloaders=[train_dl, valid_dl], verbose=False)\n",
        "trn_acc, val_acc = tst_res[0][\"test_acc/dataloader_idx_0\"], tst_res[1][\"test_acc/dataloader_idx_1\"]\n",
        "\n",
        "display(Markdown(f\"**Final Training Accuracy: {round(trn_acc, 3)}**\"))\n",
        "display(Markdown(f\"**Final Validation Accuracy: {round(val_acc, 3)}**\"))"
      ],
      "execution_count": 79,
      "outputs": [
        {
          "output_type": "stream",
          "text": [
            "GPU available: True, used: True\n",
            "TPU available: False, using: 0 TPU cores\n",
            "Using native 16bit precision.\n",
            "LOCAL_RANK: 0 - CUDA_VISIBLE_DEVICES: [0]\n",
            "\n",
            "  | Name      | Type                       | Params\n",
            "---------------------------------------------------------\n",
            "0 | model     | MxResModelv2               | 1.4 M \n",
            "1 | criterion | LabelSmoothingCrossEntropy | 0     \n",
            "---------------------------------------------------------\n",
            "1.4 M     Trainable params\n",
            "0         Non-trainable params\n",
            "1.4 M     Total params\n",
            "5.663     Total estimated model params size (MB)\n"
          ],
          "name": "stderr"
        },
        {
          "output_type": "display_data",
          "data": {
            "text/html": [
              ""
            ],
            "text/plain": [
              "<IPython.core.display.HTML object>"
            ]
          },
          "metadata": {
            "tags": []
          }
        },
        {
          "output_type": "display_data",
          "data": {
            "text/html": [
              "\n",
              "    <div>\n",
              "        <style>\n",
              "            progress {\n",
              "                border: none;\n",
              "                background-size: auto;\n",
              "            }\n",
              "        </style>\n",
              "      Training\n",
              "      <progress value='1860' max='1860' style='width:300px; height:20px; vertical-align: middle;'></progress>\n",
              "      [1860/1860 11:12, Epoch 29 {'loss': '1.09', 'v_num': 16}]\n",
              "    </div>\n",
              "    <table border=\"1\" class=\"dataframe\">\n",
              "  <thead>\n",
              "    <tr style=\"text-align: left;\">\n",
              "      <th>epoch</th>\n",
              "      <th>val_acc</th>\n",
              "      <th>val_loss</th>\n",
              "      <th>train_loss</th>\n",
              "      <th>time</th>\n",
              "      <th>samples/s</th>\n",
              "    </tr>\n",
              "  </thead>\n",
              "  <tbody>\n",
              "    <tr>\n",
              "      <td>0</td>\n",
              "      <td>0.014113</td>\n",
              "      <td>4.265422</td>\n",
              "      <td>5.825770</td>\n",
              "      <td>22.397100</td>\n",
              "      <td>3.482600</td>\n",
              "    </tr>\n",
              "    <tr>\n",
              "      <td>1</td>\n",
              "      <td>0.024194</td>\n",
              "      <td>4.374311</td>\n",
              "      <td>5.736481</td>\n",
              "      <td>22.086200</td>\n",
              "      <td>3.531600</td>\n",
              "    </tr>\n",
              "    <tr>\n",
              "      <td>2</td>\n",
              "      <td>0.038306</td>\n",
              "      <td>4.938657</td>\n",
              "      <td>4.928933</td>\n",
              "      <td>22.436900</td>\n",
              "      <td>3.476400</td>\n",
              "    </tr>\n",
              "    <tr>\n",
              "      <td>3</td>\n",
              "      <td>0.054435</td>\n",
              "      <td>4.110444</td>\n",
              "      <td>4.495432</td>\n",
              "      <td>22.148000</td>\n",
              "      <td>3.521800</td>\n",
              "    </tr>\n",
              "    <tr>\n",
              "      <td>4</td>\n",
              "      <td>0.062500</td>\n",
              "      <td>4.404708</td>\n",
              "      <td>4.163874</td>\n",
              "      <td>22.426200</td>\n",
              "      <td>3.478100</td>\n",
              "    </tr>\n",
              "    <tr>\n",
              "      <td>5</td>\n",
              "      <td>0.094758</td>\n",
              "      <td>4.556996</td>\n",
              "      <td>4.219239</td>\n",
              "      <td>22.090400</td>\n",
              "      <td>3.530900</td>\n",
              "    </tr>\n",
              "    <tr>\n",
              "      <td>6</td>\n",
              "      <td>0.125000</td>\n",
              "      <td>3.668754</td>\n",
              "      <td>3.526898</td>\n",
              "      <td>22.396000</td>\n",
              "      <td>3.482800</td>\n",
              "    </tr>\n",
              "    <tr>\n",
              "      <td>7</td>\n",
              "      <td>0.235887</td>\n",
              "      <td>3.101495</td>\n",
              "      <td>3.047855</td>\n",
              "      <td>22.860000</td>\n",
              "      <td>3.412100</td>\n",
              "    </tr>\n",
              "    <tr>\n",
              "      <td>8</td>\n",
              "      <td>0.318548</td>\n",
              "      <td>2.821846</td>\n",
              "      <td>2.892351</td>\n",
              "      <td>22.138000</td>\n",
              "      <td>3.523400</td>\n",
              "    </tr>\n",
              "    <tr>\n",
              "      <td>9</td>\n",
              "      <td>0.459677</td>\n",
              "      <td>2.389835</td>\n",
              "      <td>2.602592</td>\n",
              "      <td>22.673200</td>\n",
              "      <td>3.440200</td>\n",
              "    </tr>\n",
              "    <tr>\n",
              "      <td>10</td>\n",
              "      <td>0.332661</td>\n",
              "      <td>2.817755</td>\n",
              "      <td>1.984826</td>\n",
              "      <td>22.569200</td>\n",
              "      <td>3.456000</td>\n",
              "    </tr>\n",
              "    <tr>\n",
              "      <td>11</td>\n",
              "      <td>0.701613</td>\n",
              "      <td>1.746209</td>\n",
              "      <td>2.242778</td>\n",
              "      <td>22.504800</td>\n",
              "      <td>3.465900</td>\n",
              "    </tr>\n",
              "    <tr>\n",
              "      <td>12</td>\n",
              "      <td>0.576613</td>\n",
              "      <td>2.065934</td>\n",
              "      <td>1.960177</td>\n",
              "      <td>22.326900</td>\n",
              "      <td>3.493500</td>\n",
              "    </tr>\n",
              "    <tr>\n",
              "      <td>13</td>\n",
              "      <td>0.750000</td>\n",
              "      <td>1.585303</td>\n",
              "      <td>1.430712</td>\n",
              "      <td>22.087900</td>\n",
              "      <td>3.531400</td>\n",
              "    </tr>\n",
              "    <tr>\n",
              "      <td>14</td>\n",
              "      <td>0.727823</td>\n",
              "      <td>1.712558</td>\n",
              "      <td>1.667583</td>\n",
              "      <td>22.397600</td>\n",
              "      <td>3.482500</td>\n",
              "    </tr>\n",
              "    <tr>\n",
              "      <td>15</td>\n",
              "      <td>0.816532</td>\n",
              "      <td>1.412966</td>\n",
              "      <td>1.532561</td>\n",
              "      <td>22.435400</td>\n",
              "      <td>3.476700</td>\n",
              "    </tr>\n",
              "    <tr>\n",
              "      <td>16</td>\n",
              "      <td>0.820565</td>\n",
              "      <td>1.431967</td>\n",
              "      <td>1.550118</td>\n",
              "      <td>22.583900</td>\n",
              "      <td>3.453800</td>\n",
              "    </tr>\n",
              "    <tr>\n",
              "      <td>17</td>\n",
              "      <td>0.629032</td>\n",
              "      <td>1.929563</td>\n",
              "      <td>1.418655</td>\n",
              "      <td>22.365700</td>\n",
              "      <td>3.487500</td>\n",
              "    </tr>\n",
              "    <tr>\n",
              "      <td>18</td>\n",
              "      <td>0.810484</td>\n",
              "      <td>1.416453</td>\n",
              "      <td>1.498399</td>\n",
              "      <td>22.535800</td>\n",
              "      <td>3.461200</td>\n",
              "    </tr>\n",
              "    <tr>\n",
              "      <td>19</td>\n",
              "      <td>0.832661</td>\n",
              "      <td>1.389648</td>\n",
              "      <td>1.407748</td>\n",
              "      <td>22.415200</td>\n",
              "      <td>3.479800</td>\n",
              "    </tr>\n",
              "    <tr>\n",
              "      <td>20</td>\n",
              "      <td>0.844758</td>\n",
              "      <td>1.291006</td>\n",
              "      <td>1.492410</td>\n",
              "      <td>22.582600</td>\n",
              "      <td>3.454000</td>\n",
              "    </tr>\n",
              "    <tr>\n",
              "      <td>21</td>\n",
              "      <td>0.850806</td>\n",
              "      <td>1.304508</td>\n",
              "      <td>1.269582</td>\n",
              "      <td>22.763400</td>\n",
              "      <td>3.426500</td>\n",
              "    </tr>\n",
              "    <tr>\n",
              "      <td>22</td>\n",
              "      <td>0.854839</td>\n",
              "      <td>1.258499</td>\n",
              "      <td>1.167731</td>\n",
              "      <td>22.453700</td>\n",
              "      <td>3.473800</td>\n",
              "    </tr>\n",
              "    <tr>\n",
              "      <td>23</td>\n",
              "      <td>0.846774</td>\n",
              "      <td>1.255285</td>\n",
              "      <td>1.056723</td>\n",
              "      <td>22.650100</td>\n",
              "      <td>3.443700</td>\n",
              "    </tr>\n",
              "    <tr>\n",
              "      <td>24</td>\n",
              "      <td>0.848790</td>\n",
              "      <td>1.246837</td>\n",
              "      <td>1.082078</td>\n",
              "      <td>22.503000</td>\n",
              "      <td>3.466200</td>\n",
              "    </tr>\n",
              "    <tr>\n",
              "      <td>25</td>\n",
              "      <td>0.854839</td>\n",
              "      <td>1.252134</td>\n",
              "      <td>1.122165</td>\n",
              "      <td>22.636700</td>\n",
              "      <td>3.445700</td>\n",
              "    </tr>\n",
              "    <tr>\n",
              "      <td>26</td>\n",
              "      <td>0.858871</td>\n",
              "      <td>1.240015</td>\n",
              "      <td>1.056244</td>\n",
              "      <td>22.239400</td>\n",
              "      <td>3.507300</td>\n",
              "    </tr>\n",
              "    <tr>\n",
              "      <td>27</td>\n",
              "      <td>0.858871</td>\n",
              "      <td>1.236651</td>\n",
              "      <td>1.054304</td>\n",
              "      <td>22.065900</td>\n",
              "      <td>3.534900</td>\n",
              "    </tr>\n",
              "    <tr>\n",
              "      <td>28</td>\n",
              "      <td>0.856855</td>\n",
              "      <td>1.233776</td>\n",
              "      <td>1.003035</td>\n",
              "      <td>22.018500</td>\n",
              "      <td>3.542500</td>\n",
              "    </tr>\n",
              "    <tr>\n",
              "      <td>29</td>\n",
              "      <td>0.858871</td>\n",
              "      <td>1.235082</td>\n",
              "      <td>1.217275</td>\n",
              "      <td>22.420200</td>\n",
              "      <td>3.479000</td>\n",
              "    </tr>\n",
              "  </tbody>\n",
              "</table><p>"
            ],
            "text/plain": [
              "<IPython.core.display.HTML object>"
            ]
          },
          "metadata": {
            "tags": []
          }
        },
        {
          "output_type": "stream",
          "text": [
            "LOCAL_RANK: 0 - CUDA_VISIBLE_DEVICES: [0]\n"
          ],
          "name": "stderr"
        },
        {
          "output_type": "display_data",
          "data": {
            "text/html": [
              ""
            ],
            "text/plain": [
              "<IPython.core.display.HTML object>"
            ]
          },
          "metadata": {
            "tags": []
          }
        },
        {
          "output_type": "display_data",
          "data": {
            "text/markdown": "**Final Training Accuracy: 0.973**",
            "text/plain": [
              "<IPython.core.display.Markdown object>"
            ]
          },
          "metadata": {
            "tags": []
          }
        },
        {
          "output_type": "display_data",
          "data": {
            "text/markdown": "**Final Validation Accuracy: 0.859**",
            "text/plain": [
              "<IPython.core.display.Markdown object>"
            ]
          },
          "metadata": {
            "tags": []
          }
        }
      ]
    },
    {
      "cell_type": "code",
      "metadata": {
        "id": "_Bm0HrZBck5H"
      },
      "source": [
        "try:\n",
        "    del model, trainer, task\n",
        "except: \n",
        "    pass\n",
        "try:\n",
        "    del train_dl, valid_dl\n",
        "except: \n",
        "    pass\n",
        "gc.collect()\n",
        "torch.cuda.empty_cache()"
      ],
      "execution_count": 80,
      "outputs": []
    },
    {
      "cell_type": "code",
      "metadata": {
        "id": "Ensl6dWVBeQk"
      },
      "source": [
        ""
      ],
      "execution_count": null,
      "outputs": []
    }
  ]
}