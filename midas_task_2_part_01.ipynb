{
 "cells": [
  {
   "cell_type": "markdown",
   "metadata": {
    "colab_type": "text",
    "id": "view-in-github"
   },
   "source": [
    "<a href=\"https://colab.research.google.com/github/benihime91/midas-summer-internship-2021/blob/main/midas_task_2_part_01.ipynb\" target=\"_parent\"><img src=\"https://colab.research.google.com/assets/colab-badge.svg\" alt=\"Open In Colab\"/></a>"
   ]
  },
  {
   "cell_type": "markdown",
   "metadata": {
    "id": "02qYzvKbV8fx"
   },
   "source": [
    "# Task 2"
   ]
  },
  {
   "cell_type": "code",
   "execution_count": null,
   "metadata": {
    "id": "FjEbaEVaWQj9"
   },
   "outputs": [],
   "source": [
    "# > Uncomment and run this cell if running on Google Colab\n",
    "# install required dependencies for google colab\n",
    "!git clone https://github.com/benihime91/midas-summer-internship-2021.git\n",
    "!pip install --upgrade -r \"/content/midas-summer-internship-2021/requirements.txt\""
   ]
  },
  {
   "cell_type": "code",
   "execution_count": 1,
   "metadata": {
    "id": "gxmvU0RruGhb"
   },
   "outputs": [],
   "source": [
    "# > for Goggle Colab\n",
    "import sys\n",
    "sys.path.append(\"midas-summer-internship-2021/\")"
   ]
  },
  {
   "cell_type": "code",
   "execution_count": 2,
   "metadata": {
    "id": "CIttbuJAV3vv"
   },
   "outputs": [],
   "source": [
    "%load_ext autoreload\n",
    "%autoreload 2\n",
    "%matplotlib inline\n",
    "import warnings\n",
    "\n",
    "warnings.filterwarnings(\"ignore\")"
   ]
  },
  {
   "cell_type": "markdown",
   "metadata": {
    "id": "xCkK2vzKWGkW"
   },
   "source": [
    "## Part - 1\n",
    "> Use this dataset (https://www.dropbox.com/s/pan6mutc5xj5kj0/trainPart1.zip) to train a CNN. Use no other data source or pretrained networks, and explain your design choices during preprocessing, model building and training. Also, cite the sources you used to borrow techniques. A test set will be provided later to judge the performance of your classifier. Please save your model checkpoints."
   ]
  },
  {
   "cell_type": "markdown",
   "metadata": {
    "id": "asp5xGW_WMhz"
   },
   "source": [
    "### Getting the Data"
   ]
  },
  {
   "cell_type": "code",
   "execution_count": null,
   "metadata": {
    "id": "vtkjtbGpWrQb"
   },
   "outputs": [],
   "source": [
    "import os\n",
    "os.makedirs(\"data\", exist_ok=True)\n",
    "\n",
    "# Download the 1st Dataset using :\n",
    "!wget -P \"data/\" https://www.dropbox.com/s/pan6mutc5xj5kj0/trainPart1.zip\n",
    "!unzip --qq \"data/trainPart1.zip\" -d \"data/\""
   ]
  },
  {
   "cell_type": "code",
   "execution_count": 4,
   "metadata": {
    "colab": {
     "base_uri": "https://localhost:8080/"
    },
    "id": "KSkpCrcLXaRp",
    "outputId": "8ff5e297-0e45-4480-c3a3-79925f107e80"
   },
   "outputs": [
    {
     "name": "stderr",
     "output_type": "stream",
     "text": [
      "Global seed set to 42\n"
     ]
    }
   ],
   "source": [
    "# imports\n",
    "import gc\n",
    "import math\n",
    "import os\n",
    "import random\n",
    "from collections import OrderedDict\n",
    "from typing import *\n",
    "\n",
    "import albumentations as A\n",
    "import cv2\n",
    "import matplotlib.pyplot as plt\n",
    "import pandas as pd\n",
    "import pytorch_lightning as pl\n",
    "import torch\n",
    "import torch.nn.functional as F\n",
    "import torchvision.transforms as T\n",
    "from albumentations.pytorch import ToTensorV2\n",
    "from fastcore.all import *\n",
    "from IPython.display import Markdown, display\n",
    "from PIL import Image\n",
    "from pytorch_lightning.callbacks import ModelCheckpoint\n",
    "from pytorch_lightning.metrics import functional as FM\n",
    "from sklearn.model_selection import train_test_split\n",
    "from sklearn.preprocessing import LabelEncoder\n",
    "from torch import nn, optim\n",
    "from torch.nn.utils import spectral_norm\n",
    "from torch.utils.data import DataLoader, Dataset\n",
    "from torchvision.datasets.folder import IMG_EXTENSIONS\n",
    "from torchvision.utils import make_grid\n",
    "\n",
    "from progress import NotebookProgressCallback\n",
    "\n",
    "pl.seed_everything(42)\n",
    "\n",
    "pd.set_option(\"display.max_colwidth\", None)"
   ]
  },
  {
   "cell_type": "markdown",
   "metadata": {
    "id": "fMBr1LfVXSEW"
   },
   "source": [
    "### Analyzing the Dataset\n",
    "> In this part we will analyze the get familiar with the given dataset."
   ]
  },
  {
   "cell_type": "code",
   "execution_count": 5,
   "metadata": {
    "colab": {
     "base_uri": "https://localhost:8080/"
    },
    "id": "hqblcJPnXd7c",
    "outputId": "15670a57-926b-4113-a83f-5f1a94b9fee5"
   },
   "outputs": [
    {
     "data": {
      "text/plain": [
       "(#62) [Path('data/train/Sample012'),Path('data/train/Sample014'),Path('data/train/Sample053'),Path('data/train/Sample015'),Path('data/train/Sample047'),Path('data/train/Sample017'),Path('data/train/Sample011'),Path('data/train/Sample030'),Path('data/train/Sample018'),Path('data/train/Sample050')...]"
      ]
     },
     "execution_count": 5,
     "metadata": {
      "tags": []
     },
     "output_type": "execute_result"
    }
   ],
   "source": [
    "DATASET_01_PATH = Path(\"data/train/\")\n",
    "DATASET_01_PATH.ls()"
   ]
  },
  {
   "cell_type": "markdown",
   "metadata": {
    "id": "7g4-FfRrXf_i"
   },
   "source": [
    "Perform some one-off data manipulations to get all the files and filenames in an easy to use format"
   ]
  },
  {
   "cell_type": "code",
   "execution_count": 6,
   "metadata": {
    "id": "xcAjvjblXn9Q"
   },
   "outputs": [],
   "source": [
    "def folder2df(directory: Union[str, Path], extensions: list = IMG_EXTENSIONS,\n",
    "              shuffle: bool = False, seed: int = 42):\n",
    "    \"\"\"\n",
    "    Parses all the Images in `directory` and puts them in a `DataFrame` object.\n",
    "    \"\"\"\n",
    "\n",
    "    random.seed(seed)\n",
    "\n",
    "    image_list = L()\n",
    "    target_list = L()\n",
    "\n",
    "    if not isinstance(directory, Path):\n",
    "        directory = Path(directory)\n",
    "\n",
    "    for label in directory.ls():\n",
    "        label = Path(label)\n",
    "        if os.path.isdir(label):\n",
    "            for img in label.ls():\n",
    "                if str(img).lower().endswith(extensions):\n",
    "                    image_list.append(img)\n",
    "                    target_list.append(str(label).split(os.path.sep)[-1])\n",
    "\n",
    "    print(f\"Found {len(image_list)} files belonging to {len(set(target_list))} classes.\")\n",
    "\n",
    "    dataframe: pd.DataFrame = pd.DataFrame()\n",
    "    dataframe[\"image_id\"] = image_list.map(str)\n",
    "    dataframe[\"target\"] = target_list\n",
    "    if shuffle:\n",
    "        dataframe = (dataframe.sample(frac=1, random_state=seed)\n",
    "                     .reset_index(inplace=False, drop=True))\n",
    "    return dataframe"
   ]
  },
  {
   "cell_type": "markdown",
   "metadata": {
    "id": "rDgGDQ_fivrx"
   },
   "source": [
    "Create the a `pandas Dataframe` which contains all the file info we need to get started"
   ]
  },
  {
   "cell_type": "code",
   "execution_count": 7,
   "metadata": {
    "colab": {
     "base_uri": "https://localhost:8080/",
     "height": 221
    },
    "id": "fI-aXyU-XpbQ",
    "outputId": "5d74a415-e132-4656-a649-be86fb93d34c"
   },
   "outputs": [
    {
     "name": "stdout",
     "output_type": "stream",
     "text": [
      "Found 2480 files belonging to 62 classes.\n"
     ]
    },
    {
     "data": {
      "text/html": [
       "<div>\n",
       "<style scoped>\n",
       "    .dataframe tbody tr th:only-of-type {\n",
       "        vertical-align: middle;\n",
       "    }\n",
       "\n",
       "    .dataframe tbody tr th {\n",
       "        vertical-align: top;\n",
       "    }\n",
       "\n",
       "    .dataframe thead th {\n",
       "        text-align: right;\n",
       "    }\n",
       "</style>\n",
       "<table border=\"1\" class=\"dataframe\">\n",
       "  <thead>\n",
       "    <tr style=\"text-align: right;\">\n",
       "      <th></th>\n",
       "      <th>image_id</th>\n",
       "      <th>target</th>\n",
       "    </tr>\n",
       "  </thead>\n",
       "  <tbody>\n",
       "    <tr>\n",
       "      <th>0</th>\n",
       "      <td>data/train/Sample005/img005-044.png</td>\n",
       "      <td>Sample005</td>\n",
       "    </tr>\n",
       "    <tr>\n",
       "      <th>1</th>\n",
       "      <td>data/train/Sample011/img011-053.png</td>\n",
       "      <td>Sample011</td>\n",
       "    </tr>\n",
       "    <tr>\n",
       "      <th>2</th>\n",
       "      <td>data/train/Sample058/img058-008.png</td>\n",
       "      <td>Sample058</td>\n",
       "    </tr>\n",
       "    <tr>\n",
       "      <th>3</th>\n",
       "      <td>data/train/Sample027/img027-053.png</td>\n",
       "      <td>Sample027</td>\n",
       "    </tr>\n",
       "    <tr>\n",
       "      <th>4</th>\n",
       "      <td>data/train/Sample014/img014-017.png</td>\n",
       "      <td>Sample014</td>\n",
       "    </tr>\n",
       "  </tbody>\n",
       "</table>\n",
       "</div>"
      ],
      "text/plain": [
       "                              image_id     target\n",
       "0  data/train/Sample005/img005-044.png  Sample005\n",
       "1  data/train/Sample011/img011-053.png  Sample011\n",
       "2  data/train/Sample058/img058-008.png  Sample058\n",
       "3  data/train/Sample027/img027-053.png  Sample027\n",
       "4  data/train/Sample014/img014-017.png  Sample014"
      ]
     },
     "execution_count": 7,
     "metadata": {
      "tags": []
     },
     "output_type": "execute_result"
    }
   ],
   "source": [
    "DATASET_01 = folder2df(directory=DATASET_01_PATH, shuffle=True)\n",
    "DATASET_01.head()"
   ]
  },
  {
   "cell_type": "markdown",
   "metadata": {
    "id": "tXDt8fOwiyoA"
   },
   "source": [
    "Lets look closer at the data, how many `class_ids` do we have?"
   ]
  },
  {
   "cell_type": "code",
   "execution_count": 8,
   "metadata": {
    "colab": {
     "base_uri": "https://localhost:8080/"
    },
    "id": "rmIk-P2AXrbF",
    "outputId": "06989fb7-7a8d-4320-d7db-e256b6fbc0aa"
   },
   "outputs": [
    {
     "name": "stdout",
     "output_type": "stream",
     "text": [
      "Total number of Images in the Dataset:  2480\n",
      "Number of unique classes in the Dataset:  62\n"
     ]
    }
   ],
   "source": [
    "unq_cls = DATASET_01.target.unique()\n",
    "tot_itm = len(DATASET_01)\n",
    "print(\"Total number of Images in the Dataset: \", tot_itm)\n",
    "print(\"Number of unique classes in the Dataset: \",len(unq_cls))"
   ]
  },
  {
   "cell_type": "code",
   "execution_count": 9,
   "metadata": {
    "colab": {
     "base_uri": "https://localhost:8080/",
     "height": 473
    },
    "id": "kD9BffaOXtT2",
    "outputId": "c7cb9ac4-9ce0-4673-abe4-d6bf5b605d41"
   },
   "outputs": [
    {
     "data": {
      "image/png": "[encoded data removed]",
      "text/plain": [
       "<Figure size 1584x576 with 1 Axes>"
      ]
     },
     "metadata": {
      "needs_background": "light",
      "tags": []
     },
     "output_type": "display_data"
    }
   ],
   "source": [
    "import seaborn as sns\n",
    "\n",
    "_, ax = plt.subplots(1, 1, figsize=(22, 8))\n",
    "sns.countplot(data=DATASET_01, x=\"target\", ax=ax);\n",
    "plt.xticks(rotation=90);"
   ]
  },
  {
   "cell_type": "markdown",
   "metadata": {
    "id": "nXu2FJYvXwN6"
   },
   "source": [
    "The distibution across all the classes is exactly same. This is a good thing because in this way our model will be less prone to overfitting for a prticular class. We have around 40 Images for each class, which is way less data than I would have preferred. We might overfit the training data due to lack of data."
   ]
  },
  {
   "cell_type": "markdown",
   "metadata": {
    "id": "_6rmhTSKYASE"
   },
   "source": [
    "### Data Loading"
   ]
  },
  {
   "cell_type": "markdown",
   "metadata": {
    "id": "7mT-BtUiYCqe"
   },
   "source": [
    "Since, in this task in am going to be using `PyTorch`, before we can directly start training the `CNN network`, we need to get our data into `Dataset` and `DataLoader`."
   ]
  },
  {
   "cell_type": "markdown",
   "metadata": {
    "id": "uf5eLkaHYF9w"
   },
   "source": [
    "We also need to encode our string labels into interger labels. For this we will use the `LabelEncoder()` from scikit-learn."
   ]
  },
  {
   "cell_type": "code",
   "execution_count": 10,
   "metadata": {
    "colab": {
     "base_uri": "https://localhost:8080/",
     "height": 204
    },
    "id": "eVIXgw04YJ5x",
    "outputId": "ff5a04c2-b39c-492a-bfef-ff11f3e0db5e"
   },
   "outputs": [
    {
     "data": {
      "text/html": [
       "<div>\n",
       "<style scoped>\n",
       "    .dataframe tbody tr th:only-of-type {\n",
       "        vertical-align: middle;\n",
       "    }\n",
       "\n",
       "    .dataframe tbody tr th {\n",
       "        vertical-align: top;\n",
       "    }\n",
       "\n",
       "    .dataframe thead th {\n",
       "        text-align: right;\n",
       "    }\n",
       "</style>\n",
       "<table border=\"1\" class=\"dataframe\">\n",
       "  <thead>\n",
       "    <tr style=\"text-align: right;\">\n",
       "      <th></th>\n",
       "      <th>image_id</th>\n",
       "      <th>target</th>\n",
       "      <th>cat_label</th>\n",
       "    </tr>\n",
       "  </thead>\n",
       "  <tbody>\n",
       "    <tr>\n",
       "      <th>0</th>\n",
       "      <td>data/train/Sample005/img005-044.png</td>\n",
       "      <td>Sample005</td>\n",
       "      <td>4</td>\n",
       "    </tr>\n",
       "    <tr>\n",
       "      <th>1</th>\n",
       "      <td>data/train/Sample011/img011-053.png</td>\n",
       "      <td>Sample011</td>\n",
       "      <td>10</td>\n",
       "    </tr>\n",
       "    <tr>\n",
       "      <th>2</th>\n",
       "      <td>data/train/Sample058/img058-008.png</td>\n",
       "      <td>Sample058</td>\n",
       "      <td>57</td>\n",
       "    </tr>\n",
       "    <tr>\n",
       "      <th>3</th>\n",
       "      <td>data/train/Sample027/img027-053.png</td>\n",
       "      <td>Sample027</td>\n",
       "      <td>26</td>\n",
       "    </tr>\n",
       "    <tr>\n",
       "      <th>4</th>\n",
       "      <td>data/train/Sample014/img014-017.png</td>\n",
       "      <td>Sample014</td>\n",
       "      <td>13</td>\n",
       "    </tr>\n",
       "  </tbody>\n",
       "</table>\n",
       "</div>"
      ],
      "text/plain": [
       "                              image_id     target  cat_label\n",
       "0  data/train/Sample005/img005-044.png  Sample005          4\n",
       "1  data/train/Sample011/img011-053.png  Sample011         10\n",
       "2  data/train/Sample058/img058-008.png  Sample058         57\n",
       "3  data/train/Sample027/img027-053.png  Sample027         26\n",
       "4  data/train/Sample014/img014-017.png  Sample014         13"
      ]
     },
     "execution_count": 10,
     "metadata": {
      "tags": []
     },
     "output_type": "execute_result"
    }
   ],
   "source": [
    "encoder = LabelEncoder()\n",
    "encoder.fit(unq_cls)\n",
    "\n",
    "def encode_label(x):\n",
    "    \"Encoder `x`, given x is a scalar value\"\n",
    "    return encoder.transform([x]).item()\n",
    "\n",
    "CLASS_MAP = L(list(encoder.classes_)).map_dict(encode_label)\n",
    "CLASS_MAP = {k:v for v, k in CLASS_MAP.items()}\n",
    "\n",
    "DATASET_01[\"cat_label\"] = DATASET_01[\"target\"].map(encode_label)\n",
    "DATASET_01.head()"
   ]
  },
  {
   "cell_type": "markdown",
   "metadata": {
    "id": "75E8ot1jjNyw"
   },
   "source": [
    "Save a copy of the `CLASS_MAP` which stores the mapping of `classes` and `class ids`"
   ]
  },
  {
   "cell_type": "code",
   "execution_count": 11,
   "metadata": {
    "id": "cyUFNlVxjQ1f"
   },
   "outputs": [],
   "source": [
    "import json\n",
    "\n",
    "with open(\"data/class_map_ds01.json\", 'w') as f:\n",
    "    json.dump(CLASS_MAP, f)"
   ]
  },
  {
   "cell_type": "markdown",
   "metadata": {
    "id": "InRu75JbYS6D"
   },
   "source": [
    "Let's also create a Training and Validation split on the data by holding out 20% of the training data for validation.\n",
    "\n",
    "Why we need a different training and validation split for the data ?\n",
    "\n",
    "This is so that we don't inadvertently overfit, train a model to work well only on our training data. For this purpose we will compute metric over on the validation data. During the training phase the model will see only the training data. The Validation data will remain separate and will only be used for calculation of the *metric*. "
   ]
  },
  {
   "cell_type": "code",
   "execution_count": 12,
   "metadata": {
    "colab": {
     "base_uri": "https://localhost:8080/"
    },
    "id": "e9YRWmMAYXPu",
    "outputId": "43019cfa-afa2-41a8-d2b3-0a1b86dd0794"
   },
   "outputs": [
    {
     "name": "stdout",
     "output_type": "stream",
     "text": [
      "Num Training Examples:  1984\n",
      "Num Validation Examples:  496\n"
     ]
    }
   ],
   "source": [
    "TRAIN_DATASET_01, VALID_DATASET_01 = train_test_split(DATASET_01, test_size=0.2, random_state=42, \n",
    "                                                      shuffle=True, stratify=DATASET_01['cat_label'])\n",
    "\n",
    "TRAIN_DATASET_01 = TRAIN_DATASET_01.reset_index(drop=True, inplace=False)\n",
    "VALID_DATASET_01 = VALID_DATASET_01.reset_index(drop=True, inplace=False) \n",
    "\n",
    "print(\"Num Training Examples: \", len(TRAIN_DATASET_01))\n",
    "print(\"Num Validation Examples: \", len(VALID_DATASET_01))"
   ]
  },
  {
   "cell_type": "markdown",
   "metadata": {
    "id": "-m0bwAFHYbKL"
   },
   "source": [
    "Now we will create a custom `Dataset` obj that can parse the data."
   ]
  },
  {
   "cell_type": "code",
   "execution_count": 13,
   "metadata": {
    "id": "4tCeY67JYilJ"
   },
   "outputs": [],
   "source": [
    "class MyDataset(Dataset):\n",
    "    def __init__(self, df:pd.DataFrame, transforms):\n",
    "        self._dataframe  = df\n",
    "        self._transforms = transforms\n",
    "        self._gray_scale = T.Grayscale(num_output_channels=3)\n",
    "    \n",
    "    @property\n",
    "    def transforms(self):\n",
    "        return self._transforms\n",
    "        \n",
    "    def __len__(self):\n",
    "        return len(self._dataframe)\n",
    "    \n",
    "    def __getitem__(self, idx):\n",
    "        im = self._dataframe['image_id'][idx]\n",
    "        \n",
    "        # Load and apply transformations to the Image\n",
    "        im = cv2.imread(im)\n",
    "        im = cv2.cvtColor(im, cv2.COLOR_BGR2RGB)\n",
    "        im = self._transforms(image=im)[\"image\"]\n",
    "\n",
    "        # convert the Images to grayscale Images with 3 dimensions\n",
    "        im = self._gray_scale(im)\n",
    "        \n",
    "        lbl = self._dataframe[\"cat_label\"][idx]   \n",
    "        return im, lbl"
   ]
  },
  {
   "cell_type": "markdown",
   "metadata": {
    "id": "6NHWPxawYj4I"
   },
   "source": [
    "Lets define what we want our transforms to be -\n",
    "\n",
    "We'll use the presize the images 160 px make things faster still, and will center crop to 128 px.\n",
    "Initially I will not be using any other fancy data augmentations. After the resizing I will normalize the Images by dividing by 255.0 and also converting them to pytorch tensors."
   ]
  },
  {
   "cell_type": "code",
   "execution_count": 14,
   "metadata": {
    "id": "BsS6h-b9Ymb6"
   },
   "outputs": [],
   "source": [
    "PRESIZE  = 80\n",
    "IMG_SIZE = 64\n",
    "\n",
    "base_tfms = A.Compose([\n",
    "    A.Resize(PRESIZE, PRESIZE, p=1.0),\n",
    "    A.CenterCrop(IMG_SIZE, IMG_SIZE, p=1.0),\n",
    "    A.ToFloat(max_value=255, p=1.0),\n",
    "    ToTensorV2(p=1.0),\n",
    "])"
   ]
  },
  {
   "cell_type": "markdown",
   "metadata": {
    "id": "EZCN6NMcvwhI"
   },
   "source": [
    "Function to get our data -"
   ]
  },
  {
   "cell_type": "code",
   "execution_count": 15,
   "metadata": {
    "id": "KqV_2ZmOvvJB"
   },
   "outputs": [],
   "source": [
    "def get_data(transforms = base_tfms, valid_transforms=base_tfms, bs: int = 64):\n",
    "    # instantiate the dataset set obj\n",
    "    train_ds = MyDataset(df=TRAIN_DATASET_01, transforms=transforms)\n",
    "    valid_ds = MyDataset(df=VALID_DATASET_01, transforms=valid_transforms)\n",
    "\n",
    "    # create the dataloaders obj\n",
    "    train_dl = DataLoader(train_ds, batch_size=bs, num_workers=num_cpus(), shuffle=True) \n",
    "    valid_dl = DataLoader(valid_ds, batch_size=bs, num_workers=num_cpus(), shuffle=False)\n",
    "    return train_dl, valid_dl"
   ]
  },
  {
   "cell_type": "markdown",
   "metadata": {
    "id": "w8gP2ClSYq2J"
   },
   "source": [
    "Having a look at the images in our `DataLoader` you can see result of the image transforms:"
   ]
  },
  {
   "cell_type": "code",
   "execution_count": 16,
   "metadata": {
    "colab": {
     "base_uri": "https://localhost:8080/",
     "height": 140
    },
    "id": "7ceVZHQ6YtWi",
    "outputId": "d89e77da-6e6c-49a9-ad89-29cea0be9a9e"
   },
   "outputs": [
    {
     "data": {
      "image/png": "[encoded data removed]",
      "text/plain": [
       "<Figure size 936x936 with 1 Axes>"
      ]
     },
     "metadata": {
      "needs_background": "light",
      "tags": []
     },
     "output_type": "display_data"
    }
   ],
   "source": [
    "train_dl, valid_dl = get_data(transforms=base_tfms, valid_transforms=base_tfms)\n",
    "\n",
    "ims, lbls = next(iter(train_dl))\n",
    "ims, lbls = ims[:8], lbls[:8]\n",
    "\n",
    "grid = make_grid(ims, normalize=True).permute(1, 2, 0)\n",
    "fig = plt.figure(figsize=(13, 13))\n",
    "plt.imshow(grid) \n",
    "plt.title([CLASS_MAP[o] for o in lbls.data.cpu().numpy()])\n",
    "plt.axis(\"off\");\n",
    "\n",
    "del train_dl, valid_dl"
   ]
  },
  {
   "cell_type": "markdown",
   "metadata": {
    "id": "KD2fNoNqbWv1"
   },
   "source": [
    "### PyTorch Lightning Task -\n",
    "For training I will be using PyTorch Lightning ⚡️. PyTorch Lightning expects the whole training pipeline to be defined under a `LightningModule`. Let's convert our model in a `LightningModule`.\n",
    "\n",
    "For evaluating the model initially I will use the `Accuracy` metric and for loss function i will use the standart `nn.CrossEntropyLoss()` from PyTorch.\n",
    "\n",
    "\n",
    "The code block below create a general PyTorch Lightning Classification Task which helps us iterate different models inside a `LightningModule.`"
   ]
  },
  {
   "cell_type": "code",
   "execution_count": 17,
   "metadata": {
    "id": "veOLW0L2btN8"
   },
   "outputs": [],
   "source": [
    "class ClassificationTask(pl.LightningModule):\n",
    "    def __init__(self, model: nn.Module, lr: float, wd: float = 0, criterion: nn.Module = nn.CrossEntropyLoss()):\n",
    "        super().__init__()\n",
    "        self.save_hyperparameters(\"lr\", \"wd\")\n",
    "        self.model = model\n",
    "        self.criterion = criterion\n",
    "        self.apply_init(self)\n",
    "\n",
    "    def apply_init(self, m):\n",
    "        \"apply kaiming_normal initialization to the weights of a cnn\"\n",
    "        if getattr(m, 'bias', None) is not None: \n",
    "            nn.init.constant_(m.bias, 0)\n",
    "        if isinstance(m, (nn.Conv1d,nn.Conv2d,nn.Conv3d,nn.Linear)): \n",
    "            nn.init.kaiming_normal_(m.weight)\n",
    "        for l in m.children(): \n",
    "            self.apply_init(l)\n",
    "        \n",
    "    def forward(self, xb):\n",
    "        \"Same as nn.Module forward\"\n",
    "        return self.model(xb)\n",
    "\n",
    "    def shared_step(self, batch, batch_idx, *args, **kwargs):\n",
    "        \"\"\"\n",
    "        The common step shared between the training, validation & test steps\n",
    "        \"\"\"\n",
    "        x, y = batch\n",
    "        y_hat = self.model(x)\n",
    "        loss = self.criterion(y_hat, y)\n",
    "        acc  = FM.accuracy(F.softmax(y_hat), y)\n",
    "        metrics = {'accuracy': acc, 'loss': loss}\n",
    "        return metrics\n",
    "    \n",
    "    def training_step(self, batch, batch_idx, *args, **kwargs):\n",
    "        metrics = self.shared_step(batch, batch_idx, *args, **kwargs)\n",
    "        metrics = {'train_acc': metrics['accuracy'], 'train_loss': metrics['loss']}\n",
    "        self.log_dict(metrics)\n",
    "        return metrics[\"train_loss\"]\n",
    "\n",
    "    def validation_step(self, batch, batch_idx, *args, **kwargs):\n",
    "        metrics = self.shared_step(batch, batch_idx, *args, **kwargs)\n",
    "        metrics = {'val_acc': metrics['accuracy'], 'val_loss': metrics['loss']}\n",
    "        self.log_dict(metrics)\n",
    "\n",
    "    def test_step(self, batch, batch_idx, *args, **kwargs):\n",
    "        metrics = self.shared_step(batch, batch_idx, *args, **kwargs)\n",
    "        metrics = {'test_acc': metrics['accuracy'], 'test_loss': metrics['loss']}\n",
    "        self.log_dict(metrics)\n",
    "           \n",
    "    def configure_optimizers(self):\n",
    "        \"\"\"\n",
    "        define optimizers and LR schedulers for use in training.\n",
    "        \"\"\"\n",
    "        # default Adam parameters from fast.ai\n",
    "        opt   = optim.AdamW(self.parameters(), lr=self.hparams.lr, weight_decay=self.hparams.wd, \n",
    "                            betas=(0.9, 0.99), eps=1e-05)\n",
    "        steps = len(self.train_dataloader())\n",
    "        epochs= self.trainer.max_epochs\n",
    "        \n",
    "        scheduler = optim.lr_scheduler.OneCycleLR(opt, max_lr=self.hparams.lr, epochs=epochs, steps_per_epoch=steps)\n",
    "        return [opt], [dict(scheduler=scheduler, interval='step')]"
   ]
  },
  {
   "cell_type": "markdown",
   "metadata": {
    "id": "oG688lVucgbE"
   },
   "source": [
    "For training I will be using the popular `AdamW + 1cycle` training approach. Here we use the `AdamW` optimizer and `OneCycleLR` scheduler from PyTorch.\n",
    "\n",
    "`AdamW` was inroduced in this [paper](https://arxiv.org/abs/1711.05101). Experiments by the fast.ai group has shown that `AdamW` along with the `1cycle policy` of learning rate scheduling gives very good results. `AdamW` differs from `Adam` is the sense that AdamW uses true weight decay (decay the weights directly) while Adam uses L2 regularization (add the decay to the gradients).\n",
    "\n",
    "The `1cycle policy` was introduced by Leslie N. Smith et al. in [Super-Convergence: Very Fast Training of Neural Networks Using Large Learning Rates](https://arxiv.org/abs/1708.07120).\n",
    "\n",
    "\n",
    "`AdamW + 1cycle` was incremental in fast.ai winning the `DAWNBench` competition."
   ]
  },
  {
   "cell_type": "markdown",
   "metadata": {
    "id": "Ka0ItH0LYuu1"
   },
   "source": [
    "### Benchmark Model\n",
    "First I will let's start by making a good baseline Model and subsequently we will experiment by improving upon this model.\n",
    "\n",
    "Let's first create the building blocks that we will use building our network."
   ]
  },
  {
   "cell_type": "code",
   "execution_count": 18,
   "metadata": {
    "id": "9pQi76LYY2jp"
   },
   "outputs": [],
   "source": [
    "class ConvBnDropBlock(nn.Sequential):\n",
    "    \"Create sequence of convolutional, Activation, `BatchNorm` & Drouput layers.\"\n",
    "    def __init__(self, in_chans, out_chans, kernel_size, stride=1, dilation=1, \n",
    "                 padding = None, bias=True, act_cls: Callable = nn.ReLU, \n",
    "                 p_drop=0.0, use_bn=True,):\n",
    "\n",
    "        if padding is None: \n",
    "            # for same padding\n",
    "            padding = (kernel_size-1)//2\n",
    "        \n",
    "        layers = []\n",
    "        # Initialize the convolutional layer\n",
    "        conv_layer = nn.Conv2d(in_chans, out_chans, kernel_size, stride, \n",
    "                               dilation=dilation, padding=padding, bias=bias)\n",
    "        \n",
    "        if act_cls is not None:\n",
    "            act_layer = act_cls(inplace=True)\n",
    "        else:\n",
    "            act_layer = nn.Identity()\n",
    "        if use_bn:\n",
    "            norm_layer = nn.BatchNorm2d(out_chans)\n",
    "        else:\n",
    "            norm_layer = nn.Identity()\n",
    "           \n",
    "        layers += [conv_layer, act_layer, norm_layer]\n",
    "        \n",
    "        if p_drop > 0.0:\n",
    "            layers.append(nn.Dropout2d(p=p_drop))\n",
    "            \n",
    "        super(ConvBnDropBlock, self).__init__(*layers)"
   ]
  },
  {
   "cell_type": "markdown",
   "metadata": {
    "id": "x0wlcZ57kLIX"
   },
   "source": [
    "For this whole experiment my models will be divided into 2 parts a `feature_extractor` and `classifier`. The feature extractor is responsible for generating the feature maps from the Images, while the `classifier` is responsible for final classification.\n",
    "\n",
    "A baseline model will establish a minimum model performance to which all of our other models can be compared, as well as a model architecture that we can use as the basis of study and improvement.\n",
    "\n",
    "A feature extractor of baseline model architecture has been partly inspired from the general architectural principles of the `VGG models` & from this [blog post](https://machinelearningmastery.com/how-to-develop-a-cnn-from-scratch-for-cifar-10-photo-classification/).\n",
    "\n",
    "The architecture involves stacking convolutional layers with small `3×3` filters followed by a activation, batchnorm, dropout.Together, these layers form a block, and these blocks can be repeated where the number of filters in each block is increased with the depth of the network such as 32, 64, 128. The first 2 blocks are followed by a max_pool layer while the 3rd layer is follwed by a `pool_flatten` layer i.e., a combination of  AdaptiveAvgPool2d and flatten layer from pytorch.\n",
    "\n",
    "We use a AdaptiveAvgPool layer so that our network is *fully convolutional* and so can work for any image size that is to say that a model trained on 64x64 images will also work for 120x120 images.\n",
    "\n",
    "This completes the feature extractor part of the model. For the classifier of the model: first, the feature maps output from the feature extraction part of the model must be flattened.\n",
    "We than use a Dropuout layer followed by a Linear layer to generate the predictions.\n",
    "\n",
    "Let's create the network architecture -"
   ]
  },
  {
   "cell_type": "code",
   "execution_count": 19,
   "metadata": {
    "id": "cwB7Gpy5ZAeX"
   },
   "outputs": [],
   "source": [
    "class BenchmarkModel(nn.Sequential):\n",
    "    def __init__(self, num_outputs: int):\n",
    "        conv_block_01 = ConvBnDropBlock(in_chans=3, out_chans=32, bias=False, \n",
    "                                        use_bn=True, act_cls=nn.ReLU, p_drop=0.25, \n",
    "                                        kernel_size=3)\n",
    "        conv_block_02 = ConvBnDropBlock(in_chans=32, out_chans=32, bias=False, \n",
    "                                        use_bn=True, act_cls=None, p_drop=0.25, \n",
    "                                        kernel_size=3)\n",
    "        pool_block_0  = nn.Sequential(nn.MaxPool2d(2), nn.ReLU())\n",
    "\n",
    "        conv_block_11 = ConvBnDropBlock(in_chans=32, out_chans=64, bias=False, \n",
    "                                        use_bn=True, act_cls=nn.ReLU, p_drop=0.25, \n",
    "                                        kernel_size=3)\n",
    "        conv_block_12 = ConvBnDropBlock(in_chans=64, out_chans=64, bias=False, \n",
    "                                        use_bn=True, act_cls=None, p_drop=0.25, \n",
    "                                        kernel_size=3)\n",
    "        pool_block_1  = nn.Sequential(nn.MaxPool2d(2), nn.ReLU())\n",
    "\n",
    "        conv_block_21 = ConvBnDropBlock(in_chans=64, out_chans=128, bias=False, \n",
    "                                        use_bn=True, act_cls=nn.ReLU, p_drop=0.25, \n",
    "                                        kernel_size=3)\n",
    "        conv_block_22 = ConvBnDropBlock(in_chans=128, out_chans=128, bias=False, stride=2,\n",
    "                                        use_bn=True, act_cls=nn.ReLU, p_drop=0.25, \n",
    "                                        kernel_size=3, padding=0)\n",
    "        \n",
    "        # ensemble the model building blocks\n",
    "        block1 = nn.Sequential(conv_block_01, conv_block_02, pool_block_0)\n",
    "        block2 = nn.Sequential(conv_block_11, conv_block_12, pool_block_1)\n",
    "        block3 = nn.Sequential(conv_block_21, conv_block_22)\n",
    "        pool_flatten = nn.Sequential(nn.AdaptiveAvgPool2d(1), nn.Flatten())\n",
    "        fc = nn.Sequential(nn.Dropout(0.3), nn.Linear(128, num_outputs, bias=False))\n",
    "\n",
    "        layers = [block1, block2, block3, pool_flatten, fc]\n",
    "        super(BenchmarkModel, self).__init__(*layers)"
   ]
  },
  {
   "cell_type": "markdown",
   "metadata": {
    "id": "IdNxn-amZEhK"
   },
   "source": [
    "*Training*\n",
    "\n",
    "Train the model initially for 20 epochs and view preformance. I found that 15 epochs was a good place to stop as the model started to overfit while the accuracy didn't improve further and any lower than 20 epochs the model doesn't convergerce.\n",
    "\n",
    "\n",
    "I will also be using `ModelCheckpoint` callback from pytorch lightning in all of my experiments to that i will be easily able to load my best checkpoints and compare my performaces.\n",
    "\n",
    "\n",
    "`3e-3` is often a good learning rate for CNNs, so let's try that:"
   ]
  },
  {
   "cell_type": "code",
   "execution_count": 23,
   "metadata": {
    "colab": {
     "base_uri": "https://localhost:8080/",
     "height": 995
    },
    "id": "_2OfLQXxZHcQ",
    "outputId": "3f450e54-42ac-43fd-bc39-aabcb2f33e5c"
   },
   "outputs": [
    {
     "name": "stderr",
     "output_type": "stream",
     "text": [
      "GPU available: True, used: True\n",
      "TPU available: False, using: 0 TPU cores\n",
      "Using native 16bit precision.\n",
      "LOCAL_RANK: 0 - CUDA_VISIBLE_DEVICES: [0]\n",
      "\n",
      "  | Name      | Type             | Params\n",
      "-----------------------------------------------\n",
      "0 | model     | BenchmarkModel   | 295 K \n",
      "1 | criterion | CrossEntropyLoss | 0     \n",
      "-----------------------------------------------\n",
      "295 K     Trainable params\n",
      "0         Non-trainable params\n",
      "295 K     Total params\n",
      "1.182     Total estimated model params size (MB)\n"
     ]
    },
    {
     "data": {
      "text/html": [],
      "text/plain": [
       "<IPython.core.display.HTML object>"
      ]
     },
     "metadata": {
      "tags": []
     },
     "output_type": "display_data"
    },
    {
     "data": {
      "text/html": [
       "\n",
       "    <div>\n",
       "        <style>\n",
       "            progress {\n",
       "                border: none;\n",
       "                background-size: auto;\n",
       "            }\n",
       "        </style>\n",
       "      Training\n",
       "      <progress value='1240' max='1240' style='width:300px; height:20px; vertical-align: middle;'></progress>\n",
       "      [1240/1240 06:44, Epoch 19 {'loss': '1.2', 'v_num': 0}]\n",
       "    </div>\n",
       "    <table border=\"1\" class=\"dataframe\">\n",
       "  <thead>\n",
       "    <tr style=\"text-align: left;\">\n",
       "      <th>epoch</th>\n",
       "      <th>val_acc</th>\n",
       "      <th>val_loss</th>\n",
       "      <th>train_acc</th>\n",
       "      <th>train_loss</th>\n",
       "      <th>time</th>\n",
       "      <th>samples/s</th>\n",
       "    </tr>\n",
       "  </thead>\n",
       "  <tbody>\n",
       "    <tr>\n",
       "      <td>0</td>\n",
       "      <td>0.016129</td>\n",
       "      <td>4.232053</td>\n",
       "      <td>0.000000</td>\n",
       "      <td>4.189208</td>\n",
       "      <td>20.339800</td>\n",
       "      <td>3.834800</td>\n",
       "    </tr>\n",
       "    <tr>\n",
       "      <td>1</td>\n",
       "      <td>0.018145</td>\n",
       "      <td>4.159909</td>\n",
       "      <td>0.031250</td>\n",
       "      <td>4.138566</td>\n",
       "      <td>20.473500</td>\n",
       "      <td>3.809800</td>\n",
       "    </tr>\n",
       "    <tr>\n",
       "      <td>2</td>\n",
       "      <td>0.030242</td>\n",
       "      <td>4.074357</td>\n",
       "      <td>0.000000</td>\n",
       "      <td>3.959195</td>\n",
       "      <td>20.277200</td>\n",
       "      <td>3.846700</td>\n",
       "    </tr>\n",
       "    <tr>\n",
       "      <td>3</td>\n",
       "      <td>0.050403</td>\n",
       "      <td>3.833298</td>\n",
       "      <td>0.000000</td>\n",
       "      <td>3.851967</td>\n",
       "      <td>20.138400</td>\n",
       "      <td>3.873200</td>\n",
       "    </tr>\n",
       "    <tr>\n",
       "      <td>4</td>\n",
       "      <td>0.106855</td>\n",
       "      <td>3.563886</td>\n",
       "      <td>0.125000</td>\n",
       "      <td>3.728870</td>\n",
       "      <td>20.253800</td>\n",
       "      <td>3.851100</td>\n",
       "    </tr>\n",
       "    <tr>\n",
       "      <td>5</td>\n",
       "      <td>0.205645</td>\n",
       "      <td>3.189341</td>\n",
       "      <td>0.125000</td>\n",
       "      <td>3.404187</td>\n",
       "      <td>20.138800</td>\n",
       "      <td>3.873100</td>\n",
       "    </tr>\n",
       "    <tr>\n",
       "      <td>6</td>\n",
       "      <td>0.300403</td>\n",
       "      <td>2.847658</td>\n",
       "      <td>0.312500</td>\n",
       "      <td>2.970315</td>\n",
       "      <td>20.463200</td>\n",
       "      <td>3.811700</td>\n",
       "    </tr>\n",
       "    <tr>\n",
       "      <td>7</td>\n",
       "      <td>0.475806</td>\n",
       "      <td>2.425936</td>\n",
       "      <td>0.406250</td>\n",
       "      <td>2.655712</td>\n",
       "      <td>20.403500</td>\n",
       "      <td>3.822900</td>\n",
       "    </tr>\n",
       "    <tr>\n",
       "      <td>8</td>\n",
       "      <td>0.556452</td>\n",
       "      <td>2.026138</td>\n",
       "      <td>0.375000</td>\n",
       "      <td>2.592381</td>\n",
       "      <td>20.007500</td>\n",
       "      <td>3.898500</td>\n",
       "    </tr>\n",
       "    <tr>\n",
       "      <td>9</td>\n",
       "      <td>0.635081</td>\n",
       "      <td>1.691863</td>\n",
       "      <td>0.500000</td>\n",
       "      <td>2.133938</td>\n",
       "      <td>20.118500</td>\n",
       "      <td>3.877000</td>\n",
       "    </tr>\n",
       "    <tr>\n",
       "      <td>10</td>\n",
       "      <td>0.711694</td>\n",
       "      <td>1.461400</td>\n",
       "      <td>0.312500</td>\n",
       "      <td>2.257470</td>\n",
       "      <td>20.312200</td>\n",
       "      <td>3.840100</td>\n",
       "    </tr>\n",
       "    <tr>\n",
       "      <td>11</td>\n",
       "      <td>0.723790</td>\n",
       "      <td>1.394088</td>\n",
       "      <td>0.531250</td>\n",
       "      <td>1.677782</td>\n",
       "      <td>20.128400</td>\n",
       "      <td>3.875100</td>\n",
       "    </tr>\n",
       "    <tr>\n",
       "      <td>12</td>\n",
       "      <td>0.743952</td>\n",
       "      <td>1.212499</td>\n",
       "      <td>0.687500</td>\n",
       "      <td>1.411806</td>\n",
       "      <td>20.368400</td>\n",
       "      <td>3.829500</td>\n",
       "    </tr>\n",
       "    <tr>\n",
       "      <td>13</td>\n",
       "      <td>0.756048</td>\n",
       "      <td>1.101572</td>\n",
       "      <td>0.406250</td>\n",
       "      <td>1.749272</td>\n",
       "      <td>20.211800</td>\n",
       "      <td>3.859100</td>\n",
       "    </tr>\n",
       "    <tr>\n",
       "      <td>14</td>\n",
       "      <td>0.764113</td>\n",
       "      <td>1.070746</td>\n",
       "      <td>0.562500</td>\n",
       "      <td>1.272563</td>\n",
       "      <td>20.348000</td>\n",
       "      <td>3.833300</td>\n",
       "    </tr>\n",
       "    <tr>\n",
       "      <td>15</td>\n",
       "      <td>0.780242</td>\n",
       "      <td>1.010018</td>\n",
       "      <td>0.750000</td>\n",
       "      <td>1.367799</td>\n",
       "      <td>20.164100</td>\n",
       "      <td>3.868300</td>\n",
       "    </tr>\n",
       "    <tr>\n",
       "      <td>16</td>\n",
       "      <td>0.788306</td>\n",
       "      <td>0.950518</td>\n",
       "      <td>0.562500</td>\n",
       "      <td>1.299212</td>\n",
       "      <td>20.241900</td>\n",
       "      <td>3.853400</td>\n",
       "    </tr>\n",
       "    <tr>\n",
       "      <td>17</td>\n",
       "      <td>0.788306</td>\n",
       "      <td>0.954568</td>\n",
       "      <td>0.625000</td>\n",
       "      <td>1.329283</td>\n",
       "      <td>20.051400</td>\n",
       "      <td>3.890000</td>\n",
       "    </tr>\n",
       "    <tr>\n",
       "      <td>18</td>\n",
       "      <td>0.796371</td>\n",
       "      <td>0.928489</td>\n",
       "      <td>0.625000</td>\n",
       "      <td>1.385210</td>\n",
       "      <td>20.350800</td>\n",
       "      <td>3.832800</td>\n",
       "    </tr>\n",
       "    <tr>\n",
       "      <td>19</td>\n",
       "      <td>0.786290</td>\n",
       "      <td>0.925548</td>\n",
       "      <td>0.750000</td>\n",
       "      <td>0.956120</td>\n",
       "      <td>20.281000</td>\n",
       "      <td>3.846000</td>\n",
       "    </tr>\n",
       "  </tbody>\n",
       "</table><p>"
      ],
      "text/plain": [
       "<IPython.core.display.HTML object>"
      ]
     },
     "metadata": {
      "tags": []
     },
     "output_type": "display_data"
    },
    {
     "name": "stderr",
     "output_type": "stream",
     "text": [
      "LOCAL_RANK: 0 - CUDA_VISIBLE_DEVICES: [0]\n"
     ]
    },
    {
     "data": {
      "text/html": [],
      "text/plain": [
       "<IPython.core.display.HTML object>"
      ]
     },
     "metadata": {
      "tags": []
     },
     "output_type": "display_data"
    },
    {
     "data": {
      "text/markdown": [
       "> 🎯 Final Training Accuracy: 0.836, Final Validation Accuracy: 0.796"
      ],
      "text/plain": [
       "<IPython.core.display.Markdown object>"
      ]
     },
     "metadata": {
      "tags": []
     },
     "output_type": "display_data"
    }
   ],
   "source": [
    "exp_name = \"benchmark-cnn\"\n",
    "train_dl, valid_dl = get_data(base_tfms, valid_transforms=base_tfms, bs=32)\n",
    "\n",
    "# instantiate the model\n",
    "model = BenchmarkModel(num_outputs=len(CLASS_MAP))\n",
    "\n",
    "# Put the model into Lightning-Task\n",
    "task = ClassificationTask(model, lr=3e-03)\n",
    "\n",
    "cbs = [ModelCheckpoint(monitor=\"val_acc\", filename=exp_name, dirpath=os.getcwd()), \n",
    "       NotebookProgressCallback(), \n",
    "       pl.callbacks.LearningRateMonitor(logging_interval=\"step\", log_momentum=True)]\n",
    "\n",
    "trainer = pl.Trainer(max_epochs=20, callbacks=cbs, gpus=1, precision=16, log_every_n_steps=1)\n",
    "trainer.fit(task, train_dataloader=train_dl, val_dataloaders=valid_dl)\n",
    "\n",
    "# Evalute the final performance of the Model\n",
    "tst_res = trainer.test(ckpt_path=\"best\", test_dataloaders=[train_dl, valid_dl], verbose=False)\n",
    "trn_acc, val_acc = tst_res[0][\"test_acc/dataloader_idx_0\"], tst_res[1][\"test_acc/dataloader_idx_1\"]\n",
    "\n",
    "display(Markdown(f\"> 🎯 Final Training Accuracy: {round(trn_acc, 3)}, Final Validation Accuracy: {round(val_acc, 3)}\"))"
   ]
  },
  {
   "cell_type": "markdown",
   "metadata": {
    "id": "IRAlFbD1ZeYh"
   },
   "source": [
    "That's a pretty good start, considering we have to pick the correct one of 62 categories, and we're training from scratch. So in the subsequent sections we will explore tricks that can probably help us to improve our results."
   ]
  },
  {
   "cell_type": "code",
   "execution_count": 25,
   "metadata": {
    "id": "wqlNrojraX5-"
   },
   "outputs": [],
   "source": [
    "try:\n",
    "    del model, trainer, task\n",
    "except: \n",
    "    pass\n",
    "try:\n",
    "    del train_dl, valid_dl\n",
    "except: \n",
    "    pass\n",
    "gc.collect()\n",
    "torch.cuda.empty_cache()"
   ]
  },
  {
   "cell_type": "markdown",
   "metadata": {
    "id": "Bms8tB0La3Z4"
   },
   "source": [
    "## Improving the Benchmark \n",
    "> This section will explore various techniques which will hopefully help us in improving our baseline model\n",
    "\n",
    "---"
   ]
  },
  {
   "cell_type": "markdown",
   "metadata": {
    "id": "vH0VC7qNbD1S"
   },
   "source": [
    "### Residual Blocks -\n",
    "\n",
    "In our above trained `CNN` model We can do way better than the current results using a deeper mode, but just stacking new layers won't really improve our results.\n",
    "In this experiment we will explore the preformance of our model by introducing `residual connection`s. It was introduced in 2015 by Kaiming He et al. in the article \"[Deep Residual Learning for Image Recognition](https://arxiv.org/pdf/1512.03385.pdf)\". Residual Connections are the main building blocks of the ResNet family of networks, which are one of the most popular CNN Architectures."
   ]
  },
  {
   "cell_type": "markdown",
   "metadata": {
    "id": "Fq6vibo_vvi1"
   },
   "source": [
    "Here's the definition of a simple ResNet block -"
   ]
  },
  {
   "cell_type": "code",
   "execution_count": 26,
   "metadata": {
    "id": "IGhgvOpXdjjG"
   },
   "outputs": [],
   "source": [
    "class ResBlock(nn.Module):\n",
    "    \"Creates a simple Residual Block\"\n",
    "    def __init__(self, in_chans: int, out_chans: int, \n",
    "                 kernel_size: int, stride: int = 1, act_cls: Callable = nn.ReLU):\n",
    "        \n",
    "        super(ResBlock, self).__init__()\n",
    "        self.idconv = None\n",
    "        \n",
    "        self.block1 = ConvBnDropBlock(in_chans=in_chans, out_chans=out_chans, kernel_size=kernel_size, \n",
    "                                      stride=stride, padding=None, use_bn=True, act_cls=act_cls, \n",
    "                                      p_drop=0.0, bias=False)\n",
    "        \n",
    "        self.block2 = ConvBnDropBlock(in_chans=out_chans, out_chans=out_chans, kernel_size=kernel_size, \n",
    "                                      stride=1, padding=None, use_bn=True, act_cls=None, p_drop=0.0, bias=False)\n",
    "        \n",
    "        self.act_cls = act_cls(inplace=True)\n",
    "        \n",
    "        if in_chans != out_chans or stride != 1:\n",
    "            self.idconv = ConvBnDropBlock(in_chans=in_chans, out_chans=out_chans, kernel_size=1, \n",
    "                                          stride=stride, padding=0, use_bn=True, act_cls=None, \n",
    "                                          p_drop=0.0, bias=False)\n",
    "        \n",
    "        for m in self.modules():\n",
    "            if isinstance(m, nn.Conv2d):\n",
    "                nn.init.kaiming_normal_(m.weight, mode='fan_out', nonlinearity='relu')\n",
    "            elif isinstance(m, nn.BatchNorm2d):\n",
    "                nn.init.constant_(m.weight, 1)\n",
    "                nn.init.constant_(m.bias, 0)\n",
    "         \n",
    "        # Zero-initialize the last BN in each residual branch,\n",
    "        # so that the residual branch starts with zeros, and each residual block behaves like an identity.\n",
    "        # This improves the model by 0.2~0.3% according to https://arxiv.org/abs/1706.02677\n",
    "        for m in self.block2.modules():\n",
    "            if isinstance(m, nn.BatchNorm2d):\n",
    "                nn.init.constant_(m.weight, 0)\n",
    "                    \n",
    "    def forward(self, x):\n",
    "        identity = x\n",
    "        out = self.block1(x)\n",
    "        out = self.block2(out)\n",
    "        \n",
    "        if self.idconv is not None:\n",
    "            identity = self.idconv(x)\n",
    "        \n",
    "        out += identity\n",
    "        return self.act_cls(out)"
   ]
  },
  {
   "cell_type": "markdown",
   "metadata": {
    "id": "9YmH2dP_jcg9"
   },
   "source": [
    "Why use `idconv` block ?\n",
    ">The issue is that with a stride of, say, 2 on one of the convolutions, the grid size of the output activations will be half the size on each axis of the input. So then we can't add that back to x in forward because x and the output activations have different dimensions. The same basic issue occurs if `in_chans`!=`out_chans`: the shapes of the input and output connections won't allow us to add them together. So `idconv` works as a identity map that matches the dimenstions of x to the ouput of `self.block2(self.block1(x))`. `idconv` increases the `channels` out the x and downsamples it with stride if required."
   ]
  },
  {
   "cell_type": "markdown",
   "metadata": {
    "id": "F6V7-ww3wA8b"
   },
   "source": [
    "We can now proceed towards modifying our BenchMark model. Let's add some skip connections into this network. We remove modify the 1st conv block of the model to resemble the layer in a typical `ResNet` Model, i.e, a conv layer (output_channels=64, kernel_size=7, stride=2) followed by a batch_normalization, activation and a MaxPooling layer. We then add the residual blocks of the model. The classifier of the model remains same.\n",
    "\n"
   ]
  },
  {
   "cell_type": "code",
   "execution_count": 27,
   "metadata": {
    "id": "-N0geEarjcry"
   },
   "outputs": [],
   "source": [
    "class ResModel(nn.Sequential):\n",
    "    def __init__(self, num_outputs: int):\n",
    "        conv = ConvBnDropBlock(in_chans=3, out_chans=64, kernel_size=7, p_drop=0, stride=2, \n",
    "                               act_cls=nn.ReLU, bias=False, use_bn=True)\n",
    "        pool = nn.MaxPool2d(kernel_size=3, stride=2, padding=1)\n",
    "        conv_stem  = nn.Sequential(conv, pool)\n",
    "        block1 = ResBlock(in_chans=64, out_chans=64,  stride=1, kernel_size=3, act_cls=nn.ReLU)\n",
    "        block2 = ResBlock(in_chans=64, out_chans=128, stride=2, kernel_size=3, act_cls=nn.ReLU)\n",
    "        block3 = ResBlock(in_chans=128,out_chans=256, stride=2, kernel_size=3, act_cls=nn.ReLU)\n",
    "        pool_flatten = nn.Sequential(OrderedDict(pool_layer=nn.AdaptiveAvgPool2d(1), flatten=nn.Flatten()))\n",
    "        fc = nn.Sequential(nn.Dropout(0.25), nn.Linear(256, num_outputs))\n",
    "        layers = OrderedDict(stem=conv_stem, block1=block1, block2=block2, block3=block3, pool_flatten=pool_flatten, fc=fc)\n",
    "        super(ResModel, self).__init__(layers)"
   ]
  },
  {
   "cell_type": "markdown",
   "metadata": {
    "id": "w9O0g6ihyEpp"
   },
   "source": [
    "Since this is a larger model than the previous one I will reduce the number of training epochs so that our model does not overfit the training data and quick experimentation purposes.\n",
    "\n",
    "Let's train it for a little bit and see how it fares compared to the previous model - "
   ]
  },
  {
   "cell_type": "code",
   "execution_count": 28,
   "metadata": {
    "colab": {
     "base_uri": "https://localhost:8080/",
     "height": 685
    },
    "id": "LuvF6ax3jc1h",
    "outputId": "a5dfd739-222c-4ed8-e1da-cbde52ad176e"
   },
   "outputs": [
    {
     "name": "stderr",
     "output_type": "stream",
     "text": [
      "GPU available: True, used: True\n",
      "TPU available: False, using: 0 TPU cores\n",
      "Using native 16bit precision.\n",
      "LOCAL_RANK: 0 - CUDA_VISIBLE_DEVICES: [0]\n",
      "\n",
      "  | Name      | Type             | Params\n",
      "-----------------------------------------------\n",
      "0 | model     | ResModel         | 1.2 M \n",
      "1 | criterion | CrossEntropyLoss | 0     \n",
      "-----------------------------------------------\n",
      "1.2 M     Trainable params\n",
      "0         Non-trainable params\n",
      "1.2 M     Total params\n",
      "4.995     Total estimated model params size (MB)\n"
     ]
    },
    {
     "data": {
      "text/html": [],
      "text/plain": [
       "<IPython.core.display.HTML object>"
      ]
     },
     "metadata": {
      "tags": []
     },
     "output_type": "display_data"
    },
    {
     "data": {
      "text/html": [
       "\n",
       "    <div>\n",
       "        <style>\n",
       "            progress {\n",
       "                border: none;\n",
       "                background-size: auto;\n",
       "            }\n",
       "        </style>\n",
       "      Training\n",
       "      <progress value='620' max='620' style='width:300px; height:20px; vertical-align: middle;'></progress>\n",
       "      [620/620 03:26, Epoch 9 {'loss': '0.101', 'v_num': 1}]\n",
       "    </div>\n",
       "    <table border=\"1\" class=\"dataframe\">\n",
       "  <thead>\n",
       "    <tr style=\"text-align: left;\">\n",
       "      <th>epoch</th>\n",
       "      <th>val_acc</th>\n",
       "      <th>val_loss</th>\n",
       "      <th>train_acc</th>\n",
       "      <th>train_loss</th>\n",
       "      <th>time</th>\n",
       "      <th>samples/s</th>\n",
       "    </tr>\n",
       "  </thead>\n",
       "  <tbody>\n",
       "    <tr>\n",
       "      <td>0</td>\n",
       "      <td>0.026210</td>\n",
       "      <td>4.093469</td>\n",
       "      <td>0.000000</td>\n",
       "      <td>4.164094</td>\n",
       "      <td>20.203500</td>\n",
       "      <td>3.860700</td>\n",
       "    </tr>\n",
       "    <tr>\n",
       "      <td>1</td>\n",
       "      <td>0.064516</td>\n",
       "      <td>3.830323</td>\n",
       "      <td>0.093750</td>\n",
       "      <td>3.776309</td>\n",
       "      <td>20.636400</td>\n",
       "      <td>3.779700</td>\n",
       "    </tr>\n",
       "    <tr>\n",
       "      <td>2</td>\n",
       "      <td>0.256048</td>\n",
       "      <td>2.840598</td>\n",
       "      <td>0.312500</td>\n",
       "      <td>2.786022</td>\n",
       "      <td>20.785600</td>\n",
       "      <td>3.752600</td>\n",
       "    </tr>\n",
       "    <tr>\n",
       "      <td>3</td>\n",
       "      <td>0.475806</td>\n",
       "      <td>1.949436</td>\n",
       "      <td>0.468750</td>\n",
       "      <td>1.587280</td>\n",
       "      <td>20.723900</td>\n",
       "      <td>3.763800</td>\n",
       "    </tr>\n",
       "    <tr>\n",
       "      <td>4</td>\n",
       "      <td>0.604839</td>\n",
       "      <td>1.386291</td>\n",
       "      <td>0.718750</td>\n",
       "      <td>0.997597</td>\n",
       "      <td>20.751600</td>\n",
       "      <td>3.758700</td>\n",
       "    </tr>\n",
       "    <tr>\n",
       "      <td>5</td>\n",
       "      <td>0.445565</td>\n",
       "      <td>2.046606</td>\n",
       "      <td>0.906250</td>\n",
       "      <td>0.391236</td>\n",
       "      <td>20.820300</td>\n",
       "      <td>3.746300</td>\n",
       "    </tr>\n",
       "    <tr>\n",
       "      <td>6</td>\n",
       "      <td>0.788306</td>\n",
       "      <td>0.765603</td>\n",
       "      <td>0.968750</td>\n",
       "      <td>0.277591</td>\n",
       "      <td>20.771000</td>\n",
       "      <td>3.755200</td>\n",
       "    </tr>\n",
       "    <tr>\n",
       "      <td>7</td>\n",
       "      <td>0.802419</td>\n",
       "      <td>0.736617</td>\n",
       "      <td>1.000000</td>\n",
       "      <td>0.151766</td>\n",
       "      <td>20.638400</td>\n",
       "      <td>3.779400</td>\n",
       "    </tr>\n",
       "    <tr>\n",
       "      <td>8</td>\n",
       "      <td>0.806452</td>\n",
       "      <td>0.697750</td>\n",
       "      <td>0.968750</td>\n",
       "      <td>0.158890</td>\n",
       "      <td>20.880100</td>\n",
       "      <td>3.735600</td>\n",
       "    </tr>\n",
       "    <tr>\n",
       "      <td>9</td>\n",
       "      <td>0.816532</td>\n",
       "      <td>0.681674</td>\n",
       "      <td>1.000000</td>\n",
       "      <td>0.068983</td>\n",
       "      <td>20.779200</td>\n",
       "      <td>3.753800</td>\n",
       "    </tr>\n",
       "  </tbody>\n",
       "</table><p>"
      ],
      "text/plain": [
       "<IPython.core.display.HTML object>"
      ]
     },
     "metadata": {
      "tags": []
     },
     "output_type": "display_data"
    },
    {
     "name": "stderr",
     "output_type": "stream",
     "text": [
      "LOCAL_RANK: 0 - CUDA_VISIBLE_DEVICES: [0]\n"
     ]
    },
    {
     "data": {
      "text/html": [],
      "text/plain": [
       "<IPython.core.display.HTML object>"
      ]
     },
     "metadata": {
      "tags": []
     },
     "output_type": "display_data"
    },
    {
     "data": {
      "text/markdown": [
       "> 🎯 Final Training Accuracy: 0.998, Final Validation Accuracy: 0.817"
      ],
      "text/plain": [
       "<IPython.core.display.Markdown object>"
      ]
     },
     "metadata": {
      "tags": []
     },
     "output_type": "display_data"
    }
   ],
   "source": [
    "exp_name = \"stage-01-resblock\"\n",
    "train_dl, valid_dl = get_data(base_tfms, valid_transforms=base_tfms, bs=32)\n",
    "\n",
    "# instantiate the model\n",
    "model = ResModel(num_outputs=len(CLASS_MAP))\n",
    "\n",
    "# Put the model into Lightning-Task\n",
    "task = ClassificationTask(model, lr=3e-03)\n",
    "\n",
    "cbs = [ModelCheckpoint(monitor=\"val_acc\", filename=exp_name, dirpath=os.getcwd()), \n",
    "       NotebookProgressCallback(), \n",
    "       pl.callbacks.LearningRateMonitor(logging_interval=\"step\", log_momentum=True)]\n",
    "\n",
    "trainer = pl.Trainer(max_epochs=10, callbacks=cbs, gpus=1, precision=16, log_every_n_steps=1)\n",
    "trainer.fit(task, train_dataloader=train_dl, val_dataloaders=valid_dl)\n",
    "\n",
    "# Evalute the final performance of the Model\n",
    "tst_res = trainer.test(ckpt_path=\"best\", test_dataloaders=[train_dl, valid_dl], verbose=False)\n",
    "trn_acc, val_acc = tst_res[0][\"test_acc/dataloader_idx_0\"], tst_res[1][\"test_acc/dataloader_idx_1\"]\n",
    "\n",
    "display(Markdown(f\"> 🎯 Final Training Accuracy: {round(trn_acc, 3)}, Final Validation Accuracy: {round(val_acc, 3)}\"))"
   ]
  },
  {
   "cell_type": "markdown",
   "metadata": {
    "id": "l43AbZbd0tIu"
   },
   "source": [
    "The accuracy of our model has increased by adding the skip connections. We were able to improve our accuracy in a fewer epochs compared to the previous model.\n",
    "\n",
    "If we had trained more I am not sure sure if the model performance would have increased on the validation data. This is because the model is overfitting on the training data and we do not want that. What we want is, that the model performs well in unseen data (or the validation dataset)."
   ]
  },
  {
   "cell_type": "markdown",
   "metadata": {
    "id": "uQBcyfSoMNpR"
   },
   "source": [
    "> Note: At this point it is crearly evident that currently our model is overfitting on the training data. But we will work on improving overfitting. First I want to try different model architectures and find the most optimal after which I will use *regularization* techniques to further improve the model and make it more robust."
   ]
  },
  {
   "cell_type": "code",
   "execution_count": 29,
   "metadata": {
    "id": "Dcw2YCZullQu"
   },
   "outputs": [],
   "source": [
    "try:\n",
    "    del model, trainer, task\n",
    "except: \n",
    "    pass\n",
    "try:\n",
    "    del train_dl, valid_dl\n",
    "except: \n",
    "    pass\n",
    "gc.collect()\n",
    "torch.cuda.empty_cache()"
   ]
  },
  {
   "cell_type": "markdown",
   "metadata": {
    "id": "eFNrOLQ2nRgF"
   },
   "source": [
    "### A State-of-the-Art ResNets -\n",
    "> In this part I will mainly try to explore different variant of `ResNet`s called `ResNet-D` proposed by Tong He in 2014 in the article \"[Bag of Tricks for Image Classification with Convolutional Neural Networks](https://arxiv.org/abs/1812.01187)\n",
    "\". By using a tweaked ResNet-50 architecture and Mixup they achieved 94.6% top-5 accuracy on ImageNet, in comparison to 92.2% with a regular ResNet-50 without Mixup. This result is better than that achieved by regular ResNet models that are twice as deep (and twice as slow, and much more likely to overfit). These tweaked `Resnet` variants was ultimately popularized Jeremy Howard of Fast.ai and are called as `xResNet`'s.\n",
    "\n",
    "---"
   ]
  },
  {
   "cell_type": "markdown",
   "metadata": {
    "id": "0BPqJNZRnT9K"
   },
   "source": [
    "This experiment will mainly explore the model preformace we replace the Residual blocks with xResidual Blocks.\n",
    "\n",
    "First, let us explore the architecture of `ResNet-D` proposed in the above named article. To obtain the `xResNet` architecture we have to apply three different tweaks in the `ResNet` architecture namely `ResNet-B`, `ResNet-C` and `ResNet-D`. \n",
    "\n",
    "The notable changes in the model architecture in our case would be :\n",
    "\n",
    "* In `ResidualCnn`, `resblock2` we are downsampling the input by applying a convulation `stride=2` in the 1st layer of the residual block. `ResNet-B` simply moves the stride `2` to the second convolution and keeps a stride of `1` for the first layer .\n",
    "* The `ResNet-C`, proposed in Inception-v2, removes the `7x7` convolution in the input stem of the network and replaces it with three consecutive 3x3 convolutions. \n",
    "* In `ResNet-D`, the authors replaced the convolution in the downsampling block with a `2x2` average-pooling layer of stride `2` followed by a `1x1` convolution layer. In our case we would have to replace the `idconv` present in `ResidualBlock` module.\n",
    "\n",
    "Let's apply the above changes to our model test the preformance -"
   ]
  },
  {
   "cell_type": "code",
   "execution_count": 30,
   "metadata": {
    "id": "qjX2mDHonZwy"
   },
   "outputs": [],
   "source": [
    "class xResBlock(nn.Module):\n",
    "    \"Creates a simple Residual Block for xResNet architecture\"\n",
    "    def __init__(self, in_chans, out_chans, kernel_size, stride=1, act_cls=nn.ReLU):\n",
    "        super(xResBlock, self).__init__()\n",
    "        self.idconv = None\n",
    "        \n",
    "        self.block1 = ConvBnDropBlock(in_chans=in_chans, out_chans=out_chans, kernel_size=kernel_size,\n",
    "                                      stride=1, use_bn=True, act_cls=act_cls, bias=False)\n",
    "        \n",
    "        # we apply the 1st change here, \n",
    "        # moving the stride 2 to the second convolution and keeps a stride of 1 for the first layer . \n",
    "        self.block2 = ConvBnDropBlock(in_chans=out_chans, out_chans=out_chans, kernel_size=kernel_size, \n",
    "                                      stride=stride, use_bn=True, act_cls=None, bias=False)\n",
    "        \n",
    "        self.act_cls = act_cls(inplace=True)\n",
    "        \n",
    "        if in_chans != out_chans or stride != 1:\n",
    "            # the 3rd change proped above is applied here,\n",
    "            # we replace with a 2x2 average-pooling layer of stride 2 followed by a 1x1 convolution layer\n",
    "            pool_layer = nn.AvgPool2d(stride, ceil_mode=True)\n",
    "            conv_layer = ConvBnDropBlock(in_chans=in_chans, out_chans=out_chans, kernel_size=1, padding=0, \n",
    "                                         use_bn=True, act_cls=None, p_drop=0.0, bias=False, stride=1)\n",
    "            \n",
    "            self.idconv = nn.Sequential(pool_layer, conv_layer)\n",
    "            \n",
    "        \n",
    "        for m in self.modules():\n",
    "            if isinstance(m, nn.Conv2d):\n",
    "                nn.init.kaiming_normal_(m.weight, mode='fan_out', nonlinearity='relu')\n",
    "            elif isinstance(m, nn.BatchNorm2d):\n",
    "                nn.init.constant_(m.weight, 1)\n",
    "                nn.init.constant_(m.bias, 0)\n",
    "         \n",
    "        # Zero-initialize the last BN in each residual branch,\n",
    "        # so that the residual branch starts with zeros, and each residual block behaves like an identity.\n",
    "        # This improves the model by 0.2~0.3% according to https://arxiv.org/abs/1706.02677\n",
    "        for m in self.block2.modules():\n",
    "            if isinstance(m, nn.BatchNorm2d):\n",
    "                nn.init.constant_(m.weight, 0)\n",
    "                    \n",
    "    def forward(self, x):\n",
    "        identity = x\n",
    "        out = self.block1(x)\n",
    "        out = self.block2(out)\n",
    "        \n",
    "        if self.idconv is not None:\n",
    "            identity = self.idconv(x)\n",
    "        \n",
    "        out += identity\n",
    "        return self.act_cls(out)"
   ]
  },
  {
   "cell_type": "markdown",
   "metadata": {
    "id": "xahTgOcNne14"
   },
   "source": [
    "The code is, for the most part, taken & modified from the [fast.ai course](https://www.fast.ai/), [fast.ai]() library and this [blog post](https://towardsdatascience.com/xresnet-from-scratch-in-pytorch-e64e309af722). \n",
    "\n",
    "Let's move incorporate this into the model that we have been working with."
   ]
  },
  {
   "cell_type": "code",
   "execution_count": 31,
   "metadata": {
    "id": "zQVrmb4Dnj4v"
   },
   "outputs": [],
   "source": [
    "class xResModel(nn.Sequential):\n",
    "    def __init__(self, num_outputs: int, act_cls=nn.ReLU):\n",
    "        conv = nn.Sequential(\n",
    "            ConvBnDropBlock(in_chans=3,  out_chans=32, kernel_size=3, stride=2, act_cls=act_cls, \n",
    "                            bias=False, use_bn=False),\n",
    "            ConvBnDropBlock(in_chans=32, out_chans=32, kernel_size=3, stride=1, act_cls=act_cls, \n",
    "                            bias=False, use_bn=False),\n",
    "            ConvBnDropBlock(in_chans=32, out_chans=64, kernel_size=3, stride=1, act_cls=act_cls,\n",
    "                            bias=False, use_bn=False),\n",
    "        )\n",
    "        pool = nn.MaxPool2d(kernel_size=3, stride=2, padding=1)\n",
    "        conv_stem  = nn.Sequential(conv, pool)\n",
    "        block1 = xResBlock(in_chans=64, out_chans=64,  stride=1, kernel_size=3, act_cls=act_cls)\n",
    "        block2 = xResBlock(in_chans=64, out_chans=128, stride=2, kernel_size=3, act_cls=act_cls)\n",
    "        block3 = xResBlock(in_chans=128,out_chans=256, stride=2, kernel_size=3, act_cls=act_cls)\n",
    "        pool_flatten = nn.Sequential(OrderedDict(pool=nn.AdaptiveAvgPool2d(1), flatten=nn.Flatten()))\n",
    "        fc = nn.Sequential(nn.Dropout(0.25), nn.Linear(256,num_outputs))\n",
    "        layers = OrderedDict(stem=conv_stem, block1=block1, block2=block2, block3=block3, pool_flatten=pool_flatten, fc=fc)\n",
    "        super(xResModel, self).__init__(layers)"
   ]
  },
  {
   "cell_type": "markdown",
   "metadata": {
    "id": "7t99NKFfsL6D"
   },
   "source": [
    "Let's train it and see how it fares compared to the previous model -"
   ]
  },
  {
   "cell_type": "code",
   "execution_count": 32,
   "metadata": {
    "colab": {
     "base_uri": "https://localhost:8080/",
     "height": 685
    },
    "id": "JJYIBu7Bo95m",
    "outputId": "06b12439-7a82-4eb2-d500-bf504de7f850"
   },
   "outputs": [
    {
     "name": "stderr",
     "output_type": "stream",
     "text": [
      "GPU available: True, used: True\n",
      "TPU available: False, using: 0 TPU cores\n",
      "Using native 16bit precision.\n",
      "LOCAL_RANK: 0 - CUDA_VISIBLE_DEVICES: [0]\n",
      "\n",
      "  | Name      | Type             | Params\n",
      "-----------------------------------------------\n",
      "0 | model     | xResModel        | 1.3 M \n",
      "1 | criterion | CrossEntropyLoss | 0     \n",
      "-----------------------------------------------\n",
      "1.3 M     Trainable params\n",
      "0         Non-trainable params\n",
      "1.3 M     Total params\n",
      "5.070     Total estimated model params size (MB)\n"
     ]
    },
    {
     "data": {
      "text/html": [],
      "text/plain": [
       "<IPython.core.display.HTML object>"
      ]
     },
     "metadata": {
      "tags": []
     },
     "output_type": "display_data"
    },
    {
     "data": {
      "text/html": [
       "\n",
       "    <div>\n",
       "        <style>\n",
       "            progress {\n",
       "                border: none;\n",
       "                background-size: auto;\n",
       "            }\n",
       "        </style>\n",
       "      Training\n",
       "      <progress value='620' max='620' style='width:300px; height:20px; vertical-align: middle;'></progress>\n",
       "      [620/620 03:27, Epoch 9 {'loss': '0.145', 'v_num': 2}]\n",
       "    </div>\n",
       "    <table border=\"1\" class=\"dataframe\">\n",
       "  <thead>\n",
       "    <tr style=\"text-align: left;\">\n",
       "      <th>epoch</th>\n",
       "      <th>val_acc</th>\n",
       "      <th>val_loss</th>\n",
       "      <th>train_acc</th>\n",
       "      <th>train_loss</th>\n",
       "      <th>time</th>\n",
       "      <th>samples/s</th>\n",
       "    </tr>\n",
       "  </thead>\n",
       "  <tbody>\n",
       "    <tr>\n",
       "      <td>0</td>\n",
       "      <td>0.036290</td>\n",
       "      <td>4.075097</td>\n",
       "      <td>0.062500</td>\n",
       "      <td>4.055149</td>\n",
       "      <td>20.408300</td>\n",
       "      <td>3.822000</td>\n",
       "    </tr>\n",
       "    <tr>\n",
       "      <td>1</td>\n",
       "      <td>0.072581</td>\n",
       "      <td>3.936617</td>\n",
       "      <td>0.187500</td>\n",
       "      <td>3.410817</td>\n",
       "      <td>20.820400</td>\n",
       "      <td>3.746300</td>\n",
       "    </tr>\n",
       "    <tr>\n",
       "      <td>2</td>\n",
       "      <td>0.282258</td>\n",
       "      <td>2.692599</td>\n",
       "      <td>0.437500</td>\n",
       "      <td>2.334053</td>\n",
       "      <td>21.078000</td>\n",
       "      <td>3.700500</td>\n",
       "    </tr>\n",
       "    <tr>\n",
       "      <td>3</td>\n",
       "      <td>0.203629</td>\n",
       "      <td>3.004666</td>\n",
       "      <td>0.593750</td>\n",
       "      <td>1.412039</td>\n",
       "      <td>20.762800</td>\n",
       "      <td>3.756700</td>\n",
       "    </tr>\n",
       "    <tr>\n",
       "      <td>4</td>\n",
       "      <td>0.151210</td>\n",
       "      <td>4.252478</td>\n",
       "      <td>0.812500</td>\n",
       "      <td>0.723684</td>\n",
       "      <td>20.367100</td>\n",
       "      <td>3.829700</td>\n",
       "    </tr>\n",
       "    <tr>\n",
       "      <td>5</td>\n",
       "      <td>0.651210</td>\n",
       "      <td>1.169238</td>\n",
       "      <td>0.937500</td>\n",
       "      <td>0.353632</td>\n",
       "      <td>20.867600</td>\n",
       "      <td>3.737800</td>\n",
       "    </tr>\n",
       "    <tr>\n",
       "      <td>6</td>\n",
       "      <td>0.695565</td>\n",
       "      <td>1.088703</td>\n",
       "      <td>0.781250</td>\n",
       "      <td>0.719027</td>\n",
       "      <td>20.961200</td>\n",
       "      <td>3.721200</td>\n",
       "    </tr>\n",
       "    <tr>\n",
       "      <td>7</td>\n",
       "      <td>0.840726</td>\n",
       "      <td>0.528903</td>\n",
       "      <td>0.937500</td>\n",
       "      <td>0.212674</td>\n",
       "      <td>20.960300</td>\n",
       "      <td>3.721300</td>\n",
       "    </tr>\n",
       "    <tr>\n",
       "      <td>8</td>\n",
       "      <td>0.864919</td>\n",
       "      <td>0.476138</td>\n",
       "      <td>0.968750</td>\n",
       "      <td>0.164252</td>\n",
       "      <td>20.920500</td>\n",
       "      <td>3.728400</td>\n",
       "    </tr>\n",
       "    <tr>\n",
       "      <td>9</td>\n",
       "      <td>0.862903</td>\n",
       "      <td>0.472210</td>\n",
       "      <td>1.000000</td>\n",
       "      <td>0.094409</td>\n",
       "      <td>20.859400</td>\n",
       "      <td>3.739300</td>\n",
       "    </tr>\n",
       "  </tbody>\n",
       "</table><p>"
      ],
      "text/plain": [
       "<IPython.core.display.HTML object>"
      ]
     },
     "metadata": {
      "tags": []
     },
     "output_type": "display_data"
    },
    {
     "name": "stderr",
     "output_type": "stream",
     "text": [
      "LOCAL_RANK: 0 - CUDA_VISIBLE_DEVICES: [0]\n"
     ]
    },
    {
     "data": {
      "text/html": [],
      "text/plain": [
       "<IPython.core.display.HTML object>"
      ]
     },
     "metadata": {
      "tags": []
     },
     "output_type": "display_data"
    },
    {
     "data": {
      "text/markdown": [
       "> 🎯 Final Training Accuracy: 0.987, Final Validation Accuracy: 0.865"
      ],
      "text/plain": [
       "<IPython.core.display.Markdown object>"
      ]
     },
     "metadata": {
      "tags": []
     },
     "output_type": "display_data"
    }
   ],
   "source": [
    "exp_name = \"stage-01-xresblock\"\n",
    "train_dl, valid_dl = get_data(base_tfms, valid_transforms=base_tfms, bs=32)\n",
    "\n",
    "# instantiate the model\n",
    "model = xResModel(num_outputs=len(CLASS_MAP))\n",
    "\n",
    "# Put the model into Lightning-Task\n",
    "task = ClassificationTask(model, lr=3e-03)\n",
    "\n",
    "cbs = [ModelCheckpoint(monitor=\"val_acc\", filename=exp_name, dirpath=os.getcwd()), \n",
    "       NotebookProgressCallback(), \n",
    "       pl.callbacks.LearningRateMonitor(logging_interval=\"step\", log_momentum=True)]\n",
    "\n",
    "trainer = pl.Trainer(max_epochs=10, callbacks=cbs, gpus=1, precision=16, log_every_n_steps=1)\n",
    "trainer.fit(task, train_dataloader=train_dl, val_dataloaders=valid_dl)\n",
    "\n",
    "# Evalute the final performance of the Model\n",
    "tst_res = trainer.test(ckpt_path=\"best\", test_dataloaders=[train_dl, valid_dl], verbose=False)\n",
    "trn_acc, val_acc = tst_res[0][\"test_acc/dataloader_idx_0\"], tst_res[1][\"test_acc/dataloader_idx_1\"]\n",
    "\n",
    "display(Markdown(f\"> 🎯 Final Training Accuracy: {round(trn_acc, 3)}, Final Validation Accuracy: {round(val_acc, 3)}\"))"
   ]
  },
  {
   "cell_type": "markdown",
   "metadata": {
    "id": "rFfabjLSUrQy"
   },
   "source": [
    "Validation accuracy has increased a lot but we are still overfitting on the training data , let's explore more ..."
   ]
  },
  {
   "cell_type": "code",
   "execution_count": 33,
   "metadata": {
    "id": "XAOfe5FRtVtf"
   },
   "outputs": [],
   "source": [
    "try:\n",
    "    del model, trainer, task\n",
    "except: \n",
    "    pass\n",
    "try:\n",
    "    del train_dl, valid_dl\n",
    "except: \n",
    "    pass\n",
    "gc.collect()\n",
    "torch.cuda.empty_cache()"
   ]
  },
  {
   "cell_type": "markdown",
   "metadata": {
    "id": "Bosj5r96zCeG"
   },
   "source": [
    "### Mish and SelfAttention - \n",
    "> In this experiment I plan to use some of [State of the Art Training techniques](https://forums.fast.ai/t/how-we-beat-the-5-epoch-imagewoof-leaderboard-score-some-new-techniques-to-consider/53453) that were used to top the leaderboard score for 5 epoch Imagewoof`.\n",
    "\n",
    "\n",
    "\n",
    "The techniques I will be employing are as follows - \n",
    "* `Mish activation function instead of ReLU` : Mish is a new activation function that was released in a [paper](https://arxiv.org/abs/1908.08681). It has a much smoother curve vs relu, and in theory, that drives information more deeply through the network.\n",
    "* `Self attention layer` : Bringing in Ideas from GAN's into CNN's.The self attention layer is designed to help leverage long range dependencies within an image vs the more local feature focus of convolutions. Paper Link : [https://arxiv.org/abs/1805.08318]\n",
    "\n",
    "\n",
    "\n",
    "The folks from fast.ai who employed the above techniques noticed that `SimpleSelfAttention` layer, when placed within a Resnet block, the network converges if `SimpleSelfAttention` is placed right after a convolution layer that uses batch norm, and initializes the batchnorm weights to 0.\n",
    "\n",
    "[Source](https://github.com/sdoria/SimpleSelfAttention)"
   ]
  },
  {
   "cell_type": "markdown",
   "metadata": {
    "id": "1ElXz7VPzCg2"
   },
   "source": [
    "The code for creating the `SimpleSelfAttention` module has been borrowed from [here](https://github.com/sdoria/SimpleSelfAttention/blob/master/xresnet.py)."
   ]
  },
  {
   "cell_type": "code",
   "execution_count": 34,
   "metadata": {
    "id": "eLHtIG9RzCmC"
   },
   "outputs": [],
   "source": [
    "def conv1d(ni:int, no:int, ks:int=1, stride:int=1, padding:int=0, bias:bool=False):\n",
    "    \"Create and initialize a `nn.Conv1d` layer with spectral normalization.\"\n",
    "    conv = nn.Conv1d(ni, no, ks, stride=stride, padding=padding, bias=bias)\n",
    "    nn.init.kaiming_normal_(conv.weight)\n",
    "    if bias: conv.bias.data.zero_()\n",
    "    return spectral_norm(conv)\n",
    "\n",
    "\n",
    "class SimpleSelfAttention(nn.Module):\n",
    "    \n",
    "    def __init__(self, n_in:int, ks=1, sym=False):\n",
    "        super().__init__()\n",
    "           \n",
    "        self.conv = conv1d(n_in, n_in, ks, padding=ks//2, bias=False)      \n",
    "       \n",
    "        self.gamma = nn.Parameter(torch.tensor([0.]))\n",
    "        \n",
    "        self.sym = sym\n",
    "        self.n_in = n_in\n",
    "        \n",
    "    def forward(self,x):\n",
    "          \n",
    "        if self.sym:\n",
    "            # symmetry hack by https://github.com/mgrankin\n",
    "            c = self.conv.weight.view(self.n_in,self.n_in)\n",
    "            c = (c + c.t())/2\n",
    "            self.conv.weight = c.view(self.n_in,self.n_in,1)\n",
    "                \n",
    "        size = x.size()  \n",
    "        x = x.view(*size[:2],-1)\n",
    "        convx = self.conv(x)\n",
    "        xxT = torch.bmm(x,x.permute(0,2,1).contiguous())\n",
    "        \n",
    "        o = torch.bmm(xxT, convx)\n",
    "          \n",
    "        o = self.gamma * o + x\n",
    "        return o.view(*size).contiguous()"
   ]
  },
  {
   "cell_type": "markdown",
   "metadata": {
    "id": "6rCMGxmSzCoi"
   },
   "source": [
    "The code block implements the `Mish` Activation function, the code for which has been borrowed from the [repository](https://github.com/digantamisra98/Mish/blob/master/Mish/Torch/functional.py) of the original author of `Mish`."
   ]
  },
  {
   "cell_type": "code",
   "execution_count": 35,
   "metadata": {
    "id": "Rv_KzkeLzYVI"
   },
   "outputs": [],
   "source": [
    "@torch.jit.script\n",
    "def mish(input):\n",
    "    '''\n",
    "    Applies the mish function element-wise:\n",
    "    mish(x) = x * tanh(softplus(x)) = x * tanh(ln(1 + exp(x)))\n",
    "    '''\n",
    "    return input * torch.tanh(F.softplus(input))\n",
    "\n",
    "\n",
    "class Mish(nn.Module):\n",
    "    def __init__(self, *args, **kwargs):\n",
    "        super(Mish, self).__init__()\n",
    "    \n",
    "    def forward(self, xb):\n",
    "        return mish(xb)"
   ]
  },
  {
   "cell_type": "markdown",
   "metadata": {
    "id": "kx6N4e0WzYYS"
   },
   "source": [
    "The code below adds `SelfAttention` to our *x*Resnet block -\n",
    "\n",
    "\n",
    "\n"
   ]
  },
  {
   "cell_type": "code",
   "execution_count": 36,
   "metadata": {
    "id": "z9sspbJozYbG"
   },
   "outputs": [],
   "source": [
    "class xResBlock(nn.Module):\n",
    "    \"Creates a xRes Block with SelfAttention and Mish Activation\"\n",
    "    def __init__(self, in_chans: int, out_chans: int, kernel_size: int, stride: int = 1, \n",
    "                 act_cls: Callable = Mish, sa: bool = False):\n",
    "        \n",
    "        super(xResBlock, self).__init__()\n",
    "        self.idconv = None\n",
    "        self.sa = None\n",
    "        \n",
    "        self.block1 = ConvBnDropBlock(in_chans=in_chans, out_chans=out_chans, kernel_size=kernel_size,\n",
    "                                      stride=1, use_bn=True, act_cls=act_cls, bias=False)\n",
    "         \n",
    "        self.block2 = ConvBnDropBlock(in_chans=out_chans, out_chans=out_chans, kernel_size=kernel_size, \n",
    "                                      stride=stride, use_bn=True, act_cls=None, bias=False)\n",
    "        \n",
    "        # initialize the SimpleSelfAttention Layer\n",
    "        if sa :\n",
    "            self.sa = SimpleSelfAttention(out_chans,ks=1,sym=False)    \n",
    "        \n",
    "        self.act_cls = act_cls(inplace=True)\n",
    "        \n",
    "        if in_chans != out_chans or stride != 1:\n",
    "            pool_layer = nn.AvgPool2d(stride, ceil_mode=True)\n",
    "            conv_layer = ConvBnDropBlock(in_chans=in_chans, out_chans=out_chans, kernel_size=1, padding=0, \n",
    "                                         use_bn=True, act_cls=None, p_drop=0.0, bias=False, stride=1)\n",
    "            \n",
    "            self.idconv = nn.Sequential(pool_layer, conv_layer)       \n",
    "            \n",
    "        for m in self.modules():\n",
    "            if isinstance(m, nn.Conv2d):\n",
    "                nn.init.kaiming_normal_(m.weight, mode='fan_out', nonlinearity='relu')\n",
    "            elif isinstance(m, nn.BatchNorm2d):\n",
    "                nn.init.constant_(m.weight, 1)\n",
    "                nn.init.constant_(m.bias, 0)\n",
    "                \n",
    "        for m in self.block2.modules():\n",
    "            if isinstance(m, nn.BatchNorm2d):\n",
    "                nn.init.constant_(m.weight, 0)\n",
    "                    \n",
    "    def forward(self, x):\n",
    "        identity = x\n",
    "        out = self.block1(x)\n",
    "        out = self.block2(out)\n",
    "        if self.sa is not None:\n",
    "            out = self.sa(out) # <- self attention is inserted here\n",
    "        \n",
    "        if self.idconv is not None:\n",
    "            identity = self.idconv(x)\n",
    "        \n",
    "        out += identity\n",
    "        return self.act_cls(out)"
   ]
  },
  {
   "cell_type": "markdown",
   "metadata": {
    "id": "TizKT22OHRbU"
   },
   "source": [
    "Let's build up the model ..."
   ]
  },
  {
   "cell_type": "code",
   "execution_count": 37,
   "metadata": {
    "id": "ZGoJKgBZzmVi"
   },
   "outputs": [],
   "source": [
    "class xResModelSA(nn.Sequential):\n",
    "    def __init__(self, num_outputs: int, act_cls=Mish):\n",
    "        conv = nn.Sequential(\n",
    "            ConvBnDropBlock(in_chans=3,  out_chans=32, kernel_size=3, stride=2, \n",
    "                            act_cls=act_cls, bias=False, use_bn=False),\n",
    "            ConvBnDropBlock(in_chans=32, out_chans=32, kernel_size=3, stride=1, \n",
    "                            act_cls=act_cls, bias=False, use_bn=False),\n",
    "            ConvBnDropBlock(in_chans=32, out_chans=64, kernel_size=3, stride=1, \n",
    "                            act_cls=act_cls, bias=False, use_bn=False),\n",
    "            )\n",
    "        pool = nn.MaxPool2d(kernel_size=3, stride=2, padding=1)\n",
    "        conv_stem  = nn.Sequential(conv, pool)    \n",
    "        block1 = xResBlock(in_chans=64, out_chans=64,  stride=1, kernel_size=3, act_cls=act_cls, sa=True)\n",
    "        block2 = xResBlock(in_chans=64, out_chans=128, stride=2, kernel_size=3, act_cls=act_cls, sa=True)\n",
    "        block3 = xResBlock(in_chans=128,out_chans=256, stride=2, kernel_size=3, act_cls=act_cls, sa=True)\n",
    "        pool_flatten = nn.Sequential(nn.AdaptiveAvgPool2d(1), nn.Flatten())\n",
    "        fc = nn.Sequential(nn.Dropout(0.25), nn.Linear(256, num_outputs))\n",
    "        layers = OrderedDict(stem=conv_stem, block1=block1, block2=block2, block3=block3, pool_flatten=pool_flatten, fc=fc)\n",
    "        super(xResModelSA, self).__init__(layers)"
   ]
  },
  {
   "cell_type": "markdown",
   "metadata": {
    "id": "teBv5VmoZW2p"
   },
   "source": [
    "*`SelfAttention` + `ReLU` activation* ..."
   ]
  },
  {
   "cell_type": "code",
   "execution_count": 38,
   "metadata": {
    "colab": {
     "base_uri": "https://localhost:8080/",
     "height": 685
    },
    "id": "MR6qi9tuzmY1",
    "outputId": "c6bbda6e-4438-4e96-a1f0-4a7494923d18"
   },
   "outputs": [
    {
     "name": "stderr",
     "output_type": "stream",
     "text": [
      "GPU available: True, used: True\n",
      "TPU available: False, using: 0 TPU cores\n",
      "Using native 16bit precision.\n",
      "LOCAL_RANK: 0 - CUDA_VISIBLE_DEVICES: [0]\n",
      "\n",
      "  | Name      | Type             | Params\n",
      "-----------------------------------------------\n",
      "0 | model     | xResModelSA      | 1.4 M \n",
      "1 | criterion | CrossEntropyLoss | 0     \n",
      "-----------------------------------------------\n",
      "1.4 M     Trainable params\n",
      "0         Non-trainable params\n",
      "1.4 M     Total params\n",
      "5.415     Total estimated model params size (MB)\n"
     ]
    },
    {
     "data": {
      "text/html": [],
      "text/plain": [
       "<IPython.core.display.HTML object>"
      ]
     },
     "metadata": {
      "tags": []
     },
     "output_type": "display_data"
    },
    {
     "data": {
      "text/html": [
       "\n",
       "    <div>\n",
       "        <style>\n",
       "            progress {\n",
       "                border: none;\n",
       "                background-size: auto;\n",
       "            }\n",
       "        </style>\n",
       "      Training\n",
       "      <progress value='310' max='310' style='width:300px; height:20px; vertical-align: middle;'></progress>\n",
       "      [310/310 03:21, Epoch 9 {'loss': '0.14', 'v_num': 3}]\n",
       "    </div>\n",
       "    <table border=\"1\" class=\"dataframe\">\n",
       "  <thead>\n",
       "    <tr style=\"text-align: left;\">\n",
       "      <th>epoch</th>\n",
       "      <th>val_acc</th>\n",
       "      <th>val_loss</th>\n",
       "      <th>train_acc</th>\n",
       "      <th>train_loss</th>\n",
       "      <th>time</th>\n",
       "      <th>samples/s</th>\n",
       "    </tr>\n",
       "  </thead>\n",
       "  <tbody>\n",
       "    <tr>\n",
       "      <td>0</td>\n",
       "      <td>0.022177</td>\n",
       "      <td>4.170353</td>\n",
       "      <td>0.046875</td>\n",
       "      <td>4.148663</td>\n",
       "      <td>20.513500</td>\n",
       "      <td>1.901200</td>\n",
       "    </tr>\n",
       "    <tr>\n",
       "      <td>1</td>\n",
       "      <td>0.042339</td>\n",
       "      <td>4.104131</td>\n",
       "      <td>0.093750</td>\n",
       "      <td>3.800660</td>\n",
       "      <td>20.263000</td>\n",
       "      <td>1.924700</td>\n",
       "    </tr>\n",
       "    <tr>\n",
       "      <td>2</td>\n",
       "      <td>0.016129</td>\n",
       "      <td>1172.781860</td>\n",
       "      <td>0.328125</td>\n",
       "      <td>2.461102</td>\n",
       "      <td>20.163200</td>\n",
       "      <td>1.934200</td>\n",
       "    </tr>\n",
       "    <tr>\n",
       "      <td>3</td>\n",
       "      <td>0.100806</td>\n",
       "      <td>9.106421</td>\n",
       "      <td>0.562500</td>\n",
       "      <td>1.621551</td>\n",
       "      <td>20.242500</td>\n",
       "      <td>1.926600</td>\n",
       "    </tr>\n",
       "    <tr>\n",
       "      <td>4</td>\n",
       "      <td>0.122984</td>\n",
       "      <td>5.691170</td>\n",
       "      <td>0.671875</td>\n",
       "      <td>1.079999</td>\n",
       "      <td>20.230400</td>\n",
       "      <td>1.927800</td>\n",
       "    </tr>\n",
       "    <tr>\n",
       "      <td>5</td>\n",
       "      <td>0.344758</td>\n",
       "      <td>3.325113</td>\n",
       "      <td>0.796875</td>\n",
       "      <td>0.618536</td>\n",
       "      <td>20.235600</td>\n",
       "      <td>1.927300</td>\n",
       "    </tr>\n",
       "    <tr>\n",
       "      <td>6</td>\n",
       "      <td>0.604839</td>\n",
       "      <td>1.476612</td>\n",
       "      <td>0.859375</td>\n",
       "      <td>0.400208</td>\n",
       "      <td>20.072900</td>\n",
       "      <td>1.942900</td>\n",
       "    </tr>\n",
       "    <tr>\n",
       "      <td>7</td>\n",
       "      <td>0.784274</td>\n",
       "      <td>0.772749</td>\n",
       "      <td>0.890625</td>\n",
       "      <td>0.231457</td>\n",
       "      <td>20.355500</td>\n",
       "      <td>1.915900</td>\n",
       "    </tr>\n",
       "    <tr>\n",
       "      <td>8</td>\n",
       "      <td>0.818548</td>\n",
       "      <td>0.632207</td>\n",
       "      <td>0.953125</td>\n",
       "      <td>0.146994</td>\n",
       "      <td>20.089900</td>\n",
       "      <td>1.941300</td>\n",
       "    </tr>\n",
       "    <tr>\n",
       "      <td>9</td>\n",
       "      <td>0.828629</td>\n",
       "      <td>0.724895</td>\n",
       "      <td>0.968750</td>\n",
       "      <td>0.140880</td>\n",
       "      <td>20.310300</td>\n",
       "      <td>1.920200</td>\n",
       "    </tr>\n",
       "  </tbody>\n",
       "</table><p>"
      ],
      "text/plain": [
       "<IPython.core.display.HTML object>"
      ]
     },
     "metadata": {
      "tags": []
     },
     "output_type": "display_data"
    },
    {
     "name": "stderr",
     "output_type": "stream",
     "text": [
      "LOCAL_RANK: 0 - CUDA_VISIBLE_DEVICES: [0]\n"
     ]
    },
    {
     "data": {
      "text/html": [],
      "text/plain": [
       "<IPython.core.display.HTML object>"
      ]
     },
     "metadata": {
      "tags": []
     },
     "output_type": "display_data"
    },
    {
     "data": {
      "text/markdown": [
       "> 🎯 Final Training Accuracy: 0.982, Final Validation Accuracy: 0.829"
      ],
      "text/plain": [
       "<IPython.core.display.Markdown object>"
      ]
     },
     "metadata": {
      "tags": []
     },
     "output_type": "display_data"
    }
   ],
   "source": [
    "exp_name = \"xresblock-sa\"\n",
    "train_dl, valid_dl = get_data(base_tfms, valid_transforms=base_tfms)\n",
    "\n",
    "# instantiate the model\n",
    "model = xResModelSA(num_outputs=len(CLASS_MAP), act_cls=nn.ReLU)\n",
    "\n",
    "# Put the model into Lightning-Task\n",
    "task = ClassificationTask(model, lr=3e-03)\n",
    "\n",
    "cbs = [ModelCheckpoint(monitor=\"val_acc\", filename=exp_name, dirpath=os.getcwd()), \n",
    "       NotebookProgressCallback(), \n",
    "       pl.callbacks.LearningRateMonitor(logging_interval=\"step\", log_momentum=True)]\n",
    "\n",
    "trainer = pl.Trainer(max_epochs=10, callbacks=cbs, gpus=1, precision=16, log_every_n_steps=1)\n",
    "trainer.fit(task, train_dataloader=train_dl, val_dataloaders=valid_dl)\n",
    "\n",
    "# Evalute the final performance of the Model\n",
    "tst_res = trainer.test(ckpt_path=\"best\", test_dataloaders=[train_dl, valid_dl], verbose=False)\n",
    "trn_acc, val_acc = tst_res[0][\"test_acc/dataloader_idx_0\"], tst_res[1][\"test_acc/dataloader_idx_1\"]\n",
    "\n",
    "display(Markdown(f\"> 🎯 Final Training Accuracy: {round(trn_acc, 3)}, Final Validation Accuracy: {round(val_acc, 3)}\"))"
   ]
  },
  {
   "cell_type": "markdown",
   "metadata": {
    "id": "rs_KKiewstlB"
   },
   "source": [
    "*`SelfAttention` + `Mish`* ... "
   ]
  },
  {
   "cell_type": "code",
   "execution_count": 39,
   "metadata": {
    "colab": {
     "base_uri": "https://localhost:8080/",
     "height": 685
    },
    "id": "U5s_XsTHs1Xl",
    "outputId": "8cbab5c5-c831-4414-d458-7cb9017dfd45"
   },
   "outputs": [
    {
     "name": "stderr",
     "output_type": "stream",
     "text": [
      "GPU available: True, used: True\n",
      "TPU available: False, using: 0 TPU cores\n",
      "Using native 16bit precision.\n",
      "LOCAL_RANK: 0 - CUDA_VISIBLE_DEVICES: [0]\n",
      "\n",
      "  | Name      | Type             | Params\n",
      "-----------------------------------------------\n",
      "0 | model     | xResModelSA      | 1.4 M \n",
      "1 | criterion | CrossEntropyLoss | 0     \n",
      "-----------------------------------------------\n",
      "1.4 M     Trainable params\n",
      "0         Non-trainable params\n",
      "1.4 M     Total params\n",
      "5.415     Total estimated model params size (MB)\n"
     ]
    },
    {
     "data": {
      "text/html": [],
      "text/plain": [
       "<IPython.core.display.HTML object>"
      ]
     },
     "metadata": {
      "tags": []
     },
     "output_type": "display_data"
    },
    {
     "data": {
      "text/html": [
       "\n",
       "    <div>\n",
       "        <style>\n",
       "            progress {\n",
       "                border: none;\n",
       "                background-size: auto;\n",
       "            }\n",
       "        </style>\n",
       "      Training\n",
       "      <progress value='310' max='310' style='width:300px; height:20px; vertical-align: middle;'></progress>\n",
       "      [310/310 03:22, Epoch 9 {'loss': '0.119', 'v_num': 4}]\n",
       "    </div>\n",
       "    <table border=\"1\" class=\"dataframe\">\n",
       "  <thead>\n",
       "    <tr style=\"text-align: left;\">\n",
       "      <th>epoch</th>\n",
       "      <th>val_acc</th>\n",
       "      <th>val_loss</th>\n",
       "      <th>train_acc</th>\n",
       "      <th>train_loss</th>\n",
       "      <th>time</th>\n",
       "      <th>samples/s</th>\n",
       "    </tr>\n",
       "  </thead>\n",
       "  <tbody>\n",
       "    <tr>\n",
       "      <td>0</td>\n",
       "      <td>0.040323</td>\n",
       "      <td>4.403789</td>\n",
       "      <td>0.031250</td>\n",
       "      <td>4.004300</td>\n",
       "      <td>23.469900</td>\n",
       "      <td>1.661700</td>\n",
       "    </tr>\n",
       "    <tr>\n",
       "      <td>1</td>\n",
       "      <td>0.056452</td>\n",
       "      <td>4.125689</td>\n",
       "      <td>0.140625</td>\n",
       "      <td>3.557842</td>\n",
       "      <td>21.174300</td>\n",
       "      <td>1.841900</td>\n",
       "    </tr>\n",
       "    <tr>\n",
       "      <td>2</td>\n",
       "      <td>0.068548</td>\n",
       "      <td>11.582187</td>\n",
       "      <td>0.437500</td>\n",
       "      <td>2.368009</td>\n",
       "      <td>20.004600</td>\n",
       "      <td>1.949500</td>\n",
       "    </tr>\n",
       "    <tr>\n",
       "      <td>3</td>\n",
       "      <td>0.108871</td>\n",
       "      <td>6.606654</td>\n",
       "      <td>0.578125</td>\n",
       "      <td>1.344991</td>\n",
       "      <td>20.090000</td>\n",
       "      <td>1.941300</td>\n",
       "    </tr>\n",
       "    <tr>\n",
       "      <td>4</td>\n",
       "      <td>0.153226</td>\n",
       "      <td>5.799909</td>\n",
       "      <td>0.765625</td>\n",
       "      <td>0.738546</td>\n",
       "      <td>20.300000</td>\n",
       "      <td>1.921200</td>\n",
       "    </tr>\n",
       "    <tr>\n",
       "      <td>5</td>\n",
       "      <td>0.258065</td>\n",
       "      <td>4.110724</td>\n",
       "      <td>0.796875</td>\n",
       "      <td>0.688133</td>\n",
       "      <td>20.406800</td>\n",
       "      <td>1.911100</td>\n",
       "    </tr>\n",
       "    <tr>\n",
       "      <td>6</td>\n",
       "      <td>0.328629</td>\n",
       "      <td>3.438424</td>\n",
       "      <td>0.906250</td>\n",
       "      <td>0.388012</td>\n",
       "      <td>20.091000</td>\n",
       "      <td>1.941200</td>\n",
       "    </tr>\n",
       "    <tr>\n",
       "      <td>7</td>\n",
       "      <td>0.824597</td>\n",
       "      <td>0.614956</td>\n",
       "      <td>0.828125</td>\n",
       "      <td>0.556442</td>\n",
       "      <td>20.325700</td>\n",
       "      <td>1.918800</td>\n",
       "    </tr>\n",
       "    <tr>\n",
       "      <td>8</td>\n",
       "      <td>0.836694</td>\n",
       "      <td>0.556627</td>\n",
       "      <td>0.921875</td>\n",
       "      <td>0.180228</td>\n",
       "      <td>20.188900</td>\n",
       "      <td>1.931800</td>\n",
       "    </tr>\n",
       "    <tr>\n",
       "      <td>9</td>\n",
       "      <td>0.846774</td>\n",
       "      <td>0.537813</td>\n",
       "      <td>0.937500</td>\n",
       "      <td>0.115660</td>\n",
       "      <td>20.249200</td>\n",
       "      <td>1.926000</td>\n",
       "    </tr>\n",
       "  </tbody>\n",
       "</table><p>"
      ],
      "text/plain": [
       "<IPython.core.display.HTML object>"
      ]
     },
     "metadata": {
      "tags": []
     },
     "output_type": "display_data"
    },
    {
     "name": "stderr",
     "output_type": "stream",
     "text": [
      "LOCAL_RANK: 0 - CUDA_VISIBLE_DEVICES: [0]\n"
     ]
    },
    {
     "data": {
      "text/html": [],
      "text/plain": [
       "<IPython.core.display.HTML object>"
      ]
     },
     "metadata": {
      "tags": []
     },
     "output_type": "display_data"
    },
    {
     "data": {
      "text/markdown": [
       "> 🎯 Final Training Accuracy: 0.982, Final Validation Accuracy: 0.847"
      ],
      "text/plain": [
       "<IPython.core.display.Markdown object>"
      ]
     },
     "metadata": {
      "tags": []
     },
     "output_type": "display_data"
    }
   ],
   "source": [
    "exp_name = \"mxresblock-sa\"\n",
    "train_dl, valid_dl = get_data(base_tfms, valid_transforms=base_tfms)\n",
    "\n",
    "# instantiate the model\n",
    "model = xResModelSA(num_outputs=len(CLASS_MAP), act_cls=Mish)\n",
    "\n",
    "# Put the model into Lightning-Task\n",
    "task = ClassificationTask(model, lr=3e-03)\n",
    "\n",
    "cbs = [ModelCheckpoint(monitor=\"val_acc\", filename=exp_name, dirpath=os.getcwd()), \n",
    "       NotebookProgressCallback(), \n",
    "       pl.callbacks.LearningRateMonitor(logging_interval=\"step\", log_momentum=True)]\n",
    "\n",
    "trainer = pl.Trainer(max_epochs=10, callbacks=cbs, gpus=1, precision=16, log_every_n_steps=1)\n",
    "trainer.fit(task, train_dataloader=train_dl, val_dataloaders=valid_dl)\n",
    "\n",
    "# Evalute the final performance of the Model\n",
    "tst_res = trainer.test(ckpt_path=\"best\", test_dataloaders=[train_dl, valid_dl], verbose=False)\n",
    "trn_acc, val_acc = tst_res[0][\"test_acc/dataloader_idx_0\"], tst_res[1][\"test_acc/dataloader_idx_1\"]\n",
    "\n",
    "display(Markdown(f\"> 🎯 Final Training Accuracy: {round(trn_acc, 3)}, Final Validation Accuracy: {round(val_acc, 3)}\"))"
   ]
  },
  {
   "cell_type": "code",
   "execution_count": 40,
   "metadata": {
    "id": "FIibTevdzmfR"
   },
   "outputs": [],
   "source": [
    "try:\n",
    "    del model, trainer, task\n",
    "except:\n",
    "    pass\n",
    "try:\n",
    "    del train_dl, valid_dl\n",
    "except: \n",
    "    pass\n",
    "gc.collect()\n",
    "torch.cuda.empty_cache()"
   ]
  },
  {
   "cell_type": "markdown",
   "metadata": {
    "id": "gXXwGwHHwCHQ"
   },
   "source": [
    "*`Mish` activation* - "
   ]
  },
  {
   "cell_type": "code",
   "execution_count": 42,
   "metadata": {
    "colab": {
     "base_uri": "https://localhost:8080/",
     "height": 685
    },
    "id": "R3-hr5QWwLXS",
    "outputId": "8f1b91b9-06d3-4f63-eff1-1df2d33b0b72"
   },
   "outputs": [
    {
     "name": "stderr",
     "output_type": "stream",
     "text": [
      "GPU available: True, used: True\n",
      "TPU available: False, using: 0 TPU cores\n",
      "Using native 16bit precision.\n",
      "LOCAL_RANK: 0 - CUDA_VISIBLE_DEVICES: [0]\n",
      "\n",
      "  | Name      | Type             | Params\n",
      "-----------------------------------------------\n",
      "0 | model     | xResModel        | 1.3 M \n",
      "1 | criterion | CrossEntropyLoss | 0     \n",
      "-----------------------------------------------\n",
      "1.3 M     Trainable params\n",
      "0         Non-trainable params\n",
      "1.3 M     Total params\n",
      "5.070     Total estimated model params size (MB)\n"
     ]
    },
    {
     "data": {
      "text/html": [],
      "text/plain": [
       "<IPython.core.display.HTML object>"
      ]
     },
     "metadata": {
      "tags": []
     },
     "output_type": "display_data"
    },
    {
     "data": {
      "text/html": [
       "\n",
       "    <div>\n",
       "        <style>\n",
       "            progress {\n",
       "                border: none;\n",
       "                background-size: auto;\n",
       "            }\n",
       "        </style>\n",
       "      Training\n",
       "      <progress value='620' max='620' style='width:300px; height:20px; vertical-align: middle;'></progress>\n",
       "      [620/620 03:26, Epoch 9 {'loss': '0.0584', 'v_num': 5}]\n",
       "    </div>\n",
       "    <table border=\"1\" class=\"dataframe\">\n",
       "  <thead>\n",
       "    <tr style=\"text-align: left;\">\n",
       "      <th>epoch</th>\n",
       "      <th>val_acc</th>\n",
       "      <th>val_loss</th>\n",
       "      <th>train_acc</th>\n",
       "      <th>train_loss</th>\n",
       "      <th>time</th>\n",
       "      <th>samples/s</th>\n",
       "    </tr>\n",
       "  </thead>\n",
       "  <tbody>\n",
       "    <tr>\n",
       "      <td>0</td>\n",
       "      <td>0.030242</td>\n",
       "      <td>4.468395</td>\n",
       "      <td>0.000000</td>\n",
       "      <td>4.056336</td>\n",
       "      <td>21.697600</td>\n",
       "      <td>3.594900</td>\n",
       "    </tr>\n",
       "    <tr>\n",
       "      <td>1</td>\n",
       "      <td>0.022177</td>\n",
       "      <td>9.366550</td>\n",
       "      <td>0.062500</td>\n",
       "      <td>3.407614</td>\n",
       "      <td>20.740700</td>\n",
       "      <td>3.760700</td>\n",
       "    </tr>\n",
       "    <tr>\n",
       "      <td>2</td>\n",
       "      <td>0.181452</td>\n",
       "      <td>3.536513</td>\n",
       "      <td>0.656250</td>\n",
       "      <td>1.458171</td>\n",
       "      <td>20.658400</td>\n",
       "      <td>3.775700</td>\n",
       "    </tr>\n",
       "    <tr>\n",
       "      <td>3</td>\n",
       "      <td>0.673387</td>\n",
       "      <td>1.186092</td>\n",
       "      <td>0.718750</td>\n",
       "      <td>0.976937</td>\n",
       "      <td>20.622800</td>\n",
       "      <td>3.782200</td>\n",
       "    </tr>\n",
       "    <tr>\n",
       "      <td>4</td>\n",
       "      <td>0.173387</td>\n",
       "      <td>5.391195</td>\n",
       "      <td>0.843750</td>\n",
       "      <td>0.762040</td>\n",
       "      <td>20.894400</td>\n",
       "      <td>3.733000</td>\n",
       "    </tr>\n",
       "    <tr>\n",
       "      <td>5</td>\n",
       "      <td>0.802419</td>\n",
       "      <td>0.663204</td>\n",
       "      <td>1.000000</td>\n",
       "      <td>0.234503</td>\n",
       "      <td>20.827900</td>\n",
       "      <td>3.745000</td>\n",
       "    </tr>\n",
       "    <tr>\n",
       "      <td>6</td>\n",
       "      <td>0.802419</td>\n",
       "      <td>0.629864</td>\n",
       "      <td>1.000000</td>\n",
       "      <td>0.081613</td>\n",
       "      <td>20.761800</td>\n",
       "      <td>3.756900</td>\n",
       "    </tr>\n",
       "    <tr>\n",
       "      <td>7</td>\n",
       "      <td>0.860887</td>\n",
       "      <td>0.455085</td>\n",
       "      <td>1.000000</td>\n",
       "      <td>0.103138</td>\n",
       "      <td>20.954800</td>\n",
       "      <td>3.722300</td>\n",
       "    </tr>\n",
       "    <tr>\n",
       "      <td>8</td>\n",
       "      <td>0.879032</td>\n",
       "      <td>0.426057</td>\n",
       "      <td>1.000000</td>\n",
       "      <td>0.061851</td>\n",
       "      <td>20.642000</td>\n",
       "      <td>3.778700</td>\n",
       "    </tr>\n",
       "    <tr>\n",
       "      <td>9</td>\n",
       "      <td>0.879032</td>\n",
       "      <td>0.424010</td>\n",
       "      <td>1.000000</td>\n",
       "      <td>0.039342</td>\n",
       "      <td>20.573100</td>\n",
       "      <td>3.791400</td>\n",
       "    </tr>\n",
       "  </tbody>\n",
       "</table><p>"
      ],
      "text/plain": [
       "<IPython.core.display.HTML object>"
      ]
     },
     "metadata": {
      "tags": []
     },
     "output_type": "display_data"
    },
    {
     "name": "stderr",
     "output_type": "stream",
     "text": [
      "LOCAL_RANK: 0 - CUDA_VISIBLE_DEVICES: [0]\n"
     ]
    },
    {
     "data": {
      "text/html": [],
      "text/plain": [
       "<IPython.core.display.HTML object>"
      ]
     },
     "metadata": {
      "tags": []
     },
     "output_type": "display_data"
    },
    {
     "data": {
      "text/markdown": [
       "> 🎯 Final Training Accuracy: 0.998, Final Validation Accuracy: 0.879"
      ],
      "text/plain": [
       "<IPython.core.display.Markdown object>"
      ]
     },
     "metadata": {
      "tags": []
     },
     "output_type": "display_data"
    }
   ],
   "source": [
    "exp_name = \"Mxresblock\"\n",
    "train_dl, valid_dl = get_data(base_tfms, valid_transforms=base_tfms, bs=32)\n",
    "\n",
    "# instantiate the model\n",
    "model = xResModel(num_outputs=len(CLASS_MAP), act_cls=Mish)\n",
    "\n",
    "# Put the model into Lightning-Task\n",
    "task = ClassificationTask(model, lr=3e-03)\n",
    "\n",
    "cbs = [ModelCheckpoint(monitor=\"val_acc\", filename=exp_name, dirpath=os.getcwd()), \n",
    "       NotebookProgressCallback(), \n",
    "       pl.callbacks.LearningRateMonitor(logging_interval=\"step\", log_momentum=True)]\n",
    "\n",
    "trainer = pl.Trainer(max_epochs=10, callbacks=cbs, gpus=1, precision=16, log_every_n_steps=1)\n",
    "trainer.fit(task, train_dataloader=train_dl, val_dataloaders=valid_dl)\n",
    "\n",
    "# Evalute the final performance of the Model\n",
    "tst_res = trainer.test(ckpt_path=\"best\", test_dataloaders=[train_dl, valid_dl], verbose=False)\n",
    "trn_acc, val_acc = tst_res[0][\"test_acc/dataloader_idx_0\"], tst_res[1][\"test_acc/dataloader_idx_1\"]\n",
    "\n",
    "display(Markdown(f\"> 🎯 Final Training Accuracy: {round(trn_acc, 3)}, Final Validation Accuracy: {round(val_acc, 3)}\"))"
   ]
  },
  {
   "cell_type": "code",
   "execution_count": 41,
   "metadata": {
    "id": "sj5UCHYawLbk"
   },
   "outputs": [],
   "source": [
    "try:\n",
    "    del model, trainer, task\n",
    "except:\n",
    "    pass\n",
    "try:\n",
    "    del train_dl, valid_dl\n",
    "except: \n",
    "    pass\n",
    "gc.collect()\n",
    "torch.cuda.empty_cache()"
   ]
  },
  {
   "cell_type": "markdown",
   "metadata": {
    "id": "gP7Nflj-Y5mu"
   },
   "source": [
    "We do see much improved using the above tricks so we will discard them and work on improving our original *x*Resnet based model ..."
   ]
  },
  {
   "cell_type": "markdown",
   "metadata": {
    "id": "jIaNPUnsPwNZ"
   },
   "source": [
    "### Exploring Different Classifiers - \n",
    "\n",
    "In this section, I will take the above model and update the classifiers of the model and check their performance."
   ]
  },
  {
   "cell_type": "markdown",
   "metadata": {
    "id": "IhHFKDSKQOED"
   },
   "source": [
    "Let's add another block of layers (Dropout -> Linear -> Activation -> BatchNorm) after the `pooling layer` and the `final fc layer`  to the classifier of the model - "
   ]
  },
  {
   "cell_type": "code",
   "execution_count": 43,
   "metadata": {
    "id": "pxj7575oQOMU"
   },
   "outputs": [],
   "source": [
    "class xResModelv2(nn.Sequential):\n",
    "    def __init__(self, num_outputs: int, act_cls=Mish, sa=False):\n",
    "        conv = nn.Sequential(\n",
    "            ConvBnDropBlock(in_chans=3,  out_chans=32, kernel_size=3, stride=2, act_cls=act_cls, \n",
    "                            bias=False, use_bn=False),\n",
    "            ConvBnDropBlock(in_chans=32, out_chans=32, kernel_size=3, stride=1, act_cls=act_cls, \n",
    "                            bias=False, use_bn=False),\n",
    "            ConvBnDropBlock(in_chans=32, out_chans=64, kernel_size=3, stride=1, act_cls=act_cls, \n",
    "                            bias=False, use_bn=True),\n",
    "            )\n",
    "        \n",
    "        pool = nn.MaxPool2d(kernel_size=3, stride=2, padding=1)\n",
    "        \n",
    "        conv_stem  = nn.Sequential(conv, pool)     \n",
    "        block1 = xResBlock(in_chans=64, out_chans=64,  stride=1, kernel_size=3, act_cls=act_cls, sa=sa)\n",
    "        block2 = xResBlock(in_chans=64, out_chans=128, stride=2, kernel_size=3, act_cls=act_cls, sa=sa)\n",
    "        block3 = xResBlock(in_chans=128,out_chans=256, stride=2, kernel_size=3, act_cls=act_cls, sa=sa)\n",
    "        \n",
    "        pool_flatten = nn.Sequential(nn.AdaptiveAvgPool2d(1), nn.Flatten())\n",
    "        \n",
    "        fc1 = nn.Sequential(nn.Dropout(0.25), nn.Linear(256, 512, bias=False), act_cls(inplace=True), nn.BatchNorm1d(512))\n",
    "        fc2 = nn.Sequential(nn.Dropout(0.5), nn.Linear(512, num_outputs, bias=False)) \n",
    "        \n",
    "        layers = OrderedDict(stem=conv_stem, block1=block1, block2=block2, block3=block3, \n",
    "                             pool_flatten=pool_flatten, fc1=fc1, fc2=fc2)\n",
    "        super(xResModelv2, self).__init__(layers)"
   ]
  },
  {
   "cell_type": "markdown",
   "metadata": {
    "id": "eNDZOkCsQOVN"
   },
   "source": [
    "Training the model to evaluate performance."
   ]
  },
  {
   "cell_type": "code",
   "execution_count": 44,
   "metadata": {
    "colab": {
     "base_uri": "https://localhost:8080/",
     "height": 685
    },
    "id": "5d9q87zmQOcz",
    "outputId": "18bf36ee-2585-4866-878a-2d4d17e8a6ee"
   },
   "outputs": [
    {
     "name": "stderr",
     "output_type": "stream",
     "text": [
      "GPU available: True, used: True\n",
      "TPU available: False, using: 0 TPU cores\n",
      "Using native 16bit precision.\n",
      "LOCAL_RANK: 0 - CUDA_VISIBLE_DEVICES: [0]\n",
      "\n",
      "  | Name      | Type             | Params\n",
      "-----------------------------------------------\n",
      "0 | model     | xResModelv2      | 1.4 M \n",
      "1 | criterion | CrossEntropyLoss | 0     \n",
      "-----------------------------------------------\n",
      "1.4 M     Trainable params\n",
      "0         Non-trainable params\n",
      "1.4 M     Total params\n",
      "5.663     Total estimated model params size (MB)\n"
     ]
    },
    {
     "data": {
      "text/html": [],
      "text/plain": [
       "<IPython.core.display.HTML object>"
      ]
     },
     "metadata": {
      "tags": []
     },
     "output_type": "display_data"
    },
    {
     "data": {
      "text/html": [
       "\n",
       "    <div>\n",
       "        <style>\n",
       "            progress {\n",
       "                border: none;\n",
       "                background-size: auto;\n",
       "            }\n",
       "        </style>\n",
       "      Training\n",
       "      <progress value='310' max='310' style='width:300px; height:20px; vertical-align: middle;'></progress>\n",
       "      [310/310 03:27, Epoch 9 {'loss': '0.249', 'v_num': 6}]\n",
       "    </div>\n",
       "    <table border=\"1\" class=\"dataframe\">\n",
       "  <thead>\n",
       "    <tr style=\"text-align: left;\">\n",
       "      <th>epoch</th>\n",
       "      <th>val_acc</th>\n",
       "      <th>val_loss</th>\n",
       "      <th>train_acc</th>\n",
       "      <th>train_loss</th>\n",
       "      <th>time</th>\n",
       "      <th>samples/s</th>\n",
       "    </tr>\n",
       "  </thead>\n",
       "  <tbody>\n",
       "    <tr>\n",
       "      <td>0</td>\n",
       "      <td>0.034274</td>\n",
       "      <td>4.608113</td>\n",
       "      <td>0.046875</td>\n",
       "      <td>4.974113</td>\n",
       "      <td>20.679900</td>\n",
       "      <td>1.885900</td>\n",
       "    </tr>\n",
       "    <tr>\n",
       "      <td>1</td>\n",
       "      <td>0.032258</td>\n",
       "      <td>15.511646</td>\n",
       "      <td>0.078125</td>\n",
       "      <td>3.743794</td>\n",
       "      <td>20.708200</td>\n",
       "      <td>1.883300</td>\n",
       "    </tr>\n",
       "    <tr>\n",
       "      <td>2</td>\n",
       "      <td>0.129032</td>\n",
       "      <td>5.019724</td>\n",
       "      <td>0.343750</td>\n",
       "      <td>2.380446</td>\n",
       "      <td>20.694000</td>\n",
       "      <td>1.884600</td>\n",
       "    </tr>\n",
       "    <tr>\n",
       "      <td>3</td>\n",
       "      <td>0.106855</td>\n",
       "      <td>9.635838</td>\n",
       "      <td>0.609375</td>\n",
       "      <td>1.393277</td>\n",
       "      <td>20.929100</td>\n",
       "      <td>1.863400</td>\n",
       "    </tr>\n",
       "    <tr>\n",
       "      <td>4</td>\n",
       "      <td>0.048387</td>\n",
       "      <td>17.542812</td>\n",
       "      <td>0.718750</td>\n",
       "      <td>0.976982</td>\n",
       "      <td>21.018500</td>\n",
       "      <td>1.855500</td>\n",
       "    </tr>\n",
       "    <tr>\n",
       "      <td>5</td>\n",
       "      <td>0.715726</td>\n",
       "      <td>0.960965</td>\n",
       "      <td>0.718750</td>\n",
       "      <td>0.775667</td>\n",
       "      <td>20.962300</td>\n",
       "      <td>1.860500</td>\n",
       "    </tr>\n",
       "    <tr>\n",
       "      <td>6</td>\n",
       "      <td>0.419355</td>\n",
       "      <td>2.427079</td>\n",
       "      <td>0.781250</td>\n",
       "      <td>0.662684</td>\n",
       "      <td>20.912800</td>\n",
       "      <td>1.864900</td>\n",
       "    </tr>\n",
       "    <tr>\n",
       "      <td>7</td>\n",
       "      <td>0.822581</td>\n",
       "      <td>0.655303</td>\n",
       "      <td>0.796875</td>\n",
       "      <td>0.477250</td>\n",
       "      <td>21.020300</td>\n",
       "      <td>1.855300</td>\n",
       "    </tr>\n",
       "    <tr>\n",
       "      <td>8</td>\n",
       "      <td>0.842742</td>\n",
       "      <td>0.509028</td>\n",
       "      <td>0.890625</td>\n",
       "      <td>0.351608</td>\n",
       "      <td>20.918400</td>\n",
       "      <td>1.864400</td>\n",
       "    </tr>\n",
       "    <tr>\n",
       "      <td>9</td>\n",
       "      <td>0.842742</td>\n",
       "      <td>0.471490</td>\n",
       "      <td>0.953125</td>\n",
       "      <td>0.199294</td>\n",
       "      <td>20.923500</td>\n",
       "      <td>1.863900</td>\n",
       "    </tr>\n",
       "  </tbody>\n",
       "</table><p>"
      ],
      "text/plain": [
       "<IPython.core.display.HTML object>"
      ]
     },
     "metadata": {
      "tags": []
     },
     "output_type": "display_data"
    },
    {
     "name": "stderr",
     "output_type": "stream",
     "text": [
      "LOCAL_RANK: 0 - CUDA_VISIBLE_DEVICES: [0]\n"
     ]
    },
    {
     "data": {
      "text/html": [],
      "text/plain": [
       "<IPython.core.display.HTML object>"
      ]
     },
     "metadata": {
      "tags": []
     },
     "output_type": "display_data"
    },
    {
     "data": {
      "text/markdown": [
       "> 🎯 Final Training Accuracy: 0.974, Final Validation Accuracy: 0.843"
      ],
      "text/plain": [
       "<IPython.core.display.Markdown object>"
      ]
     },
     "metadata": {
      "tags": []
     },
     "output_type": "display_data"
    }
   ],
   "source": [
    "exp_name = \"Mxresblockv2\"\n",
    "train_dl, valid_dl = get_data(base_tfms, valid_transforms=base_tfms)\n",
    "\n",
    "# instantiate the model\n",
    "model = xResModelv2(num_outputs=len(CLASS_MAP), act_cls=Mish, sa=False)\n",
    "\n",
    "# Put the model into Lightning-Task\n",
    "task = ClassificationTask(model, lr=3e-03)\n",
    "\n",
    "cbs = [ModelCheckpoint(monitor=\"val_acc\", filename=exp_name, dirpath=os.getcwd()), \n",
    "       NotebookProgressCallback(), \n",
    "       pl.callbacks.LearningRateMonitor(logging_interval=\"step\", log_momentum=True)]\n",
    "\n",
    "trainer = pl.Trainer(max_epochs=10, callbacks=cbs, gpus=1, precision=16, log_every_n_steps=1)\n",
    "trainer.fit(task, train_dataloader=train_dl, val_dataloaders=valid_dl)\n",
    "\n",
    "# Evalute the final performance of the Model\n",
    "tst_res = trainer.test(ckpt_path=\"best\", test_dataloaders=[train_dl, valid_dl], verbose=False)\n",
    "trn_acc, val_acc = tst_res[0][\"test_acc/dataloader_idx_0\"], tst_res[1][\"test_acc/dataloader_idx_1\"]\n",
    "\n",
    "display(Markdown(f\"> 🎯 Final Training Accuracy: {round(trn_acc, 3)}, Final Validation Accuracy: {round(val_acc, 3)}\"))"
   ]
  },
  {
   "cell_type": "markdown",
   "metadata": {
    "id": "qlvijK6rQOpQ"
   },
   "source": [
    "This time I will replace the classifier and pool layer of the Model with the model head that is created from by `fast.ai` s cnn_learner. The head begins with fastai's AdaptiveConcatPool2d. Then it uses a Flatten layer before going on blocks of BatchNorm, Dropout and Linear layers.\n",
    "\n",
    "[Source](https://docs.fast.ai/vision.learner.html#create_body)\n",
    "\n",
    "Let's build & train the model after adding these tweaks -"
   ]
  },
  {
   "cell_type": "code",
   "execution_count": 48,
   "metadata": {
    "id": "lHPhIMGQauEY"
   },
   "outputs": [],
   "source": [
    "class AdaptiveConcatPool2d(nn.Module):\n",
    "    \"Layer that concats `AdaptiveAvgPool2d` and `AdaptiveMaxPool2d`\"\n",
    "    def __init__(self, size=None):\n",
    "        super(AdaptiveConcatPool2d, self).__init__()\n",
    "        self.size = size or 1\n",
    "        self.ap = nn.AdaptiveAvgPool2d(self.size)\n",
    "        self.mp = nn.AdaptiveMaxPool2d(self.size)\n",
    "    def forward(self, x): \n",
    "        return torch.cat([self.mp(x), self.ap(x)], 1)\n",
    "\n",
    "\n",
    "class FastaiHead(nn.Sequential):\n",
    "    def __init__(self, nf: int, num_outputs: int, hiddens: int = 1024, act_cls=nn.ReLU):\n",
    "        l1 = nn.BatchNorm1d(nf)\n",
    "        l2 = nn.Dropout(p=0.25)\n",
    "        l3 = nn.Linear(in_features=nf, out_features=hiddens, bias=False)\n",
    "        l4 = act_cls(inplace=True)\n",
    "        l5 = nn.BatchNorm1d(hiddens)\n",
    "        l6 = nn.Dropout(p=0.5)\n",
    "        fc = nn.Linear(in_features=hiddens, out_features=num_outputs, bias=False)\n",
    "\n",
    "        layers = OrderedDict(fc1=nn.Sequential(l1, l2, l3, l4, l5, l6), fc2=fc)\n",
    "        super(FastaiHead, self).__init__(layers)\n",
    "\n",
    "\n",
    "# Incorporate these into our xResNet based model :\n",
    "class xResModelv3(nn.Sequential):\n",
    "    def __init__(self, num_outputs: int, act_cls=nn.ReLU, sa=False, hiddens: int = 1024):\n",
    "        conv = nn.Sequential(\n",
    "            ConvBnDropBlock(in_chans=3,  out_chans=32, kernel_size=3, stride=2, \n",
    "                            act_cls=act_cls, bias=False, use_bn=False),\n",
    "            ConvBnDropBlock(in_chans=32, out_chans=32, kernel_size=3, stride=1, \n",
    "                            act_cls=act_cls, bias=False, use_bn=False),\n",
    "            ConvBnDropBlock(in_chans=32, out_chans=64, kernel_size=3, stride=1, \n",
    "                            act_cls=act_cls, bias=False, use_bn=False),\n",
    "            )\n",
    "        pool = nn.MaxPool2d(kernel_size=3, stride=2, padding=1)\n",
    "        conv_stem  = nn.Sequential(conv, pool)     \n",
    "        block1 = xResBlock(in_chans=64, out_chans=64,  stride=1, kernel_size=3, \n",
    "                           act_cls=act_cls, sa=sa)\n",
    "        block2 = xResBlock(in_chans=64, out_chans=128, stride=2, kernel_size=3, \n",
    "                           act_cls=act_cls, sa=sa)\n",
    "        block3 = xResBlock(in_chans=128,out_chans=256, stride=2, kernel_size=3, \n",
    "                           act_cls=act_cls, sa=sa)\n",
    "        pool = nn.Sequential(AdaptiveConcatPool2d(1), nn.Flatten())\n",
    "        fc = FastaiHead(nf=2*256, num_outputs=num_outputs, act_cls=act_cls, hiddens=hiddens)\n",
    "        layers = OrderedDict(stem=conv_stem, block1=block1, block2=block2, block3=block3, pool_flatten=pool, fc=fc)\n",
    "        super(xResModelv3, self).__init__(layers)"
   ]
  },
  {
   "cell_type": "code",
   "execution_count": 49,
   "metadata": {
    "colab": {
     "base_uri": "https://localhost:8080/",
     "height": 685
    },
    "id": "elv7lwyL0UfJ",
    "outputId": "e48c01ca-3bc9-495e-faa0-491ae3da238e"
   },
   "outputs": [
    {
     "name": "stderr",
     "output_type": "stream",
     "text": [
      "GPU available: True, used: True\n",
      "TPU available: False, using: 0 TPU cores\n",
      "Using native 16bit precision.\n",
      "LOCAL_RANK: 0 - CUDA_VISIBLE_DEVICES: [0]\n",
      "\n",
      "  | Name      | Type             | Params\n",
      "-----------------------------------------------\n",
      "0 | model     | xResModelv3      | 1.5 M \n",
      "1 | criterion | CrossEntropyLoss | 0     \n",
      "-----------------------------------------------\n",
      "1.5 M     Trainable params\n",
      "0         Non-trainable params\n",
      "1.5 M     Total params\n",
      "6.190     Total estimated model params size (MB)\n"
     ]
    },
    {
     "data": {
      "text/html": [],
      "text/plain": [
       "<IPython.core.display.HTML object>"
      ]
     },
     "metadata": {
      "tags": []
     },
     "output_type": "display_data"
    },
    {
     "data": {
      "text/html": [
       "\n",
       "    <div>\n",
       "        <style>\n",
       "            progress {\n",
       "                border: none;\n",
       "                background-size: auto;\n",
       "            }\n",
       "        </style>\n",
       "      Training\n",
       "      <progress value='310' max='310' style='width:300px; height:20px; vertical-align: middle;'></progress>\n",
       "      [310/310 03:21, Epoch 9 {'loss': '0.264', 'v_num': 8}]\n",
       "    </div>\n",
       "    <table border=\"1\" class=\"dataframe\">\n",
       "  <thead>\n",
       "    <tr style=\"text-align: left;\">\n",
       "      <th>epoch</th>\n",
       "      <th>val_acc</th>\n",
       "      <th>val_loss</th>\n",
       "      <th>train_acc</th>\n",
       "      <th>train_loss</th>\n",
       "      <th>time</th>\n",
       "      <th>samples/s</th>\n",
       "    </tr>\n",
       "  </thead>\n",
       "  <tbody>\n",
       "    <tr>\n",
       "      <td>0</td>\n",
       "      <td>0.022177</td>\n",
       "      <td>5.847618</td>\n",
       "      <td>0.031250</td>\n",
       "      <td>4.724604</td>\n",
       "      <td>20.353200</td>\n",
       "      <td>1.916200</td>\n",
       "    </tr>\n",
       "    <tr>\n",
       "      <td>1</td>\n",
       "      <td>0.020161</td>\n",
       "      <td>20.221750</td>\n",
       "      <td>0.218750</td>\n",
       "      <td>3.182718</td>\n",
       "      <td>20.501800</td>\n",
       "      <td>1.902300</td>\n",
       "    </tr>\n",
       "    <tr>\n",
       "      <td>2</td>\n",
       "      <td>0.028226</td>\n",
       "      <td>20.828972</td>\n",
       "      <td>0.359375</td>\n",
       "      <td>2.556564</td>\n",
       "      <td>20.169500</td>\n",
       "      <td>1.933600</td>\n",
       "    </tr>\n",
       "    <tr>\n",
       "      <td>3</td>\n",
       "      <td>0.036290</td>\n",
       "      <td>22.155218</td>\n",
       "      <td>0.515625</td>\n",
       "      <td>1.680501</td>\n",
       "      <td>20.401400</td>\n",
       "      <td>1.911600</td>\n",
       "    </tr>\n",
       "    <tr>\n",
       "      <td>4</td>\n",
       "      <td>0.185484</td>\n",
       "      <td>5.201253</td>\n",
       "      <td>0.531250</td>\n",
       "      <td>1.565266</td>\n",
       "      <td>19.860400</td>\n",
       "      <td>1.963700</td>\n",
       "    </tr>\n",
       "    <tr>\n",
       "      <td>5</td>\n",
       "      <td>0.217742</td>\n",
       "      <td>4.616158</td>\n",
       "      <td>0.796875</td>\n",
       "      <td>0.694270</td>\n",
       "      <td>19.936500</td>\n",
       "      <td>1.956200</td>\n",
       "    </tr>\n",
       "    <tr>\n",
       "      <td>6</td>\n",
       "      <td>0.457661</td>\n",
       "      <td>2.475965</td>\n",
       "      <td>0.796875</td>\n",
       "      <td>0.543665</td>\n",
       "      <td>20.137200</td>\n",
       "      <td>1.936700</td>\n",
       "    </tr>\n",
       "    <tr>\n",
       "      <td>7</td>\n",
       "      <td>0.155242</td>\n",
       "      <td>6.301936</td>\n",
       "      <td>0.859375</td>\n",
       "      <td>0.525846</td>\n",
       "      <td>20.218000</td>\n",
       "      <td>1.929000</td>\n",
       "    </tr>\n",
       "    <tr>\n",
       "      <td>8</td>\n",
       "      <td>0.741935</td>\n",
       "      <td>0.867519</td>\n",
       "      <td>0.890625</td>\n",
       "      <td>0.322677</td>\n",
       "      <td>19.987500</td>\n",
       "      <td>1.951200</td>\n",
       "    </tr>\n",
       "    <tr>\n",
       "      <td>9</td>\n",
       "      <td>0.816532</td>\n",
       "      <td>0.640167</td>\n",
       "      <td>0.906250</td>\n",
       "      <td>0.422371</td>\n",
       "      <td>20.138800</td>\n",
       "      <td>1.936600</td>\n",
       "    </tr>\n",
       "  </tbody>\n",
       "</table><p>"
      ],
      "text/plain": [
       "<IPython.core.display.HTML object>"
      ]
     },
     "metadata": {
      "tags": []
     },
     "output_type": "display_data"
    },
    {
     "name": "stderr",
     "output_type": "stream",
     "text": [
      "LOCAL_RANK: 0 - CUDA_VISIBLE_DEVICES: [0]\n"
     ]
    },
    {
     "data": {
      "text/html": [],
      "text/plain": [
       "<IPython.core.display.HTML object>"
      ]
     },
     "metadata": {
      "tags": []
     },
     "output_type": "display_data"
    },
    {
     "data": {
      "text/markdown": [
       "> 🎯 Final Training Accuracy: 0.981, Final Validation Accuracy: 0.817"
      ],
      "text/plain": [
       "<IPython.core.display.Markdown object>"
      ]
     },
     "metadata": {
      "tags": []
     },
     "output_type": "display_data"
    }
   ],
   "source": [
    "exp_name = \"Mxresblockv3\"\n",
    "train_dl, valid_dl = get_data(base_tfms, valid_transforms=base_tfms)\n",
    "\n",
    "# instantiate the model\n",
    "model = xResModelv3(num_outputs=len(CLASS_MAP), act_cls=Mish, sa=False, hiddens=512)\n",
    "\n",
    "# Put the model into Lightning-Task\n",
    "task = ClassificationTask(model, lr=3e-03)\n",
    "\n",
    "cbs = [ModelCheckpoint(monitor=\"val_acc\", filename=exp_name, dirpath=os.getcwd()), \n",
    "       NotebookProgressCallback(), \n",
    "       pl.callbacks.LearningRateMonitor(logging_interval=\"step\", log_momentum=True)]\n",
    "\n",
    "trainer = pl.Trainer(max_epochs=10, callbacks=cbs, gpus=1, precision=16, log_every_n_steps=1)\n",
    "trainer.fit(task, train_dataloader=train_dl, val_dataloaders=valid_dl)\n",
    "\n",
    "# Evalute the final performance of the Model\n",
    "tst_res = trainer.test(ckpt_path=\"best\", test_dataloaders=[train_dl, valid_dl], verbose=False)\n",
    "trn_acc, val_acc = tst_res[0][\"test_acc/dataloader_idx_0\"], tst_res[1][\"test_acc/dataloader_idx_1\"]\n",
    "\n",
    "display(Markdown(f\"> 🎯 Final Training Accuracy: {round(trn_acc, 3)}, Final Validation Accuracy: {round(val_acc, 3)}\"))"
   ]
  },
  {
   "cell_type": "code",
   "execution_count": 50,
   "metadata": {
    "id": "NxZ16TND0PdC"
   },
   "outputs": [],
   "source": [
    "try:\n",
    "    del model, trainer, task\n",
    "except:\n",
    "    pass\n",
    "try:\n",
    "    del train_dl, valid_dl\n",
    "except: \n",
    "    pass\n",
    "gc.collect()\n",
    "torch.cuda.empty_cache()"
   ]
  },
  {
   "cell_type": "markdown",
   "metadata": {
    "id": "-iQjOe802mUf"
   },
   "source": [
    "We do not see much improvements with the above experiremnts. \n",
    "\n",
    "So for the final classifier architecture we will go with the architecture that we had created at the beginning.To summarize the architecture of our current best model is as follows -\n",
    "* `feature_extractor`: a `conv_stem` follwed by `3` *x*ResNet blocks.\n",
    "*  `pool_flatten`:  `nn.Sequential(OrderedDict(pool=nn.AdaptiveAvgPool2d(1), flatten=nn.Flatten()))`\n",
    "*  `fc`: `nn.Sequential(nn.Dropout(0.25), nn.Linear(256,num_outputs))`\n",
    "\n",
    "and we use `Mish` activation function in all the layers."
   ]
  },
  {
   "cell_type": "markdown",
   "metadata": {
    "id": "tDs5CVKi19Om"
   },
   "source": [
    "### Regularization Techniques - \n",
    "> Reducing overfitting on training data via regularization\n",
    "\n",
    "In this section I will attempt to reduce the overfitting of our model using a common regularizing technique *data augmentation*."
   ]
  },
  {
   "cell_type": "markdown",
   "metadata": {
    "id": "vD66Vvyw2hiX"
   },
   "source": [
    "What is *data augmentation*? \n",
    "\n",
    "Data augmentation artificially increases the size of the training set by generating many realistic variants of each training instance. Data augmentation is a technique used for introducing variety in training data thereby helping to mitigate overfitting.\n",
    "\n",
    "\n",
    "Let's apply some *data augmentation* data input pipeline. We will only apply data augmentation to the training data. The validation data is not augmented. \n",
    "\n",
    "\n",
    "> Note: For the current task given we have to be very carefull while applying *data augmentation*. Since our Images our images can change depending on the rotation, I won't be applying any `rotation` or `flip` transforms. The only transforms i will be using are intorducing noise and changing the lighting of the images."
   ]
  },
  {
   "cell_type": "markdown",
   "metadata": {},
   "source": [
    "> Note: In this and the precedding experiments, I will be training the model for a larger number of epochs as compared to above. This is because with heavy *Regularization Techniques* it is generally a good idea to train for more number of epochs to get good results."
   ]
  },
  {
   "cell_type": "code",
   "execution_count": 52,
   "metadata": {
    "id": "Qvgnvah64F35"
   },
   "outputs": [],
   "source": [
    "base_tfms = A.Compose([\n",
    "    A.Resize(PRESIZE, PRESIZE, p=1.0),\n",
    "    A.CenterCrop(IMG_SIZE, IMG_SIZE, p=1.0),\n",
    "    A.ToFloat(max_value=255, p=1.0),\n",
    "    ToTensorV2(p=1.0),])\n",
    "\n",
    "aug_tfms = A.Compose([\n",
    "    A.Resize(PRESIZE, PRESIZE, p=1.0),\n",
    "    A.MultiplicativeNoise(multiplier=[0.5, 1.5], per_channel=True, p=0.5),\n",
    "    A.Blur(blur_limit=10, always_apply=False, p=0.5),\n",
    "    A.JpegCompression(quality_lower=0, quality_upper=1, always_apply=False, p=0.5),\n",
    "    A.ShiftScaleRotate(rotate_limit=15, p=0.5),\n",
    "    A.CenterCrop(IMG_SIZE, IMG_SIZE, p=1.0),\n",
    "    A.Cutout(num_holes=3, always_apply=False, p=0.5),\n",
    "    A.ToFloat(max_value=255, p=1.0),\n",
    "    ToTensorV2(p=1.0),])"
   ]
  },
  {
   "cell_type": "markdown",
   "metadata": {
    "id": "9DMqPaqM5IhU"
   },
   "source": [
    "Let's view the augmentations on the Images -"
   ]
  },
  {
   "cell_type": "code",
   "execution_count": 53,
   "metadata": {
    "colab": {
     "base_uri": "https://localhost:8080/",
     "height": 140
    },
    "id": "tprO_F9F475O",
    "outputId": "7e012a53-dbcd-46da-b9d3-c9f16135cb71"
   },
   "outputs": [
    {
     "data": {
      "image/png": "[encoded data removed]",
      "text/plain": [
       "<Figure size 936x936 with 1 Axes>"
      ]
     },
     "metadata": {
      "needs_background": "light",
      "tags": []
     },
     "output_type": "display_data"
    }
   ],
   "source": [
    "train_dl, valid_dl = get_data(transforms=aug_tfms, valid_transforms=base_tfms, bs=32)\n",
    "\n",
    "ims, lbls = next(iter(train_dl))\n",
    "ims, lbls = ims[:8], lbls[:8]\n",
    "\n",
    "grid = make_grid(ims, normalize=True).permute(1, 2, 0)\n",
    "fig = plt.figure(figsize=(13, 13))\n",
    "plt.imshow(grid) \n",
    "plt.title([CLASS_MAP[o] for o in lbls.data.cpu().numpy()])\n",
    "plt.axis(\"off\");"
   ]
  },
  {
   "cell_type": "markdown",
   "metadata": {
    "id": "oqstDxh55MJ0"
   },
   "source": [
    "Another common technique to reduce overfitting is to increase the *weight_decay*, so let's try it also.\n",
    "\n",
    "Let's train on the dataset and explore the performance. Since this time we are using heavy data augmentations we probably would need to train more to get good results - "
   ]
  },
  {
   "cell_type": "code",
   "execution_count": 56,
   "metadata": {
    "colab": {
     "base_uri": "https://localhost:8080/",
     "height": 995
    },
    "id": "ujmZorMj5MOd",
    "outputId": "f88007eb-66c4-425d-e225-3ca24ee513f7"
   },
   "outputs": [
    {
     "name": "stderr",
     "output_type": "stream",
     "text": [
      "GPU available: True, used: True\n",
      "TPU available: False, using: 0 TPU cores\n",
      "Using native 16bit precision.\n",
      "LOCAL_RANK: 0 - CUDA_VISIBLE_DEVICES: [0]\n",
      "\n",
      "  | Name      | Type             | Params\n",
      "-----------------------------------------------\n",
      "0 | model     | xResModel        | 1.3 M \n",
      "1 | criterion | CrossEntropyLoss | 0     \n",
      "-----------------------------------------------\n",
      "1.3 M     Trainable params\n",
      "0         Non-trainable params\n",
      "1.3 M     Total params\n",
      "5.070     Total estimated model params size (MB)\n"
     ]
    },
    {
     "data": {
      "text/html": [],
      "text/plain": [
       "<IPython.core.display.HTML object>"
      ]
     },
     "metadata": {
      "tags": []
     },
     "output_type": "display_data"
    },
    {
     "data": {
      "text/html": [
       "\n",
       "    <div>\n",
       "        <style>\n",
       "            progress {\n",
       "                border: none;\n",
       "                background-size: auto;\n",
       "            }\n",
       "        </style>\n",
       "      Training\n",
       "      <progress value='620' max='620' style='width:300px; height:20px; vertical-align: middle;'></progress>\n",
       "      [620/620 06:58, Epoch 19 {'loss': '0.326', 'v_num': 10}]\n",
       "    </div>\n",
       "    <table border=\"1\" class=\"dataframe\">\n",
       "  <thead>\n",
       "    <tr style=\"text-align: left;\">\n",
       "      <th>epoch</th>\n",
       "      <th>val_acc</th>\n",
       "      <th>val_loss</th>\n",
       "      <th>train_acc</th>\n",
       "      <th>train_loss</th>\n",
       "      <th>time</th>\n",
       "      <th>samples/s</th>\n",
       "    </tr>\n",
       "  </thead>\n",
       "  <tbody>\n",
       "    <tr>\n",
       "      <td>0</td>\n",
       "      <td>0.024194</td>\n",
       "      <td>4.235421</td>\n",
       "      <td>0.015625</td>\n",
       "      <td>4.168990</td>\n",
       "      <td>21.469400</td>\n",
       "      <td>1.816500</td>\n",
       "    </tr>\n",
       "    <tr>\n",
       "      <td>1</td>\n",
       "      <td>0.026210</td>\n",
       "      <td>4.273798</td>\n",
       "      <td>0.015625</td>\n",
       "      <td>4.039053</td>\n",
       "      <td>21.502000</td>\n",
       "      <td>1.813800</td>\n",
       "    </tr>\n",
       "    <tr>\n",
       "      <td>2</td>\n",
       "      <td>0.056452</td>\n",
       "      <td>4.027565</td>\n",
       "      <td>0.062500</td>\n",
       "      <td>3.959040</td>\n",
       "      <td>20.780700</td>\n",
       "      <td>1.876700</td>\n",
       "    </tr>\n",
       "    <tr>\n",
       "      <td>3</td>\n",
       "      <td>0.052419</td>\n",
       "      <td>4.001908</td>\n",
       "      <td>0.093750</td>\n",
       "      <td>3.569169</td>\n",
       "      <td>20.949900</td>\n",
       "      <td>1.861600</td>\n",
       "    </tr>\n",
       "    <tr>\n",
       "      <td>4</td>\n",
       "      <td>0.350806</td>\n",
       "      <td>2.628295</td>\n",
       "      <td>0.343750</td>\n",
       "      <td>2.966611</td>\n",
       "      <td>20.692300</td>\n",
       "      <td>1.884800</td>\n",
       "    </tr>\n",
       "    <tr>\n",
       "      <td>5</td>\n",
       "      <td>0.497984</td>\n",
       "      <td>1.809648</td>\n",
       "      <td>0.453125</td>\n",
       "      <td>2.264626</td>\n",
       "      <td>21.167800</td>\n",
       "      <td>1.842400</td>\n",
       "    </tr>\n",
       "    <tr>\n",
       "      <td>6</td>\n",
       "      <td>0.637097</td>\n",
       "      <td>1.438899</td>\n",
       "      <td>0.609375</td>\n",
       "      <td>1.478992</td>\n",
       "      <td>20.811300</td>\n",
       "      <td>1.874000</td>\n",
       "    </tr>\n",
       "    <tr>\n",
       "      <td>7</td>\n",
       "      <td>0.679435</td>\n",
       "      <td>1.133458</td>\n",
       "      <td>0.703125</td>\n",
       "      <td>1.108948</td>\n",
       "      <td>20.851900</td>\n",
       "      <td>1.870300</td>\n",
       "    </tr>\n",
       "    <tr>\n",
       "      <td>8</td>\n",
       "      <td>0.784274</td>\n",
       "      <td>0.825069</td>\n",
       "      <td>0.796875</td>\n",
       "      <td>0.788343</td>\n",
       "      <td>20.864600</td>\n",
       "      <td>1.869200</td>\n",
       "    </tr>\n",
       "    <tr>\n",
       "      <td>9</td>\n",
       "      <td>0.750000</td>\n",
       "      <td>0.944664</td>\n",
       "      <td>0.828125</td>\n",
       "      <td>0.673532</td>\n",
       "      <td>20.860100</td>\n",
       "      <td>1.869600</td>\n",
       "    </tr>\n",
       "    <tr>\n",
       "      <td>10</td>\n",
       "      <td>0.864919</td>\n",
       "      <td>0.505733</td>\n",
       "      <td>0.765625</td>\n",
       "      <td>0.747192</td>\n",
       "      <td>20.711700</td>\n",
       "      <td>1.883000</td>\n",
       "    </tr>\n",
       "    <tr>\n",
       "      <td>11</td>\n",
       "      <td>0.796371</td>\n",
       "      <td>0.711716</td>\n",
       "      <td>0.843750</td>\n",
       "      <td>0.542030</td>\n",
       "      <td>20.821200</td>\n",
       "      <td>1.873100</td>\n",
       "    </tr>\n",
       "    <tr>\n",
       "      <td>12</td>\n",
       "      <td>0.842742</td>\n",
       "      <td>0.483177</td>\n",
       "      <td>0.843750</td>\n",
       "      <td>0.515949</td>\n",
       "      <td>20.887400</td>\n",
       "      <td>1.867200</td>\n",
       "    </tr>\n",
       "    <tr>\n",
       "      <td>13</td>\n",
       "      <td>0.862903</td>\n",
       "      <td>0.497445</td>\n",
       "      <td>0.859375</td>\n",
       "      <td>0.462561</td>\n",
       "      <td>20.824000</td>\n",
       "      <td>1.872800</td>\n",
       "    </tr>\n",
       "    <tr>\n",
       "      <td>14</td>\n",
       "      <td>0.885081</td>\n",
       "      <td>0.379424</td>\n",
       "      <td>0.890625</td>\n",
       "      <td>0.412767</td>\n",
       "      <td>20.852400</td>\n",
       "      <td>1.870300</td>\n",
       "    </tr>\n",
       "    <tr>\n",
       "      <td>15</td>\n",
       "      <td>0.887097</td>\n",
       "      <td>0.380206</td>\n",
       "      <td>0.906250</td>\n",
       "      <td>0.352156</td>\n",
       "      <td>20.793800</td>\n",
       "      <td>1.875600</td>\n",
       "    </tr>\n",
       "    <tr>\n",
       "      <td>16</td>\n",
       "      <td>0.885081</td>\n",
       "      <td>0.359034</td>\n",
       "      <td>0.921875</td>\n",
       "      <td>0.371926</td>\n",
       "      <td>20.764300</td>\n",
       "      <td>1.878200</td>\n",
       "    </tr>\n",
       "    <tr>\n",
       "      <td>17</td>\n",
       "      <td>0.893145</td>\n",
       "      <td>0.355361</td>\n",
       "      <td>0.921875</td>\n",
       "      <td>0.336139</td>\n",
       "      <td>21.002300</td>\n",
       "      <td>1.856900</td>\n",
       "    </tr>\n",
       "    <tr>\n",
       "      <td>18</td>\n",
       "      <td>0.891129</td>\n",
       "      <td>0.350819</td>\n",
       "      <td>0.843750</td>\n",
       "      <td>0.353714</td>\n",
       "      <td>20.927900</td>\n",
       "      <td>1.863500</td>\n",
       "    </tr>\n",
       "    <tr>\n",
       "      <td>19</td>\n",
       "      <td>0.891129</td>\n",
       "      <td>0.351890</td>\n",
       "      <td>0.859375</td>\n",
       "      <td>0.411255</td>\n",
       "      <td>21.003700</td>\n",
       "      <td>1.856800</td>\n",
       "    </tr>\n",
       "  </tbody>\n",
       "</table><p>"
      ],
      "text/plain": [
       "<IPython.core.display.HTML object>"
      ]
     },
     "metadata": {
      "tags": []
     },
     "output_type": "display_data"
    },
    {
     "name": "stderr",
     "output_type": "stream",
     "text": [
      "LOCAL_RANK: 0 - CUDA_VISIBLE_DEVICES: [0]\n"
     ]
    },
    {
     "data": {
      "text/html": [],
      "text/plain": [
       "<IPython.core.display.HTML object>"
      ]
     },
     "metadata": {
      "tags": []
     },
     "output_type": "display_data"
    },
    {
     "data": {
      "text/markdown": [
       "> 🎯 Final Training Accuracy: 0.916, Final Validation Accuracy: 0.893"
      ],
      "text/plain": [
       "<IPython.core.display.Markdown object>"
      ]
     },
     "metadata": {
      "tags": []
     },
     "output_type": "display_data"
    }
   ],
   "source": [
    "exp_name = \"Mxresblock-aug-wd\"\n",
    "train_dl, valid_dl = get_data(transforms=aug_tfms, valid_transforms=base_tfms)\n",
    "\n",
    "# instantiate the model\n",
    "model = xResModel(num_outputs=len(CLASS_MAP), act_cls=Mish)\n",
    "\n",
    "# Put the model into Lightning-Task\n",
    "task = ClassificationTask(model, lr=3e-03, wd=0.1)\n",
    "\n",
    "cbs = [ModelCheckpoint(monitor=\"val_acc\", filename=exp_name, dirpath=os.getcwd()), \n",
    "       NotebookProgressCallback(), \n",
    "       pl.callbacks.LearningRateMonitor(logging_interval=\"step\", log_momentum=True)]\n",
    "\n",
    "trainer = pl.Trainer(max_epochs=20, callbacks=cbs, gpus=1, precision=16, log_every_n_steps=1)\n",
    "trainer.fit(task, train_dataloader=train_dl, val_dataloaders=valid_dl)\n",
    "\n",
    "# Evalute the final performance of the Model\n",
    "tst_res = trainer.test(ckpt_path=\"best\", test_dataloaders=[train_dl, valid_dl], verbose=False)\n",
    "trn_acc, val_acc = tst_res[0][\"test_acc/dataloader_idx_0\"], tst_res[1][\"test_acc/dataloader_idx_1\"]\n",
    "\n",
    "display(Markdown(f\"> 🎯 Final Training Accuracy: {round(trn_acc, 3)}, Final Validation Accuracy: {round(val_acc, 3)}\"))"
   ]
  },
  {
   "cell_type": "code",
   "execution_count": 57,
   "metadata": {
    "id": "N7iY6lNR4LJ_"
   },
   "outputs": [],
   "source": [
    "try:\n",
    "    del model, trainer, task\n",
    "except: \n",
    "    pass\n",
    "try:\n",
    "    del train_dl, valid_dl\n",
    "except: \n",
    "    pass\n",
    "gc.collect()\n",
    "torch.cuda.empty_cache()"
   ]
  },
  {
   "cell_type": "markdown",
   "metadata": {
    "id": "MldJzAA27iSm"
   },
   "source": [
    "Our model is more robust now it is not overfitting on the training data let's see if we can improve furthur..."
   ]
  },
  {
   "cell_type": "markdown",
   "metadata": {
    "id": "EH_pziTJcO22"
   },
   "source": [
    "In this next part, I will be using label smoothing. Label smoothing is known to known to increase the generalization of the models. It reduces the ability of the model of the model to adapt to the training data by adding noise the original labels of the model on the training data.\n",
    "\n",
    "\n",
    "The effectiveness of label smoothing was explored in this [paper](https://arxiv.org/abs/1906.02629#:~:text=Smoothing%20the%20labels%20in%20this,language%20translation%20and%20speech%20recognition.)."
   ]
  },
  {
   "cell_type": "markdown",
   "metadata": {
    "id": "L5d3yMIxdQla"
   },
   "source": [
    "Here's how we can intorduce Label smoothing with CrossEntropy loss in pytorch -"
   ]
  },
  {
   "cell_type": "code",
   "execution_count": 58,
   "metadata": {
    "id": "ZHCIm40TdNJ1"
   },
   "outputs": [],
   "source": [
    "class LabelSmoothingCrossEntropy(nn.Module):\n",
    "    \"Cross Entropy Loss with Label Smoothing\"\n",
    "    def __init__(self, eps=0.1, reduction: str = \"mean\", weight=None):\n",
    "        super(LabelSmoothingCrossEntropy, self).__init__()\n",
    "        store_attr(\"eps, reduction, weight\")\n",
    "\n",
    "    def forward(self, input, target):\n",
    "        c = input.size()[1]\n",
    "        log_preds = F.log_softmax(input, dim=1)\n",
    "        if self.reduction == \"sum\":\n",
    "            loss = -log_preds.sum()\n",
    "        else:\n",
    "            loss = -log_preds.sum(dim=1)\n",
    "            if self.reduction == \"mean\":\n",
    "                loss = loss.mean()\n",
    "        loss = loss * self.eps / c + (1 - self.eps) * F.nll_loss(log_preds, target.long(), \n",
    "                                                                 weight=self.weight, reduction=self.reduction)\n",
    "        return loss"
   ]
  },
  {
   "cell_type": "markdown",
   "metadata": {
    "id": "aYbwR9a7iM-Y"
   },
   "source": [
    "With label smoothing we generally need to train more epochs to get decent results, so I will train increasing the number of epochs -"
   ]
  },
  {
   "cell_type": "code",
   "execution_count": 59,
   "metadata": {
    "colab": {
     "base_uri": "https://localhost:8080/",
     "height": 995
    },
    "id": "Lo6XVn1KgaNg",
    "outputId": "2a61d86d-a795-42e6-e191-8688905b301c"
   },
   "outputs": [
    {
     "name": "stderr",
     "output_type": "stream",
     "text": [
      "GPU available: True, used: True\n",
      "TPU available: False, using: 0 TPU cores\n",
      "Using native 16bit precision.\n",
      "LOCAL_RANK: 0 - CUDA_VISIBLE_DEVICES: [0]\n",
      "\n",
      "  | Name      | Type                       | Params\n",
      "---------------------------------------------------------\n",
      "0 | model     | xResModel                  | 1.3 M \n",
      "1 | criterion | LabelSmoothingCrossEntropy | 0     \n",
      "---------------------------------------------------------\n",
      "1.3 M     Trainable params\n",
      "0         Non-trainable params\n",
      "1.3 M     Total params\n",
      "5.070     Total estimated model params size (MB)\n"
     ]
    },
    {
     "data": {
      "text/html": [],
      "text/plain": [
       "<IPython.core.display.HTML object>"
      ]
     },
     "metadata": {
      "tags": []
     },
     "output_type": "display_data"
    },
    {
     "data": {
      "text/html": [
       "\n",
       "    <div>\n",
       "        <style>\n",
       "            progress {\n",
       "                border: none;\n",
       "                background-size: auto;\n",
       "            }\n",
       "        </style>\n",
       "      Training\n",
       "      <progress value='620' max='620' style='width:300px; height:20px; vertical-align: middle;'></progress>\n",
       "      [620/620 06:58, Epoch 19 {'loss': '1.15', 'v_num': 11}]\n",
       "    </div>\n",
       "    <table border=\"1\" class=\"dataframe\">\n",
       "  <thead>\n",
       "    <tr style=\"text-align: left;\">\n",
       "      <th>epoch</th>\n",
       "      <th>val_acc</th>\n",
       "      <th>val_loss</th>\n",
       "      <th>train_acc</th>\n",
       "      <th>train_loss</th>\n",
       "      <th>time</th>\n",
       "      <th>samples/s</th>\n",
       "    </tr>\n",
       "  </thead>\n",
       "  <tbody>\n",
       "    <tr>\n",
       "      <td>0</td>\n",
       "      <td>0.016129</td>\n",
       "      <td>4.240947</td>\n",
       "      <td>0.031250</td>\n",
       "      <td>4.287457</td>\n",
       "      <td>20.930500</td>\n",
       "      <td>1.863300</td>\n",
       "    </tr>\n",
       "    <tr>\n",
       "      <td>1</td>\n",
       "      <td>0.016129</td>\n",
       "      <td>4.551510</td>\n",
       "      <td>0.015625</td>\n",
       "      <td>4.120698</td>\n",
       "      <td>20.855700</td>\n",
       "      <td>1.870000</td>\n",
       "    </tr>\n",
       "    <tr>\n",
       "      <td>2</td>\n",
       "      <td>0.022177</td>\n",
       "      <td>4.286321</td>\n",
       "      <td>0.031250</td>\n",
       "      <td>4.000009</td>\n",
       "      <td>20.582400</td>\n",
       "      <td>1.894800</td>\n",
       "    </tr>\n",
       "    <tr>\n",
       "      <td>3</td>\n",
       "      <td>0.074597</td>\n",
       "      <td>3.790640</td>\n",
       "      <td>0.078125</td>\n",
       "      <td>3.752719</td>\n",
       "      <td>20.912900</td>\n",
       "      <td>1.864900</td>\n",
       "    </tr>\n",
       "    <tr>\n",
       "      <td>4</td>\n",
       "      <td>0.254032</td>\n",
       "      <td>3.192256</td>\n",
       "      <td>0.218750</td>\n",
       "      <td>3.381557</td>\n",
       "      <td>21.166000</td>\n",
       "      <td>1.842600</td>\n",
       "    </tr>\n",
       "    <tr>\n",
       "      <td>5</td>\n",
       "      <td>0.514113</td>\n",
       "      <td>2.435053</td>\n",
       "      <td>0.437500</td>\n",
       "      <td>2.596548</td>\n",
       "      <td>20.780200</td>\n",
       "      <td>1.876800</td>\n",
       "    </tr>\n",
       "    <tr>\n",
       "      <td>6</td>\n",
       "      <td>0.622984</td>\n",
       "      <td>2.040122</td>\n",
       "      <td>0.453125</td>\n",
       "      <td>2.406656</td>\n",
       "      <td>21.134000</td>\n",
       "      <td>1.845400</td>\n",
       "    </tr>\n",
       "    <tr>\n",
       "      <td>7</td>\n",
       "      <td>0.743952</td>\n",
       "      <td>1.680030</td>\n",
       "      <td>0.796875</td>\n",
       "      <td>1.717976</td>\n",
       "      <td>20.806000</td>\n",
       "      <td>1.874500</td>\n",
       "    </tr>\n",
       "    <tr>\n",
       "      <td>8</td>\n",
       "      <td>0.669355</td>\n",
       "      <td>1.829832</td>\n",
       "      <td>0.859375</td>\n",
       "      <td>1.462101</td>\n",
       "      <td>21.181300</td>\n",
       "      <td>1.841200</td>\n",
       "    </tr>\n",
       "    <tr>\n",
       "      <td>9</td>\n",
       "      <td>0.770161</td>\n",
       "      <td>1.594995</td>\n",
       "      <td>0.703125</td>\n",
       "      <td>1.646976</td>\n",
       "      <td>21.070900</td>\n",
       "      <td>1.850900</td>\n",
       "    </tr>\n",
       "    <tr>\n",
       "      <td>10</td>\n",
       "      <td>0.834677</td>\n",
       "      <td>1.487002</td>\n",
       "      <td>0.718750</td>\n",
       "      <td>1.563486</td>\n",
       "      <td>20.822200</td>\n",
       "      <td>1.873000</td>\n",
       "    </tr>\n",
       "    <tr>\n",
       "      <td>11</td>\n",
       "      <td>0.862903</td>\n",
       "      <td>1.320350</td>\n",
       "      <td>0.843750</td>\n",
       "      <td>1.355926</td>\n",
       "      <td>20.925900</td>\n",
       "      <td>1.863700</td>\n",
       "    </tr>\n",
       "    <tr>\n",
       "      <td>12</td>\n",
       "      <td>0.852823</td>\n",
       "      <td>1.314239</td>\n",
       "      <td>0.859375</td>\n",
       "      <td>1.316386</td>\n",
       "      <td>21.464700</td>\n",
       "      <td>1.816900</td>\n",
       "    </tr>\n",
       "    <tr>\n",
       "      <td>13</td>\n",
       "      <td>0.875000</td>\n",
       "      <td>1.249807</td>\n",
       "      <td>0.671875</td>\n",
       "      <td>1.510128</td>\n",
       "      <td>20.944800</td>\n",
       "      <td>1.862000</td>\n",
       "    </tr>\n",
       "    <tr>\n",
       "      <td>14</td>\n",
       "      <td>0.885081</td>\n",
       "      <td>1.189182</td>\n",
       "      <td>0.859375</td>\n",
       "      <td>1.248467</td>\n",
       "      <td>20.951800</td>\n",
       "      <td>1.861400</td>\n",
       "    </tr>\n",
       "    <tr>\n",
       "      <td>15</td>\n",
       "      <td>0.881048</td>\n",
       "      <td>1.172561</td>\n",
       "      <td>0.781250</td>\n",
       "      <td>1.348662</td>\n",
       "      <td>21.138200</td>\n",
       "      <td>1.845000</td>\n",
       "    </tr>\n",
       "    <tr>\n",
       "      <td>16</td>\n",
       "      <td>0.887097</td>\n",
       "      <td>1.160721</td>\n",
       "      <td>0.796875</td>\n",
       "      <td>1.280231</td>\n",
       "      <td>20.908300</td>\n",
       "      <td>1.865300</td>\n",
       "    </tr>\n",
       "    <tr>\n",
       "      <td>17</td>\n",
       "      <td>0.897177</td>\n",
       "      <td>1.160439</td>\n",
       "      <td>0.828125</td>\n",
       "      <td>1.217729</td>\n",
       "      <td>20.833300</td>\n",
       "      <td>1.872000</td>\n",
       "    </tr>\n",
       "    <tr>\n",
       "      <td>18</td>\n",
       "      <td>0.891129</td>\n",
       "      <td>1.153343</td>\n",
       "      <td>0.890625</td>\n",
       "      <td>1.188019</td>\n",
       "      <td>20.866200</td>\n",
       "      <td>1.869100</td>\n",
       "    </tr>\n",
       "    <tr>\n",
       "      <td>19</td>\n",
       "      <td>0.891129</td>\n",
       "      <td>1.152011</td>\n",
       "      <td>0.906250</td>\n",
       "      <td>1.151053</td>\n",
       "      <td>20.835900</td>\n",
       "      <td>1.871800</td>\n",
       "    </tr>\n",
       "  </tbody>\n",
       "</table><p>"
      ],
      "text/plain": [
       "<IPython.core.display.HTML object>"
      ]
     },
     "metadata": {
      "tags": []
     },
     "output_type": "display_data"
    },
    {
     "name": "stderr",
     "output_type": "stream",
     "text": [
      "LOCAL_RANK: 0 - CUDA_VISIBLE_DEVICES: [0]\n"
     ]
    },
    {
     "data": {
      "text/html": [],
      "text/plain": [
       "<IPython.core.display.HTML object>"
      ]
     },
     "metadata": {
      "tags": []
     },
     "output_type": "display_data"
    },
    {
     "data": {
      "text/markdown": [
       "> 🎯 Final Training Accuracy: 0.915, Final Validation Accuracy: 0.897"
      ],
      "text/plain": [
       "<IPython.core.display.Markdown object>"
      ]
     },
     "metadata": {
      "tags": []
     },
     "output_type": "display_data"
    }
   ],
   "source": [
    "exp_name = \"MxResblock-aug-wd-labelsmooth\"\n",
    "train_dl, valid_dl = get_data(transforms=aug_tfms, valid_transforms=base_tfms)\n",
    "\n",
    "# instantiate the model\n",
    "model = xResModel(num_outputs=len(CLASS_MAP), act_cls=Mish)\n",
    "\n",
    "# Put the model into Lightning-Task\n",
    "task = ClassificationTask(model, lr=3e-03, wd=0.1, criterion=LabelSmoothingCrossEntropy(eps=0.1))\n",
    "\n",
    "cbs = [ModelCheckpoint(monitor=\"val_acc\", filename=exp_name, dirpath=os.getcwd()), \n",
    "       NotebookProgressCallback(), \n",
    "       pl.callbacks.LearningRateMonitor(logging_interval=\"step\", log_momentum=True)]\n",
    "\n",
    "trainer = pl.Trainer(max_epochs=20, callbacks=cbs, gpus=1, precision=16, log_every_n_steps=1)\n",
    "trainer.fit(task, train_dataloader=train_dl, val_dataloaders=valid_dl)\n",
    "\n",
    "# Evalute the final performance of the Model\n",
    "tst_res = trainer.test(ckpt_path=\"best\", test_dataloaders=[train_dl, valid_dl], verbose=False)\n",
    "trn_acc, val_acc = tst_res[0][\"test_acc/dataloader_idx_0\"], tst_res[1][\"test_acc/dataloader_idx_1\"]\n",
    "\n",
    "display(Markdown(f\"> 🎯 Final Training Accuracy: {round(trn_acc, 3)}, Final Validation Accuracy: {round(val_acc, 3)}\"))"
   ]
  },
  {
   "cell_type": "markdown",
   "metadata": {},
   "source": [
    "Using `LabelSmoothingCrossEntropy` has increased our model preformance lot. We should also note that our model *overfitting* on less on the *training data* and is actually really robust on unseen *validation data*. \n",
    "\n",
    "I think we should explore more ..."
   ]
  },
  {
   "cell_type": "code",
   "execution_count": 60,
   "metadata": {
    "id": "_Bm0HrZBck5H"
   },
   "outputs": [],
   "source": [
    "try:\n",
    "    del model, trainer, task\n",
    "except: \n",
    "    pass\n",
    "try:\n",
    "    del train_dl, valid_dl\n",
    "except: \n",
    "    pass\n",
    "gc.collect()\n",
    "torch.cuda.empty_cache()"
   ]
  },
  {
   "cell_type": "markdown",
   "metadata": {},
   "source": [
    "Since *regularizing* methods are working will for our model. This time I want to furthur test the model by increasing the `weight_decay`, we will ramp up the `weight_decay` to `0.3`. \n",
    "\n",
    "*Training Paramters* -\n",
    "* Model Arch: *xResnet* based with (dropout + Linear) classifier and Mish activation\n",
    "* Loss function : `LabelSmoothingCrossEntropy`\n",
    "* Learning_rate: `1e-03`\n",
    "* Optimizer + Scheduler: AdamW + OneCycle"
   ]
  },
  {
   "cell_type": "code",
   "execution_count": 61,
   "metadata": {
    "colab": {
     "base_uri": "https://localhost:8080/",
     "height": 995
    },
    "id": "Ensl6dWVBeQk",
    "outputId": "e6592fc5-66d9-43cd-851d-0e61f4402ca8"
   },
   "outputs": [
    {
     "name": "stderr",
     "output_type": "stream",
     "text": [
      "GPU available: True, used: True\n",
      "TPU available: False, using: 0 TPU cores\n",
      "Using native 16bit precision.\n",
      "LOCAL_RANK: 0 - CUDA_VISIBLE_DEVICES: [0]\n",
      "\n",
      "  | Name      | Type                       | Params\n",
      "---------------------------------------------------------\n",
      "0 | model     | xResModel                  | 1.3 M \n",
      "1 | criterion | LabelSmoothingCrossEntropy | 0     \n",
      "---------------------------------------------------------\n",
      "1.3 M     Trainable params\n",
      "0         Non-trainable params\n",
      "1.3 M     Total params\n",
      "5.070     Total estimated model params size (MB)\n"
     ]
    },
    {
     "data": {
      "text/html": [],
      "text/plain": [
       "<IPython.core.display.HTML object>"
      ]
     },
     "metadata": {
      "tags": []
     },
     "output_type": "display_data"
    },
    {
     "data": {
      "text/html": [
       "\n",
       "    <div>\n",
       "        <style>\n",
       "            progress {\n",
       "                border: none;\n",
       "                background-size: auto;\n",
       "            }\n",
       "        </style>\n",
       "      Training\n",
       "      <progress value='620' max='620' style='width:300px; height:20px; vertical-align: middle;'></progress>\n",
       "      [620/620 06:58, Epoch 19 {'loss': '1.68', 'v_num': 12}]\n",
       "    </div>\n",
       "    <table border=\"1\" class=\"dataframe\">\n",
       "  <thead>\n",
       "    <tr style=\"text-align: left;\">\n",
       "      <th>epoch</th>\n",
       "      <th>val_acc</th>\n",
       "      <th>val_loss</th>\n",
       "      <th>train_acc</th>\n",
       "      <th>train_loss</th>\n",
       "      <th>time</th>\n",
       "      <th>samples/s</th>\n",
       "    </tr>\n",
       "  </thead>\n",
       "  <tbody>\n",
       "    <tr>\n",
       "      <td>0</td>\n",
       "      <td>0.014113</td>\n",
       "      <td>4.236087</td>\n",
       "      <td>0.015625</td>\n",
       "      <td>4.406903</td>\n",
       "      <td>20.775500</td>\n",
       "      <td>1.877200</td>\n",
       "    </tr>\n",
       "    <tr>\n",
       "      <td>1</td>\n",
       "      <td>0.022177</td>\n",
       "      <td>4.404287</td>\n",
       "      <td>0.000000</td>\n",
       "      <td>4.297649</td>\n",
       "      <td>20.751300</td>\n",
       "      <td>1.879400</td>\n",
       "    </tr>\n",
       "    <tr>\n",
       "      <td>2</td>\n",
       "      <td>0.016129</td>\n",
       "      <td>4.586543</td>\n",
       "      <td>0.000000</td>\n",
       "      <td>4.215205</td>\n",
       "      <td>20.758200</td>\n",
       "      <td>1.878800</td>\n",
       "    </tr>\n",
       "    <tr>\n",
       "      <td>3</td>\n",
       "      <td>0.032258</td>\n",
       "      <td>4.213976</td>\n",
       "      <td>0.062500</td>\n",
       "      <td>4.059754</td>\n",
       "      <td>20.959500</td>\n",
       "      <td>1.860700</td>\n",
       "    </tr>\n",
       "    <tr>\n",
       "      <td>4</td>\n",
       "      <td>0.026210</td>\n",
       "      <td>4.220945</td>\n",
       "      <td>0.062500</td>\n",
       "      <td>3.953399</td>\n",
       "      <td>21.119700</td>\n",
       "      <td>1.846600</td>\n",
       "    </tr>\n",
       "    <tr>\n",
       "      <td>5</td>\n",
       "      <td>0.078629</td>\n",
       "      <td>3.856108</td>\n",
       "      <td>0.093750</td>\n",
       "      <td>3.853620</td>\n",
       "      <td>20.745200</td>\n",
       "      <td>1.880000</td>\n",
       "    </tr>\n",
       "    <tr>\n",
       "      <td>6</td>\n",
       "      <td>0.110887</td>\n",
       "      <td>3.590917</td>\n",
       "      <td>0.203125</td>\n",
       "      <td>3.481786</td>\n",
       "      <td>20.861100</td>\n",
       "      <td>1.869500</td>\n",
       "    </tr>\n",
       "    <tr>\n",
       "      <td>7</td>\n",
       "      <td>0.173387</td>\n",
       "      <td>3.329273</td>\n",
       "      <td>0.281250</td>\n",
       "      <td>3.198253</td>\n",
       "      <td>21.100400</td>\n",
       "      <td>1.848300</td>\n",
       "    </tr>\n",
       "    <tr>\n",
       "      <td>8</td>\n",
       "      <td>0.260081</td>\n",
       "      <td>3.025266</td>\n",
       "      <td>0.406250</td>\n",
       "      <td>2.935417</td>\n",
       "      <td>20.892800</td>\n",
       "      <td>1.866700</td>\n",
       "    </tr>\n",
       "    <tr>\n",
       "      <td>9</td>\n",
       "      <td>0.489919</td>\n",
       "      <td>2.616322</td>\n",
       "      <td>0.421875</td>\n",
       "      <td>2.723997</td>\n",
       "      <td>20.827100</td>\n",
       "      <td>1.872600</td>\n",
       "    </tr>\n",
       "    <tr>\n",
       "      <td>10</td>\n",
       "      <td>0.699597</td>\n",
       "      <td>2.119049</td>\n",
       "      <td>0.640625</td>\n",
       "      <td>2.235285</td>\n",
       "      <td>21.109900</td>\n",
       "      <td>1.847500</td>\n",
       "    </tr>\n",
       "    <tr>\n",
       "      <td>11</td>\n",
       "      <td>0.522177</td>\n",
       "      <td>2.345495</td>\n",
       "      <td>0.671875</td>\n",
       "      <td>2.133408</td>\n",
       "      <td>20.849400</td>\n",
       "      <td>1.870600</td>\n",
       "    </tr>\n",
       "    <tr>\n",
       "      <td>12</td>\n",
       "      <td>0.743952</td>\n",
       "      <td>1.852223</td>\n",
       "      <td>0.578125</td>\n",
       "      <td>2.140400</td>\n",
       "      <td>20.939800</td>\n",
       "      <td>1.862500</td>\n",
       "    </tr>\n",
       "    <tr>\n",
       "      <td>13</td>\n",
       "      <td>0.770161</td>\n",
       "      <td>1.738642</td>\n",
       "      <td>0.671875</td>\n",
       "      <td>2.052946</td>\n",
       "      <td>21.190600</td>\n",
       "      <td>1.840400</td>\n",
       "    </tr>\n",
       "    <tr>\n",
       "      <td>14</td>\n",
       "      <td>0.776210</td>\n",
       "      <td>1.729042</td>\n",
       "      <td>0.734375</td>\n",
       "      <td>1.778018</td>\n",
       "      <td>21.016900</td>\n",
       "      <td>1.855600</td>\n",
       "    </tr>\n",
       "    <tr>\n",
       "      <td>15</td>\n",
       "      <td>0.842742</td>\n",
       "      <td>1.536543</td>\n",
       "      <td>0.718750</td>\n",
       "      <td>1.822670</td>\n",
       "      <td>20.920400</td>\n",
       "      <td>1.864200</td>\n",
       "    </tr>\n",
       "    <tr>\n",
       "      <td>16</td>\n",
       "      <td>0.836694</td>\n",
       "      <td>1.481884</td>\n",
       "      <td>0.734375</td>\n",
       "      <td>1.866893</td>\n",
       "      <td>20.970200</td>\n",
       "      <td>1.859800</td>\n",
       "    </tr>\n",
       "    <tr>\n",
       "      <td>17</td>\n",
       "      <td>0.854839</td>\n",
       "      <td>1.474197</td>\n",
       "      <td>0.859375</td>\n",
       "      <td>1.577474</td>\n",
       "      <td>20.978600</td>\n",
       "      <td>1.859000</td>\n",
       "    </tr>\n",
       "    <tr>\n",
       "      <td>18</td>\n",
       "      <td>0.846774</td>\n",
       "      <td>1.457589</td>\n",
       "      <td>0.671875</td>\n",
       "      <td>1.826093</td>\n",
       "      <td>20.912100</td>\n",
       "      <td>1.865000</td>\n",
       "    </tr>\n",
       "    <tr>\n",
       "      <td>19</td>\n",
       "      <td>0.846774</td>\n",
       "      <td>1.460531</td>\n",
       "      <td>0.828125</td>\n",
       "      <td>1.728360</td>\n",
       "      <td>21.179700</td>\n",
       "      <td>1.841400</td>\n",
       "    </tr>\n",
       "  </tbody>\n",
       "</table><p>"
      ],
      "text/plain": [
       "<IPython.core.display.HTML object>"
      ]
     },
     "metadata": {
      "tags": []
     },
     "output_type": "display_data"
    },
    {
     "name": "stderr",
     "output_type": "stream",
     "text": [
      "LOCAL_RANK: 0 - CUDA_VISIBLE_DEVICES: [0]\n"
     ]
    },
    {
     "data": {
      "text/html": [],
      "text/plain": [
       "<IPython.core.display.HTML object>"
      ]
     },
     "metadata": {
      "tags": []
     },
     "output_type": "display_data"
    },
    {
     "data": {
      "text/markdown": [
       "> 🎯 Final Training Accuracy: 0.802, Final Validation Accuracy: 0.855"
      ],
      "text/plain": [
       "<IPython.core.display.Markdown object>"
      ]
     },
     "metadata": {
      "tags": []
     },
     "output_type": "display_data"
    }
   ],
   "source": [
    "exp_name = \"MxResblock-aug-wd-labelsmooth-v2\"\n",
    "train_dl, valid_dl = get_data(transforms=aug_tfms, valid_transforms=base_tfms)\n",
    "\n",
    "# instantiate the model\n",
    "model = xResModel(num_outputs=len(CLASS_MAP), act_cls=Mish)\n",
    "\n",
    "# Put the model into Lightning-Task\n",
    "task = ClassificationTask(model, lr=1e-03, wd=0.3, criterion=LabelSmoothingCrossEntropy(eps=0.1))\n",
    "\n",
    "cbs = [ModelCheckpoint(monitor=\"val_acc\", filename=exp_name, dirpath=os.getcwd()), \n",
    "       NotebookProgressCallback(), \n",
    "       pl.callbacks.LearningRateMonitor(logging_interval=\"step\", log_momentum=True)]\n",
    "\n",
    "trainer = pl.Trainer(max_epochs=20, callbacks=cbs, gpus=1, precision=16, log_every_n_steps=1)\n",
    "trainer.fit(task, train_dataloader=train_dl, val_dataloaders=valid_dl)\n",
    "\n",
    "# Evalute the final performance of the Model\n",
    "tst_res = trainer.test(ckpt_path=\"best\", test_dataloaders=[train_dl, valid_dl], verbose=False)\n",
    "trn_acc, val_acc = tst_res[0][\"test_acc/dataloader_idx_0\"], tst_res[1][\"test_acc/dataloader_idx_1\"]\n",
    "\n",
    "display(Markdown(f\"> 🎯 Final Training Accuracy: {round(trn_acc, 3)}, Final Validation Accuracy: {round(val_acc, 3)}\"))"
   ]
  },
  {
   "cell_type": "code",
   "execution_count": null,
   "metadata": {
    "id": "l9CTrkYxnaJd"
   },
   "outputs": [],
   "source": [
    "try:\n",
    "    del model, trainer, task\n",
    "except: \n",
    "    pass\n",
    "try:\n",
    "    del train_dl, valid_dl\n",
    "except: \n",
    "    pass\n",
    "gc.collect()\n",
    "torch.cuda.empty_cache()"
   ]
  },
  {
   "cell_type": "markdown",
   "metadata": {},
   "source": [
    "At the end the loss was still decreasing and accuracy still increasing so, let's train again but ramp up the number of epochs ..."
   ]
  },
  {
   "cell_type": "code",
   "execution_count": 64,
   "metadata": {
    "colab": {
     "base_uri": "https://localhost:8080/",
     "height": 1000
    },
    "id": "Gbk6AbUDkdLN",
    "outputId": "6e139d41-6157-4823-acd0-b9484ffaa520"
   },
   "outputs": [
    {
     "name": "stderr",
     "output_type": "stream",
     "text": [
      "GPU available: True, used: True\n",
      "TPU available: False, using: 0 TPU cores\n",
      "Using native 16bit precision.\n",
      "LOCAL_RANK: 0 - CUDA_VISIBLE_DEVICES: [0]\n",
      "\n",
      "  | Name      | Type                       | Params\n",
      "---------------------------------------------------------\n",
      "0 | model     | xResModel                  | 1.3 M \n",
      "1 | criterion | LabelSmoothingCrossEntropy | 0     \n",
      "---------------------------------------------------------\n",
      "1.3 M     Trainable params\n",
      "0         Non-trainable params\n",
      "1.3 M     Total params\n",
      "5.070     Total estimated model params size (MB)\n"
     ]
    },
    {
     "data": {
      "text/html": [],
      "text/plain": [
       "<IPython.core.display.HTML object>"
      ]
     },
     "metadata": {
      "tags": []
     },
     "output_type": "display_data"
    },
    {
     "data": {
      "text/html": [
       "\n",
       "    <div>\n",
       "        <style>\n",
       "            progress {\n",
       "                border: none;\n",
       "                background-size: auto;\n",
       "            }\n",
       "        </style>\n",
       "      Training\n",
       "      <progress value='930' max='930' style='width:300px; height:20px; vertical-align: middle;'></progress>\n",
       "      [930/930 10:30, Epoch 29 {'loss': '1.27', 'v_num': 14}]\n",
       "    </div>\n",
       "    <table border=\"1\" class=\"dataframe\">\n",
       "  <thead>\n",
       "    <tr style=\"text-align: left;\">\n",
       "      <th>epoch</th>\n",
       "      <th>val_acc</th>\n",
       "      <th>val_loss</th>\n",
       "      <th>train_acc</th>\n",
       "      <th>train_loss</th>\n",
       "      <th>time</th>\n",
       "      <th>samples/s</th>\n",
       "    </tr>\n",
       "  </thead>\n",
       "  <tbody>\n",
       "    <tr>\n",
       "      <td>0</td>\n",
       "      <td>0.012097</td>\n",
       "      <td>4.207198</td>\n",
       "      <td>0.015625</td>\n",
       "      <td>4.319057</td>\n",
       "      <td>21.078000</td>\n",
       "      <td>1.850300</td>\n",
       "    </tr>\n",
       "    <tr>\n",
       "      <td>1</td>\n",
       "      <td>0.024194</td>\n",
       "      <td>4.228527</td>\n",
       "      <td>0.000000</td>\n",
       "      <td>4.135925</td>\n",
       "      <td>21.256900</td>\n",
       "      <td>1.834700</td>\n",
       "    </tr>\n",
       "    <tr>\n",
       "      <td>2</td>\n",
       "      <td>0.018145</td>\n",
       "      <td>4.269227</td>\n",
       "      <td>0.031250</td>\n",
       "      <td>4.218159</td>\n",
       "      <td>21.235400</td>\n",
       "      <td>1.836600</td>\n",
       "    </tr>\n",
       "    <tr>\n",
       "      <td>3</td>\n",
       "      <td>0.016129</td>\n",
       "      <td>4.300421</td>\n",
       "      <td>0.000000</td>\n",
       "      <td>4.139277</td>\n",
       "      <td>21.281900</td>\n",
       "      <td>1.832500</td>\n",
       "    </tr>\n",
       "    <tr>\n",
       "      <td>4</td>\n",
       "      <td>0.016129</td>\n",
       "      <td>4.443923</td>\n",
       "      <td>0.062500</td>\n",
       "      <td>4.017538</td>\n",
       "      <td>21.252200</td>\n",
       "      <td>1.835100</td>\n",
       "    </tr>\n",
       "    <tr>\n",
       "      <td>5</td>\n",
       "      <td>0.040323</td>\n",
       "      <td>4.201268</td>\n",
       "      <td>0.125000</td>\n",
       "      <td>3.949118</td>\n",
       "      <td>21.149100</td>\n",
       "      <td>1.844000</td>\n",
       "    </tr>\n",
       "    <tr>\n",
       "      <td>6</td>\n",
       "      <td>0.050403</td>\n",
       "      <td>4.028548</td>\n",
       "      <td>0.046875</td>\n",
       "      <td>3.813335</td>\n",
       "      <td>21.430800</td>\n",
       "      <td>1.819800</td>\n",
       "    </tr>\n",
       "    <tr>\n",
       "      <td>7</td>\n",
       "      <td>0.058468</td>\n",
       "      <td>3.851801</td>\n",
       "      <td>0.062500</td>\n",
       "      <td>3.634636</td>\n",
       "      <td>20.755200</td>\n",
       "      <td>1.879100</td>\n",
       "    </tr>\n",
       "    <tr>\n",
       "      <td>8</td>\n",
       "      <td>0.171371</td>\n",
       "      <td>3.372709</td>\n",
       "      <td>0.234375</td>\n",
       "      <td>3.356740</td>\n",
       "      <td>20.573500</td>\n",
       "      <td>1.895600</td>\n",
       "    </tr>\n",
       "    <tr>\n",
       "      <td>9</td>\n",
       "      <td>0.272177</td>\n",
       "      <td>3.175793</td>\n",
       "      <td>0.406250</td>\n",
       "      <td>2.950300</td>\n",
       "      <td>20.779400</td>\n",
       "      <td>1.876900</td>\n",
       "    </tr>\n",
       "    <tr>\n",
       "      <td>10</td>\n",
       "      <td>0.308468</td>\n",
       "      <td>2.813777</td>\n",
       "      <td>0.390625</td>\n",
       "      <td>2.933949</td>\n",
       "      <td>20.773100</td>\n",
       "      <td>1.877400</td>\n",
       "    </tr>\n",
       "    <tr>\n",
       "      <td>11</td>\n",
       "      <td>0.375000</td>\n",
       "      <td>2.731912</td>\n",
       "      <td>0.609375</td>\n",
       "      <td>2.322737</td>\n",
       "      <td>20.746600</td>\n",
       "      <td>1.879800</td>\n",
       "    </tr>\n",
       "    <tr>\n",
       "      <td>12</td>\n",
       "      <td>0.683468</td>\n",
       "      <td>2.092513</td>\n",
       "      <td>0.562500</td>\n",
       "      <td>2.204176</td>\n",
       "      <td>20.674300</td>\n",
       "      <td>1.886400</td>\n",
       "    </tr>\n",
       "    <tr>\n",
       "      <td>13</td>\n",
       "      <td>0.655242</td>\n",
       "      <td>1.982889</td>\n",
       "      <td>0.703125</td>\n",
       "      <td>1.869247</td>\n",
       "      <td>20.824000</td>\n",
       "      <td>1.872800</td>\n",
       "    </tr>\n",
       "    <tr>\n",
       "      <td>14</td>\n",
       "      <td>0.743952</td>\n",
       "      <td>1.820670</td>\n",
       "      <td>0.703125</td>\n",
       "      <td>1.844356</td>\n",
       "      <td>21.209300</td>\n",
       "      <td>1.838800</td>\n",
       "    </tr>\n",
       "    <tr>\n",
       "      <td>15</td>\n",
       "      <td>0.766129</td>\n",
       "      <td>1.659970</td>\n",
       "      <td>0.843750</td>\n",
       "      <td>1.573415</td>\n",
       "      <td>21.403400</td>\n",
       "      <td>1.822100</td>\n",
       "    </tr>\n",
       "    <tr>\n",
       "      <td>16</td>\n",
       "      <td>0.745968</td>\n",
       "      <td>1.803182</td>\n",
       "      <td>0.734375</td>\n",
       "      <td>1.717984</td>\n",
       "      <td>21.661200</td>\n",
       "      <td>1.800500</td>\n",
       "    </tr>\n",
       "    <tr>\n",
       "      <td>17</td>\n",
       "      <td>0.776210</td>\n",
       "      <td>1.575352</td>\n",
       "      <td>0.843750</td>\n",
       "      <td>1.489521</td>\n",
       "      <td>20.951400</td>\n",
       "      <td>1.861500</td>\n",
       "    </tr>\n",
       "    <tr>\n",
       "      <td>18</td>\n",
       "      <td>0.840726</td>\n",
       "      <td>1.406284</td>\n",
       "      <td>0.890625</td>\n",
       "      <td>1.376975</td>\n",
       "      <td>21.311100</td>\n",
       "      <td>1.830000</td>\n",
       "    </tr>\n",
       "    <tr>\n",
       "      <td>19</td>\n",
       "      <td>0.856855</td>\n",
       "      <td>1.369984</td>\n",
       "      <td>0.812500</td>\n",
       "      <td>1.399007</td>\n",
       "      <td>20.883700</td>\n",
       "      <td>1.867500</td>\n",
       "    </tr>\n",
       "    <tr>\n",
       "      <td>20</td>\n",
       "      <td>0.875000</td>\n",
       "      <td>1.296118</td>\n",
       "      <td>0.828125</td>\n",
       "      <td>1.307240</td>\n",
       "      <td>21.090300</td>\n",
       "      <td>1.849200</td>\n",
       "    </tr>\n",
       "    <tr>\n",
       "      <td>21</td>\n",
       "      <td>0.862903</td>\n",
       "      <td>1.301802</td>\n",
       "      <td>0.828125</td>\n",
       "      <td>1.366706</td>\n",
       "      <td>21.354800</td>\n",
       "      <td>1.826300</td>\n",
       "    </tr>\n",
       "    <tr>\n",
       "      <td>22</td>\n",
       "      <td>0.881048</td>\n",
       "      <td>1.261553</td>\n",
       "      <td>0.906250</td>\n",
       "      <td>1.255512</td>\n",
       "      <td>20.758400</td>\n",
       "      <td>1.878800</td>\n",
       "    </tr>\n",
       "    <tr>\n",
       "      <td>23</td>\n",
       "      <td>0.887097</td>\n",
       "      <td>1.232776</td>\n",
       "      <td>0.828125</td>\n",
       "      <td>1.342012</td>\n",
       "      <td>20.972100</td>\n",
       "      <td>1.859600</td>\n",
       "    </tr>\n",
       "    <tr>\n",
       "      <td>24</td>\n",
       "      <td>0.887097</td>\n",
       "      <td>1.223211</td>\n",
       "      <td>0.906250</td>\n",
       "      <td>1.259241</td>\n",
       "      <td>20.941300</td>\n",
       "      <td>1.862300</td>\n",
       "    </tr>\n",
       "    <tr>\n",
       "      <td>25</td>\n",
       "      <td>0.881048</td>\n",
       "      <td>1.216840</td>\n",
       "      <td>0.890625</td>\n",
       "      <td>1.294663</td>\n",
       "      <td>20.789600</td>\n",
       "      <td>1.875900</td>\n",
       "    </tr>\n",
       "    <tr>\n",
       "      <td>26</td>\n",
       "      <td>0.883065</td>\n",
       "      <td>1.216586</td>\n",
       "      <td>0.828125</td>\n",
       "      <td>1.279066</td>\n",
       "      <td>20.821700</td>\n",
       "      <td>1.873000</td>\n",
       "    </tr>\n",
       "    <tr>\n",
       "      <td>27</td>\n",
       "      <td>0.881048</td>\n",
       "      <td>1.210406</td>\n",
       "      <td>0.750000</td>\n",
       "      <td>1.402395</td>\n",
       "      <td>20.752500</td>\n",
       "      <td>1.879300</td>\n",
       "    </tr>\n",
       "    <tr>\n",
       "      <td>28</td>\n",
       "      <td>0.881048</td>\n",
       "      <td>1.206436</td>\n",
       "      <td>0.828125</td>\n",
       "      <td>1.402231</td>\n",
       "      <td>20.716600</td>\n",
       "      <td>1.882600</td>\n",
       "    </tr>\n",
       "    <tr>\n",
       "      <td>29</td>\n",
       "      <td>0.883065</td>\n",
       "      <td>1.208103</td>\n",
       "      <td>0.812500</td>\n",
       "      <td>1.310112</td>\n",
       "      <td>20.805500</td>\n",
       "      <td>1.874500</td>\n",
       "    </tr>\n",
       "  </tbody>\n",
       "</table><p>"
      ],
      "text/plain": [
       "<IPython.core.display.HTML object>"
      ]
     },
     "metadata": {
      "tags": []
     },
     "output_type": "display_data"
    },
    {
     "name": "stderr",
     "output_type": "stream",
     "text": [
      "LOCAL_RANK: 0 - CUDA_VISIBLE_DEVICES: [0]\n"
     ]
    },
    {
     "data": {
      "text/html": [],
      "text/plain": [
       "<IPython.core.display.HTML object>"
      ]
     },
     "metadata": {
      "tags": []
     },
     "output_type": "display_data"
    },
    {
     "data": {
      "text/markdown": [
       "> 🎯 Final Training Accuracy: 0.883, Final Validation Accuracy: 0.887"
      ],
      "text/plain": [
       "<IPython.core.display.Markdown object>"
      ]
     },
     "metadata": {
      "tags": []
     },
     "output_type": "display_data"
    }
   ],
   "source": [
    "exp_name = \"MxResblock-aug-wd-labelsmooth-v3\"\n",
    "train_dl, valid_dl = get_data(transforms=aug_tfms, valid_transforms=base_tfms)\n",
    "\n",
    "# instantiate the model\n",
    "model = xResModel(num_outputs=len(CLASS_MAP), act_cls=Mish)\n",
    "\n",
    "# Put the model into Lightning-Task\n",
    "task = ClassificationTask(model, lr=1e-03, wd=0.3, criterion=LabelSmoothingCrossEntropy(eps=0.1))\n",
    "\n",
    "cbs = [ModelCheckpoint(monitor=\"val_acc\", filename=exp_name, dirpath=os.getcwd()), \n",
    "       NotebookProgressCallback(), \n",
    "       pl.callbacks.LearningRateMonitor(logging_interval=\"step\", log_momentum=True)]\n",
    "\n",
    "trainer = pl.Trainer(max_epochs=30, callbacks=cbs, gpus=1, precision=16, log_every_n_steps=1)\n",
    "trainer.fit(task, train_dataloader=train_dl, val_dataloaders=valid_dl)\n",
    "\n",
    "# Evalute the final performance of the Model\n",
    "tst_res = trainer.test(ckpt_path=\"best\", test_dataloaders=[train_dl, valid_dl], verbose=False)\n",
    "trn_acc, val_acc = tst_res[0][\"test_acc/dataloader_idx_0\"], tst_res[1][\"test_acc/dataloader_idx_1\"]\n",
    "\n",
    "display(Markdown(f\"> 🎯 Final Training Accuracy: {round(trn_acc, 3)}, Final Validation Accuracy: {round(val_acc, 3)}\"))"
   ]
  },
  {
   "cell_type": "markdown",
   "metadata": {},
   "source": [
    "So, finally we have a really good model that is robust. The model is overfitting on the training data and performs quite well on the validation. Accuracy also seem good considering that we have to choose between both handwritten digits and handwritten letters. This should also be noted that many of the letters and aplhabets are quite similar in shape when written, so we can make a quick analysis on the classes that our model might be getting confused in .\n",
    "\n",
    "For example: `0` and `o`; `1` and `l` ..."
   ]
  },
  {
   "cell_type": "markdown",
   "metadata": {},
   "source": [
    "To summarize the training parameters of our best model - \n",
    "\n",
    "* Model Arch: *xResnet* based with (dropout + Linear) classifier and Mish activation\n",
    "* Loss function : `LabelSmoothingCrossEntropy`\n",
    "* Learning rate: `1e-03`\n",
    "* Weight Decay: 0.3\n",
    "* Optimizer + Scheduler: AdamW + OneCycle\n",
    "* Epochs trained for : 30 \n",
    "+ `data_augmentation` used ....\n"
   ]
  },
  {
   "cell_type": "code",
   "execution_count": 65,
   "metadata": {
    "id": "upCFzgdOmo-3"
   },
   "outputs": [],
   "source": [
    "try:\n",
    "    del model, trainer, task\n",
    "except: \n",
    "    pass\n",
    "try:\n",
    "    del train_dl, valid_dl\n",
    "except: \n",
    "    pass\n",
    "gc.collect()\n",
    "torch.cuda.empty_cache()"
   ]
  },
  {
   "cell_type": "code",
   "execution_count": null,
   "metadata": {
    "id": "VnriO0yRp4_l"
   },
   "outputs": [],
   "source": []
  }
 ],
 "metadata": {
  "accelerator": "GPU",
  "colab": {
   "authorship_tag": "ABX9TyOSY1GRGWegF/6+8jNp6NHa",
   "collapsed_sections": [],
   "include_colab_link": true,
   "mount_file_id": "1lEHy0eoIwCS_z-iehTA5vlq6MLntmxXm",
   "name": "midas-task-2-part-01.ipynb",
   "provenance": []
  },
  "kernelspec": {
   "display_name": "Python 3",
   "language": "python",
   "name": "python3"
  },
  "language_info": {
   "codemirror_mode": {
    "name": "ipython",
    "version": 3
   },
   "file_extension": ".py",
   "mimetype": "text/x-python",
   "name": "python",
   "nbconvert_exporter": "python",
   "pygments_lexer": "ipython3",
   "version": "3.7.10"
  },
  "toc": {
   "base_numbering": 1,
   "nav_menu": {},
   "number_sections": true,
   "sideBar": true,
   "skip_h1_title": false,
   "title_cell": "Table of Contents",
   "title_sidebar": "Contents",
   "toc_cell": false,
   "toc_position": {},
   "toc_section_display": true,
   "toc_window_display": false
  }
 },
 "nbformat": 4,
 "nbformat_minor": 1
}
